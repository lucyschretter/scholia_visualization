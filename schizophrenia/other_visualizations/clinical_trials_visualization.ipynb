{
 "cells": [
  {
   "cell_type": "markdown",
   "source": [
    "Get scholia data - schizophrenia - clinical trials via sparql request"
   ],
   "metadata": {
    "collapsed": false
   }
  },
  {
   "cell_type": "code",
   "execution_count": 1,
   "outputs": [],
   "source": [
    "import SPARQLWrapper\n",
    "\n",
    "sparql = SPARQLWrapper.SPARQLWrapper(\"https://query.wikidata.org/sparql\")\n",
    "\n",
    "query = '''\n",
    "PREFIX target: <http://www.wikidata.org/entity/Q41112>\n",
    "\n",
    "SELECT\n",
    "  DISTINCT\n",
    "  ?start_date\n",
    "  ?trial ?trialLabel\n",
    "  ?intervention ?interventionLabel\n",
    "  ?sponsor ?sponsorLabel\n",
    "WHERE {\n",
    "  ?trial wdt:P31 wd:Q30612 ;\n",
    "  wdt:P1050 / wdt:P279* target: .\n",
    "  OPTIONAL {\n",
    "    ?trial wdt:P580 ?starttime\n",
    "    BIND(SUBSTR(STR(?starttime), 0, 11) AS ?start_date)\n",
    "  }\n",
    "  OPTIONAL { ?trial wdt:P4844 ?intervention }\n",
    "  OPTIONAL { ?trial wdt:P859 ?sponsor }\n",
    "  SERVICE wikibase:label { bd:serviceParam wikibase:language \"en,da,de,es,fr,jp,nl,no,pl,ru,sv,zh\". }\n",
    "}\n",
    "ORDER BY DESC(?starttime)\n",
    "'''\n",
    "\n",
    "# Set the query language to SPARQL\n",
    "sparql.setQuery(query)\n",
    "\n",
    "# Set the return format to JSON\n",
    "sparql.setReturnFormat(SPARQLWrapper.JSON)\n",
    "\n",
    "# Execute the query and store the results\n",
    "results = sparql.query().convert()"
   ],
   "metadata": {
    "collapsed": false,
    "pycharm": {
     "name": "#%%\n"
    }
   }
  },
  {
   "cell_type": "code",
   "execution_count": 2,
   "outputs": [
    {
     "name": "stdout",
     "output_type": "stream",
     "text": [
      "                                            start_date  \\\n",
      "Q113914424  {'type': 'literal', 'value': '2022-12-01'}   \n",
      "Q113932415  {'type': 'literal', 'value': '2022-10-01'}   \n",
      "Q113927226  {'type': 'literal', 'value': '2022-09-15'}   \n",
      "Q113941830  {'type': 'literal', 'value': '2022-09-01'}   \n",
      "Q113943405  {'type': 'literal', 'value': '2022-08-01'}   \n",
      "...                                                ...   \n",
      "Q66033186                                          NaN   \n",
      "Q66059716                                          NaN   \n",
      "Q66059719                                          NaN   \n",
      "Q66068233                                          NaN   \n",
      "Q67126207                                          NaN   \n",
      "\n",
      "                                                        trial  \\\n",
      "Q113914424  {'type': 'uri', 'value': 'http://www.wikidata....   \n",
      "Q113932415  {'type': 'uri', 'value': 'http://www.wikidata....   \n",
      "Q113927226  {'type': 'uri', 'value': 'http://www.wikidata....   \n",
      "Q113941830  {'type': 'uri', 'value': 'http://www.wikidata....   \n",
      "Q113943405  {'type': 'uri', 'value': 'http://www.wikidata....   \n",
      "...                                                       ...   \n",
      "Q66033186   {'type': 'uri', 'value': 'http://www.wikidata....   \n",
      "Q66059716   {'type': 'uri', 'value': 'http://www.wikidata....   \n",
      "Q66059719   {'type': 'uri', 'value': 'http://www.wikidata....   \n",
      "Q66068233   {'type': 'uri', 'value': 'http://www.wikidata....   \n",
      "Q67126207   {'type': 'uri', 'value': 'http://www.wikidata....   \n",
      "\n",
      "                                                   trialLabel  \\\n",
      "Q113914424  {'xml:lang': 'en', 'type': 'literal', 'value':...   \n",
      "Q113932415  {'xml:lang': 'en', 'type': 'literal', 'value':...   \n",
      "Q113927226  {'xml:lang': 'en', 'type': 'literal', 'value':...   \n",
      "Q113941830  {'xml:lang': 'en', 'type': 'literal', 'value':...   \n",
      "Q113943405  {'xml:lang': 'en', 'type': 'literal', 'value':...   \n",
      "...                                                       ...   \n",
      "Q66033186   {'xml:lang': 'en', 'type': 'literal', 'value':...   \n",
      "Q66059716   {'xml:lang': 'en', 'type': 'literal', 'value':...   \n",
      "Q66059719   {'xml:lang': 'en', 'type': 'literal', 'value':...   \n",
      "Q66068233   {'xml:lang': 'en', 'type': 'literal', 'value':...   \n",
      "Q67126207   {'xml:lang': 'en', 'type': 'literal', 'value':...   \n",
      "\n",
      "                                                 intervention  \\\n",
      "Q113914424                                                NaN   \n",
      "Q113932415                                                NaN   \n",
      "Q113927226                                                NaN   \n",
      "Q113941830                                                NaN   \n",
      "Q113943405                                                NaN   \n",
      "...                                                       ...   \n",
      "Q66033186   {'type': 'uri', 'value': 'http://www.wikidata....   \n",
      "Q66059716                                                 NaN   \n",
      "Q66059719                                                 NaN   \n",
      "Q66068233                                                 NaN   \n",
      "Q67126207                                                 NaN   \n",
      "\n",
      "                                            interventionLabel sponsor  \\\n",
      "Q113914424                                                NaN     NaN   \n",
      "Q113932415                                                NaN     NaN   \n",
      "Q113927226                                                NaN     NaN   \n",
      "Q113941830                                                NaN     NaN   \n",
      "Q113943405                                                NaN     NaN   \n",
      "...                                                       ...     ...   \n",
      "Q66033186   {'xml:lang': 'en', 'type': 'literal', 'value':...     NaN   \n",
      "Q66059716                                                 NaN     NaN   \n",
      "Q66059719                                                 NaN     NaN   \n",
      "Q66068233                                                 NaN     NaN   \n",
      "Q67126207                                                 NaN     NaN   \n",
      "\n",
      "           sponsorLabel  \n",
      "Q113914424          NaN  \n",
      "Q113932415          NaN  \n",
      "Q113927226          NaN  \n",
      "Q113941830          NaN  \n",
      "Q113943405          NaN  \n",
      "...                 ...  \n",
      "Q66033186           NaN  \n",
      "Q66059716           NaN  \n",
      "Q66059719           NaN  \n",
      "Q66068233           NaN  \n",
      "Q67126207           NaN  \n",
      "\n",
      "[2794 rows x 7 columns]\n"
     ]
    }
   ],
   "source": [
    "import pandas as pd\n",
    "\n",
    "dict_trials = {}\n",
    "\n",
    "trials = []\n",
    "result_list = results['results']['bindings']\n",
    "for res in result_list:\n",
    "    for res_key, res_value in res.items():\n",
    "        if res_key == 'trial':\n",
    "            uri = res_value['value']\n",
    "            splitted_uri = uri.split('/')\n",
    "            entity_id = splitted_uri[-1]\n",
    "            trials.append(entity_id)\n",
    "            dict_trials[entity_id] = res\n",
    "\n",
    "\n",
    "trial_df = pd.DataFrame.from_dict(dict_trials)\n",
    "trial_df = trial_df.transpose()\n",
    "\n",
    "print(trial_df)"
   ],
   "metadata": {
    "collapsed": false,
    "pycharm": {
     "name": "#%%\n"
    }
   }
  },
  {
   "cell_type": "code",
   "execution_count": 9,
   "outputs": [
    {
     "name": "stdout",
     "output_type": "stream",
     "text": [
      "[('1983', 1), ('1984', 1), ('1989', 2), ('1991', 1), ('1992', 1), ('1993', 1), ('1994', 1), ('1995', 1), ('1996', 4), ('1997', 5), ('1998', 14), ('1999', 10), ('2000', 27), ('2001', 47), ('2002', 55), ('2003', 92), ('2004', 136), ('2005', 136), ('2006', 139), ('2007', 154), ('2008', 177), ('2009', 145), ('2010', 142), ('2011', 150), ('2012', 145), ('2013', 136), ('2014', 153), ('2015', 124), ('2016', 138), ('2017', 128), ('2018', 144), ('2019', 165), ('2020', 103), ('2021', 62), ('2022', 31)]\n"
     ]
    }
   ],
   "source": [
    "start_dates = []\n",
    "\n",
    "for index, row in trial_df.iterrows():\n",
    "    start_date = row['start_date']\n",
    "    if isinstance(start_date, dict) :\n",
    "        value = start_date['value']\n",
    "        start_dates.append(value)\n",
    "\n",
    "years = []\n",
    "for date in start_dates:\n",
    "    year = date[0:4]\n",
    "    years.append(year)\n",
    "\n",
    "\n",
    "# create a dictionary to count the occurrences of each year\n",
    "year_counts = {}\n",
    "for year in sorted(years):\n",
    "    if year in year_counts:\n",
    "        year_counts[year] += 1\n",
    "    else:\n",
    "        year_counts[year] = 1\n",
    "\n",
    "# create the list of tuples from the dictionary\n",
    "year_counts_list = [(year, year_counts[year]) for year in year_counts]\n",
    "\n",
    "print(year_counts_list)\n"
   ],
   "metadata": {
    "collapsed": false,
    "pycharm": {
     "name": "#%%\n"
    }
   }
  },
  {
   "cell_type": "code",
   "execution_count": 11,
   "outputs": [
    {
     "ename": "TypeError",
     "evalue": "show() got an unexpected keyword argument 'facecolor'",
     "output_type": "error",
     "traceback": [
      "\u001B[1;31m---------------------------------------------------------------------------\u001B[0m",
      "\u001B[1;31mTypeError\u001B[0m                                 Traceback (most recent call last)",
      "\u001B[1;32m<ipython-input-11-1382a5243618>\u001B[0m in \u001B[0;36m<module>\u001B[1;34m\u001B[0m\n\u001B[0;32m     19\u001B[0m \u001B[1;33m\u001B[0m\u001B[0m\n\u001B[0;32m     20\u001B[0m \u001B[0mplt\u001B[0m\u001B[1;33m.\u001B[0m\u001B[0mxlabel\u001B[0m\u001B[1;33m(\u001B[0m\u001B[1;34m'years'\u001B[0m\u001B[1;33m)\u001B[0m\u001B[1;33m\u001B[0m\u001B[1;33m\u001B[0m\u001B[0m\n\u001B[1;32m---> 21\u001B[1;33m \u001B[0mplt\u001B[0m\u001B[1;33m.\u001B[0m\u001B[0mshow\u001B[0m\u001B[1;33m(\u001B[0m\u001B[0mfacecolor\u001B[0m\u001B[1;33m=\u001B[0m\u001B[1;34m'white'\u001B[0m\u001B[1;33m)\u001B[0m\u001B[1;33m\u001B[0m\u001B[1;33m\u001B[0m\u001B[0m\n\u001B[0m\u001B[0;32m     22\u001B[0m \u001B[1;33m\u001B[0m\u001B[0m\n\u001B[0;32m     23\u001B[0m \u001B[1;33m\u001B[0m\u001B[0m\n",
      "\u001B[1;32m~\\anaconda3\\lib\\site-packages\\matplotlib\\pyplot.py\u001B[0m in \u001B[0;36mshow\u001B[1;34m(*args, **kwargs)\u001B[0m\n\u001B[0;32m    351\u001B[0m     \"\"\"\n\u001B[0;32m    352\u001B[0m     \u001B[0m_warn_if_gui_out_of_main_thread\u001B[0m\u001B[1;33m(\u001B[0m\u001B[1;33m)\u001B[0m\u001B[1;33m\u001B[0m\u001B[1;33m\u001B[0m\u001B[0m\n\u001B[1;32m--> 353\u001B[1;33m     \u001B[1;32mreturn\u001B[0m \u001B[0m_backend_mod\u001B[0m\u001B[1;33m.\u001B[0m\u001B[0mshow\u001B[0m\u001B[1;33m(\u001B[0m\u001B[1;33m*\u001B[0m\u001B[0margs\u001B[0m\u001B[1;33m,\u001B[0m \u001B[1;33m**\u001B[0m\u001B[0mkwargs\u001B[0m\u001B[1;33m)\u001B[0m\u001B[1;33m\u001B[0m\u001B[1;33m\u001B[0m\u001B[0m\n\u001B[0m\u001B[0;32m    354\u001B[0m \u001B[1;33m\u001B[0m\u001B[0m\n\u001B[0;32m    355\u001B[0m \u001B[1;33m\u001B[0m\u001B[0m\n",
      "\u001B[1;31mTypeError\u001B[0m: show() got an unexpected keyword argument 'facecolor'"
     ]
    },
    {
     "data": {
      "text/plain": "<Figure size 432x288 with 1 Axes>",
      "image/png": "[encoded data removed]"
     },
     "metadata": {
      "needs_background": "light"
     },
     "output_type": "display_data"
    }
   ],
   "source": [
    "import matplotlib.pyplot as plt\n",
    "\n",
    "# group the data by year\n",
    "data_by_year = {}\n",
    "for year, value in year_counts_list:\n",
    "    if year in data_by_year:\n",
    "        data_by_year[year].append(value)\n",
    "    else:\n",
    "        data_by_year[year] = [value]\n",
    "\n",
    "# get the years and the values\n",
    "years = list(data_by_year.keys())\n",
    "values = [sum(data_by_year[year]) for year in years]\n",
    "\n",
    "# create the bar plot\n",
    "plt.bar(years, values)\n",
    "plt.ylabel('number of trials')\n",
    "plt.xticks(rotation=90, fontsize = 8)\n",
    "\n",
    "plt.xlabel('years')\n",
    "plt.show()\n"
   ],
   "metadata": {
    "collapsed": false,
    "pycharm": {
     "name": "#%%\n"
    }
   }
  },
  {
   "cell_type": "code",
   "execution_count": 5,
   "outputs": [],
   "source": [],
   "metadata": {
    "collapsed": false,
    "pycharm": {
     "name": "#%%\n"
    }
   }
  },
  {
   "cell_type": "code",
   "execution_count": null,
   "outputs": [],
   "source": [],
   "metadata": {
    "collapsed": false,
    "pycharm": {
     "name": "#%%\n"
    }
   }
  }
 ],
 "metadata": {
  "kernelspec": {
   "display_name": "Python 3",
   "language": "python",
   "name": "python3"
  },
  "language_info": {
   "codemirror_mode": {
    "name": "ipython",
    "version": 2
   },
   "file_extension": ".py",
   "mimetype": "text/x-python",
   "name": "python",
   "nbconvert_exporter": "python",
   "pygments_lexer": "ipython2",
   "version": "2.7.6"
  }
 },
 "nbformat": 4,
 "nbformat_minor": 0
}