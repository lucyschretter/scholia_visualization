{
 "cells": [
  {
   "cell_type": "markdown",
   "source": [
    "### Get dataframe of related diseases\n"
   ],
   "metadata": {
    "collapsed": false,
    "pycharm": {
     "name": "#%% md\n"
    }
   }
  },
  {
   "cell_type": "code",
   "execution_count": null,
   "metadata": {
    "collapsed": true
   },
   "outputs": [],
   "source": [
    "\n",
    "import SPARQLWrapper\n",
    "\n",
    "sparql = SPARQLWrapper.SPARQLWrapper(\"https://query.wikidata.org/sparql\")\n",
    "\n",
    "query = '''\n",
    "PREFIX target: <http://www.wikidata.org/entity/Q41112>\n",
    "\n",
    "SELECT\n",
    "  ?count\n",
    "  ?gene_count\n",
    "  ?symptom_count\n",
    "  ?disease ?diseaseLabel\n",
    "  ?genes\n",
    "  ?symptoms\n",
    "{\n",
    "  {\n",
    "    SELECT ?disease (COUNT(?gene) AS ?gene_count) (GROUP_CONCAT(?gene_label; separator=\" // \") AS ?genes) WHERE {\n",
    "      target: wdt:P2293 ?gene .\n",
    "      ?gene wdt:P2293 ?disease .\n",
    "      FILTER (target: != ?disease)\n",
    "      ?gene rdfs:label ?gene_label\n",
    "      FILTER(lang(?gene_label) = \"en\")\n",
    "    }\n",
    "    GROUP BY ?disease\n",
    "  }\n",
    "  UNION\n",
    "  {\n",
    "    SELECT\n",
    "      ?disease (COUNT(?symptom) AS ?symptom_count) (GROUP_CONCAT(?symptom_label; separator=\" // \") AS ?symptoms)\n",
    "    {\n",
    "      target: wdt:P780 ?symptom .\n",
    "      ?disease wdt:P780 ?symptom .\n",
    "      FILTER (target: != ?disease)\n",
    "      ?symptom rdfs:label ?symptom_label . FILTER(lang(?symptom_label) = \"en\")\n",
    "    }\n",
    "    GROUP BY ?disease\n",
    "  }\n",
    "\n",
    "  # Aggregate count\n",
    "  BIND((COALESCE(?symptom_count, 0) + COALESCE(?gene_count, 0)) AS ?count)\n",
    "\n",
    "  SERVICE wikibase:label { bd:serviceParam wikibase:language \"en\". }\n",
    "}\n",
    "ORDER BY DESC(?count)\n",
    "'''\n",
    "\n",
    "# Set the query language to SPARQL\n",
    "sparql.setQuery(query)\n",
    "\n",
    "# Set the return format to JSON\n",
    "sparql.setReturnFormat(SPARQLWrapper.JSON)\n",
    "\n",
    "# Execute the query and store the results\n",
    "results = sparql.query().convert()\n"
   ]
  },
  {
   "cell_type": "code",
   "execution_count": null,
   "outputs": [],
   "source": [
    "reformatted_dict = {}\n",
    "\n",
    "entities = []\n",
    "result_list = results['results']['bindings']\n",
    "for res in result_list:\n",
    "    for res_key, res_value in res.items():\n",
    "        if res_key == 'disease':\n",
    "            uri = res_value['value']\n",
    "            splitted_uri = uri.split('/')\n",
    "            entity_id = splitted_uri[-1]\n",
    "            entities.append(entity_id)\n",
    "            reformatted_dict[entity_id] = res\n",
    "\n",
    "print(reformatted_dict)"
   ],
   "metadata": {
    "collapsed": false,
    "pycharm": {
     "name": "#%%\n"
    }
   }
  },
  {
   "cell_type": "code",
   "execution_count": null,
   "outputs": [],
   "source": [
    "import pandas as pd\n",
    "\n",
    "df = pd.DataFrame.from_dict(reformatted_dict)\n",
    "df = df.transpose()\n",
    "\n",
    "print(df.columns)\n",
    "print(df)"
   ],
   "metadata": {
    "collapsed": false,
    "pycharm": {
     "name": "#%%\n"
    }
   }
  },
  {
   "cell_type": "markdown",
   "source": [
    "### Get publications per year for all related diseases"
   ],
   "metadata": {
    "collapsed": false,
    "pycharm": {
     "name": "#%% md\n"
    }
   }
  },
  {
   "cell_type": "code",
   "execution_count": null,
   "outputs": [],
   "source": [
    "# get publications per year of every disease that is asscociated with schizophrenia\n",
    "\n",
    "\n",
    "for index, row in df.iterrows():\n",
    "    print(index)\n",
    "    prefix_target = \\\n",
    "        f'''\n",
    "PREFIX target: <http://www.wikidata.org/entity/{index}>\n",
    "SELECT\n",
    "  (STR(?year_) AS ?year)\n",
    "  (COUNT(?work) AS ?number_of_publications)\n",
    "\n",
    "\n",
    "GROUP BY ?year\n",
    "ORDER BY ?year\n",
    "'''\n",
    "\n",
    "    query = query.format(prefix_target)\n",
    "\n",
    "\n",
    "    # Set the query language to SPARQL\n",
    "    sparql.setQuery(query)\n",
    "\n",
    "    # Set the return format to JSON\n",
    "    sparql.setReturnFormat(SPARQLWrapper.JSON)\n",
    "\n",
    "    # Execute the query and store the results\n",
    "    results = sparql.query().convert()\n",
    "    print(results)"
   ],
   "metadata": {
    "collapsed": false,
    "pycharm": {
     "name": "#%%\n"
    }
   }
  },
  {
   "cell_type": "code",
   "execution_count": 3,
   "outputs": [],
   "source": [
    "import SPARQLWrapper"
   ],
   "metadata": {
    "collapsed": false,
    "pycharm": {
     "name": "#%%\n"
    }
   }
  },
  {
   "cell_type": "code",
   "execution_count": 4,
   "outputs": [
    {
     "name": "stdout",
     "output_type": "stream",
     "text": [
      "{'head': {'vars': ['year', 'number_of_publications']}, 'results': {'bindings': [{'year': {'type': 'literal', 'value': '1863'}, 'number_of_publications': {'datatype': 'http://www.w3.org/2001/XMLSchema#integer', 'type': 'literal', 'value': '1'}}, {'year': {'type': 'literal', 'value': '1865'}, 'number_of_publications': {'datatype': 'http://www.w3.org/2001/XMLSchema#integer', 'type': 'literal', 'value': '0'}}, {'year': {'type': 'literal', 'value': '1870'}, 'number_of_publications': {'datatype': 'http://www.w3.org/2001/XMLSchema#integer', 'type': 'literal', 'value': '0'}}, {'year': {'type': 'literal', 'value': '1880'}, 'number_of_publications': {'datatype': 'http://www.w3.org/2001/XMLSchema#integer', 'type': 'literal', 'value': '1'}}, {'year': {'type': 'literal', 'value': '1885'}, 'number_of_publications': {'datatype': 'http://www.w3.org/2001/XMLSchema#integer', 'type': 'literal', 'value': '1'}}, {'year': {'type': 'literal', 'value': '1888'}, 'number_of_publications': {'datatype': 'http://www.w3.org/2001/XMLSchema#integer', 'type': 'literal', 'value': '0'}}, {'year': {'type': 'literal', 'value': '1890'}, 'number_of_publications': {'datatype': 'http://www.w3.org/2001/XMLSchema#integer', 'type': 'literal', 'value': '2'}}, {'year': {'type': 'literal', 'value': '1891'}, 'number_of_publications': {'datatype': 'http://www.w3.org/2001/XMLSchema#integer', 'type': 'literal', 'value': '2'}}, {'year': {'type': 'literal', 'value': '1892'}, 'number_of_publications': {'datatype': 'http://www.w3.org/2001/XMLSchema#integer', 'type': 'literal', 'value': '2'}}, {'year': {'type': 'literal', 'value': '1894'}, 'number_of_publications': {'datatype': 'http://www.w3.org/2001/XMLSchema#integer', 'type': 'literal', 'value': '1'}}, {'year': {'type': 'literal', 'value': '1896'}, 'number_of_publications': {'datatype': 'http://www.w3.org/2001/XMLSchema#integer', 'type': 'literal', 'value': '1'}}, {'year': {'type': 'literal', 'value': '1900'}, 'number_of_publications': {'datatype': 'http://www.w3.org/2001/XMLSchema#integer', 'type': 'literal', 'value': '0'}}, {'year': {'type': 'literal', 'value': '1908'}, 'number_of_publications': {'datatype': 'http://www.w3.org/2001/XMLSchema#integer', 'type': 'literal', 'value': '1'}}, {'year': {'type': 'literal', 'value': '1913'}, 'number_of_publications': {'datatype': 'http://www.w3.org/2001/XMLSchema#integer', 'type': 'literal', 'value': '0'}}, {'year': {'type': 'literal', 'value': '1921'}, 'number_of_publications': {'datatype': 'http://www.w3.org/2001/XMLSchema#integer', 'type': 'literal', 'value': '1'}}, {'year': {'type': 'literal', 'value': '1922'}, 'number_of_publications': {'datatype': 'http://www.w3.org/2001/XMLSchema#integer', 'type': 'literal', 'value': '2'}}, {'year': {'type': 'literal', 'value': '1923'}, 'number_of_publications': {'datatype': 'http://www.w3.org/2001/XMLSchema#integer', 'type': 'literal', 'value': '1'}}, {'year': {'type': 'literal', 'value': '1924'}, 'number_of_publications': {'datatype': 'http://www.w3.org/2001/XMLSchema#integer', 'type': 'literal', 'value': '1'}}, {'year': {'type': 'literal', 'value': '1927'}, 'number_of_publications': {'datatype': 'http://www.w3.org/2001/XMLSchema#integer', 'type': 'literal', 'value': '3'}}, {'year': {'type': 'literal', 'value': '1928'}, 'number_of_publications': {'datatype': 'http://www.w3.org/2001/XMLSchema#integer', 'type': 'literal', 'value': '3'}}, {'year': {'type': 'literal', 'value': '1929'}, 'number_of_publications': {'datatype': 'http://www.w3.org/2001/XMLSchema#integer', 'type': 'literal', 'value': '1'}}, {'year': {'type': 'literal', 'value': '1930'}, 'number_of_publications': {'datatype': 'http://www.w3.org/2001/XMLSchema#integer', 'type': 'literal', 'value': '1'}}, {'year': {'type': 'literal', 'value': '1931'}, 'number_of_publications': {'datatype': 'http://www.w3.org/2001/XMLSchema#integer', 'type': 'literal', 'value': '2'}}, {'year': {'type': 'literal', 'value': '1932'}, 'number_of_publications': {'datatype': 'http://www.w3.org/2001/XMLSchema#integer', 'type': 'literal', 'value': '3'}}, {'year': {'type': 'literal', 'value': '1933'}, 'number_of_publications': {'datatype': 'http://www.w3.org/2001/XMLSchema#integer', 'type': 'literal', 'value': '1'}}, {'year': {'type': 'literal', 'value': '1934'}, 'number_of_publications': {'datatype': 'http://www.w3.org/2001/XMLSchema#integer', 'type': 'literal', 'value': '2'}}, {'year': {'type': 'literal', 'value': '1935'}, 'number_of_publications': {'datatype': 'http://www.w3.org/2001/XMLSchema#integer', 'type': 'literal', 'value': '2'}}, {'year': {'type': 'literal', 'value': '1936'}, 'number_of_publications': {'datatype': 'http://www.w3.org/2001/XMLSchema#integer', 'type': 'literal', 'value': '2'}}, {'year': {'type': 'literal', 'value': '1937'}, 'number_of_publications': {'datatype': 'http://www.w3.org/2001/XMLSchema#integer', 'type': 'literal', 'value': '1'}}, {'year': {'type': 'literal', 'value': '1939'}, 'number_of_publications': {'datatype': 'http://www.w3.org/2001/XMLSchema#integer', 'type': 'literal', 'value': '1'}}, {'year': {'type': 'literal', 'value': '1943'}, 'number_of_publications': {'datatype': 'http://www.w3.org/2001/XMLSchema#integer', 'type': 'literal', 'value': '1'}}, {'year': {'type': 'literal', 'value': '1945'}, 'number_of_publications': {'datatype': 'http://www.w3.org/2001/XMLSchema#integer', 'type': 'literal', 'value': '1'}}, {'year': {'type': 'literal', 'value': '1946'}, 'number_of_publications': {'datatype': 'http://www.w3.org/2001/XMLSchema#integer', 'type': 'literal', 'value': '8'}}, {'year': {'type': 'literal', 'value': '1947'}, 'number_of_publications': {'datatype': 'http://www.w3.org/2001/XMLSchema#integer', 'type': 'literal', 'value': '2'}}, {'year': {'type': 'literal', 'value': '1948'}, 'number_of_publications': {'datatype': 'http://www.w3.org/2001/XMLSchema#integer', 'type': 'literal', 'value': '4'}}, {'year': {'type': 'literal', 'value': '1949'}, 'number_of_publications': {'datatype': 'http://www.w3.org/2001/XMLSchema#integer', 'type': 'literal', 'value': '4'}}, {'year': {'type': 'literal', 'value': '1950'}, 'number_of_publications': {'datatype': 'http://www.w3.org/2001/XMLSchema#integer', 'type': 'literal', 'value': '6'}}, {'year': {'type': 'literal', 'value': '1951'}, 'number_of_publications': {'datatype': 'http://www.w3.org/2001/XMLSchema#integer', 'type': 'literal', 'value': '5'}}, {'year': {'type': 'literal', 'value': '1952'}, 'number_of_publications': {'datatype': 'http://www.w3.org/2001/XMLSchema#integer', 'type': 'literal', 'value': '6'}}, {'year': {'type': 'literal', 'value': '1953'}, 'number_of_publications': {'datatype': 'http://www.w3.org/2001/XMLSchema#integer', 'type': 'literal', 'value': '9'}}, {'year': {'type': 'literal', 'value': '1954'}, 'number_of_publications': {'datatype': 'http://www.w3.org/2001/XMLSchema#integer', 'type': 'literal', 'value': '10'}}, {'year': {'type': 'literal', 'value': '1955'}, 'number_of_publications': {'datatype': 'http://www.w3.org/2001/XMLSchema#integer', 'type': 'literal', 'value': '13'}}, {'year': {'type': 'literal', 'value': '1956'}, 'number_of_publications': {'datatype': 'http://www.w3.org/2001/XMLSchema#integer', 'type': 'literal', 'value': '12'}}, {'year': {'type': 'literal', 'value': '1957'}, 'number_of_publications': {'datatype': 'http://www.w3.org/2001/XMLSchema#integer', 'type': 'literal', 'value': '11'}}, {'year': {'type': 'literal', 'value': '1958'}, 'number_of_publications': {'datatype': 'http://www.w3.org/2001/XMLSchema#integer', 'type': 'literal', 'value': '16'}}, {'year': {'type': 'literal', 'value': '1959'}, 'number_of_publications': {'datatype': 'http://www.w3.org/2001/XMLSchema#integer', 'type': 'literal', 'value': '18'}}, {'year': {'type': 'literal', 'value': '1960'}, 'number_of_publications': {'datatype': 'http://www.w3.org/2001/XMLSchema#integer', 'type': 'literal', 'value': '13'}}, {'year': {'type': 'literal', 'value': '1961'}, 'number_of_publications': {'datatype': 'http://www.w3.org/2001/XMLSchema#integer', 'type': 'literal', 'value': '20'}}, {'year': {'type': 'literal', 'value': '1962'}, 'number_of_publications': {'datatype': 'http://www.w3.org/2001/XMLSchema#integer', 'type': 'literal', 'value': '25'}}, {'year': {'type': 'literal', 'value': '1963'}, 'number_of_publications': {'datatype': 'http://www.w3.org/2001/XMLSchema#integer', 'type': 'literal', 'value': '28'}}, {'year': {'type': 'literal', 'value': '1964'}, 'number_of_publications': {'datatype': 'http://www.w3.org/2001/XMLSchema#integer', 'type': 'literal', 'value': '42'}}, {'year': {'type': 'literal', 'value': '1965'}, 'number_of_publications': {'datatype': 'http://www.w3.org/2001/XMLSchema#integer', 'type': 'literal', 'value': '53'}}, {'year': {'type': 'literal', 'value': '1966'}, 'number_of_publications': {'datatype': 'http://www.w3.org/2001/XMLSchema#integer', 'type': 'literal', 'value': '68'}}, {'year': {'type': 'literal', 'value': '1967'}, 'number_of_publications': {'datatype': 'http://www.w3.org/2001/XMLSchema#integer', 'type': 'literal', 'value': '77'}}, {'year': {'type': 'literal', 'value': '1968'}, 'number_of_publications': {'datatype': 'http://www.w3.org/2001/XMLSchema#integer', 'type': 'literal', 'value': '121'}}, {'year': {'type': 'literal', 'value': '1969'}, 'number_of_publications': {'datatype': 'http://www.w3.org/2001/XMLSchema#integer', 'type': 'literal', 'value': '101'}}, {'year': {'type': 'literal', 'value': '1970'}, 'number_of_publications': {'datatype': 'http://www.w3.org/2001/XMLSchema#integer', 'type': 'literal', 'value': '109'}}, {'year': {'type': 'literal', 'value': '1971'}, 'number_of_publications': {'datatype': 'http://www.w3.org/2001/XMLSchema#integer', 'type': 'literal', 'value': '126'}}, {'year': {'type': 'literal', 'value': '1972'}, 'number_of_publications': {'datatype': 'http://www.w3.org/2001/XMLSchema#integer', 'type': 'literal', 'value': '137'}}, {'year': {'type': 'literal', 'value': '1973'}, 'number_of_publications': {'datatype': 'http://www.w3.org/2001/XMLSchema#integer', 'type': 'literal', 'value': '182'}}, {'year': {'type': 'literal', 'value': '1974'}, 'number_of_publications': {'datatype': 'http://www.w3.org/2001/XMLSchema#integer', 'type': 'literal', 'value': '224'}}, {'year': {'type': 'literal', 'value': '1975'}, 'number_of_publications': {'datatype': 'http://www.w3.org/2001/XMLSchema#integer', 'type': 'literal', 'value': '204'}}, {'year': {'type': 'literal', 'value': '1976'}, 'number_of_publications': {'datatype': 'http://www.w3.org/2001/XMLSchema#integer', 'type': 'literal', 'value': '232'}}, {'year': {'type': 'literal', 'value': '1977'}, 'number_of_publications': {'datatype': 'http://www.w3.org/2001/XMLSchema#integer', 'type': 'literal', 'value': '266'}}, {'year': {'type': 'literal', 'value': '1978'}, 'number_of_publications': {'datatype': 'http://www.w3.org/2001/XMLSchema#integer', 'type': 'literal', 'value': '238'}}, {'year': {'type': 'literal', 'value': '1979'}, 'number_of_publications': {'datatype': 'http://www.w3.org/2001/XMLSchema#integer', 'type': 'literal', 'value': '299'}}, {'year': {'type': 'literal', 'value': '1980'}, 'number_of_publications': {'datatype': 'http://www.w3.org/2001/XMLSchema#integer', 'type': 'literal', 'value': '174'}}, {'year': {'type': 'literal', 'value': '1981'}, 'number_of_publications': {'datatype': 'http://www.w3.org/2001/XMLSchema#integer', 'type': 'literal', 'value': '209'}}, {'year': {'type': 'literal', 'value': '1982'}, 'number_of_publications': {'datatype': 'http://www.w3.org/2001/XMLSchema#integer', 'type': 'literal', 'value': '244'}}, {'year': {'type': 'literal', 'value': '1983'}, 'number_of_publications': {'datatype': 'http://www.w3.org/2001/XMLSchema#integer', 'type': 'literal', 'value': '220'}}, {'year': {'type': 'literal', 'value': '1984'}, 'number_of_publications': {'datatype': 'http://www.w3.org/2001/XMLSchema#integer', 'type': 'literal', 'value': '258'}}, {'year': {'type': 'literal', 'value': '1985'}, 'number_of_publications': {'datatype': 'http://www.w3.org/2001/XMLSchema#integer', 'type': 'literal', 'value': '310'}}, {'year': {'type': 'literal', 'value': '1986'}, 'number_of_publications': {'datatype': 'http://www.w3.org/2001/XMLSchema#integer', 'type': 'literal', 'value': '298'}}, {'year': {'type': 'literal', 'value': '1987'}, 'number_of_publications': {'datatype': 'http://www.w3.org/2001/XMLSchema#integer', 'type': 'literal', 'value': '311'}}, {'year': {'type': 'literal', 'value': '1988'}, 'number_of_publications': {'datatype': 'http://www.w3.org/2001/XMLSchema#integer', 'type': 'literal', 'value': '314'}}, {'year': {'type': 'literal', 'value': '1989'}, 'number_of_publications': {'datatype': 'http://www.w3.org/2001/XMLSchema#integer', 'type': 'literal', 'value': '321'}}, {'year': {'type': 'literal', 'value': '1990'}, 'number_of_publications': {'datatype': 'http://www.w3.org/2001/XMLSchema#integer', 'type': 'literal', 'value': '393'}}, {'year': {'type': 'literal', 'value': '1991'}, 'number_of_publications': {'datatype': 'http://www.w3.org/2001/XMLSchema#integer', 'type': 'literal', 'value': '446'}}, {'year': {'type': 'literal', 'value': '1992'}, 'number_of_publications': {'datatype': 'http://www.w3.org/2001/XMLSchema#integer', 'type': 'literal', 'value': '412'}}, {'year': {'type': 'literal', 'value': '1993'}, 'number_of_publications': {'datatype': 'http://www.w3.org/2001/XMLSchema#integer', 'type': 'literal', 'value': '426'}}, {'year': {'type': 'literal', 'value': '1994'}, 'number_of_publications': {'datatype': 'http://www.w3.org/2001/XMLSchema#integer', 'type': 'literal', 'value': '402'}}, {'year': {'type': 'literal', 'value': '1995'}, 'number_of_publications': {'datatype': 'http://www.w3.org/2001/XMLSchema#integer', 'type': 'literal', 'value': '487'}}, {'year': {'type': 'literal', 'value': '1996'}, 'number_of_publications': {'datatype': 'http://www.w3.org/2001/XMLSchema#integer', 'type': 'literal', 'value': '517'}}, {'year': {'type': 'literal', 'value': '1997'}, 'number_of_publications': {'datatype': 'http://www.w3.org/2001/XMLSchema#integer', 'type': 'literal', 'value': '618'}}, {'year': {'type': 'literal', 'value': '1998'}, 'number_of_publications': {'datatype': 'http://www.w3.org/2001/XMLSchema#integer', 'type': 'literal', 'value': '696'}}, {'year': {'type': 'literal', 'value': '1999'}, 'number_of_publications': {'datatype': 'http://www.w3.org/2001/XMLSchema#integer', 'type': 'literal', 'value': '726'}}, {'year': {'type': 'literal', 'value': '2000'}, 'number_of_publications': {'datatype': 'http://www.w3.org/2001/XMLSchema#integer', 'type': 'literal', 'value': '836'}}, {'year': {'type': 'literal', 'value': '2001'}, 'number_of_publications': {'datatype': 'http://www.w3.org/2001/XMLSchema#integer', 'type': 'literal', 'value': '1163'}}, {'year': {'type': 'literal', 'value': '2002'}, 'number_of_publications': {'datatype': 'http://www.w3.org/2001/XMLSchema#integer', 'type': 'literal', 'value': '1323'}}, {'year': {'type': 'literal', 'value': '2003'}, 'number_of_publications': {'datatype': 'http://www.w3.org/2001/XMLSchema#integer', 'type': 'literal', 'value': '1495'}}, {'year': {'type': 'literal', 'value': '2004'}, 'number_of_publications': {'datatype': 'http://www.w3.org/2001/XMLSchema#integer', 'type': 'literal', 'value': '1818'}}, {'year': {'type': 'literal', 'value': '2005'}, 'number_of_publications': {'datatype': 'http://www.w3.org/2001/XMLSchema#integer', 'type': 'literal', 'value': '2168'}}, {'year': {'type': 'literal', 'value': '2006'}, 'number_of_publications': {'datatype': 'http://www.w3.org/2001/XMLSchema#integer', 'type': 'literal', 'value': '2366'}}, {'year': {'type': 'literal', 'value': '2007'}, 'number_of_publications': {'datatype': 'http://www.w3.org/2001/XMLSchema#integer', 'type': 'literal', 'value': '2787'}}, {'year': {'type': 'literal', 'value': '2008'}, 'number_of_publications': {'datatype': 'http://www.w3.org/2001/XMLSchema#integer', 'type': 'literal', 'value': '3466'}}, {'year': {'type': 'literal', 'value': '2009'}, 'number_of_publications': {'datatype': 'http://www.w3.org/2001/XMLSchema#integer', 'type': 'literal', 'value': '3736'}}, {'year': {'type': 'literal', 'value': '2010'}, 'number_of_publications': {'datatype': 'http://www.w3.org/2001/XMLSchema#integer', 'type': 'literal', 'value': '4025'}}, {'year': {'type': 'literal', 'value': '2011'}, 'number_of_publications': {'datatype': 'http://www.w3.org/2001/XMLSchema#integer', 'type': 'literal', 'value': '4387'}}, {'year': {'type': 'literal', 'value': '2012'}, 'number_of_publications': {'datatype': 'http://www.w3.org/2001/XMLSchema#integer', 'type': 'literal', 'value': '4744'}}, {'year': {'type': 'literal', 'value': '2013'}, 'number_of_publications': {'datatype': 'http://www.w3.org/2001/XMLSchema#integer', 'type': 'literal', 'value': '6185'}}, {'year': {'type': 'literal', 'value': '2014'}, 'number_of_publications': {'datatype': 'http://www.w3.org/2001/XMLSchema#integer', 'type': 'literal', 'value': '5548'}}, {'year': {'type': 'literal', 'value': '2015'}, 'number_of_publications': {'datatype': 'http://www.w3.org/2001/XMLSchema#integer', 'type': 'literal', 'value': '5461'}}, {'year': {'type': 'literal', 'value': '2016'}, 'number_of_publications': {'datatype': 'http://www.w3.org/2001/XMLSchema#integer', 'type': 'literal', 'value': '5717'}}, {'year': {'type': 'literal', 'value': '2017'}, 'number_of_publications': {'datatype': 'http://www.w3.org/2001/XMLSchema#integer', 'type': 'literal', 'value': '4812'}}, {'year': {'type': 'literal', 'value': '2018'}, 'number_of_publications': {'datatype': 'http://www.w3.org/2001/XMLSchema#integer', 'type': 'literal', 'value': '3586'}}, {'year': {'type': 'literal', 'value': '2019'}, 'number_of_publications': {'datatype': 'http://www.w3.org/2001/XMLSchema#integer', 'type': 'literal', 'value': '990'}}, {'year': {'type': 'literal', 'value': '2020'}, 'number_of_publications': {'datatype': 'http://www.w3.org/2001/XMLSchema#integer', 'type': 'literal', 'value': '774'}}, {'year': {'type': 'literal', 'value': '2021'}, 'number_of_publications': {'datatype': 'http://www.w3.org/2001/XMLSchema#integer', 'type': 'literal', 'value': '45'}}, {'year': {'type': 'literal', 'value': '2022'}, 'number_of_publications': {'datatype': 'http://www.w3.org/2001/XMLSchema#integer', 'type': 'literal', 'value': '30'}}]}}\n",
      "{'head': {'vars': ['year', 'number_of_publications']}, 'results': {'bindings': []}}\n",
      "{'head': {'vars': ['year', 'number_of_publications']}, 'results': {'bindings': [{'year': {'type': 'literal', 'value': '1914'}, 'number_of_publications': {'datatype': 'http://www.w3.org/2001/XMLSchema#integer', 'type': 'literal', 'value': '1'}}, {'year': {'type': 'literal', 'value': '1924'}, 'number_of_publications': {'datatype': 'http://www.w3.org/2001/XMLSchema#integer', 'type': 'literal', 'value': '1'}}, {'year': {'type': 'literal', 'value': '1925'}, 'number_of_publications': {'datatype': 'http://www.w3.org/2001/XMLSchema#integer', 'type': 'literal', 'value': '1'}}, {'year': {'type': 'literal', 'value': '1926'}, 'number_of_publications': {'datatype': 'http://www.w3.org/2001/XMLSchema#integer', 'type': 'literal', 'value': '1'}}, {'year': {'type': 'literal', 'value': '1927'}, 'number_of_publications': {'datatype': 'http://www.w3.org/2001/XMLSchema#integer', 'type': 'literal', 'value': '4'}}, {'year': {'type': 'literal', 'value': '1928'}, 'number_of_publications': {'datatype': 'http://www.w3.org/2001/XMLSchema#integer', 'type': 'literal', 'value': '3'}}, {'year': {'type': 'literal', 'value': '1929'}, 'number_of_publications': {'datatype': 'http://www.w3.org/2001/XMLSchema#integer', 'type': 'literal', 'value': '1'}}, {'year': {'type': 'literal', 'value': '1930'}, 'number_of_publications': {'datatype': 'http://www.w3.org/2001/XMLSchema#integer', 'type': 'literal', 'value': '4'}}, {'year': {'type': 'literal', 'value': '1931'}, 'number_of_publications': {'datatype': 'http://www.w3.org/2001/XMLSchema#integer', 'type': 'literal', 'value': '5'}}, {'year': {'type': 'literal', 'value': '1932'}, 'number_of_publications': {'datatype': 'http://www.w3.org/2001/XMLSchema#integer', 'type': 'literal', 'value': '4'}}, {'year': {'type': 'literal', 'value': '1933'}, 'number_of_publications': {'datatype': 'http://www.w3.org/2001/XMLSchema#integer', 'type': 'literal', 'value': '9'}}, {'year': {'type': 'literal', 'value': '1934'}, 'number_of_publications': {'datatype': 'http://www.w3.org/2001/XMLSchema#integer', 'type': 'literal', 'value': '3'}}, {'year': {'type': 'literal', 'value': '1935'}, 'number_of_publications': {'datatype': 'http://www.w3.org/2001/XMLSchema#integer', 'type': 'literal', 'value': '2'}}, {'year': {'type': 'literal', 'value': '1936'}, 'number_of_publications': {'datatype': 'http://www.w3.org/2001/XMLSchema#integer', 'type': 'literal', 'value': '5'}}, {'year': {'type': 'literal', 'value': '1938'}, 'number_of_publications': {'datatype': 'http://www.w3.org/2001/XMLSchema#integer', 'type': 'literal', 'value': '4'}}, {'year': {'type': 'literal', 'value': '1939'}, 'number_of_publications': {'datatype': 'http://www.w3.org/2001/XMLSchema#integer', 'type': 'literal', 'value': '3'}}, {'year': {'type': 'literal', 'value': '1940'}, 'number_of_publications': {'datatype': 'http://www.w3.org/2001/XMLSchema#integer', 'type': 'literal', 'value': '2'}}, {'year': {'type': 'literal', 'value': '1941'}, 'number_of_publications': {'datatype': 'http://www.w3.org/2001/XMLSchema#integer', 'type': 'literal', 'value': '2'}}, {'year': {'type': 'literal', 'value': '1942'}, 'number_of_publications': {'datatype': 'http://www.w3.org/2001/XMLSchema#integer', 'type': 'literal', 'value': '2'}}, {'year': {'type': 'literal', 'value': '1943'}, 'number_of_publications': {'datatype': 'http://www.w3.org/2001/XMLSchema#integer', 'type': 'literal', 'value': '2'}}, {'year': {'type': 'literal', 'value': '1945'}, 'number_of_publications': {'datatype': 'http://www.w3.org/2001/XMLSchema#integer', 'type': 'literal', 'value': '13'}}, {'year': {'type': 'literal', 'value': '1946'}, 'number_of_publications': {'datatype': 'http://www.w3.org/2001/XMLSchema#integer', 'type': 'literal', 'value': '63'}}, {'year': {'type': 'literal', 'value': '1947'}, 'number_of_publications': {'datatype': 'http://www.w3.org/2001/XMLSchema#integer', 'type': 'literal', 'value': '68'}}, {'year': {'type': 'literal', 'value': '1948'}, 'number_of_publications': {'datatype': 'http://www.w3.org/2001/XMLSchema#integer', 'type': 'literal', 'value': '111'}}, {'year': {'type': 'literal', 'value': '1949'}, 'number_of_publications': {'datatype': 'http://www.w3.org/2001/XMLSchema#integer', 'type': 'literal', 'value': '76'}}, {'year': {'type': 'literal', 'value': '1950'}, 'number_of_publications': {'datatype': 'http://www.w3.org/2001/XMLSchema#integer', 'type': 'literal', 'value': '124'}}, {'year': {'type': 'literal', 'value': '1951'}, 'number_of_publications': {'datatype': 'http://www.w3.org/2001/XMLSchema#integer', 'type': 'literal', 'value': '146'}}, {'year': {'type': 'literal', 'value': '1952'}, 'number_of_publications': {'datatype': 'http://www.w3.org/2001/XMLSchema#integer', 'type': 'literal', 'value': '166'}}, {'year': {'type': 'literal', 'value': '1953'}, 'number_of_publications': {'datatype': 'http://www.w3.org/2001/XMLSchema#integer', 'type': 'literal', 'value': '141'}}, {'year': {'type': 'literal', 'value': '1954'}, 'number_of_publications': {'datatype': 'http://www.w3.org/2001/XMLSchema#integer', 'type': 'literal', 'value': '185'}}, {'year': {'type': 'literal', 'value': '1955'}, 'number_of_publications': {'datatype': 'http://www.w3.org/2001/XMLSchema#integer', 'type': 'literal', 'value': '176'}}, {'year': {'type': 'literal', 'value': '1956'}, 'number_of_publications': {'datatype': 'http://www.w3.org/2001/XMLSchema#integer', 'type': 'literal', 'value': '210'}}, {'year': {'type': 'literal', 'value': '1957'}, 'number_of_publications': {'datatype': 'http://www.w3.org/2001/XMLSchema#integer', 'type': 'literal', 'value': '235'}}, {'year': {'type': 'literal', 'value': '1958'}, 'number_of_publications': {'datatype': 'http://www.w3.org/2001/XMLSchema#integer', 'type': 'literal', 'value': '227'}}, {'year': {'type': 'literal', 'value': '1959'}, 'number_of_publications': {'datatype': 'http://www.w3.org/2001/XMLSchema#integer', 'type': 'literal', 'value': '210'}}, {'year': {'type': 'literal', 'value': '1960'}, 'number_of_publications': {'datatype': 'http://www.w3.org/2001/XMLSchema#integer', 'type': 'literal', 'value': '204'}}, {'year': {'type': 'literal', 'value': '1961'}, 'number_of_publications': {'datatype': 'http://www.w3.org/2001/XMLSchema#integer', 'type': 'literal', 'value': '211'}}, {'year': {'type': 'literal', 'value': '1962'}, 'number_of_publications': {'datatype': 'http://www.w3.org/2001/XMLSchema#integer', 'type': 'literal', 'value': '256'}}, {'year': {'type': 'literal', 'value': '1963'}, 'number_of_publications': {'datatype': 'http://www.w3.org/2001/XMLSchema#integer', 'type': 'literal', 'value': '295'}}, {'year': {'type': 'literal', 'value': '1964'}, 'number_of_publications': {'datatype': 'http://www.w3.org/2001/XMLSchema#integer', 'type': 'literal', 'value': '319'}}, {'year': {'type': 'literal', 'value': '1965'}, 'number_of_publications': {'datatype': 'http://www.w3.org/2001/XMLSchema#integer', 'type': 'literal', 'value': '343'}}, {'year': {'type': 'literal', 'value': '1966'}, 'number_of_publications': {'datatype': 'http://www.w3.org/2001/XMLSchema#integer', 'type': 'literal', 'value': '375'}}, {'year': {'type': 'literal', 'value': '1967'}, 'number_of_publications': {'datatype': 'http://www.w3.org/2001/XMLSchema#integer', 'type': 'literal', 'value': '476'}}, {'year': {'type': 'literal', 'value': '1968'}, 'number_of_publications': {'datatype': 'http://www.w3.org/2001/XMLSchema#integer', 'type': 'literal', 'value': '536'}}, {'year': {'type': 'literal', 'value': '1969'}, 'number_of_publications': {'datatype': 'http://www.w3.org/2001/XMLSchema#integer', 'type': 'literal', 'value': '582'}}, {'year': {'type': 'literal', 'value': '1970'}, 'number_of_publications': {'datatype': 'http://www.w3.org/2001/XMLSchema#integer', 'type': 'literal', 'value': '545'}}, {'year': {'type': 'literal', 'value': '1971'}, 'number_of_publications': {'datatype': 'http://www.w3.org/2001/XMLSchema#integer', 'type': 'literal', 'value': '665'}}, {'year': {'type': 'literal', 'value': '1972'}, 'number_of_publications': {'datatype': 'http://www.w3.org/2001/XMLSchema#integer', 'type': 'literal', 'value': '766'}}, {'year': {'type': 'literal', 'value': '1973'}, 'number_of_publications': {'datatype': 'http://www.w3.org/2001/XMLSchema#integer', 'type': 'literal', 'value': '826'}}, {'year': {'type': 'literal', 'value': '1974'}, 'number_of_publications': {'datatype': 'http://www.w3.org/2001/XMLSchema#integer', 'type': 'literal', 'value': '850'}}, {'year': {'type': 'literal', 'value': '1975'}, 'number_of_publications': {'datatype': 'http://www.w3.org/2001/XMLSchema#integer', 'type': 'literal', 'value': '986'}}, {'year': {'type': 'literal', 'value': '1976'}, 'number_of_publications': {'datatype': 'http://www.w3.org/2001/XMLSchema#integer', 'type': 'literal', 'value': '1035'}}, {'year': {'type': 'literal', 'value': '1977'}, 'number_of_publications': {'datatype': 'http://www.w3.org/2001/XMLSchema#integer', 'type': 'literal', 'value': '1029'}}, {'year': {'type': 'literal', 'value': '1978'}, 'number_of_publications': {'datatype': 'http://www.w3.org/2001/XMLSchema#integer', 'type': 'literal', 'value': '1040'}}, {'year': {'type': 'literal', 'value': '1979'}, 'number_of_publications': {'datatype': 'http://www.w3.org/2001/XMLSchema#integer', 'type': 'literal', 'value': '965'}}, {'year': {'type': 'literal', 'value': '1980'}, 'number_of_publications': {'datatype': 'http://www.w3.org/2001/XMLSchema#integer', 'type': 'literal', 'value': '1240'}}, {'year': {'type': 'literal', 'value': '1981'}, 'number_of_publications': {'datatype': 'http://www.w3.org/2001/XMLSchema#integer', 'type': 'literal', 'value': '1388'}}, {'year': {'type': 'literal', 'value': '1982'}, 'number_of_publications': {'datatype': 'http://www.w3.org/2001/XMLSchema#integer', 'type': 'literal', 'value': '1479'}}, {'year': {'type': 'literal', 'value': '1983'}, 'number_of_publications': {'datatype': 'http://www.w3.org/2001/XMLSchema#integer', 'type': 'literal', 'value': '1516'}}, {'year': {'type': 'literal', 'value': '1984'}, 'number_of_publications': {'datatype': 'http://www.w3.org/2001/XMLSchema#integer', 'type': 'literal', 'value': '1672'}}, {'year': {'type': 'literal', 'value': '1985'}, 'number_of_publications': {'datatype': 'http://www.w3.org/2001/XMLSchema#integer', 'type': 'literal', 'value': '1724'}}, {'year': {'type': 'literal', 'value': '1986'}, 'number_of_publications': {'datatype': 'http://www.w3.org/2001/XMLSchema#integer', 'type': 'literal', 'value': '1827'}}, {'year': {'type': 'literal', 'value': '1987'}, 'number_of_publications': {'datatype': 'http://www.w3.org/2001/XMLSchema#integer', 'type': 'literal', 'value': '2149'}}, {'year': {'type': 'literal', 'value': '1988'}, 'number_of_publications': {'datatype': 'http://www.w3.org/2001/XMLSchema#integer', 'type': 'literal', 'value': '2163'}}, {'year': {'type': 'literal', 'value': '1989'}, 'number_of_publications': {'datatype': 'http://www.w3.org/2001/XMLSchema#integer', 'type': 'literal', 'value': '2152'}}, {'year': {'type': 'literal', 'value': '1990'}, 'number_of_publications': {'datatype': 'http://www.w3.org/2001/XMLSchema#integer', 'type': 'literal', 'value': '2264'}}, {'year': {'type': 'literal', 'value': '1991'}, 'number_of_publications': {'datatype': 'http://www.w3.org/2001/XMLSchema#integer', 'type': 'literal', 'value': '2256'}}, {'year': {'type': 'literal', 'value': '1992'}, 'number_of_publications': {'datatype': 'http://www.w3.org/2001/XMLSchema#integer', 'type': 'literal', 'value': '2187'}}, {'year': {'type': 'literal', 'value': '1993'}, 'number_of_publications': {'datatype': 'http://www.w3.org/2001/XMLSchema#integer', 'type': 'literal', 'value': '2279'}}, {'year': {'type': 'literal', 'value': '1994'}, 'number_of_publications': {'datatype': 'http://www.w3.org/2001/XMLSchema#integer', 'type': 'literal', 'value': '2175'}}, {'year': {'type': 'literal', 'value': '1995'}, 'number_of_publications': {'datatype': 'http://www.w3.org/2001/XMLSchema#integer', 'type': 'literal', 'value': '2410'}}, {'year': {'type': 'literal', 'value': '1996'}, 'number_of_publications': {'datatype': 'http://www.w3.org/2001/XMLSchema#integer', 'type': 'literal', 'value': '2375'}}, {'year': {'type': 'literal', 'value': '1997'}, 'number_of_publications': {'datatype': 'http://www.w3.org/2001/XMLSchema#integer', 'type': 'literal', 'value': '2558'}}, {'year': {'type': 'literal', 'value': '1998'}, 'number_of_publications': {'datatype': 'http://www.w3.org/2001/XMLSchema#integer', 'type': 'literal', 'value': '2673'}}, {'year': {'type': 'literal', 'value': '1999'}, 'number_of_publications': {'datatype': 'http://www.w3.org/2001/XMLSchema#integer', 'type': 'literal', 'value': '2932'}}, {'year': {'type': 'literal', 'value': '2000'}, 'number_of_publications': {'datatype': 'http://www.w3.org/2001/XMLSchema#integer', 'type': 'literal', 'value': '3326'}}, {'year': {'type': 'literal', 'value': '2001'}, 'number_of_publications': {'datatype': 'http://www.w3.org/2001/XMLSchema#integer', 'type': 'literal', 'value': '3517'}}, {'year': {'type': 'literal', 'value': '2002'}, 'number_of_publications': {'datatype': 'http://www.w3.org/2001/XMLSchema#integer', 'type': 'literal', 'value': '3541'}}, {'year': {'type': 'literal', 'value': '2003'}, 'number_of_publications': {'datatype': 'http://www.w3.org/2001/XMLSchema#integer', 'type': 'literal', 'value': '3782'}}, {'year': {'type': 'literal', 'value': '2004'}, 'number_of_publications': {'datatype': 'http://www.w3.org/2001/XMLSchema#integer', 'type': 'literal', 'value': '4191'}}, {'year': {'type': 'literal', 'value': '2005'}, 'number_of_publications': {'datatype': 'http://www.w3.org/2001/XMLSchema#integer', 'type': 'literal', 'value': '4540'}}, {'year': {'type': 'literal', 'value': '2006'}, 'number_of_publications': {'datatype': 'http://www.w3.org/2001/XMLSchema#integer', 'type': 'literal', 'value': '4462'}}, {'year': {'type': 'literal', 'value': '2007'}, 'number_of_publications': {'datatype': 'http://www.w3.org/2001/XMLSchema#integer', 'type': 'literal', 'value': '4802'}}, {'year': {'type': 'literal', 'value': '2008'}, 'number_of_publications': {'datatype': 'http://www.w3.org/2001/XMLSchema#integer', 'type': 'literal', 'value': '4795'}}, {'year': {'type': 'literal', 'value': '2009'}, 'number_of_publications': {'datatype': 'http://www.w3.org/2001/XMLSchema#integer', 'type': 'literal', 'value': '4994'}}, {'year': {'type': 'literal', 'value': '2010'}, 'number_of_publications': {'datatype': 'http://www.w3.org/2001/XMLSchema#integer', 'type': 'literal', 'value': '5324'}}, {'year': {'type': 'literal', 'value': '2011'}, 'number_of_publications': {'datatype': 'http://www.w3.org/2001/XMLSchema#integer', 'type': 'literal', 'value': '5397'}}, {'year': {'type': 'literal', 'value': '2012'}, 'number_of_publications': {'datatype': 'http://www.w3.org/2001/XMLSchema#integer', 'type': 'literal', 'value': '5570'}}, {'year': {'type': 'literal', 'value': '2013'}, 'number_of_publications': {'datatype': 'http://www.w3.org/2001/XMLSchema#integer', 'type': 'literal', 'value': '5884'}}, {'year': {'type': 'literal', 'value': '2014'}, 'number_of_publications': {'datatype': 'http://www.w3.org/2001/XMLSchema#integer', 'type': 'literal', 'value': '6032'}}, {'year': {'type': 'literal', 'value': '2015'}, 'number_of_publications': {'datatype': 'http://www.w3.org/2001/XMLSchema#integer', 'type': 'literal', 'value': '5692'}}, {'year': {'type': 'literal', 'value': '2016'}, 'number_of_publications': {'datatype': 'http://www.w3.org/2001/XMLSchema#integer', 'type': 'literal', 'value': '5586'}}, {'year': {'type': 'literal', 'value': '2017'}, 'number_of_publications': {'datatype': 'http://www.w3.org/2001/XMLSchema#integer', 'type': 'literal', 'value': '4880'}}, {'year': {'type': 'literal', 'value': '2018'}, 'number_of_publications': {'datatype': 'http://www.w3.org/2001/XMLSchema#integer', 'type': 'literal', 'value': '5286'}}, {'year': {'type': 'literal', 'value': '2019'}, 'number_of_publications': {'datatype': 'http://www.w3.org/2001/XMLSchema#integer', 'type': 'literal', 'value': '5026'}}, {'year': {'type': 'literal', 'value': '2020'}, 'number_of_publications': {'datatype': 'http://www.w3.org/2001/XMLSchema#integer', 'type': 'literal', 'value': '4950'}}, {'year': {'type': 'literal', 'value': '2021'}, 'number_of_publications': {'datatype': 'http://www.w3.org/2001/XMLSchema#integer', 'type': 'literal', 'value': '102'}}, {'year': {'type': 'literal', 'value': '2022'}, 'number_of_publications': {'datatype': 'http://www.w3.org/2001/XMLSchema#integer', 'type': 'literal', 'value': '2'}}]}}\n"
     ]
    }
   ],
   "source": [
    "# try for some entities\n",
    "entities = ['Q12174', 'Q50349648', 'Q844935']\n",
    "for entity in entities:\n",
    "\n",
    "\n",
    "    query = f'''\n",
    "    PREFIX target: <http://www.wikidata.org/entity/{entity}>\n",
    "\n",
    "    # Inspired from LEGOLAS - http://abel.lis.illinois.edu/legolas/\n",
    "    # Shubhanshu Mishra, Vetle Torvik\n",
    "    select ?year (count(?work) as ?number_of_publications) where {{\n",
    "      {{\n",
    "        select (str(?year_) as ?year) (0 as ?pages) where {{\n",
    "          # default values = 0\n",
    "          ?year_item wdt:P31 wd:Q577 .\n",
    "          ?year_item wdt:P585 ?date .\n",
    "          bind(year(?date) as ?year_)\n",
    "          {{\n",
    "            select (min(?year_) as ?earliest_year) where {{\n",
    "              {{ ?work wdt:P921/wdt:P31*/wdt:P279* target: . }}\n",
    "              union {{ ?work wdt:P921/wdt:P361+ target: . }}\n",
    "              union {{ ?work wdt:P921/wdt:P1269+ target: . }}\n",
    "              ?work wdt:P577 ?publication_date .\n",
    "              bind(year(?publication_date) as ?year_)\n",
    "            }}\n",
    "          }}\n",
    "          bind(year(now()) as ?next_year)\n",
    "          filter (?year_ >= ?earliest_year && ?year_ <= ?next_year)\n",
    "        }}\n",
    "      }}\n",
    "      union {{\n",
    "        select ?work (min(?years) as ?year) where {{\n",
    "          {{ ?work wdt:P921/wdt:P31*/wdt:P279* target: . }}\n",
    "          union {{ ?work wdt:P921/wdt:P361+ target: . }}\n",
    "          union {{ ?work wdt:P921/wdt:P1269+ target: . }}\n",
    "          ?work wdt:P577 ?dates .\n",
    "          bind(str(year(?dates)) as ?years) .\n",
    "        }}\n",
    "        group by ?work\n",
    "      }}\n",
    "    }}\n",
    "    group by ?year\n",
    "    order by ?year\n",
    "    '''\n",
    "\n",
    "    sparql = SPARQLWrapper.SPARQLWrapper(\"https://query.wikidata.org/sparql\")\n",
    "\n",
    "    # Set the query language to SPARQL\n",
    "    sparql.setQuery(query)\n",
    "\n",
    "    # Set the return format to JSON\n",
    "    sparql.setReturnFormat(SPARQLWrapper.JSON)\n",
    "\n",
    "    # Execute the query and store the results\n",
    "    results = sparql.query().convert()\n",
    "    print(results)"
   ],
   "metadata": {
    "collapsed": false,
    "pycharm": {
     "name": "#%%\n"
    }
   }
  },
  {
   "cell_type": "code",
   "execution_count": null,
   "outputs": [],
   "source": [],
   "metadata": {
    "collapsed": false,
    "pycharm": {
     "name": "#%%\n"
    }
   }
  }
 ],
 "metadata": {
  "kernelspec": {
   "display_name": "Python 3",
   "language": "python",
   "name": "python3"
  },
  "language_info": {
   "codemirror_mode": {
    "name": "ipython",
    "version": 2
   },
   "file_extension": ".py",
   "mimetype": "text/x-python",
   "name": "python",
   "nbconvert_exporter": "python",
   "pygments_lexer": "ipython2",
   "version": "2.7.6"
  }
 },
 "nbformat": 4,
 "nbformat_minor": 0
}