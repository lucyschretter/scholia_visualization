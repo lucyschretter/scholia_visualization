{
 "cells": [
  {
   "cell_type": "code",
   "execution_count": 1,
   "metadata": {
    "collapsed": true
   },
   "outputs": [],
   "source": [
    "from SPARQLWrapper import SPARQLWrapper, JSON\n",
    "import dash\n",
    "from dash import dcc\n",
    "from dash import html\n",
    "from dash.dependencies import Output, Input\n",
    "import dash_bootstrap_components as dbc\n",
    "import pandas as pd\n",
    "import plotly.express as px\n",
    "\n",
    "sparql = SPARQLWrapper(\"https://query.wikidata.org/sparql\")"
   ]
  },
  {
   "cell_type": "code",
   "execution_count": 2,
   "outputs": [],
   "source": [
    "\n",
    "def co_occuring_topics():\n",
    "    sparql_query = '''\n",
    "    PREFIX target: <http://www.wikidata.org/entity/Q131755>\n",
    "\n",
    "    SELECT ?count (CONCAT(\"/topics/{{ q }},\", SUBSTR(STR(?topic), 32)) AS ?countUrl)\n",
    "           ?topic ?topicLabel (CONCAT(\"/topic/\", SUBSTR(STR(?topic), 32)) AS ?topicUrl)\n",
    "           ?example_work ?example_workLabel (CONCAT(\"/work/\", SUBSTR(STR(?example_work), 32)) AS ?example_workUrl)\n",
    "    WITH {\n",
    "      SELECT (COUNT(?work) AS ?count) ?topic (SAMPLE(?work) AS ?example_work) WHERE {\n",
    "        # Find works for the specific queried topic\n",
    "          ?work wdt:P921/( wdt:P31*/wdt:P279* | wdt:P361+ | wdt:P1269+) target: .\n",
    "\n",
    "        # Find co-occuring topics\n",
    "        ?work wdt:P921 ?topic .\n",
    "\n",
    "        # Avoid listing the queried topic\n",
    "          FILTER (target: != ?topic)\n",
    "      }\n",
    "      GROUP BY ?topic\n",
    "    } AS %result\n",
    "    WHERE {\n",
    "      # Label the results\n",
    "      INCLUDE %result\n",
    "      SERVICE wikibase:label { bd:serviceParam wikibase:language \"en,da,de,es,fr,jp,nl,no,ru,sv,zh\" . }\n",
    "    }\n",
    "    ORDER BY DESC(?count)\n",
    "    '''\n",
    "\n",
    "    # Set the query and format to JSON\n",
    "    sparql.setQuery(sparql_query)\n",
    "    sparql.setReturnFormat(JSON)\n",
    "\n",
    "    # Execute the query and convert the results to a Pandas DataFrame\n",
    "    results = sparql.query().convert()\n",
    "    df = pd.json_normalize(results[\"results\"][\"bindings\"])\n",
    "    df[\"count.value\"] = pd.to_numeric(df[\"count.value\"])\n",
    "\n",
    "    # filter the most relevant results\n",
    "    df_filtered = df[df['count.value'] > 100]\n",
    "\n",
    "    if not df_filtered.empty:\n",
    "        fig = px.bar(df_filtered, y='topicLabel.value', x='count.value').update_layout(\n",
    "            title='Publication Count by Co-Occurring Topics',\n",
    "            xaxis=dict(title='Count'),\n",
    "            yaxis=dict(title='Topic'))\n",
    "        return fig"
   ],
   "metadata": {
    "collapsed": false,
    "pycharm": {
     "name": "#%%\n"
    }
   }
  },
  {
   "cell_type": "code",
   "execution_count": 3,
   "outputs": [
    {
     "ename": "HTTPError",
     "evalue": "HTTP Error 429: Too Many Requests",
     "output_type": "error",
     "traceback": [
      "\u001B[1;31m---------------------------------------------------------------------------\u001B[0m",
      "\u001B[1;31mHTTPError\u001B[0m                                 Traceback (most recent call last)",
      "Cell \u001B[1;32mIn[3], line 1\u001B[0m\n\u001B[1;32m----> 1\u001B[0m \u001B[43mco_occuring_topics\u001B[49m\u001B[43m(\u001B[49m\u001B[43m)\u001B[49m\n",
      "Cell \u001B[1;32mIn[2], line 34\u001B[0m, in \u001B[0;36mco_occuring_topics\u001B[1;34m()\u001B[0m\n\u001B[0;32m     31\u001B[0m sparql\u001B[38;5;241m.\u001B[39msetReturnFormat(JSON)\n\u001B[0;32m     33\u001B[0m \u001B[38;5;66;03m# Execute the query and convert the results to a Pandas DataFrame\u001B[39;00m\n\u001B[1;32m---> 34\u001B[0m results \u001B[38;5;241m=\u001B[39m \u001B[43msparql\u001B[49m\u001B[38;5;241;43m.\u001B[39;49m\u001B[43mquery\u001B[49m\u001B[43m(\u001B[49m\u001B[43m)\u001B[49m\u001B[38;5;241m.\u001B[39mconvert()\n\u001B[0;32m     35\u001B[0m df \u001B[38;5;241m=\u001B[39m pd\u001B[38;5;241m.\u001B[39mjson_normalize(results[\u001B[38;5;124m\"\u001B[39m\u001B[38;5;124mresults\u001B[39m\u001B[38;5;124m\"\u001B[39m][\u001B[38;5;124m\"\u001B[39m\u001B[38;5;124mbindings\u001B[39m\u001B[38;5;124m\"\u001B[39m])\n\u001B[0;32m     36\u001B[0m df[\u001B[38;5;124m\"\u001B[39m\u001B[38;5;124mcount.value\u001B[39m\u001B[38;5;124m\"\u001B[39m] \u001B[38;5;241m=\u001B[39m pd\u001B[38;5;241m.\u001B[39mto_numeric(df[\u001B[38;5;124m\"\u001B[39m\u001B[38;5;124mcount.value\u001B[39m\u001B[38;5;124m\"\u001B[39m])\n",
      "File \u001B[1;32m~\\anaconda3\\envs\\scholia_visualization\\lib\\site-packages\\SPARQLWrapper\\Wrapper.py:960\u001B[0m, in \u001B[0;36mSPARQLWrapper.query\u001B[1;34m(self)\u001B[0m\n\u001B[0;32m    942\u001B[0m \u001B[38;5;28;01mdef\u001B[39;00m \u001B[38;5;21mquery\u001B[39m(\u001B[38;5;28mself\u001B[39m) \u001B[38;5;241m-\u001B[39m\u001B[38;5;241m>\u001B[39m \u001B[38;5;124m\"\u001B[39m\u001B[38;5;124mQueryResult\u001B[39m\u001B[38;5;124m\"\u001B[39m:\n\u001B[0;32m    943\u001B[0m     \u001B[38;5;124;03m\"\"\"\u001B[39;00m\n\u001B[0;32m    944\u001B[0m \u001B[38;5;124;03m    Execute the query.\u001B[39;00m\n\u001B[0;32m    945\u001B[0m \u001B[38;5;124;03m    Exceptions can be raised if either the URI is wrong or the HTTP sends back an error (this is also the\u001B[39;00m\n\u001B[1;32m   (...)\u001B[0m\n\u001B[0;32m    958\u001B[0m \u001B[38;5;124;03m    :rtype: :class:`QueryResult` instance\u001B[39;00m\n\u001B[0;32m    959\u001B[0m \u001B[38;5;124;03m    \"\"\"\u001B[39;00m\n\u001B[1;32m--> 960\u001B[0m     \u001B[38;5;28;01mreturn\u001B[39;00m QueryResult(\u001B[38;5;28;43mself\u001B[39;49m\u001B[38;5;241;43m.\u001B[39;49m\u001B[43m_query\u001B[49m\u001B[43m(\u001B[49m\u001B[43m)\u001B[49m)\n",
      "File \u001B[1;32m~\\anaconda3\\envs\\scholia_visualization\\lib\\site-packages\\SPARQLWrapper\\Wrapper.py:940\u001B[0m, in \u001B[0;36mSPARQLWrapper._query\u001B[1;34m(self)\u001B[0m\n\u001B[0;32m    938\u001B[0m     \u001B[38;5;28;01mraise\u001B[39;00m EndPointInternalError(e\u001B[38;5;241m.\u001B[39mread())\n\u001B[0;32m    939\u001B[0m \u001B[38;5;28;01melse\u001B[39;00m:\n\u001B[1;32m--> 940\u001B[0m     \u001B[38;5;28;01mraise\u001B[39;00m e\n",
      "File \u001B[1;32m~\\anaconda3\\envs\\scholia_visualization\\lib\\site-packages\\SPARQLWrapper\\Wrapper.py:926\u001B[0m, in \u001B[0;36mSPARQLWrapper._query\u001B[1;34m(self)\u001B[0m\n\u001B[0;32m    924\u001B[0m         response \u001B[38;5;241m=\u001B[39m urlopener(request, timeout\u001B[38;5;241m=\u001B[39m\u001B[38;5;28mself\u001B[39m\u001B[38;5;241m.\u001B[39mtimeout)\n\u001B[0;32m    925\u001B[0m     \u001B[38;5;28;01melse\u001B[39;00m:\n\u001B[1;32m--> 926\u001B[0m         response \u001B[38;5;241m=\u001B[39m \u001B[43murlopener\u001B[49m\u001B[43m(\u001B[49m\u001B[43mrequest\u001B[49m\u001B[43m)\u001B[49m\n\u001B[0;32m    927\u001B[0m     \u001B[38;5;28;01mreturn\u001B[39;00m response, \u001B[38;5;28mself\u001B[39m\u001B[38;5;241m.\u001B[39mreturnFormat\n\u001B[0;32m    928\u001B[0m \u001B[38;5;28;01mexcept\u001B[39;00m urllib\u001B[38;5;241m.\u001B[39merror\u001B[38;5;241m.\u001B[39mHTTPError \u001B[38;5;28;01mas\u001B[39;00m e:\n",
      "File \u001B[1;32m~\\anaconda3\\envs\\scholia_visualization\\lib\\urllib\\request.py:214\u001B[0m, in \u001B[0;36murlopen\u001B[1;34m(url, data, timeout, cafile, capath, cadefault, context)\u001B[0m\n\u001B[0;32m    212\u001B[0m \u001B[38;5;28;01melse\u001B[39;00m:\n\u001B[0;32m    213\u001B[0m     opener \u001B[38;5;241m=\u001B[39m _opener\n\u001B[1;32m--> 214\u001B[0m \u001B[38;5;28;01mreturn\u001B[39;00m \u001B[43mopener\u001B[49m\u001B[38;5;241;43m.\u001B[39;49m\u001B[43mopen\u001B[49m\u001B[43m(\u001B[49m\u001B[43murl\u001B[49m\u001B[43m,\u001B[49m\u001B[43m \u001B[49m\u001B[43mdata\u001B[49m\u001B[43m,\u001B[49m\u001B[43m \u001B[49m\u001B[43mtimeout\u001B[49m\u001B[43m)\u001B[49m\n",
      "File \u001B[1;32m~\\anaconda3\\envs\\scholia_visualization\\lib\\urllib\\request.py:523\u001B[0m, in \u001B[0;36mOpenerDirector.open\u001B[1;34m(self, fullurl, data, timeout)\u001B[0m\n\u001B[0;32m    521\u001B[0m \u001B[38;5;28;01mfor\u001B[39;00m processor \u001B[38;5;129;01min\u001B[39;00m \u001B[38;5;28mself\u001B[39m\u001B[38;5;241m.\u001B[39mprocess_response\u001B[38;5;241m.\u001B[39mget(protocol, []):\n\u001B[0;32m    522\u001B[0m     meth \u001B[38;5;241m=\u001B[39m \u001B[38;5;28mgetattr\u001B[39m(processor, meth_name)\n\u001B[1;32m--> 523\u001B[0m     response \u001B[38;5;241m=\u001B[39m \u001B[43mmeth\u001B[49m\u001B[43m(\u001B[49m\u001B[43mreq\u001B[49m\u001B[43m,\u001B[49m\u001B[43m \u001B[49m\u001B[43mresponse\u001B[49m\u001B[43m)\u001B[49m\n\u001B[0;32m    525\u001B[0m \u001B[38;5;28;01mreturn\u001B[39;00m response\n",
      "File \u001B[1;32m~\\anaconda3\\envs\\scholia_visualization\\lib\\urllib\\request.py:632\u001B[0m, in \u001B[0;36mHTTPErrorProcessor.http_response\u001B[1;34m(self, request, response)\u001B[0m\n\u001B[0;32m    629\u001B[0m \u001B[38;5;66;03m# According to RFC 2616, \"2xx\" code indicates that the client's\u001B[39;00m\n\u001B[0;32m    630\u001B[0m \u001B[38;5;66;03m# request was successfully received, understood, and accepted.\u001B[39;00m\n\u001B[0;32m    631\u001B[0m \u001B[38;5;28;01mif\u001B[39;00m \u001B[38;5;129;01mnot\u001B[39;00m (\u001B[38;5;241m200\u001B[39m \u001B[38;5;241m<\u001B[39m\u001B[38;5;241m=\u001B[39m code \u001B[38;5;241m<\u001B[39m \u001B[38;5;241m300\u001B[39m):\n\u001B[1;32m--> 632\u001B[0m     response \u001B[38;5;241m=\u001B[39m \u001B[38;5;28;43mself\u001B[39;49m\u001B[38;5;241;43m.\u001B[39;49m\u001B[43mparent\u001B[49m\u001B[38;5;241;43m.\u001B[39;49m\u001B[43merror\u001B[49m\u001B[43m(\u001B[49m\n\u001B[0;32m    633\u001B[0m \u001B[43m        \u001B[49m\u001B[38;5;124;43m'\u001B[39;49m\u001B[38;5;124;43mhttp\u001B[39;49m\u001B[38;5;124;43m'\u001B[39;49m\u001B[43m,\u001B[49m\u001B[43m \u001B[49m\u001B[43mrequest\u001B[49m\u001B[43m,\u001B[49m\u001B[43m \u001B[49m\u001B[43mresponse\u001B[49m\u001B[43m,\u001B[49m\u001B[43m \u001B[49m\u001B[43mcode\u001B[49m\u001B[43m,\u001B[49m\u001B[43m \u001B[49m\u001B[43mmsg\u001B[49m\u001B[43m,\u001B[49m\u001B[43m \u001B[49m\u001B[43mhdrs\u001B[49m\u001B[43m)\u001B[49m\n\u001B[0;32m    635\u001B[0m \u001B[38;5;28;01mreturn\u001B[39;00m response\n",
      "File \u001B[1;32m~\\anaconda3\\envs\\scholia_visualization\\lib\\urllib\\request.py:561\u001B[0m, in \u001B[0;36mOpenerDirector.error\u001B[1;34m(self, proto, *args)\u001B[0m\n\u001B[0;32m    559\u001B[0m \u001B[38;5;28;01mif\u001B[39;00m http_err:\n\u001B[0;32m    560\u001B[0m     args \u001B[38;5;241m=\u001B[39m (\u001B[38;5;28mdict\u001B[39m, \u001B[38;5;124m'\u001B[39m\u001B[38;5;124mdefault\u001B[39m\u001B[38;5;124m'\u001B[39m, \u001B[38;5;124m'\u001B[39m\u001B[38;5;124mhttp_error_default\u001B[39m\u001B[38;5;124m'\u001B[39m) \u001B[38;5;241m+\u001B[39m orig_args\n\u001B[1;32m--> 561\u001B[0m     \u001B[38;5;28;01mreturn\u001B[39;00m \u001B[38;5;28;43mself\u001B[39;49m\u001B[38;5;241;43m.\u001B[39;49m\u001B[43m_call_chain\u001B[49m\u001B[43m(\u001B[49m\u001B[38;5;241;43m*\u001B[39;49m\u001B[43margs\u001B[49m\u001B[43m)\u001B[49m\n",
      "File \u001B[1;32m~\\anaconda3\\envs\\scholia_visualization\\lib\\urllib\\request.py:494\u001B[0m, in \u001B[0;36mOpenerDirector._call_chain\u001B[1;34m(self, chain, kind, meth_name, *args)\u001B[0m\n\u001B[0;32m    492\u001B[0m \u001B[38;5;28;01mfor\u001B[39;00m handler \u001B[38;5;129;01min\u001B[39;00m handlers:\n\u001B[0;32m    493\u001B[0m     func \u001B[38;5;241m=\u001B[39m \u001B[38;5;28mgetattr\u001B[39m(handler, meth_name)\n\u001B[1;32m--> 494\u001B[0m     result \u001B[38;5;241m=\u001B[39m \u001B[43mfunc\u001B[49m\u001B[43m(\u001B[49m\u001B[38;5;241;43m*\u001B[39;49m\u001B[43margs\u001B[49m\u001B[43m)\u001B[49m\n\u001B[0;32m    495\u001B[0m     \u001B[38;5;28;01mif\u001B[39;00m result \u001B[38;5;129;01mis\u001B[39;00m \u001B[38;5;129;01mnot\u001B[39;00m \u001B[38;5;28;01mNone\u001B[39;00m:\n\u001B[0;32m    496\u001B[0m         \u001B[38;5;28;01mreturn\u001B[39;00m result\n",
      "File \u001B[1;32m~\\anaconda3\\envs\\scholia_visualization\\lib\\urllib\\request.py:641\u001B[0m, in \u001B[0;36mHTTPDefaultErrorHandler.http_error_default\u001B[1;34m(self, req, fp, code, msg, hdrs)\u001B[0m\n\u001B[0;32m    640\u001B[0m \u001B[38;5;28;01mdef\u001B[39;00m \u001B[38;5;21mhttp_error_default\u001B[39m(\u001B[38;5;28mself\u001B[39m, req, fp, code, msg, hdrs):\n\u001B[1;32m--> 641\u001B[0m     \u001B[38;5;28;01mraise\u001B[39;00m HTTPError(req\u001B[38;5;241m.\u001B[39mfull_url, code, msg, hdrs, fp)\n",
      "\u001B[1;31mHTTPError\u001B[0m: HTTP Error 429: Too Many Requests"
     ]
    }
   ],
   "source": [
    "co_occuring_topics()"
   ],
   "metadata": {
    "collapsed": false,
    "pycharm": {
     "name": "#%%\n"
    }
   }
  },
  {
   "cell_type": "code",
   "execution_count": 3,
   "outputs": [],
   "source": [
    "import plotly.graph_objects as go\n",
    "\n",
    "\n",
    "def create_map():\n",
    "\n",
    "    query = '''\n",
    "    PREFIX target: <http://www.wikidata.org/entity/Q131755>\n",
    "\n",
    "    SELECT\n",
    "      ?location ?locationLabel\n",
    "      ?geo\n",
    "      ?example_work ?example_workLabel\n",
    "      ?latitude ?longitude\n",
    "    WITH {\n",
    "      SELECT\n",
    "        ?location ?geo ?latitude ?longitude\n",
    "        (SAMPLE(?work) AS ?example_work)\n",
    "      WHERE {\n",
    "        # Find works that are marked with the main subject of the topic.\n",
    "        ?work wdt:P921 / ( wdt:P31*/wdt:P279* | wdt:P361+ | wdt:P1269+ ) target: .\n",
    "\n",
    "        # Identify co-occurring topics that are geo-locatable.\n",
    "        ?work wdt:P921 ?location .\n",
    "        ?location wdt:P625 ?geo .\n",
    "        BIND(xsd:float(STRAFTER(str(?geo), \"Point(\")) AS ?latitude) .\n",
    "        BIND(xsd:float(STRAFTER(str(?geo), \" \")) AS ?longitude) .\n",
    "      }\n",
    "      GROUP BY ?location ?geo ?latitude ?longitude\n",
    "    } AS %results\n",
    "    WHERE {\n",
    "      INCLUDE %results\n",
    "\n",
    "      # Label the results\n",
    "      SERVICE wikibase:label {\n",
    "        bd:serviceParam wikibase:language \"en,da,de,es,fr,jp,nl,no,ru,sv,zh\".\n",
    "      }\n",
    "    }\n",
    "    '''\n",
    "\n",
    "    # Set the query and format to JSON\n",
    "    sparql.setQuery(query)\n",
    "    sparql.setReturnFormat(JSON)\n",
    "\n",
    "    # Execute the query and convert the results to a Pandas DataFrame\n",
    "    results = sparql.query().convert()\n",
    "    df = pd.json_normalize(results[\"results\"][\"bindings\"])\n",
    "\n",
    "    # Extract the latitude and longitude values using regular expressions\n",
    "    df[\"lat\"] = df[\"geo.value\"].str.extract(r\"[\\d.-]+\\s+([\\d.-]+)\")\n",
    "    df[\"lon\"] = df[\"geo.value\"].str.extract(r\"([\\d.-]+)\\s+[\\d.-]+\")\n",
    "\n",
    "    # Convert the extracted values to numeric\n",
    "    df[[\"lat\", \"lon\"]] = df[[\"lat\", \"lon\"]].apply(pd.to_numeric)\n",
    "\n",
    "\n",
    "     # Create the map figure using Plotly\n",
    "    fig = go.Figure(\n",
    "        go.Scattermapbox(\n",
    "            lat=df[\"lat\"],\n",
    "            lon=df[\"lon\"],\n",
    "            mode=\"markers\",\n",
    "            marker=dict(size=5, color=\"blue\"),\n",
    "            text=df[\"locationLabel.value\"],\n",
    "            hoverinfo=\"text\"\n",
    "        )\n",
    "    )\n",
    "\n",
    "    fig.update_layout(\n",
    "        mapbox=dict(\n",
    "            accesstoken=\"pk.eyJ1IjoibHNjaHJldHQiLCJhIjoiY2xpaXRmMjUyMDFqODNjbHI1MG1ycnZndyJ9.TXJ8UKEEkreBV1QyPnbnqA\",  # Replace with your Mapbox access token\n",
    "            center=dict(lat=0, lon=0),  # Set the initial center of the map\n",
    "            zoom=0.5,  # Set the initial zoom level\n",
    "        ),\n",
    "        title=\"Map Visualization\",\n",
    "    )\n",
    "\n",
    "    return fig"
   ],
   "metadata": {
    "collapsed": false,
    "pycharm": {
     "name": "#%%\n"
    }
   }
  },
  {
   "cell_type": "code",
   "execution_count": null,
   "outputs": [],
   "source": [
    "create_map()"
   ],
   "metadata": {
    "collapsed": false,
    "pycharm": {
     "name": "#%%\n",
     "is_executing": true
    }
   }
  },
  {
   "cell_type": "code",
   "execution_count": 4,
   "outputs": [],
   "source": [
    "def publications_per_year(disease):\n",
    "    # Define SPARQL endpoint\n",
    "    sparql = SPARQLWrapper(\"https://query.wikidata.org/sparql\")\n",
    "\n",
    "    # Define SPARQL query\n",
    "    query = f\"\"\"\n",
    "    PREFIX target: <http://www.wikidata.org/entity/{disease}>\n",
    "\n",
    "    # Inspired from LEGOLAS - http://abel.lis.illinois.edu/legolas/\n",
    "    # Shubhanshu Mishra, Vetle Torvik\n",
    "    select ?year (count(?work) as ?number_of_publications) where {{\n",
    "      {{\n",
    "        select (str(?year_) as ?year) (0 as ?pages) where {{\n",
    "          # default values = 0\n",
    "          ?year_item wdt:P31 wd:Q577 .\n",
    "          ?year_item wdt:P585 ?date .\n",
    "          bind(year(?date) as ?year_)\n",
    "          {{\n",
    "            select (min(?year_) as ?earliest_year) where {{\n",
    "              {{ ?work wdt:P921/wdt:P31*/wdt:P279* target: . }}\n",
    "              union {{ ?work wdt:P921/wdt:P361+ target: . }}\n",
    "              union {{ ?work wdt:P921/wdt:P1269+ target: . }}\n",
    "              ?work wdt:P577 ?publication_date .\n",
    "              bind(year(?publication_date) as ?year_)\n",
    "            }}\n",
    "          }}\n",
    "          bind(year(now()) as ?next_year)\n",
    "          filter (?year_ >= ?earliest_year && ?year_ <= ?next_year)\n",
    "        }}\n",
    "      }}\n",
    "      union {{\n",
    "        select ?work (min(?years) as ?year) where {{\n",
    "          {{ ?work wdt:P921/wdt:P31*/wdt:P279* target: . }}\n",
    "          union {{ ?work wdt:P921/wdt:P361+ target: . }}\n",
    "          union {{ ?work wdt:P921/wdt:P1269+ target: . }}\n",
    "          ?work wdt:P577 ?dates .\n",
    "          bind(str(year(?dates)) as ?years) .\n",
    "        }}\n",
    "        group by ?work\n",
    "      }}\n",
    "    }}\n",
    "    group by ?year\n",
    "    order by ?year\n",
    "    \"\"\"\n",
    "\n",
    "    # Set the query and format to JSON\n",
    "    sparql.setQuery(query)\n",
    "    sparql.setReturnFormat(JSON)\n",
    "\n",
    "    # Execute the query and convert the results to a Pandas DataFrame\n",
    "    results = sparql.query().convert()\n",
    "    df = pd.json_normalize(results[\"results\"][\"bindings\"])\n",
    "    df[\"year.value\"] = pd.to_numeric(df[\"year.value\"])\n",
    "    df[\"number_of_publications.value\"] = pd.to_numeric(df[\"number_of_publications.value\"])\n",
    "\n",
    "    # Create the bar chart using Plotly\n",
    "    fig = px.bar(df, x=\"year.value\", y=\"number_of_publications.value\").update_layout(\n",
    "    title='Publications per year',\n",
    "    yaxis=dict(title='Count'),\n",
    "    xaxis=dict(title='Year'))\n",
    "\n",
    "    return fig\n",
    "\n",
    "# publications_per_year('Q131755')"
   ],
   "metadata": {
    "collapsed": false,
    "pycharm": {
     "name": "#%%\n"
    }
   }
  },
  {
   "cell_type": "code",
   "execution_count": 5,
   "outputs": [
    {
     "name": "stderr",
     "output_type": "stream",
     "text": [
      "127.0.0.1 - - [06/Jun/2023 14:14:18] \"GET / HTTP/1.1\" 200 -\n",
      "127.0.0.1 - - [06/Jun/2023 14:14:18] \"GET /_dash-layout HTTP/1.1\" 200 -\n",
      "127.0.0.1 - - [06/Jun/2023 14:14:18] \"GET /_dash-dependencies HTTP/1.1\" 200 -\n",
      "127.0.0.1 - - [06/Jun/2023 14:14:18] \"GET /_favicon.ico?v=2.7.0 HTTP/1.1\" 200 -\n",
      "127.0.0.1 - - [06/Jun/2023 14:14:18] \"GET /_dash-component-suites/dash/dcc/async-graph.js HTTP/1.1\" 304 -\n",
      "127.0.0.1 - - [06/Jun/2023 14:14:18] \"GET /_dash-component-suites/dash/dcc/async-plotlyjs.js HTTP/1.1\" 304 -\n",
      "127.0.0.1 - - [06/Jun/2023 14:14:24] \"GET / HTTP/1.1\" 200 -\n",
      "127.0.0.1 - - [06/Jun/2023 14:14:24] \"GET /_dash-layout HTTP/1.1\" 200 -\n",
      "127.0.0.1 - - [06/Jun/2023 14:14:24] \"GET /_dash-dependencies HTTP/1.1\" 200 -\n",
      "127.0.0.1 - - [06/Jun/2023 14:14:24] \"GET /_favicon.ico?v=2.7.0 HTTP/1.1\" 200 -\n",
      "127.0.0.1 - - [06/Jun/2023 14:14:24] \"GET /_dash-component-suites/dash/dcc/async-graph.js HTTP/1.1\" 304 -\n",
      "127.0.0.1 - - [06/Jun/2023 14:14:24] \"GET /_dash-component-suites/dash/dcc/async-plotlyjs.js HTTP/1.1\" 304 -\n"
     ]
    },
    {
     "name": "stdout",
     "output_type": "stream",
     "text": [
      "Dash is running on http://127.0.0.1:8080/\n",
      "\n",
      "Dash is running on http://127.0.0.1:8080/\n",
      "\n",
      " * Serving Flask app '__main__'\n",
      " * Debug mode: off\n"
     ]
    },
    {
     "name": "stderr",
     "output_type": "stream",
     "text": [
      "WARNING: This is a development server. Do not use it in a production deployment. Use a production WSGI server instead.\n",
      " * Running on http://127.0.0.1:8080\n",
      "Press CTRL+C to quit\n"
     ]
    },
    {
     "name": "stdout",
     "output_type": "stream",
     "text": [
      "Dash is running on http://None:8050/\n",
      "\n",
      "Dash is running on http://None:8050/\n",
      "\n",
      " * Serving Flask app '__main__'\n",
      " * Debug mode: on\n"
     ]
    }
   ],
   "source": [
    "import dash\n",
    "from dash import dcc\n",
    "from dash import html\n",
    "from dash.dependencies import Input, Output\n",
    "\n",
    "# Create the Dash app\n",
    "app = dash.Dash(__name__)\n",
    "\n",
    "# Define the layout of the app\n",
    "app.layout = html.Div(\n",
    "    children=[\n",
    "        html.H1(\"Bipolar Disorder\"),\n",
    "        html.Div(\n",
    "            children=[\n",
    "                dcc.Graph(id=\"co-occurring-topics\"),\n",
    "                dcc.Graph(id=\"co-occurring-topics-map\"),\n",
    "                dcc.Graph(id=\"publications-per-year\"),\n",
    "            ],\n",
    "            style={\"display\": \"flex\", \"justify-content\": \"space-between\"},\n",
    "        ),\n",
    "    ]\n",
    ")\n",
    "\n",
    "# Callback to update the co-occurring topics graph on page load\n",
    "@app.callback(Output(\"co-occurring-topics\", \"figure\"), [])\n",
    "def update_co_occuring_topics():\n",
    "    # Your co-occurring topics code here\n",
    "    fig = co_occuring_topics()\n",
    "    return fig\n",
    "\n",
    "# Callback to update the co-occurring topics graph on page load\n",
    "@app.callback(Output(\"co-occurring-topics-map\", \"figure\"), [])\n",
    "def update_co_occuring_topics_map():\n",
    "    # Your co-occurring topics code here\n",
    "    fig = create_map()\n",
    "    return fig\n",
    "\n",
    "# Callback to update the publications per year graph on page load\n",
    "@app.callback(Output(\"publications-per-year\", \"figure\"), [])\n",
    "def update_publications_per_year():\n",
    "    fig = publications_per_year('Q131755')\n",
    "    return fig\n",
    "\n",
    "# Run the app\n",
    "if __name__ == \"__main__\":\n",
    "    app.run_server(app.run_server(port=8080), debug=True)"
   ],
   "metadata": {
    "collapsed": false,
    "pycharm": {
     "name": "#%%\n"
    }
   }
  },
  {
   "cell_type": "code",
   "execution_count": null,
   "outputs": [],
   "source": [],
   "metadata": {
    "collapsed": false,
    "pycharm": {
     "name": "#%%\n"
    }
   }
  }
 ],
 "metadata": {
  "kernelspec": {
   "name": "pycharm-21095a2b",
   "language": "python",
   "display_name": "PyCharm (scholia_visualization)"
  },
  "language_info": {
   "codemirror_mode": {
    "name": "ipython",
    "version": 2
   },
   "file_extension": ".py",
   "mimetype": "text/x-python",
   "name": "python",
   "nbconvert_exporter": "python",
   "pygments_lexer": "ipython2",
   "version": "2.7.6"
  }
 },
 "nbformat": 4,
 "nbformat_minor": 0
}