{
 "cells": [
  {
   "cell_type": "code",
   "execution_count": 1,
   "metadata": {
    "collapsed": true
   },
   "outputs": [
    {
     "name": "stdout",
     "output_type": "stream",
     "text": [
      "conjoined twins\n",
      "bubonic plague\n",
      "Zollinger–Ellison syndrome\n",
      "Cushing's syndrome\n",
      "lactose intolerance\n",
      "mesenteric ischemia\n",
      "epidemic pleurodynia\n",
      "precocious puberty\n",
      "dysarthria\n",
      "Zuckerschleim\n",
      "dermatitis\n",
      "Upper airway resistance syndrome\n",
      "chikungunya\n",
      "congenital cystic adenomatoid malformation\n",
      "cystitis\n",
      "bladder exstrophy\n",
      "Periampullary cancer\n",
      "acute coronary syndrome\n",
      "XYY syndrome\n",
      "mitral valve insufficiency\n",
      "stupor\n",
      "Accelerated phase chronic myelogenous leukemia\n",
      "foodborne illness\n",
      "kuru\n",
      "Ebstein anomaly\n",
      "uveitis\n",
      "urinary incontinence\n",
      "Purtscher's retinopathy\n",
      "AIDS phobia\n",
      "activated protein C resistance\n",
      "AAA disease\n",
      "abasia\n",
      "Schindler disease\n",
      "abducens nerve palsy\n",
      "nocturnal enuresis\n",
      "inferiority complex\n",
      "ablepharon\n",
      "procrastination\n",
      "Überköten\n",
      "survivor guilt\n",
      "aboulia\n",
      "carcinoid syndrome\n",
      "achlorhydria\n",
      "achylia\n",
      "adenocarcinoma\n",
      "adermatoglyphia\n",
      "aspergilloma\n",
      "Adipsia\n",
      "dhat syndrome\n",
      "organic brain syndrome\n",
      "XX male syndrome\n",
      "angiomatosis\n",
      "growth hormone deficiency\n",
      "selective mutism\n",
      "adult polyglucosan body disease\n",
      "African horse sickness\n",
      "poisoning by drugs\n",
      "sleepwalking\n",
      "Agalactia\n",
      "aganglionosis\n",
      "Lucey–Driscoll syndrome\n",
      "agrypnia excitata\n",
      "mercury poisoning\n",
      "acanthosis nigricans\n",
      "acroparesthesia\n",
      "hypervitaminosis\n",
      "acute midbrain syndrome\n",
      "acute abdomen\n",
      "Alström syndrome\n",
      "milk-alkali syndrome\n",
      "aluminosis\n",
      "alveolitis\n",
      "Edwards syndrome\n",
      "decompression sickness\n",
      "amentia\n",
      "health effects of tobacco\n",
      "pearly penile papules\n",
      "multiple myeloma\n",
      "amino acid transport disorder\n",
      "colour vision deficiency\n",
      "cretinism\n",
      "complete androgen insensitivity syndrome\n",
      "ring chromosome\n",
      "intestinal parasite infection\n",
      "gestosis\n",
      "kyphosis\n",
      "anasarka\n",
      "anastomotic leak\n",
      "paramyotonia congenita\n",
      "experimental autoimmune encephalomyelitis\n",
      "Todd's paresis\n",
      "sucrose intolerance\n",
      "hibernoma\n",
      "gigantism\n",
      "neurasthenia\n",
      "psoriatic arthritis\n",
      "tetany\n",
      "paraphasia\n",
      "Dactylitis\n",
      "hamartoma\n"
     ]
    }
   ],
   "source": [
    "from SPARQLWrapper import SPARQLWrapper, JSON\n",
    "\n",
    "sparql = SPARQLWrapper(\"https://query.wikidata.org/sparql\")\n",
    "\n",
    "query = \"\"\"\n",
    "SELECT ?item ?itemLabel\n",
    "WHERE\n",
    "{\n",
    "  ?item wdt:P31 wd:Q12136.\n",
    "  SERVICE wikibase:label { bd:serviceParam wikibase:language \"[AUTO_LANGUAGE],en\". }\n",
    "}\n",
    "LIMIT 100\n",
    "\"\"\"\n",
    "\n",
    "sparql.setQuery(query)\n",
    "sparql.setReturnFormat(JSON)\n",
    "results = sparql.query().convert()\n",
    "\n",
    "for result in results[\"results\"][\"bindings\"]:\n",
    "    print(result[\"itemLabel\"][\"value\"])"
   ]
  },
  {
   "cell_type": "code",
   "execution_count": 5,
   "outputs": [
    {
     "name": "stdout",
     "output_type": "stream",
     "text": [
      "Q83319:\n",
      "\thttp://www.wikidata.org/entity/Q2840 shares symptom http://www.wikidata.org/entity/Q86\n",
      "Q2840:\n",
      "\thttp://www.wikidata.org/entity/Q83319 shares symptom http://www.wikidata.org/entity/Q86\n",
      "\thttp://www.wikidata.org/entity/Q103177 shares symptom http://www.wikidata.org/entity/Q86\n",
      "\thttp://www.wikidata.org/entity/Q114085 shares symptom http://www.wikidata.org/entity/Q86\n",
      "\thttp://www.wikidata.org/entity/Q125367 shares symptom http://www.wikidata.org/entity/Q86\n",
      "\thttp://www.wikidata.org/entity/Q133780 shares symptom http://www.wikidata.org/entity/Q86\n",
      "\thttp://www.wikidata.org/entity/Q133823 shares symptom http://www.wikidata.org/entity/Q86\n",
      "\thttp://www.wikidata.org/entity/Q153861 shares symptom http://www.wikidata.org/entity/Q86\n",
      "\thttp://www.wikidata.org/entity/Q154874 shares symptom http://www.wikidata.org/entity/Q86\n",
      "\thttp://www.wikidata.org/entity/Q154882 shares symptom http://www.wikidata.org/entity/Q86\n",
      "\thttp://www.wikidata.org/entity/Q155098 shares symptom http://www.wikidata.org/entity/Q86\n",
      "Q103177:\n",
      "\thttp://www.wikidata.org/entity/Q2840 shares symptom http://www.wikidata.org/entity/Q86\n",
      "Q114085:\n",
      "\thttp://www.wikidata.org/entity/Q2840 shares symptom http://www.wikidata.org/entity/Q86\n",
      "Q125367:\n",
      "\thttp://www.wikidata.org/entity/Q2840 shares symptom http://www.wikidata.org/entity/Q86\n",
      "Q133780:\n",
      "\thttp://www.wikidata.org/entity/Q2840 shares symptom http://www.wikidata.org/entity/Q86\n",
      "Q133823:\n",
      "\thttp://www.wikidata.org/entity/Q2840 shares symptom http://www.wikidata.org/entity/Q86\n",
      "Q153861:\n",
      "\thttp://www.wikidata.org/entity/Q2840 shares symptom http://www.wikidata.org/entity/Q86\n",
      "Q154874:\n",
      "\thttp://www.wikidata.org/entity/Q2840 shares symptom http://www.wikidata.org/entity/Q86\n",
      "Q154882:\n",
      "\thttp://www.wikidata.org/entity/Q2840 shares symptom http://www.wikidata.org/entity/Q86\n",
      "Q155098:\n",
      "\thttp://www.wikidata.org/entity/Q2840 shares symptom http://www.wikidata.org/entity/Q86\n"
     ]
    }
   ],
   "source": [
    "from SPARQLWrapper import SPARQLWrapper, JSON\n",
    "\n",
    "sparql = SPARQLWrapper(\"https://query.wikidata.org/sparql\")\n",
    "\n",
    "query = \"\"\"\n",
    "SELECT DISTINCT ?disease1 ?disease2 ?symptom\n",
    "WHERE {\n",
    "  ?disease1 wdt:P780 ?symptom .\n",
    "  ?disease2 wdt:P780 ?symptom .\n",
    "  FILTER (?disease1 != ?disease2)\n",
    "  SERVICE wikibase:label { bd:serviceParam wikibase:language \"[AUTO_LANGUAGE],en\". }\n",
    "}\n",
    "LIMIT 10\n",
    "\"\"\"\n",
    "\n",
    "sparql.setQuery(query)\n",
    "sparql.setReturnFormat(JSON)\n",
    "results = sparql.query().convert()\n",
    "\n",
    "disease_symptom_dict = {}\n",
    "\n",
    "for result in results[\"results\"][\"bindings\"]:\n",
    "    disease1 = result[\"disease1\"][\"value\"]\n",
    "    disease2 = result[\"disease2\"][\"value\"]\n",
    "    symptom = result[\"symptom\"][\"value\"]\n",
    "    if disease1 not in disease_symptom_dict:\n",
    "        disease_symptom_dict[disease1] = []\n",
    "    if disease2 not in disease_symptom_dict:\n",
    "        disease_symptom_dict[disease2] = []\n",
    "    disease_symptom_dict[disease1].append((disease2, symptom))\n",
    "    disease_symptom_dict[disease2].append((disease1, symptom))\n",
    "\n",
    "for disease in disease_symptom_dict:\n",
    "    disease_lst = disease.split('/')\n",
    "    for d in disease_lst:\n",
    "        if d.startswith('Q'):\n",
    "            entity = d\n",
    "    print(f\"{entity}:\")\n",
    "    for rel in disease_symptom_dict[disease]:\n",
    "        print(f\"\\t{rel[0]} shares symptom {rel[1]}\")\n"
   ],
   "metadata": {
    "collapsed": false,
    "pycharm": {
     "name": "#%%\n"
    }
   }
  },
  {
   "cell_type": "code",
   "execution_count": 6,
   "outputs": [
    {
     "data": {
      "text/plain": "<Figure size 640x480 with 1 Axes>",
      "image/png": "[encoded data removed]"
     },
     "metadata": {},
     "output_type": "display_data"
    }
   ],
   "source": [
    "import networkx as nx\n",
    "import matplotlib.pyplot as plt\n",
    "\n",
    "# Führen Sie die SPARQL-Abfrage aus, um die Beziehungen zwischen den Krankheiten zu erhalten\n",
    "\n",
    "# Erstellen Sie ein leeres gerichtetes Graph-Objekt\n",
    "G = nx.DiGraph()\n",
    "\n",
    "# Fügen Sie jeden Knoten (Krankheit) zum Graphen hinzu\n",
    "for disease in disease_symptom_dict:\n",
    "    G.add_node(disease)\n",
    "\n",
    "# Fügen Sie jede Kante (Beziehung zwischen Krankheiten) zum Graphen hinzu\n",
    "for disease1 in disease_symptom_dict:\n",
    "    for disease2, symptom in disease_symptom_dict[disease1]:\n",
    "        G.add_edge(disease1, disease2, symptom=symptom)\n",
    "\n",
    "# Zeichnen Sie den Graphen\n",
    "pos = nx.spring_layout(G, k=0.5, iterations=50)\n",
    "nx.draw_networkx_nodes(G, pos, node_color='lightblue', node_size=500)\n",
    "nx.draw_networkx_edges(G, pos, edge_color='gray', width=1, alpha=0.5)\n",
    "nx.draw_networkx_edge_labels(G, pos, edge_labels=nx.get_edge_attributes(G, 'symptom'), font_size=8, alpha=0.8)\n",
    "nx.draw_networkx_labels(G, pos, font_size=10, font_family='sans-serif', font_weight='bold')\n",
    "plt.axis('off')\n",
    "plt.show()"
   ],
   "metadata": {
    "collapsed": false,
    "pycharm": {
     "name": "#%%\n"
    }
   }
  },
  {
   "cell_type": "code",
   "execution_count": 19,
   "outputs": [
    {
     "data": {
      "text/plain": "<Figure size 1200x800 with 1 Axes>",
      "image/png": "[encoded data removed]"
     },
     "metadata": {},
     "output_type": "display_data"
    }
   ],
   "source": [
    "from SPARQLWrapper import SPARQLWrapper, JSON\n",
    "import networkx as nx\n",
    "import matplotlib.pyplot as plt\n",
    "\n",
    "# SPARQL-Abfrage, um die Beziehungen zwischen den Krankheiten zu erhalten\n",
    "sparql = SPARQLWrapper(\"https://query.wikidata.org/sparql\")\n",
    "query = \"\"\"\n",
    "SELECT DISTINCT ?disease1 ?disease2 ?symptom\n",
    "WHERE {\n",
    "  ?disease1 wdt:P780 ?symptom .\n",
    "  ?disease2 wdt:P780 ?symptom .\n",
    "  FILTER (?disease1 != ?disease2)\n",
    "  SERVICE wikibase:label { bd:serviceParam wikibase:language \"[AUTO_LANGUAGE],en\". }\n",
    "}\n",
    "LIMIT 100\n",
    "\"\"\"\n",
    "sparql.setQuery(query)\n",
    "sparql.setReturnFormat(JSON)\n",
    "results = sparql.query().convert()\n",
    "\n",
    "disease_symptom_dict = {}\n",
    "\n",
    "# Speichern Sie die Ergebnisse der SPARQL-Abfrage in einem Dictionary\n",
    "for result in results[\"results\"][\"bindings\"]:\n",
    "    disease1 = result[\"disease1\"][\"value\"].split(\"/\")[-1]\n",
    "    disease2 = result[\"disease2\"][\"value\"].split(\"/\")[-1]\n",
    "    symptom = result[\"symptom\"][\"value\"].split(\"/\")[-1]\n",
    "    if disease1 not in disease_symptom_dict:\n",
    "        disease_symptom_dict[disease1] = []\n",
    "    if disease2 not in disease_symptom_dict:\n",
    "        disease_symptom_dict[disease2] = []\n",
    "    disease_symptom_dict[disease1].append((disease2, symptom))\n",
    "    disease_symptom_dict[disease2].append((disease1, symptom))\n",
    "\n",
    "# Erstellen Sie ein leeres gerichtetes Graph-Objekt\n",
    "G = nx.DiGraph()\n",
    "\n",
    "# Fügen Sie jeden Knoten (Krankheit) zum Graphen hinzu\n",
    "for disease in disease_symptom_dict:\n",
    "    G.add_node(disease)\n",
    "\n",
    "# Fügen Sie jede Kante (Beziehung zwischen Krankheiten) zum Graphen hinzu\n",
    "for disease1 in disease_symptom_dict:\n",
    "    for disease2, symptom in disease_symptom_dict[disease1]:\n",
    "        G.add_edge(disease1, disease2, symptom=symptom)\n",
    "\n",
    "# Zeichnen Sie den Graphen\n",
    "pos = nx.spring_layout(G, k=0.5, iterations=50)\n",
    "fig, ax = plt.subplots(figsize=(12, 8))\n",
    "nx.draw_networkx_nodes(G, pos, node_color='lightblue', node_size=500)\n",
    "nx.draw_networkx_edges(G, pos, edge_color='gray', width=1, alpha=0.5)\n",
    "edge_labels = {(u, v): d[\"symptom\"] for u, v, d in G.edges(data=True)}\n",
    "nx.draw_networkx_edge_labels(G, pos, edge_labels=edge_labels, font_size=8, alpha=0.8)\n",
    "labels = {n: n.split(\":\")[-1] for n in G.nodes()}\n",
    "nx.draw_networkx_labels(G, pos, labels=labels, font_size=10, font_family='sans-serif', font_weight='bold')\n",
    "plt.axis('off')\n",
    "plt.show()\n"
   ],
   "metadata": {
    "collapsed": false,
    "pycharm": {
     "name": "#%%\n"
    }
   }
  },
  {
   "cell_type": "code",
   "execution_count": 12,
   "outputs": [
    {
     "data": {
      "application/vnd.plotly.v1+json": {
       "data": [
        {
         "hovertemplate": "<b>%{text}</b><extra></extra>",
         "marker": {
          "color": "lightblue",
          "size": 30
         },
         "mode": "markers+text",
         "text": [
          "http://www.wikidata.org/entity/Q2076329"
         ],
         "textposition": "middle center",
         "x": [
          0
         ],
         "y": [
          0
         ],
         "type": "scatter"
        },
        {
         "hovertemplate": "<b>%{text}</b><extra></extra>",
         "marker": {
          "color": "lightblue",
          "size": 30
         },
         "mode": "markers+text",
         "text": [
          "http://www.wikidata.org/entity/Q48143"
         ],
         "textposition": "middle center",
         "x": [
          0
         ],
         "y": [
          0
         ],
         "type": "scatter"
        },
        {
         "hovertemplate": "<b>%{text}</b><extra></extra>",
         "marker": {
          "color": "lightblue",
          "size": 30
         },
         "mode": "markers+text",
         "text": [
          "http://www.wikidata.org/entity/Q152234"
         ],
         "textposition": "middle center",
         "x": [
          0
         ],
         "y": [
          0
         ],
         "type": "scatter"
        },
        {
         "hovertemplate": "<b>%{text}</b><extra></extra>",
         "marker": {
          "color": "lightblue",
          "size": 30
         },
         "mode": "markers+text",
         "text": [
          "http://www.wikidata.org/entity/Q1128283"
         ],
         "textposition": "middle center",
         "x": [
          0
         ],
         "y": [
          0
         ],
         "type": "scatter"
        },
        {
         "hovertemplate": "<b>%{text}</b><extra></extra>",
         "marker": {
          "color": "lightblue",
          "size": 30
         },
         "mode": "markers+text",
         "text": [
          "http://www.wikidata.org/entity/Q2074059"
         ],
         "textposition": "middle center",
         "x": [
          0
         ],
         "y": [
          0
         ],
         "type": "scatter"
        },
        {
         "hovertemplate": "<b>%{text}</b><extra></extra>",
         "marker": {
          "color": "lightblue",
          "size": 30
         },
         "mode": "markers+text",
         "text": [
          "http://www.wikidata.org/entity/Q693058"
         ],
         "textposition": "middle center",
         "x": [
          0
         ],
         "y": [
          0
         ],
         "type": "scatter"
        },
        {
         "hovertemplate": "<b>%{text}</b><extra></extra>",
         "marker": {
          "color": "lightblue",
          "size": 30
         },
         "mode": "markers+text",
         "text": [
          "http://www.wikidata.org/entity/Q186235"
         ],
         "textposition": "middle center",
         "x": [
          0
         ],
         "y": [
          0
         ],
         "type": "scatter"
        },
        {
         "hovertemplate": "<b>%{text}</b><extra></extra>",
         "marker": {
          "color": "lightblue",
          "size": 30
         },
         "mode": "markers+text",
         "text": [
          "http://www.wikidata.org/entity/Q2260058"
         ],
         "textposition": "middle center",
         "x": [
          0
         ],
         "y": [
          0
         ],
         "type": "scatter"
        },
        {
         "hovertemplate": "<b>%{text}</b><extra></extra>",
         "marker": {
          "color": "lightblue",
          "size": 30
         },
         "mode": "markers+text",
         "text": [
          "http://www.wikidata.org/entity/Q114953"
         ],
         "textposition": "middle center",
         "x": [
          0
         ],
         "y": [
          0
         ],
         "type": "scatter"
        },
        {
         "hovertemplate": "<b>%{text}</b><extra></extra>",
         "marker": {
          "color": "lightblue",
          "size": 30
         },
         "mode": "markers+text",
         "text": [
          "Q190805"
         ],
         "textposition": "middle center",
         "x": [
          0
         ],
         "y": [
          0
         ],
         "type": "scatter"
        },
        {
         "hovertemplate": "<b>%{text}</b><extra></extra>",
         "marker": {
          "color": "lightblue",
          "size": 30
         },
         "mode": "markers+text",
         "text": [
          "http://www.wikidata.org/entity/Q1282114"
         ],
         "textposition": "middle center",
         "x": [
          0
         ],
         "y": [
          0
         ],
         "type": "scatter"
        },
        {
         "hovertemplate": "<b>%{text}</b><extra></extra>",
         "marker": {
          "color": "lightblue",
          "size": 30
         },
         "mode": "markers+text",
         "text": [
          "Q199804"
         ],
         "textposition": "middle center",
         "x": [
          0
         ],
         "y": [
          0
         ],
         "type": "scatter"
        },
        {
         "hovertemplate": "<b>%{text}</b><extra></extra>",
         "marker": {
          "color": "lightblue",
          "size": 30
         },
         "mode": "markers+text",
         "text": [
          "http://www.wikidata.org/entity/Q183425"
         ],
         "textposition": "middle center",
         "x": [
          0
         ],
         "y": [
          0
         ],
         "type": "scatter"
        },
        {
         "hovertemplate": "<b>%{text}</b><extra></extra>",
         "marker": {
          "color": "lightblue",
          "size": 30
         },
         "mode": "markers+text",
         "text": [
          "http://www.wikidata.org/entity/Q9690"
         ],
         "textposition": "middle center",
         "x": [
          0
         ],
         "y": [
          0
         ],
         "type": "scatter"
        },
        {
         "hovertemplate": "<b>%{text}</b><extra></extra>",
         "marker": {
          "color": "lightblue",
          "size": 30
         },
         "mode": "markers+text",
         "text": [
          "http://www.wikidata.org/entity/Q180762"
         ],
         "textposition": "middle center",
         "x": [
          0
         ],
         "y": [
          0
         ],
         "type": "scatter"
        },
        {
         "hovertemplate": "<b>%{text}</b><extra></extra>",
         "marker": {
          "color": "lightblue",
          "size": 30
         },
         "mode": "markers+text",
         "text": [
          "http://www.wikidata.org/entity/Q2434711"
         ],
         "textposition": "middle center",
         "x": [
          0
         ],
         "y": [
          0
         ],
         "type": "scatter"
        },
        {
         "hovertemplate": "<b>%{text}</b><extra></extra>",
         "marker": {
          "color": "lightblue",
          "size": 30
         },
         "mode": "markers+text",
         "text": [
          "http://www.wikidata.org/entity/Q769220"
         ],
         "textposition": "middle center",
         "x": [
          0
         ],
         "y": [
          0
         ],
         "type": "scatter"
        },
        {
         "hovertemplate": "<b>%{text}</b><extra></extra>",
         "marker": {
          "color": "lightblue",
          "size": 30
         },
         "mode": "markers+text",
         "text": [
          "http://www.wikidata.org/entity/Q202837"
         ],
         "textposition": "middle center",
         "x": [
          0
         ],
         "y": [
          0
         ],
         "type": "scatter"
        },
        {
         "hovertemplate": "<b>%{text}</b><extra></extra>",
         "marker": {
          "color": "lightblue",
          "size": 30
         },
         "mode": "markers+text",
         "text": [
          "http://www.wikidata.org/entity/Q41861"
         ],
         "textposition": "middle center",
         "x": [
          0
         ],
         "y": [
          0
         ],
         "type": "scatter"
        },
        {
         "hovertemplate": "<b>%{text}</b><extra></extra>",
         "marker": {
          "color": "lightblue",
          "size": 30
         },
         "mode": "markers+text",
         "text": [
          "http://www.wikidata.org/entity/Q29299"
         ],
         "textposition": "middle center",
         "x": [
          0
         ],
         "y": [
          0
         ],
         "type": "scatter"
        },
        {
         "hovertemplate": "<b>%{text}</b><extra></extra>",
         "marker": {
          "color": "lightblue",
          "size": 30
         },
         "mode": "markers+text",
         "text": [
          "http://www.wikidata.org/entity/Q9073584"
         ],
         "textposition": "middle center",
         "x": [
          0
         ],
         "y": [
          0
         ],
         "type": "scatter"
        },
        {
         "hovertemplate": "<b>%{text}</b><extra></extra>",
         "marker": {
          "color": "lightblue",
          "size": 30
         },
         "mode": "markers+text",
         "text": [
          "http://www.wikidata.org/entity/Q28868265"
         ],
         "textposition": "middle center",
         "x": [
          0
         ],
         "y": [
          0
         ],
         "type": "scatter"
        },
        {
         "hovertemplate": "<b>%{text}</b><extra></extra>",
         "marker": {
          "color": "lightblue",
          "size": 30
         },
         "mode": "markers+text",
         "text": [
          "http://www.wikidata.org/entity/Q2306782"
         ],
         "textposition": "middle center",
         "x": [
          0
         ],
         "y": [
          0
         ],
         "type": "scatter"
        },
        {
         "hovertemplate": "<b>%{text}</b><extra></extra>",
         "marker": {
          "color": "lightblue",
          "size": 30
         },
         "mode": "markers+text",
         "text": [
          "http://www.wikidata.org/entity/Q193889"
         ],
         "textposition": "middle center",
         "x": [
          0
         ],
         "y": [
          0
         ],
         "type": "scatter"
        },
        {
         "hovertemplate": "<b>%{text}</b><extra></extra>",
         "marker": {
          "color": "lightblue",
          "size": 30
         },
         "mode": "markers+text",
         "text": [
          "http://www.wikidata.org/entity/Q188008"
         ],
         "textposition": "middle center",
         "x": [
          0
         ],
         "y": [
          0
         ],
         "type": "scatter"
        },
        {
         "hovertemplate": "<b>%{text}</b><extra></extra>",
         "marker": {
          "color": "lightblue",
          "size": 30
         },
         "mode": "markers+text",
         "text": [
          "http://www.wikidata.org/entity/Q56635009"
         ],
         "textposition": "middle center",
         "x": [
          0
         ],
         "y": [
          0
         ],
         "type": "scatter"
        },
        {
         "hovertemplate": "<b>%{text}</b><extra></extra>",
         "marker": {
          "color": "lightblue",
          "size": 30
         },
         "mode": "markers+text",
         "text": [
          "http://www.wikidata.org/entity/Q107231"
         ],
         "textposition": "middle center",
         "x": [
          0
         ],
         "y": [
          0
         ],
         "type": "scatter"
        },
        {
         "hovertemplate": "<b>%{text}</b><extra></extra>",
         "marker": {
          "color": "lightblue",
          "size": 30
         },
         "mode": "markers+text",
         "text": [
          "http://www.wikidata.org/entity/Q81938"
         ],
         "textposition": "middle center",
         "x": [
          0
         ],
         "y": [
          0
         ],
         "type": "scatter"
        },
        {
         "hovertemplate": "<b>%{text}</b><extra></extra>",
         "marker": {
          "color": "lightblue",
          "size": 30
         },
         "mode": "markers+text",
         "text": [
          "http://www.wikidata.org/entity/Q38933"
         ],
         "textposition": "middle center",
         "x": [
          0
         ],
         "y": [
          0
         ],
         "type": "scatter"
        },
        {
         "hovertemplate": "<b>%{text}</b><extra></extra>",
         "marker": {
          "color": "lightblue",
          "size": 30
         },
         "mode": "markers+text",
         "text": [
          "http://www.wikidata.org/entity/Q761862"
         ],
         "textposition": "middle center",
         "x": [
          0
         ],
         "y": [
          0
         ],
         "type": "scatter"
        },
        {
         "hovertemplate": "<b>%{text}</b><extra></extra>",
         "marker": {
          "color": "lightblue",
          "size": 30
         },
         "mode": "markers+text",
         "text": [
          "http://www.wikidata.org/entity/Q209789"
         ],
         "textposition": "middle center",
         "x": [
          0
         ],
         "y": [
          0
         ],
         "type": "scatter"
        },
        {
         "hovertemplate": "<b>%{text}</b><extra></extra>",
         "marker": {
          "color": "lightblue",
          "size": 30
         },
         "mode": "markers+text",
         "text": [
          "Q201989"
         ],
         "textposition": "middle center",
         "x": [
          0
         ],
         "y": [
          0
         ],
         "type": "scatter"
        },
        {
         "hovertemplate": "<b>%{text}</b><extra></extra>",
         "marker": {
          "color": "lightblue",
          "size": 30
         },
         "mode": "markers+text",
         "text": [
          "http://www.wikidata.org/entity/Q3073147"
         ],
         "textposition": "middle center",
         "x": [
          0
         ],
         "y": [
          0
         ],
         "type": "scatter"
        },
        {
         "hovertemplate": "<b>%{text}</b><extra></extra>",
         "marker": {
          "color": "lightblue",
          "size": 30
         },
         "mode": "markers+text",
         "text": [
          "http://www.wikidata.org/entity/Q180007"
         ],
         "textposition": "middle center",
         "x": [
          0
         ],
         "y": [
          0
         ],
         "type": "scatter"
        },
        {
         "hovertemplate": "<b>%{text}</b><extra></extra>",
         "marker": {
          "color": "lightblue",
          "size": 30
         },
         "mode": "markers+text",
         "text": [
          "http://www.wikidata.org/entity/Q177190"
         ],
         "textposition": "middle center",
         "x": [
          0
         ],
         "y": [
          0
         ],
         "type": "scatter"
        },
        {
         "hovertemplate": "<b>%{text}</b><extra></extra>",
         "marker": {
          "color": "lightblue",
          "size": 30
         },
         "mode": "markers+text",
         "text": [
          "http://www.wikidata.org/entity/Q622427"
         ],
         "textposition": "middle center",
         "x": [
          0
         ],
         "y": [
          0
         ],
         "type": "scatter"
        },
        {
         "hovertemplate": "<b>%{text}</b><extra></extra>",
         "marker": {
          "color": "lightblue",
          "size": 30
         },
         "mode": "markers+text",
         "text": [
          "http://www.wikidata.org/entity/Q127076"
         ],
         "textposition": "middle center",
         "x": [
          0
         ],
         "y": [
          0
         ],
         "type": "scatter"
        },
        {
         "hovertemplate": "<b>%{text}</b><extra></extra>",
         "marker": {
          "color": "lightblue",
          "size": 30
         },
         "mode": "markers+text",
         "text": [
          "Q155098"
         ],
         "textposition": "middle center",
         "x": [
          0
         ],
         "y": [
          0
         ],
         "type": "scatter"
        },
        {
         "hovertemplate": "<b>%{text}</b><extra></extra>",
         "marker": {
          "color": "lightblue",
          "size": 30
         },
         "mode": "markers+text",
         "text": [
          "Q39222"
         ],
         "textposition": "middle center",
         "x": [
          0
         ],
         "y": [
          0
         ],
         "type": "scatter"
        },
        {
         "hovertemplate": "<b>%{text}</b><extra></extra>",
         "marker": {
          "color": "lightblue",
          "size": 30
         },
         "mode": "markers+text",
         "text": [
          "Q133823"
         ],
         "textposition": "middle center",
         "x": [
          0
         ],
         "y": [
          0
         ],
         "type": "scatter"
        },
        {
         "hovertemplate": "<b>%{text}</b><extra></extra>",
         "marker": {
          "color": "lightblue",
          "size": 30
         },
         "mode": "markers+text",
         "text": [
          "http://www.wikidata.org/entity/Q2046811"
         ],
         "textposition": "middle center",
         "x": [
          0
         ],
         "y": [
          0
         ],
         "type": "scatter"
        },
        {
         "hovertemplate": "<b>%{text}</b><extra></extra>",
         "marker": {
          "color": "lightblue",
          "size": 30
         },
         "mode": "markers+text",
         "text": [
          "http://www.wikidata.org/entity/Q170082"
         ],
         "textposition": "middle center",
         "x": [
          0
         ],
         "y": [
          0
         ],
         "type": "scatter"
        },
        {
         "hovertemplate": "<b>%{text}</b><extra></extra>",
         "marker": {
          "color": "lightblue",
          "size": 30
         },
         "mode": "markers+text",
         "text": [
          "http://www.wikidata.org/entity/Q24869904"
         ],
         "textposition": "middle center",
         "x": [
          0
         ],
         "y": [
          0
         ],
         "type": "scatter"
        },
        {
         "hovertemplate": "<b>%{text}</b><extra></extra>",
         "marker": {
          "color": "lightblue",
          "size": 30
         },
         "mode": "markers+text",
         "text": [
          "http://www.wikidata.org/entity/Q1166142"
         ],
         "textposition": "middle center",
         "x": [
          0
         ],
         "y": [
          0
         ],
         "type": "scatter"
        },
        {
         "hovertemplate": "<b>%{text}</b><extra></extra>",
         "marker": {
          "color": "lightblue",
          "size": 30
         },
         "mode": "markers+text",
         "text": [
          "http://www.wikidata.org/entity/Q3072083"
         ],
         "textposition": "middle center",
         "x": [
          0
         ],
         "y": [
          0
         ],
         "type": "scatter"
        },
        {
         "hovertemplate": "<b>%{text}</b><extra></extra>",
         "marker": {
          "color": "lightblue",
          "size": 30
         },
         "mode": "markers+text",
         "text": [
          "http://www.wikidata.org/entity/Q189331"
         ],
         "textposition": "middle center",
         "x": [
          0
         ],
         "y": [
          0
         ],
         "type": "scatter"
        },
        {
         "hovertemplate": "<b>%{text}</b><extra></extra>",
         "marker": {
          "color": "lightblue",
          "size": 30
         },
         "mode": "markers+text",
         "text": [
          "http://www.wikidata.org/entity/Q17077617"
         ],
         "textposition": "middle center",
         "x": [
          0
         ],
         "y": [
          0
         ],
         "type": "scatter"
        },
        {
         "hovertemplate": "<b>%{text}</b><extra></extra>",
         "marker": {
          "color": "lightblue",
          "size": 30
         },
         "mode": "markers+text",
         "text": [
          "http://www.wikidata.org/entity/Q474959"
         ],
         "textposition": "middle center",
         "x": [
          0
         ],
         "y": [
          0
         ],
         "type": "scatter"
        },
        {
         "hovertemplate": "<b>%{text}</b><extra></extra>",
         "marker": {
          "color": "lightblue",
          "size": 30
         },
         "mode": "markers+text",
         "text": [
          "http://www.wikidata.org/entity/Q1115038"
         ],
         "textposition": "middle center",
         "x": [
          0
         ],
         "y": [
          0
         ],
         "type": "scatter"
        },
        {
         "hovertemplate": "<b>%{text}</b><extra></extra>",
         "marker": {
          "color": "lightblue",
          "size": 30
         },
         "mode": "markers+text",
         "text": [
          "http://www.wikidata.org/entity/Q12153824"
         ],
         "textposition": "middle center",
         "x": [
          0
         ],
         "y": [
          0
         ],
         "type": "scatter"
        },
        {
         "hovertemplate": "<b>%{text}</b><extra></extra>",
         "marker": {
          "color": "lightblue",
          "size": 30
         },
         "mode": "markers+text",
         "text": [
          "http://www.wikidata.org/entity/Q186889"
         ],
         "textposition": "middle center",
         "x": [
          0
         ],
         "y": [
          0
         ],
         "type": "scatter"
        },
        {
         "hovertemplate": "<b>%{text}</b><extra></extra>",
         "marker": {
          "color": "lightblue",
          "size": 30
         },
         "mode": "markers+text",
         "text": [
          "http://www.wikidata.org/entity/Q3245488"
         ],
         "textposition": "middle center",
         "x": [
          0
         ],
         "y": [
          0
         ],
         "type": "scatter"
        },
        {
         "hovertemplate": "<b>%{text}</b><extra></extra>",
         "marker": {
          "color": "lightblue",
          "size": 30
         },
         "mode": "markers+text",
         "text": [
          "http://www.wikidata.org/entity/Q517104"
         ],
         "textposition": "middle center",
         "x": [
          0
         ],
         "y": [
          0
         ],
         "type": "scatter"
        },
        {
         "hovertemplate": "<b>%{text}</b><extra></extra>",
         "marker": {
          "color": "lightblue",
          "size": 30
         },
         "mode": "markers+text",
         "text": [
          "http://www.wikidata.org/entity/Q209583"
         ],
         "textposition": "middle center",
         "x": [
          0
         ],
         "y": [
          0
         ],
         "type": "scatter"
        },
        {
         "hovertemplate": "<b>%{text}</b><extra></extra>",
         "marker": {
          "color": "lightblue",
          "size": 30
         },
         "mode": "markers+text",
         "text": [
          "Q194101"
         ],
         "textposition": "middle center",
         "x": [
          0
         ],
         "y": [
          0
         ],
         "type": "scatter"
        },
        {
         "hovertemplate": "<b>%{text}</b><extra></extra>",
         "marker": {
          "color": "lightblue",
          "size": 30
         },
         "mode": "markers+text",
         "text": [
          "Q160796"
         ],
         "textposition": "middle center",
         "x": [
          0
         ],
         "y": [
          0
         ],
         "type": "scatter"
        },
        {
         "hovertemplate": "<b>%{text}</b><extra></extra>",
         "marker": {
          "color": "lightblue",
          "size": 30
         },
         "mode": "markers+text",
         "text": [
          "http://www.wikidata.org/entity/Q476921"
         ],
         "textposition": "middle center",
         "x": [
          0
         ],
         "y": [
          0
         ],
         "type": "scatter"
        },
        {
         "hovertemplate": "<b>%{text}</b><extra></extra>",
         "marker": {
          "color": "lightblue",
          "size": 30
         },
         "mode": "markers+text",
         "text": [
          "http://www.wikidata.org/entity/Q35805"
         ],
         "textposition": "middle center",
         "x": [
          0
         ],
         "y": [
          0
         ],
         "type": "scatter"
        },
        {
         "hovertemplate": "<b>%{text}</b><extra></extra>",
         "marker": {
          "color": "lightblue",
          "size": 30
         },
         "mode": "markers+text",
         "text": [
          "http://www.wikidata.org/entity/Q7502090"
         ],
         "textposition": "middle center",
         "x": [
          0
         ],
         "y": [
          0
         ],
         "type": "scatter"
        },
        {
         "hovertemplate": "<b>%{text}</b><extra></extra>",
         "marker": {
          "color": "lightblue",
          "size": 30
         },
         "mode": "markers+text",
         "text": [
          "Q133087"
         ],
         "textposition": "middle center",
         "x": [
          0
         ],
         "y": [
          0
         ],
         "type": "scatter"
        },
        {
         "hovertemplate": "<b>%{text}</b><extra></extra>",
         "marker": {
          "color": "lightblue",
          "size": 30
         },
         "mode": "markers+text",
         "text": [
          "http://www.wikidata.org/entity/Q1869874"
         ],
         "textposition": "middle center",
         "x": [
          0
         ],
         "y": [
          0
         ],
         "type": "scatter"
        },
        {
         "hovertemplate": "<b>%{text}</b><extra></extra>",
         "marker": {
          "color": "lightblue",
          "size": 30
         },
         "mode": "markers+text",
         "text": [
          "Q137597"
         ],
         "textposition": "middle center",
         "x": [
          0
         ],
         "y": [
          0
         ],
         "type": "scatter"
        },
        {
         "hovertemplate": "<b>%{text}</b><extra></extra>",
         "marker": {
          "color": "lightblue",
          "size": 30
         },
         "mode": "markers+text",
         "text": [
          "Q132971"
         ],
         "textposition": "middle center",
         "x": [
          0
         ],
         "y": [
          0
         ],
         "type": "scatter"
        },
        {
         "hovertemplate": "<b>%{text}</b><extra></extra>",
         "marker": {
          "color": "lightblue",
          "size": 30
         },
         "mode": "markers+text",
         "text": [
          "http://www.wikidata.org/entity/Q130741"
         ],
         "textposition": "middle center",
         "x": [
          0
         ],
         "y": [
          0
         ],
         "type": "scatter"
        },
        {
         "hovertemplate": "<b>%{text}</b><extra></extra>",
         "marker": {
          "color": "lightblue",
          "size": 30
         },
         "mode": "markers+text",
         "text": [
          "http://www.wikidata.org/entity/Q1188698"
         ],
         "textposition": "middle center",
         "x": [
          0
         ],
         "y": [
          0
         ],
         "type": "scatter"
        },
        {
         "hovertemplate": "<b>%{text}</b><extra></extra>",
         "marker": {
          "color": "lightblue",
          "size": 30
         },
         "mode": "markers+text",
         "text": [
          "Q48143"
         ],
         "textposition": "middle center",
         "x": [
          0
         ],
         "y": [
          0
         ],
         "type": "scatter"
        },
        {
         "hovertemplate": "<b>%{text}</b><extra></extra>",
         "marker": {
          "color": "lightblue",
          "size": 30
         },
         "mode": "markers+text",
         "text": [
          "http://www.wikidata.org/entity/Q44619"
         ],
         "textposition": "middle center",
         "x": [
          0
         ],
         "y": [
          0
         ],
         "type": "scatter"
        },
        {
         "hovertemplate": "<b>%{text}</b><extra></extra>",
         "marker": {
          "color": "lightblue",
          "size": 30
         },
         "mode": "markers+text",
         "text": [
          "Q174651"
         ],
         "textposition": "middle center",
         "x": [
          0
         ],
         "y": [
          0
         ],
         "type": "scatter"
        },
        {
         "hovertemplate": "<b>%{text}</b><extra></extra>",
         "marker": {
          "color": "lightblue",
          "size": 30
         },
         "mode": "markers+text",
         "text": [
          "http://www.wikidata.org/entity/Q3774744"
         ],
         "textposition": "middle center",
         "x": [
          0
         ],
         "y": [
          0
         ],
         "type": "scatter"
        },
        {
         "hovertemplate": "<b>%{text}</b><extra></extra>",
         "marker": {
          "color": "lightblue",
          "size": 30
         },
         "mode": "markers+text",
         "text": [
          "http://www.wikidata.org/entity/Q653197"
         ],
         "textposition": "middle center",
         "x": [
          0
         ],
         "y": [
          0
         ],
         "type": "scatter"
        },
        {
         "hovertemplate": "<b>%{text}</b><extra></extra>",
         "marker": {
          "color": "lightblue",
          "size": 30
         },
         "mode": "markers+text",
         "text": [
          "http://www.wikidata.org/entity/Q823027"
         ],
         "textposition": "middle center",
         "x": [
          0
         ],
         "y": [
          0
         ],
         "type": "scatter"
        },
        {
         "hovertemplate": "<b>%{text}</b><extra></extra>",
         "marker": {
          "color": "lightblue",
          "size": 30
         },
         "mode": "markers+text",
         "text": [
          "Q166907"
         ],
         "textposition": "middle center",
         "x": [
          0
         ],
         "y": [
          0
         ],
         "type": "scatter"
        },
        {
         "hovertemplate": "<b>%{text}</b><extra></extra>",
         "marker": {
          "color": "lightblue",
          "size": 30
         },
         "mode": "markers+text",
         "text": [
          "http://www.wikidata.org/entity/Q199602"
         ],
         "textposition": "middle center",
         "x": [
          0
         ],
         "y": [
          0
         ],
         "type": "scatter"
        },
        {
         "hovertemplate": "<b>%{text}</b><extra></extra>",
         "marker": {
          "color": "lightblue",
          "size": 30
         },
         "mode": "markers+text",
         "text": [
          "http://www.wikidata.org/entity/Q281289"
         ],
         "textposition": "middle center",
         "x": [
          0
         ],
         "y": [
          0
         ],
         "type": "scatter"
        },
        {
         "hovertemplate": "<b>%{text}</b><extra></extra>",
         "marker": {
          "color": "lightblue",
          "size": 30
         },
         "mode": "markers+text",
         "text": [
          "http://www.wikidata.org/entity/Q3540864"
         ],
         "textposition": "middle center",
         "x": [
          0
         ],
         "y": [
          0
         ],
         "type": "scatter"
        },
        {
         "hovertemplate": "<b>%{text}</b><extra></extra>",
         "marker": {
          "color": "lightblue",
          "size": 30
         },
         "mode": "markers+text",
         "text": [
          "Q192579"
         ],
         "textposition": "middle center",
         "x": [
          0
         ],
         "y": [
          0
         ],
         "type": "scatter"
        },
        {
         "hovertemplate": "<b>%{text}</b><extra></extra>",
         "marker": {
          "color": "lightblue",
          "size": 30
         },
         "mode": "markers+text",
         "text": [
          "http://www.wikidata.org/entity/Q28455110"
         ],
         "textposition": "middle center",
         "x": [
          0
         ],
         "y": [
          0
         ],
         "type": "scatter"
        },
        {
         "hovertemplate": "<b>%{text}</b><extra></extra>",
         "marker": {
          "color": "lightblue",
          "size": 30
         },
         "mode": "markers+text",
         "text": [
          "http://www.wikidata.org/entity/Q2610154"
         ],
         "textposition": "middle center",
         "x": [
          0
         ],
         "y": [
          0
         ],
         "type": "scatter"
        },
        {
         "hovertemplate": "<b>%{text}</b><extra></extra>",
         "marker": {
          "color": "lightblue",
          "size": 30
         },
         "mode": "markers+text",
         "text": [
          "Q183134"
         ],
         "textposition": "middle center",
         "x": [
          0
         ],
         "y": [
          0
         ],
         "type": "scatter"
        },
        {
         "hovertemplate": "<b>%{text}</b><extra></extra>",
         "marker": {
          "color": "lightblue",
          "size": 30
         },
         "mode": "markers+text",
         "text": [
          "http://www.wikidata.org/entity/Q86"
         ],
         "textposition": "middle center",
         "x": [
          0
         ],
         "y": [
          0
         ],
         "type": "scatter"
        },
        {
         "hovertemplate": "<b>%{text}</b><extra></extra>",
         "marker": {
          "color": "lightblue",
          "size": 30
         },
         "mode": "markers+text",
         "text": [
          "http://www.wikidata.org/entity/Q3030775"
         ],
         "textposition": "middle center",
         "x": [
          0
         ],
         "y": [
          0
         ],
         "type": "scatter"
        },
        {
         "hovertemplate": "<b>%{text}</b><extra></extra>",
         "marker": {
          "color": "lightblue",
          "size": 30
         },
         "mode": "markers+text",
         "text": [
          "http://www.wikidata.org/entity/Q109186"
         ],
         "textposition": "middle center",
         "x": [
          0
         ],
         "y": [
          0
         ],
         "type": "scatter"
        },
        {
         "hovertemplate": "<b>%{text}</b><extra></extra>",
         "marker": {
          "color": "lightblue",
          "size": 30
         },
         "mode": "markers+text",
         "text": [
          "http://www.wikidata.org/entity/Q3537764"
         ],
         "textposition": "middle center",
         "x": [
          0
         ],
         "y": [
          0
         ],
         "type": "scatter"
        },
        {
         "hovertemplate": "<b>%{text}</b><extra></extra>",
         "marker": {
          "color": "lightblue",
          "size": 30
         },
         "mode": "markers+text",
         "text": [
          "http://www.wikidata.org/entity/Q1640850"
         ],
         "textposition": "middle center",
         "x": [
          0
         ],
         "y": [
          0
         ],
         "type": "scatter"
        },
        {
         "hovertemplate": "<b>%{text}</b><extra></extra>",
         "marker": {
          "color": "lightblue",
          "size": 30
         },
         "mode": "markers+text",
         "text": [
          "http://www.wikidata.org/entity/Q394129"
         ],
         "textposition": "middle center",
         "x": [
          0
         ],
         "y": [
          0
         ],
         "type": "scatter"
        },
        {
         "hovertemplate": "<b>%{text}</b><extra></extra>",
         "marker": {
          "color": "lightblue",
          "size": 30
         },
         "mode": "markers+text",
         "text": [
          "http://www.wikidata.org/entity/Q1895873"
         ],
         "textposition": "middle center",
         "x": [
          0
         ],
         "y": [
          0
         ],
         "type": "scatter"
        },
        {
         "hovertemplate": "<b>%{text}</b><extra></extra>",
         "marker": {
          "color": "lightblue",
          "size": 30
         },
         "mode": "markers+text",
         "text": [
          "http://www.wikidata.org/entity/Q683498"
         ],
         "textposition": "middle center",
         "x": [
          0
         ],
         "y": [
          0
         ],
         "type": "scatter"
        },
        {
         "hovertemplate": "<b>%{text}</b><extra></extra>",
         "marker": {
          "color": "lightblue",
          "size": 30
         },
         "mode": "markers+text",
         "text": [
          "http://www.wikidata.org/entity/Q1499629"
         ],
         "textposition": "middle center",
         "x": [
          0
         ],
         "y": [
          0
         ],
         "type": "scatter"
        },
        {
         "hovertemplate": "<b>%{text}</b><extra></extra>",
         "marker": {
          "color": "lightblue",
          "size": 30
         },
         "mode": "markers+text",
         "text": [
          "http://www.wikidata.org/entity/Q170990"
         ],
         "textposition": "middle center",
         "x": [
          0
         ],
         "y": [
          0
         ],
         "type": "scatter"
        },
        {
         "hovertemplate": "<b>%{text}</b><extra></extra>",
         "marker": {
          "color": "lightblue",
          "size": 30
         },
         "mode": "markers+text",
         "text": [
          "Q167178"
         ],
         "textposition": "middle center",
         "x": [
          0
         ],
         "y": [
          0
         ],
         "type": "scatter"
        },
        {
         "hovertemplate": "<b>thought disorder</b><extra></extra>",
         "line": {
          "color": "gray",
          "width": 1
         },
         "marker": {
          "color": "gray",
          "size": 10,
          "symbol": "circle"
         },
         "mode": "lines+markers+text",
         "text": [
          "thought disorder"
         ],
         "textposition": "middle center",
         "x": [
          55,
          64
         ],
         "y": [
          0,
          0
         ],
         "type": "scatter"
        },
        {
         "hovertemplate": "<b>red eye</b><extra></extra>",
         "line": {
          "color": "gray",
          "width": 1
         },
         "marker": {
          "color": "gray",
          "size": 10,
          "symbol": "circle"
         },
         "mode": "lines+markers+text",
         "text": [
          "red eye"
         ],
         "textposition": "middle center",
         "x": [
          71,
          77
         ],
         "y": [
          0,
          0
         ],
         "type": "scatter"
        },
        {
         "hovertemplate": "<b>psychomotor agitation</b><extra></extra>",
         "line": {
          "color": "gray",
          "width": 1
         },
         "marker": {
          "color": "gray",
          "size": 10,
          "symbol": "circle"
         },
         "mode": "lines+markers+text",
         "text": [
          "psychomotor agitation"
         ],
         "textposition": "middle center",
         "x": [
          71,
          84
         ],
         "y": [
          0,
          0
         ],
         "type": "scatter"
        },
        {
         "hovertemplate": "<b>disseminated intravascular coagulation</b><extra></extra>",
         "line": {
          "color": "gray",
          "width": 1
         },
         "marker": {
          "color": "gray",
          "size": 10,
          "symbol": "circle"
         },
         "mode": "lines+markers+text",
         "text": [
          "disseminated intravascular coagulation"
         ],
         "textposition": "middle center",
         "x": [
          37,
          70
         ],
         "y": [
          0,
          0
         ],
         "type": "scatter"
        },
        {
         "hovertemplate": "<b>irritability</b><extra></extra>",
         "line": {
          "color": "gray",
          "width": 1
         },
         "marker": {
          "color": "gray",
          "size": 10,
          "symbol": "circle"
         },
         "mode": "lines+markers+text",
         "text": [
          "irritability"
         ],
         "textposition": "middle center",
         "x": [
          75,
          19
         ],
         "y": [
          0,
          0
         ],
         "type": "scatter"
        },
        {
         "hovertemplate": "<b>short stature</b><extra></extra>",
         "line": {
          "color": "gray",
          "width": 1
         },
         "marker": {
          "color": "gray",
          "size": 10,
          "symbol": "circle"
         },
         "mode": "lines+markers+text",
         "text": [
          "short stature"
         ],
         "textposition": "middle center",
         "x": [
          54,
          58
         ],
         "y": [
          0,
          0
         ],
         "type": "scatter"
        },
        {
         "hovertemplate": "<b>chills</b><extra></extra>",
         "line": {
          "color": "gray",
          "width": 1
         },
         "marker": {
          "color": "gray",
          "size": 10,
          "symbol": "circle"
         },
         "mode": "lines+markers+text",
         "text": [
          "chills"
         ],
         "textposition": "middle center",
         "x": [
          78,
          7
         ],
         "y": [
          0,
          0
         ],
         "type": "scatter"
        },
        {
         "hovertemplate": "<b>runny nose</b><extra></extra>",
         "line": {
          "color": "gray",
          "width": 1
         },
         "marker": {
          "color": "gray",
          "size": 10,
          "symbol": "circle"
         },
         "mode": "lines+markers+text",
         "text": [
          "runny nose"
         ],
         "textposition": "middle center",
         "x": [
          71,
          48
         ],
         "y": [
          0,
          0
         ],
         "type": "scatter"
        },
        {
         "hovertemplate": "<b>fever</b><extra></extra>",
         "line": {
          "color": "gray",
          "width": 1
         },
         "marker": {
          "color": "gray",
          "size": 10,
          "symbol": "circle"
         },
         "mode": "lines+markers+text",
         "text": [
          "fever"
         ],
         "textposition": "middle center",
         "x": [
          89,
          28
         ],
         "y": [
          0,
          0
         ],
         "type": "scatter"
        },
        {
         "hovertemplate": "<b>myocarditis</b><extra></extra>",
         "line": {
          "color": "gray",
          "width": 1
         },
         "marker": {
          "color": "gray",
          "size": 10,
          "symbol": "circle"
         },
         "mode": "lines+markers+text",
         "text": [
          "myocarditis"
         ],
         "textposition": "middle center",
         "x": [
          37,
          6
         ],
         "y": [
          0,
          0
         ],
         "type": "scatter"
        },
        {
         "hovertemplate": "<b>ptosis</b><extra></extra>",
         "line": {
          "color": "gray",
          "width": 1
         },
         "marker": {
          "color": "gray",
          "size": 10,
          "symbol": "circle"
         },
         "mode": "lines+markers+text",
         "text": [
          "ptosis"
         ],
         "textposition": "middle center",
         "x": [
          71,
          35
         ],
         "y": [
          0,
          0
         ],
         "type": "scatter"
        },
        {
         "hovertemplate": "<b>kidney failure</b><extra></extra>",
         "line": {
          "color": "gray",
          "width": 1
         },
         "marker": {
          "color": "gray",
          "size": 10,
          "symbol": "circle"
         },
         "mode": "lines+markers+text",
         "text": [
          "kidney failure"
         ],
         "textposition": "middle center",
         "x": [
          37,
          56
         ],
         "y": [
          0,
          0
         ],
         "type": "scatter"
        },
        {
         "hovertemplate": "<b>meningeal syndrome</b><extra></extra>",
         "line": {
          "color": "gray",
          "width": 1
         },
         "marker": {
          "color": "gray",
          "size": 10,
          "symbol": "circle"
         },
         "mode": "lines+markers+text",
         "text": [
          "meningeal syndrome"
         ],
         "textposition": "middle center",
         "x": [
          65,
          21
         ],
         "y": [
          0,
          0
         ],
         "type": "scatter"
        },
        {
         "hovertemplate": "<b>myocarditis</b><extra></extra>",
         "line": {
          "color": "gray",
          "width": 1
         },
         "marker": {
          "color": "gray",
          "size": 10,
          "symbol": "circle"
         },
         "mode": "lines+markers+text",
         "text": [
          "myocarditis"
         ],
         "textposition": "middle center",
         "x": [
          31,
          6
         ],
         "y": [
          0,
          0
         ],
         "type": "scatter"
        },
        {
         "hovertemplate": "<b>headache</b><extra></extra>",
         "line": {
          "color": "gray",
          "width": 1
         },
         "marker": {
          "color": "gray",
          "size": 10,
          "symbol": "circle"
         },
         "mode": "lines+markers+text",
         "text": [
          "headache"
         ],
         "textposition": "middle center",
         "x": [
          71,
          79
         ],
         "y": [
          0,
          0
         ],
         "type": "scatter"
        },
        {
         "hovertemplate": "<b>angina pectoris</b><extra></extra>",
         "line": {
          "color": "gray",
          "width": 1
         },
         "marker": {
          "color": "gray",
          "size": 10,
          "symbol": "circle"
         },
         "mode": "lines+markers+text",
         "text": [
          "angina pectoris"
         ],
         "textposition": "middle center",
         "x": [
          9,
          14
         ],
         "y": [
          0,
          0
         ],
         "type": "scatter"
        },
        {
         "hovertemplate": "<b>headache</b><extra></extra>",
         "line": {
          "color": "gray",
          "width": 1
         },
         "marker": {
          "color": "gray",
          "size": 10,
          "symbol": "circle"
         },
         "mode": "lines+markers+text",
         "text": [
          "headache"
         ],
         "textposition": "middle center",
         "x": [
          39,
          79
         ],
         "y": [
          0,
          0
         ],
         "type": "scatter"
        },
        {
         "hovertemplate": "<b>intermittent fever</b><extra></extra>",
         "line": {
          "color": "gray",
          "width": 1
         },
         "marker": {
          "color": "gray",
          "size": 10,
          "symbol": "circle"
         },
         "mode": "lines+markers+text",
         "text": [
          "intermittent fever"
         ],
         "textposition": "middle center",
         "x": [
          78,
          32
         ],
         "y": [
          0,
          0
         ],
         "type": "scatter"
        },
        {
         "hovertemplate": "<b>rash</b><extra></extra>",
         "line": {
          "color": "gray",
          "width": 1
         },
         "marker": {
          "color": "gray",
          "size": 10,
          "symbol": "circle"
         },
         "mode": "lines+markers+text",
         "text": [
          "rash"
         ],
         "textposition": "middle center",
         "x": [
          89,
          69
         ],
         "y": [
          0,
          0
         ],
         "type": "scatter"
        },
        {
         "hovertemplate": "<b>emotional lability</b><extra></extra>",
         "line": {
          "color": "gray",
          "width": 1
         },
         "marker": {
          "color": "gray",
          "size": 10,
          "symbol": "circle"
         },
         "mode": "lines+markers+text",
         "text": [
          "emotional lability"
         ],
         "textposition": "middle center",
         "x": [
          55,
          76
         ],
         "y": [
          0,
          0
         ],
         "type": "scatter"
        },
        {
         "hovertemplate": "<b>respiratory arrest</b><extra></extra>",
         "line": {
          "color": "gray",
          "width": 1
         },
         "marker": {
          "color": "gray",
          "size": 10,
          "symbol": "circle"
         },
         "mode": "lines+markers+text",
         "text": [
          "respiratory arrest"
         ],
         "textposition": "middle center",
         "x": [
          38,
          68
         ],
         "y": [
          0,
          0
         ],
         "type": "scatter"
        },
        {
         "hovertemplate": "<b>fatigue</b><extra></extra>",
         "line": {
          "color": "gray",
          "width": 1
         },
         "marker": {
          "color": "gray",
          "size": 10,
          "symbol": "circle"
         },
         "mode": "lines+markers+text",
         "text": [
          "fatigue"
         ],
         "textposition": "middle center",
         "x": [
          75,
          13
         ],
         "y": [
          0,
          0
         ],
         "type": "scatter"
        },
        {
         "hovertemplate": "<b>headache</b><extra></extra>",
         "line": {
          "color": "gray",
          "width": 1
         },
         "marker": {
          "color": "gray",
          "size": 10,
          "symbol": "circle"
         },
         "mode": "lines+markers+text",
         "text": [
          "headache"
         ],
         "textposition": "middle center",
         "x": [
          75,
          79
         ],
         "y": [
          0,
          0
         ],
         "type": "scatter"
        },
        {
         "hovertemplate": "<b>joint effusion</b><extra></extra>",
         "line": {
          "color": "gray",
          "width": 1
         },
         "marker": {
          "color": "gray",
          "size": 10,
          "symbol": "circle"
         },
         "mode": "lines+markers+text",
         "text": [
          "joint effusion"
         ],
         "textposition": "middle center",
         "x": [
          59,
          87
         ],
         "y": [
          0,
          0
         ],
         "type": "scatter"
        },
        {
         "hovertemplate": "<b>chills</b><extra></extra>",
         "line": {
          "color": "gray",
          "width": 1
         },
         "marker": {
          "color": "gray",
          "size": 10,
          "symbol": "circle"
         },
         "mode": "lines+markers+text",
         "text": [
          "chills"
         ],
         "textposition": "middle center",
         "x": [
          37,
          7
         ],
         "y": [
          0,
          0
         ],
         "type": "scatter"
        },
        {
         "hovertemplate": "<b>irritability</b><extra></extra>",
         "line": {
          "color": "gray",
          "width": 1
         },
         "marker": {
          "color": "gray",
          "size": 10,
          "symbol": "circle"
         },
         "mode": "lines+markers+text",
         "text": [
          "irritability"
         ],
         "textposition": "middle center",
         "x": [
          71,
          19
         ],
         "y": [
          0,
          0
         ],
         "type": "scatter"
        },
        {
         "hovertemplate": "<b>itch</b><extra></extra>",
         "line": {
          "color": "gray",
          "width": 1
         },
         "marker": {
          "color": "gray",
          "size": 10,
          "symbol": "circle"
         },
         "mode": "lines+markers+text",
         "text": [
          "itch"
         ],
         "textposition": "middle center",
         "x": [
          89,
          72
         ],
         "y": [
          0,
          0
         ],
         "type": "scatter"
        },
        {
         "hovertemplate": "<b>increase</b><extra></extra>",
         "line": {
          "color": "gray",
          "width": 1
         },
         "marker": {
          "color": "gray",
          "size": 10,
          "symbol": "circle"
         },
         "mode": "lines+markers+text",
         "text": [
          "increase"
         ],
         "textposition": "middle center",
         "x": [
          38,
          20
         ],
         "y": [
          0,
          0
         ],
         "type": "scatter"
        },
        {
         "hovertemplate": "<b>vomiting</b><extra></extra>",
         "line": {
          "color": "gray",
          "width": 1
         },
         "marker": {
          "color": "gray",
          "size": 10,
          "symbol": "circle"
         },
         "mode": "lines+markers+text",
         "text": [
          "vomiting"
         ],
         "textposition": "middle center",
         "x": [
          65,
          36
         ],
         "y": [
          0,
          0
         ],
         "type": "scatter"
        },
        {
         "hovertemplate": "<b>wheeze</b><extra></extra>",
         "line": {
          "color": "gray",
          "width": 1
         },
         "marker": {
          "color": "gray",
          "size": 10,
          "symbol": "circle"
         },
         "mode": "lines+markers+text",
         "text": [
          "wheeze"
         ],
         "textposition": "middle center",
         "x": [
          11,
          52
         ],
         "y": [
          0,
          0
         ],
         "type": "scatter"
        },
        {
         "hovertemplate": "<b>nasal congestion</b><extra></extra>",
         "line": {
          "color": "gray",
          "width": 1
         },
         "marker": {
          "color": "gray",
          "size": 10,
          "symbol": "circle"
         },
         "mode": "lines+markers+text",
         "text": [
          "nasal congestion"
         ],
         "textposition": "middle center",
         "x": [
          71,
          51
         ],
         "y": [
          0,
          0
         ],
         "type": "scatter"
        },
        {
         "hovertemplate": "<b>heart arrhythmia</b><extra></extra>",
         "line": {
          "color": "gray",
          "width": 1
         },
         "marker": {
          "color": "gray",
          "size": 10,
          "symbol": "circle"
         },
         "mode": "lines+markers+text",
         "text": [
          "heart arrhythmia"
         ],
         "textposition": "middle center",
         "x": [
          9,
          45
         ],
         "y": [
          0,
          0
         ],
         "type": "scatter"
        },
        {
         "hovertemplate": "<b>remittent fever</b><extra></extra>",
         "line": {
          "color": "gray",
          "width": 1
         },
         "marker": {
          "color": "gray",
          "size": 10,
          "symbol": "circle"
         },
         "mode": "lines+markers+text",
         "text": [
          "remittent fever"
         ],
         "textposition": "middle center",
         "x": [
          78,
          42
         ],
         "y": [
          0,
          0
         ],
         "type": "scatter"
        },
        {
         "hovertemplate": "<b>tachycardia</b><extra></extra>",
         "line": {
          "color": "gray",
          "width": 1
         },
         "marker": {
          "color": "gray",
          "size": 10,
          "symbol": "circle"
         },
         "mode": "lines+markers+text",
         "text": [
          "tachycardia"
         ],
         "textposition": "middle center",
         "x": [
          9,
          53
         ],
         "y": [
          0,
          0
         ],
         "type": "scatter"
        },
        {
         "hovertemplate": "<b>arthritis</b><extra></extra>",
         "line": {
          "color": "gray",
          "width": 1
         },
         "marker": {
          "color": "gray",
          "size": 10,
          "symbol": "circle"
         },
         "mode": "lines+markers+text",
         "text": [
          "arthritis"
         ],
         "textposition": "middle center",
         "x": [
          31,
          88
         ],
         "y": [
          0,
          0
         ],
         "type": "scatter"
        },
        {
         "hovertemplate": "<b>cardiac arrest</b><extra></extra>",
         "line": {
          "color": "gray",
          "width": 1
         },
         "marker": {
          "color": "gray",
          "size": 10,
          "symbol": "circle"
         },
         "mode": "lines+markers+text",
         "text": [
          "cardiac arrest"
         ],
         "textposition": "middle center",
         "x": [
          38,
          17
         ],
         "y": [
          0,
          0
         ],
         "type": "scatter"
        },
        {
         "hovertemplate": "<b>edema</b><extra></extra>",
         "line": {
          "color": "gray",
          "width": 1
         },
         "marker": {
          "color": "gray",
          "size": 10,
          "symbol": "circle"
         },
         "mode": "lines+markers+text",
         "text": [
          "edema"
         ],
         "textposition": "middle center",
         "x": [
          9,
          2
         ],
         "y": [
          0,
          0
         ],
         "type": "scatter"
        },
        {
         "hovertemplate": "<b>paralysis</b><extra></extra>",
         "line": {
          "color": "gray",
          "width": 1
         },
         "marker": {
          "color": "gray",
          "size": 10,
          "symbol": "circle"
         },
         "mode": "lines+markers+text",
         "text": [
          "paralysis"
         ],
         "textposition": "middle center",
         "x": [
          38,
          26
         ],
         "y": [
          0,
          0
         ],
         "type": "scatter"
        },
        {
         "hovertemplate": "<b>burping</b><extra></extra>",
         "line": {
          "color": "gray",
          "width": 1
         },
         "marker": {
          "color": "gray",
          "size": 10,
          "symbol": "circle"
         },
         "mode": "lines+markers+text",
         "text": [
          "burping"
         ],
         "textposition": "middle center",
         "x": [
          39,
          30
         ],
         "y": [
          0,
          0
         ],
         "type": "scatter"
        },
        {
         "hovertemplate": "<b>heart arrhythmia</b><extra></extra>",
         "line": {
          "color": "gray",
          "width": 1
         },
         "marker": {
          "color": "gray",
          "size": 10,
          "symbol": "circle"
         },
         "mode": "lines+markers+text",
         "text": [
          "heart arrhythmia"
         ],
         "textposition": "middle center",
         "x": [
          31,
          45
         ],
         "y": [
          0,
          0
         ],
         "type": "scatter"
        },
        {
         "hovertemplate": "<b>sleep disorder</b><extra></extra>",
         "line": {
          "color": "gray",
          "width": 1
         },
         "marker": {
          "color": "gray",
          "size": 10,
          "symbol": "circle"
         },
         "mode": "lines+markers+text",
         "text": [
          "sleep disorder"
         ],
         "textposition": "middle center",
         "x": [
          55,
          34
         ],
         "y": [
          0,
          0
         ],
         "type": "scatter"
        },
        {
         "hovertemplate": "<b>simultanagnosia</b><extra></extra>",
         "line": {
          "color": "gray",
          "width": 1
         },
         "marker": {
          "color": "gray",
          "size": 10,
          "symbol": "circle"
         },
         "mode": "lines+markers+text",
         "text": [
          "simultanagnosia"
         ],
         "textposition": "middle center",
         "x": [
          67,
          40
         ],
         "y": [
          0,
          0
         ],
         "type": "scatter"
        },
        {
         "hovertemplate": "<b>optic ataxia</b><extra></extra>",
         "line": {
          "color": "gray",
          "width": 1
         },
         "marker": {
          "color": "gray",
          "size": 10,
          "symbol": "circle"
         },
         "mode": "lines+markers+text",
         "text": [
          "optic ataxia"
         ],
         "textposition": "middle center",
         "x": [
          67,
          0
         ],
         "y": [
          0,
          0
         ],
         "type": "scatter"
        },
        {
         "hovertemplate": "<b>dyspnea</b><extra></extra>",
         "line": {
          "color": "gray",
          "width": 1
         },
         "marker": {
          "color": "gray",
          "size": 10,
          "symbol": "circle"
         },
         "mode": "lines+markers+text",
         "text": [
          "dyspnea"
         ],
         "textposition": "middle center",
         "x": [
          11,
          24
         ],
         "y": [
          0,
          0
         ],
         "type": "scatter"
        },
        {
         "hovertemplate": "<b>arthralgia</b><extra></extra>",
         "line": {
          "color": "gray",
          "width": 1
         },
         "marker": {
          "color": "gray",
          "size": 10,
          "symbol": "circle"
         },
         "mode": "lines+markers+text",
         "text": [
          "arthralgia"
         ],
         "textposition": "middle center",
         "x": [
          59,
          86
         ],
         "y": [
          0,
          0
         ],
         "type": "scatter"
        },
        {
         "hovertemplate": "<b>chest pain</b><extra></extra>",
         "line": {
          "color": "gray",
          "width": 1
         },
         "marker": {
          "color": "gray",
          "size": 10,
          "symbol": "circle"
         },
         "mode": "lines+markers+text",
         "text": [
          "chest pain"
         ],
         "textposition": "middle center",
         "x": [
          9,
          5
         ],
         "y": [
          0,
          0
         ],
         "type": "scatter"
        },
        {
         "hovertemplate": "<b>phonophobia</b><extra></extra>",
         "line": {
          "color": "gray",
          "width": 1
         },
         "marker": {
          "color": "gray",
          "size": 10,
          "symbol": "circle"
         },
         "mode": "lines+markers+text",
         "text": [
          "phonophobia"
         ],
         "textposition": "middle center",
         "x": [
          38,
          15
         ],
         "y": [
          0,
          0
         ],
         "type": "scatter"
        },
        {
         "hovertemplate": "<b>hallucination</b><extra></extra>",
         "line": {
          "color": "gray",
          "width": 1
         },
         "marker": {
          "color": "gray",
          "size": 10,
          "symbol": "circle"
         },
         "mode": "lines+markers+text",
         "text": [
          "hallucination"
         ],
         "textposition": "middle center",
         "x": [
          38,
          63
         ],
         "y": [
          0,
          0
         ],
         "type": "scatter"
        },
        {
         "hovertemplate": "<b>memory disorder</b><extra></extra>",
         "line": {
          "color": "gray",
          "width": 1
         },
         "marker": {
          "color": "gray",
          "size": 10,
          "symbol": "circle"
         },
         "mode": "lines+markers+text",
         "text": [
          "memory disorder"
         ],
         "textposition": "middle center",
         "x": [
          55,
          44
         ],
         "y": [
          0,
          0
         ],
         "type": "scatter"
        },
        {
         "hovertemplate": "<b>hydrophobia (sign)</b><extra></extra>",
         "line": {
          "color": "gray",
          "width": 1
         },
         "marker": {
          "color": "gray",
          "size": 10,
          "symbol": "circle"
         },
         "mode": "lines+markers+text",
         "text": [
          "hydrophobia (sign)"
         ],
         "textposition": "middle center",
         "x": [
          38,
          25
         ],
         "y": [
          0,
          0
         ],
         "type": "scatter"
        },
        {
         "hovertemplate": "<b>reading disorder and écrites disorder</b><extra></extra>",
         "line": {
          "color": "gray",
          "width": 1
         },
         "marker": {
          "color": "gray",
          "size": 10,
          "symbol": "circle"
         },
         "mode": "lines+markers+text",
         "text": [
          "reading disorder and écrites disorder"
         ],
         "textposition": "middle center",
         "x": [
          62,
          46
         ],
         "y": [
          0,
          0
         ],
         "type": "scatter"
        },
        {
         "hovertemplate": "<b>headache</b><extra></extra>",
         "line": {
          "color": "gray",
          "width": 1
         },
         "marker": {
          "color": "gray",
          "size": 10,
          "symbol": "circle"
         },
         "mode": "lines+markers+text",
         "text": [
          "headache"
         ],
         "textposition": "middle center",
         "x": [
          31,
          79
         ],
         "y": [
          0,
          0
         ],
         "type": "scatter"
        },
        {
         "hovertemplate": "<b>ascites</b><extra></extra>",
         "line": {
          "color": "gray",
          "width": 1
         },
         "marker": {
          "color": "gray",
          "size": 10,
          "symbol": "circle"
         },
         "mode": "lines+markers+text",
         "text": [
          "ascites"
         ],
         "textposition": "middle center",
         "x": [
          9,
          23
         ],
         "y": [
          0,
          0
         ],
         "type": "scatter"
        },
        {
         "hovertemplate": "<b>hypochromic anemia</b><extra></extra>",
         "line": {
          "color": "gray",
          "width": 1
         },
         "marker": {
          "color": "gray",
          "size": 10,
          "symbol": "circle"
         },
         "mode": "lines+markers+text",
         "text": [
          "hypochromic anemia"
         ],
         "textposition": "middle center",
         "x": [
          61,
          22
         ],
         "y": [
          0,
          0
         ],
         "type": "scatter"
        },
        {
         "hovertemplate": "<b>poisoning</b><extra></extra>",
         "line": {
          "color": "gray",
          "width": 1
         },
         "marker": {
          "color": "gray",
          "size": 10,
          "symbol": "circle"
         },
         "mode": "lines+markers+text",
         "text": [
          "poisoning"
         ],
         "textposition": "middle center",
         "x": [
          37,
          8
         ],
         "y": [
          0,
          0
         ],
         "type": "scatter"
        },
        {
         "hovertemplate": "<b>fatigue</b><extra></extra>",
         "line": {
          "color": "gray",
          "width": 1
         },
         "marker": {
          "color": "gray",
          "size": 10,
          "symbol": "circle"
         },
         "mode": "lines+markers+text",
         "text": [
          "fatigue"
         ],
         "textposition": "middle center",
         "x": [
          31,
          13
         ],
         "y": [
          0,
          0
         ],
         "type": "scatter"
        },
        {
         "hovertemplate": "<b>oculomotor apraxia</b><extra></extra>",
         "line": {
          "color": "gray",
          "width": 1
         },
         "marker": {
          "color": "gray",
          "size": 10,
          "symbol": "circle"
         },
         "mode": "lines+markers+text",
         "text": [
          "oculomotor apraxia"
         ],
         "textposition": "middle center",
         "x": [
          67,
          4
         ],
         "y": [
          0,
          0
         ],
         "type": "scatter"
        },
        {
         "hovertemplate": "<b>nausea</b><extra></extra>",
         "line": {
          "color": "gray",
          "width": 1
         },
         "marker": {
          "color": "gray",
          "size": 10,
          "symbol": "circle"
         },
         "mode": "lines+markers+text",
         "text": [
          "nausea"
         ],
         "textposition": "middle center",
         "x": [
          65,
          50
         ],
         "y": [
          0,
          0
         ],
         "type": "scatter"
        },
        {
         "hovertemplate": "<b>distraction</b><extra></extra>",
         "line": {
          "color": "gray",
          "width": 1
         },
         "marker": {
          "color": "gray",
          "size": 10,
          "symbol": "circle"
         },
         "mode": "lines+markers+text",
         "text": [
          "distraction"
         ],
         "textposition": "middle center",
         "x": [
          55,
          80
         ],
         "y": [
          0,
          0
         ],
         "type": "scatter"
        },
        {
         "hovertemplate": "<b>erythema</b><extra></extra>",
         "line": {
          "color": "gray",
          "width": 1
         },
         "marker": {
          "color": "gray",
          "size": 10,
          "symbol": "circle"
         },
         "mode": "lines+markers+text",
         "text": [
          "erythema"
         ],
         "textposition": "middle center",
         "x": [
          59,
          43
         ],
         "y": [
          0,
          0
         ],
         "type": "scatter"
        },
        {
         "hovertemplate": "<b>sleep disorder</b><extra></extra>",
         "line": {
          "color": "gray",
          "width": 1
         },
         "marker": {
          "color": "gray",
          "size": 10,
          "symbol": "circle"
         },
         "mode": "lines+markers+text",
         "text": [
          "sleep disorder"
         ],
         "textposition": "middle center",
         "x": [
          75,
          34
         ],
         "y": [
          0,
          0
         ],
         "type": "scatter"
        },
        {
         "hovertemplate": "<b>insomnia</b><extra></extra>",
         "line": {
          "color": "gray",
          "width": 1
         },
         "marker": {
          "color": "gray",
          "size": 10,
          "symbol": "circle"
         },
         "mode": "lines+markers+text",
         "text": [
          "insomnia"
         ],
         "textposition": "middle center",
         "x": [
          38,
          60
         ],
         "y": [
          0,
          0
         ],
         "type": "scatter"
        },
        {
         "hovertemplate": "<b>vomiting</b><extra></extra>",
         "line": {
          "color": "gray",
          "width": 1
         },
         "marker": {
          "color": "gray",
          "size": 10,
          "symbol": "circle"
         },
         "mode": "lines+markers+text",
         "text": [
          "vomiting"
         ],
         "textposition": "middle center",
         "x": [
          38,
          36
         ],
         "y": [
          0,
          0
         ],
         "type": "scatter"
        },
        {
         "hovertemplate": "<b>headache</b><extra></extra>",
         "line": {
          "color": "gray",
          "width": 1
         },
         "marker": {
          "color": "gray",
          "size": 10,
          "symbol": "circle"
         },
         "mode": "lines+markers+text",
         "text": [
          "headache"
         ],
         "textposition": "middle center",
         "x": [
          65,
          79
         ],
         "y": [
          0,
          0
         ],
         "type": "scatter"
        },
        {
         "hovertemplate": "<b>photophobia</b><extra></extra>",
         "line": {
          "color": "gray",
          "width": 1
         },
         "marker": {
          "color": "gray",
          "size": 10,
          "symbol": "circle"
         },
         "mode": "lines+markers+text",
         "text": [
          "photophobia"
         ],
         "textposition": "middle center",
         "x": [
          65,
          73
         ],
         "y": [
          0,
          0
         ],
         "type": "scatter"
        },
        {
         "hovertemplate": "<b>fatigue</b><extra></extra>",
         "line": {
          "color": "gray",
          "width": 1
         },
         "marker": {
          "color": "gray",
          "size": 10,
          "symbol": "circle"
         },
         "mode": "lines+markers+text",
         "text": [
          "fatigue"
         ],
         "textposition": "middle center",
         "x": [
          61,
          13
         ],
         "y": [
          0,
          0
         ],
         "type": "scatter"
        },
        {
         "hovertemplate": "<b>balance disorder</b><extra></extra>",
         "line": {
          "color": "gray",
          "width": 1
         },
         "marker": {
          "color": "gray",
          "size": 10,
          "symbol": "circle"
         },
         "mode": "lines+markers+text",
         "text": [
          "balance disorder"
         ],
         "textposition": "middle center",
         "x": [
          9,
          74
         ],
         "y": [
          0,
          0
         ],
         "type": "scatter"
        },
        {
         "hovertemplate": "<b>cough</b><extra></extra>",
         "line": {
          "color": "gray",
          "width": 1
         },
         "marker": {
          "color": "gray",
          "size": 10,
          "symbol": "circle"
         },
         "mode": "lines+markers+text",
         "text": [
          "cough"
         ],
         "textposition": "middle center",
         "x": [
          11,
          57
         ],
         "y": [
          0,
          0
         ],
         "type": "scatter"
        },
        {
         "hovertemplate": "<b>paresthesia</b><extra></extra>",
         "line": {
          "color": "gray",
          "width": 1
         },
         "marker": {
          "color": "gray",
          "size": 10,
          "symbol": "circle"
         },
         "mode": "lines+markers+text",
         "text": [
          "paresthesia"
         ],
         "textposition": "middle center",
         "x": [
          38,
          16
         ],
         "y": [
          0,
          0
         ],
         "type": "scatter"
        },
        {
         "hovertemplate": "<b>pain</b><extra></extra>",
         "line": {
          "color": "gray",
          "width": 1
         },
         "marker": {
          "color": "gray",
          "size": 10,
          "symbol": "circle"
         },
         "mode": "lines+markers+text",
         "text": [
          "pain"
         ],
         "textposition": "middle center",
         "x": [
          38,
          27
         ],
         "y": [
          0,
          0
         ],
         "type": "scatter"
        },
        {
         "hovertemplate": "<b>fever</b><extra></extra>",
         "line": {
          "color": "gray",
          "width": 1
         },
         "marker": {
          "color": "gray",
          "size": 10,
          "symbol": "circle"
         },
         "mode": "lines+markers+text",
         "text": [
          "fever"
         ],
         "textposition": "middle center",
         "x": [
          37,
          28
         ],
         "y": [
          0,
          0
         ],
         "type": "scatter"
        },
        {
         "hovertemplate": "<b>mydriasis</b><extra></extra>",
         "line": {
          "color": "gray",
          "width": 1
         },
         "marker": {
          "color": "gray",
          "size": 10,
          "symbol": "circle"
         },
         "mode": "lines+markers+text",
         "text": [
          "mydriasis"
         ],
         "textposition": "middle center",
         "x": [
          38,
          3
         ],
         "y": [
          0,
          0
         ],
         "type": "scatter"
        },
        {
         "hovertemplate": "<b>fever</b><extra></extra>",
         "line": {
          "color": "gray",
          "width": 1
         },
         "marker": {
          "color": "gray",
          "size": 10,
          "symbol": "circle"
         },
         "mode": "lines+markers+text",
         "text": [
          "fever"
         ],
         "textposition": "middle center",
         "x": [
          31,
          28
         ],
         "y": [
          0,
          0
         ],
         "type": "scatter"
        },
        {
         "hovertemplate": "<b>psychosis</b><extra></extra>",
         "line": {
          "color": "gray",
          "width": 1
         },
         "marker": {
          "color": "gray",
          "size": 10,
          "symbol": "circle"
         },
         "mode": "lines+markers+text",
         "text": [
          "psychosis"
         ],
         "textposition": "middle center",
         "x": [
          55,
          41
         ],
         "y": [
          0,
          0
         ],
         "type": "scatter"
        },
        {
         "hovertemplate": "<b>rash</b><extra></extra>",
         "line": {
          "color": "gray",
          "width": 1
         },
         "marker": {
          "color": "gray",
          "size": 10,
          "symbol": "circle"
         },
         "mode": "lines+markers+text",
         "text": [
          "rash"
         ],
         "textposition": "middle center",
         "x": [
          37,
          69
         ],
         "y": [
          0,
          0
         ],
         "type": "scatter"
        },
        {
         "hovertemplate": "<b>headache</b><extra></extra>",
         "line": {
          "color": "gray",
          "width": 1
         },
         "marker": {
          "color": "gray",
          "size": 10,
          "symbol": "circle"
         },
         "mode": "lines+markers+text",
         "text": [
          "headache"
         ],
         "textposition": "middle center",
         "x": [
          37,
          79
         ],
         "y": [
          0,
          0
         ],
         "type": "scatter"
        },
        {
         "hovertemplate": "<b>chills</b><extra></extra>",
         "line": {
          "color": "gray",
          "width": 1
         },
         "marker": {
          "color": "gray",
          "size": 10,
          "symbol": "circle"
         },
         "mode": "lines+markers+text",
         "text": [
          "chills"
         ],
         "textposition": "middle center",
         "x": [
          38,
          7
         ],
         "y": [
          0,
          0
         ],
         "type": "scatter"
        },
        {
         "hovertemplate": "<b>meningitis</b><extra></extra>",
         "line": {
          "color": "gray",
          "width": 1
         },
         "marker": {
          "color": "gray",
          "size": 10,
          "symbol": "circle"
         },
         "mode": "lines+markers+text",
         "text": [
          "meningitis"
         ],
         "textposition": "middle center",
         "x": [
          31,
          1
         ],
         "y": [
          0,
          0
         ],
         "type": "scatter"
        },
        {
         "hovertemplate": "<b>fear</b><extra></extra>",
         "line": {
          "color": "gray",
          "width": 1
         },
         "marker": {
          "color": "gray",
          "size": 10,
          "symbol": "circle"
         },
         "mode": "lines+markers+text",
         "text": [
          "fear"
         ],
         "textposition": "middle center",
         "x": [
          38,
          66
         ],
         "y": [
          0,
          0
         ],
         "type": "scatter"
        },
        {
         "hovertemplate": "<b>headache</b><extra></extra>",
         "line": {
          "color": "gray",
          "width": 1
         },
         "marker": {
          "color": "gray",
          "size": 10,
          "symbol": "circle"
         },
         "mode": "lines+markers+text",
         "text": [
          "headache"
         ],
         "textposition": "middle center",
         "x": [
          38,
          79
         ],
         "y": [
          0,
          0
         ],
         "type": "scatter"
        },
        {
         "hovertemplate": "<b>photophobia</b><extra></extra>",
         "line": {
          "color": "gray",
          "width": 1
         },
         "marker": {
          "color": "gray",
          "size": 10,
          "symbol": "circle"
         },
         "mode": "lines+markers+text",
         "text": [
          "photophobia"
         ],
         "textposition": "middle center",
         "x": [
          38,
          73
         ],
         "y": [
          0,
          0
         ],
         "type": "scatter"
        },
        {
         "hovertemplate": "<b>vomiting</b><extra></extra>",
         "line": {
          "color": "gray",
          "width": 1
         },
         "marker": {
          "color": "gray",
          "size": 10,
          "symbol": "circle"
         },
         "mode": "lines+markers+text",
         "text": [
          "vomiting"
         ],
         "textposition": "middle center",
         "x": [
          39,
          36
         ],
         "y": [
          0,
          0
         ],
         "type": "scatter"
        },
        {
         "hovertemplate": "<b>syncope</b><extra></extra>",
         "line": {
          "color": "gray",
          "width": 1
         },
         "marker": {
          "color": "gray",
          "size": 10,
          "symbol": "circle"
         },
         "mode": "lines+markers+text",
         "text": [
          "syncope"
         ],
         "textposition": "middle center",
         "x": [
          9,
          33
         ],
         "y": [
          0,
          0
         ],
         "type": "scatter"
        },
        {
         "hovertemplate": "<b>fever</b><extra></extra>",
         "line": {
          "color": "gray",
          "width": 1
         },
         "marker": {
          "color": "gray",
          "size": 10,
          "symbol": "circle"
         },
         "mode": "lines+markers+text",
         "text": [
          "fever"
         ],
         "textposition": "middle center",
         "x": [
          65,
          28
         ],
         "y": [
          0,
          0
         ],
         "type": "scatter"
        },
        {
         "hovertemplate": "<b>dyspnea</b><extra></extra>",
         "line": {
          "color": "gray",
          "width": 1
         },
         "marker": {
          "color": "gray",
          "size": 10,
          "symbol": "circle"
         },
         "mode": "lines+markers+text",
         "text": [
          "dyspnea"
         ],
         "textposition": "middle center",
         "x": [
          9,
          24
         ],
         "y": [
          0,
          0
         ],
         "type": "scatter"
        },
        {
         "hovertemplate": "<b>arterial hypertension</b><extra></extra>",
         "line": {
          "color": "gray",
          "width": 1
         },
         "marker": {
          "color": "gray",
          "size": 10,
          "symbol": "circle"
         },
         "mode": "lines+markers+text",
         "text": [
          "arterial hypertension"
         ],
         "textposition": "middle center",
         "x": [
          9,
          18
         ],
         "y": [
          0,
          0
         ],
         "type": "scatter"
        },
        {
         "hovertemplate": "<b>swelling</b><extra></extra>",
         "line": {
          "color": "gray",
          "width": 1
         },
         "marker": {
          "color": "gray",
          "size": 10,
          "symbol": "circle"
         },
         "mode": "lines+markers+text",
         "text": [
          "swelling"
         ],
         "textposition": "middle center",
         "x": [
          59,
          81
         ],
         "y": [
          0,
          0
         ],
         "type": "scatter"
        },
        {
         "hovertemplate": "<b>tear secretion</b><extra></extra>",
         "line": {
          "color": "gray",
          "width": 1
         },
         "marker": {
          "color": "gray",
          "size": 10,
          "symbol": "circle"
         },
         "mode": "lines+markers+text",
         "text": [
          "tear secretion"
         ],
         "textposition": "middle center",
         "x": [
          71,
          49
         ],
         "y": [
          0,
          0
         ],
         "type": "scatter"
        },
        {
         "hovertemplate": "<b>irritability</b><extra></extra>",
         "line": {
          "color": "gray",
          "width": 1
         },
         "marker": {
          "color": "gray",
          "size": 10,
          "symbol": "circle"
         },
         "mode": "lines+markers+text",
         "text": [
          "irritability"
         ],
         "textposition": "middle center",
         "x": [
          38,
          19
         ],
         "y": [
          0,
          0
         ],
         "type": "scatter"
        },
        {
         "hovertemplate": "<b>nausea</b><extra></extra>",
         "line": {
          "color": "gray",
          "width": 1
         },
         "marker": {
          "color": "gray",
          "size": 10,
          "symbol": "circle"
         },
         "mode": "lines+markers+text",
         "text": [
          "nausea"
         ],
         "textposition": "middle center",
         "x": [
          39,
          50
         ],
         "y": [
          0,
          0
         ],
         "type": "scatter"
        },
        {
         "hovertemplate": "<b>disorientation</b><extra></extra>",
         "line": {
          "color": "gray",
          "width": 1
         },
         "marker": {
          "color": "gray",
          "size": 10,
          "symbol": "circle"
         },
         "mode": "lines+markers+text",
         "text": [
          "disorientation"
         ],
         "textposition": "middle center",
         "x": [
          55,
          85
         ],
         "y": [
          0,
          0
         ],
         "type": "scatter"
        },
        {
         "hovertemplate": "<b>myalgia</b><extra></extra>",
         "line": {
          "color": "gray",
          "width": 1
         },
         "marker": {
          "color": "gray",
          "size": 10,
          "symbol": "circle"
         },
         "mode": "lines+markers+text",
         "text": [
          "myalgia"
         ],
         "textposition": "middle center",
         "x": [
          37,
          47
         ],
         "y": [
          0,
          0
         ],
         "type": "scatter"
        },
        {
         "hovertemplate": "<b>abdominal pain</b><extra></extra>",
         "line": {
          "color": "gray",
          "width": 1
         },
         "marker": {
          "color": "gray",
          "size": 10,
          "symbol": "circle"
         },
         "mode": "lines+markers+text",
         "text": [
          "abdominal pain"
         ],
         "textposition": "middle center",
         "x": [
          61,
          12
         ],
         "y": [
          0,
          0
         ],
         "type": "scatter"
        },
        {
         "hovertemplate": "<b>myalgia</b><extra></extra>",
         "line": {
          "color": "gray",
          "width": 1
         },
         "marker": {
          "color": "gray",
          "size": 10,
          "symbol": "circle"
         },
         "mode": "lines+markers+text",
         "text": [
          "myalgia"
         ],
         "textposition": "middle center",
         "x": [
          31,
          47
         ],
         "y": [
          0,
          0
         ],
         "type": "scatter"
        },
        {
         "hovertemplate": "<b>sweating</b><extra></extra>",
         "line": {
          "color": "gray",
          "width": 1
         },
         "marker": {
          "color": "gray",
          "size": 10,
          "symbol": "circle"
         },
         "mode": "lines+markers+text",
         "text": [
          "sweating"
         ],
         "textposition": "middle center",
         "x": [
          71,
          82
         ],
         "y": [
          0,
          0
         ],
         "type": "scatter"
        },
        {
         "hovertemplate": "<b>speech disorder</b><extra></extra>",
         "line": {
          "color": "gray",
          "width": 1
         },
         "marker": {
          "color": "gray",
          "size": 10,
          "symbol": "circle"
         },
         "mode": "lines+markers+text",
         "text": [
          "speech disorder"
         ],
         "textposition": "middle center",
         "x": [
          55,
          10
         ],
         "y": [
          0,
          0
         ],
         "type": "scatter"
        },
        {
         "hovertemplate": "<b>photophobia</b><extra></extra>",
         "line": {
          "color": "gray",
          "width": 1
         },
         "marker": {
          "color": "gray",
          "size": 10,
          "symbol": "circle"
         },
         "mode": "lines+markers+text",
         "text": [
          "photophobia"
         ],
         "textposition": "middle center",
         "x": [
          71,
          73
         ],
         "y": [
          0,
          0
         ],
         "type": "scatter"
        },
        {
         "hovertemplate": "<b>photophobia</b><extra></extra>",
         "line": {
          "color": "gray",
          "width": 1
         },
         "marker": {
          "color": "gray",
          "size": 10,
          "symbol": "circle"
         },
         "mode": "lines+markers+text",
         "text": [
          "photophobia"
         ],
         "textposition": "middle center",
         "x": [
          39,
          73
         ],
         "y": [
          0,
          0
         ],
         "type": "scatter"
        },
        {
         "hovertemplate": "<b>hypersalivation</b><extra></extra>",
         "line": {
          "color": "gray",
          "width": 1
         },
         "marker": {
          "color": "gray",
          "size": 10,
          "symbol": "circle"
         },
         "mode": "lines+markers+text",
         "text": [
          "hypersalivation"
         ],
         "textposition": "middle center",
         "x": [
          38,
          29
         ],
         "y": [
          0,
          0
         ],
         "type": "scatter"
        },
        {
         "hovertemplate": "<b>hyperactivity</b><extra></extra>",
         "line": {
          "color": "gray",
          "width": 1
         },
         "marker": {
          "color": "gray",
          "size": 10,
          "symbol": "circle"
         },
         "mode": "lines+markers+text",
         "text": [
          "hyperactivity"
         ],
         "textposition": "middle center",
         "x": [
          38,
          83
         ],
         "y": [
          0,
          0
         ],
         "type": "scatter"
        }
       ],
       "layout": {
        "template": {
         "data": {
          "histogram2dcontour": [
           {
            "type": "histogram2dcontour",
            "colorbar": {
             "outlinewidth": 0,
             "ticks": ""
            },
            "colorscale": [
             [
              0.0,
              "#0d0887"
             ],
             [
              0.1111111111111111,
              "#46039f"
             ],
             [
              0.2222222222222222,
              "#7201a8"
             ],
             [
              0.3333333333333333,
              "#9c179e"
             ],
             [
              0.4444444444444444,
              "#bd3786"
             ],
             [
              0.5555555555555556,
              "#d8576b"
             ],
             [
              0.6666666666666666,
              "#ed7953"
             ],
             [
              0.7777777777777778,
              "#fb9f3a"
             ],
             [
              0.8888888888888888,
              "#fdca26"
             ],
             [
              1.0,
              "#f0f921"
             ]
            ]
           }
          ],
          "choropleth": [
           {
            "type": "choropleth",
            "colorbar": {
             "outlinewidth": 0,
             "ticks": ""
            }
           }
          ],
          "histogram2d": [
           {
            "type": "histogram2d",
            "colorbar": {
             "outlinewidth": 0,
             "ticks": ""
            },
            "colorscale": [
             [
              0.0,
              "#0d0887"
             ],
             [
              0.1111111111111111,
              "#46039f"
             ],
             [
              0.2222222222222222,
              "#7201a8"
             ],
             [
              0.3333333333333333,
              "#9c179e"
             ],
             [
              0.4444444444444444,
              "#bd3786"
             ],
             [
              0.5555555555555556,
              "#d8576b"
             ],
             [
              0.6666666666666666,
              "#ed7953"
             ],
             [
              0.7777777777777778,
              "#fb9f3a"
             ],
             [
              0.8888888888888888,
              "#fdca26"
             ],
             [
              1.0,
              "#f0f921"
             ]
            ]
           }
          ],
          "heatmap": [
           {
            "type": "heatmap",
            "colorbar": {
             "outlinewidth": 0,
             "ticks": ""
            },
            "colorscale": [
             [
              0.0,
              "#0d0887"
             ],
             [
              0.1111111111111111,
              "#46039f"
             ],
             [
              0.2222222222222222,
              "#7201a8"
             ],
             [
              0.3333333333333333,
              "#9c179e"
             ],
             [
              0.4444444444444444,
              "#bd3786"
             ],
             [
              0.5555555555555556,
              "#d8576b"
             ],
             [
              0.6666666666666666,
              "#ed7953"
             ],
             [
              0.7777777777777778,
              "#fb9f3a"
             ],
             [
              0.8888888888888888,
              "#fdca26"
             ],
             [
              1.0,
              "#f0f921"
             ]
            ]
           }
          ],
          "heatmapgl": [
           {
            "type": "heatmapgl",
            "colorbar": {
             "outlinewidth": 0,
             "ticks": ""
            },
            "colorscale": [
             [
              0.0,
              "#0d0887"
             ],
             [
              0.1111111111111111,
              "#46039f"
             ],
             [
              0.2222222222222222,
              "#7201a8"
             ],
             [
              0.3333333333333333,
              "#9c179e"
             ],
             [
              0.4444444444444444,
              "#bd3786"
             ],
             [
              0.5555555555555556,
              "#d8576b"
             ],
             [
              0.6666666666666666,
              "#ed7953"
             ],
             [
              0.7777777777777778,
              "#fb9f3a"
             ],
             [
              0.8888888888888888,
              "#fdca26"
             ],
             [
              1.0,
              "#f0f921"
             ]
            ]
           }
          ],
          "contourcarpet": [
           {
            "type": "contourcarpet",
            "colorbar": {
             "outlinewidth": 0,
             "ticks": ""
            }
           }
          ],
          "contour": [
           {
            "type": "contour",
            "colorbar": {
             "outlinewidth": 0,
             "ticks": ""
            },
            "colorscale": [
             [
              0.0,
              "#0d0887"
             ],
             [
              0.1111111111111111,
              "#46039f"
             ],
             [
              0.2222222222222222,
              "#7201a8"
             ],
             [
              0.3333333333333333,
              "#9c179e"
             ],
             [
              0.4444444444444444,
              "#bd3786"
             ],
             [
              0.5555555555555556,
              "#d8576b"
             ],
             [
              0.6666666666666666,
              "#ed7953"
             ],
             [
              0.7777777777777778,
              "#fb9f3a"
             ],
             [
              0.8888888888888888,
              "#fdca26"
             ],
             [
              1.0,
              "#f0f921"
             ]
            ]
           }
          ],
          "surface": [
           {
            "type": "surface",
            "colorbar": {
             "outlinewidth": 0,
             "ticks": ""
            },
            "colorscale": [
             [
              0.0,
              "#0d0887"
             ],
             [
              0.1111111111111111,
              "#46039f"
             ],
             [
              0.2222222222222222,
              "#7201a8"
             ],
             [
              0.3333333333333333,
              "#9c179e"
             ],
             [
              0.4444444444444444,
              "#bd3786"
             ],
             [
              0.5555555555555556,
              "#d8576b"
             ],
             [
              0.6666666666666666,
              "#ed7953"
             ],
             [
              0.7777777777777778,
              "#fb9f3a"
             ],
             [
              0.8888888888888888,
              "#fdca26"
             ],
             [
              1.0,
              "#f0f921"
             ]
            ]
           }
          ],
          "mesh3d": [
           {
            "type": "mesh3d",
            "colorbar": {
             "outlinewidth": 0,
             "ticks": ""
            }
           }
          ],
          "scatter": [
           {
            "fillpattern": {
             "fillmode": "overlay",
             "size": 10,
             "solidity": 0.2
            },
            "type": "scatter"
           }
          ],
          "parcoords": [
           {
            "type": "parcoords",
            "line": {
             "colorbar": {
              "outlinewidth": 0,
              "ticks": ""
             }
            }
           }
          ],
          "scatterpolargl": [
           {
            "type": "scatterpolargl",
            "marker": {
             "colorbar": {
              "outlinewidth": 0,
              "ticks": ""
             }
            }
           }
          ],
          "bar": [
           {
            "error_x": {
             "color": "#2a3f5f"
            },
            "error_y": {
             "color": "#2a3f5f"
            },
            "marker": {
             "line": {
              "color": "#E5ECF6",
              "width": 0.5
             },
             "pattern": {
              "fillmode": "overlay",
              "size": 10,
              "solidity": 0.2
             }
            },
            "type": "bar"
           }
          ],
          "scattergeo": [
           {
            "type": "scattergeo",
            "marker": {
             "colorbar": {
              "outlinewidth": 0,
              "ticks": ""
             }
            }
           }
          ],
          "scatterpolar": [
           {
            "type": "scatterpolar",
            "marker": {
             "colorbar": {
              "outlinewidth": 0,
              "ticks": ""
             }
            }
           }
          ],
          "histogram": [
           {
            "marker": {
             "pattern": {
              "fillmode": "overlay",
              "size": 10,
              "solidity": 0.2
             }
            },
            "type": "histogram"
           }
          ],
          "scattergl": [
           {
            "type": "scattergl",
            "marker": {
             "colorbar": {
              "outlinewidth": 0,
              "ticks": ""
             }
            }
           }
          ],
          "scatter3d": [
           {
            "type": "scatter3d",
            "line": {
             "colorbar": {
              "outlinewidth": 0,
              "ticks": ""
             }
            },
            "marker": {
             "colorbar": {
              "outlinewidth": 0,
              "ticks": ""
             }
            }
           }
          ],
          "scattermapbox": [
           {
            "type": "scattermapbox",
            "marker": {
             "colorbar": {
              "outlinewidth": 0,
              "ticks": ""
             }
            }
           }
          ],
          "scatterternary": [
           {
            "type": "scatterternary",
            "marker": {
             "colorbar": {
              "outlinewidth": 0,
              "ticks": ""
             }
            }
           }
          ],
          "scattercarpet": [
           {
            "type": "scattercarpet",
            "marker": {
             "colorbar": {
              "outlinewidth": 0,
              "ticks": ""
             }
            }
           }
          ],
          "carpet": [
           {
            "aaxis": {
             "endlinecolor": "#2a3f5f",
             "gridcolor": "white",
             "linecolor": "white",
             "minorgridcolor": "white",
             "startlinecolor": "#2a3f5f"
            },
            "baxis": {
             "endlinecolor": "#2a3f5f",
             "gridcolor": "white",
             "linecolor": "white",
             "minorgridcolor": "white",
             "startlinecolor": "#2a3f5f"
            },
            "type": "carpet"
           }
          ],
          "table": [
           {
            "cells": {
             "fill": {
              "color": "#EBF0F8"
             },
             "line": {
              "color": "white"
             }
            },
            "header": {
             "fill": {
              "color": "#C8D4E3"
             },
             "line": {
              "color": "white"
             }
            },
            "type": "table"
           }
          ],
          "barpolar": [
           {
            "marker": {
             "line": {
              "color": "#E5ECF6",
              "width": 0.5
             },
             "pattern": {
              "fillmode": "overlay",
              "size": 10,
              "solidity": 0.2
             }
            },
            "type": "barpolar"
           }
          ],
          "pie": [
           {
            "automargin": true,
            "type": "pie"
           }
          ]
         },
         "layout": {
          "autotypenumbers": "strict",
          "colorway": [
           "#636efa",
           "#EF553B",
           "#00cc96",
           "#ab63fa",
           "#FFA15A",
           "#19d3f3",
           "#FF6692",
           "#B6E880",
           "#FF97FF",
           "#FECB52"
          ],
          "font": {
           "color": "#2a3f5f"
          },
          "hovermode": "closest",
          "hoverlabel": {
           "align": "left"
          },
          "paper_bgcolor": "white",
          "plot_bgcolor": "#E5ECF6",
          "polar": {
           "bgcolor": "#E5ECF6",
           "angularaxis": {
            "gridcolor": "white",
            "linecolor": "white",
            "ticks": ""
           },
           "radialaxis": {
            "gridcolor": "white",
            "linecolor": "white",
            "ticks": ""
           }
          },
          "ternary": {
           "bgcolor": "#E5ECF6",
           "aaxis": {
            "gridcolor": "white",
            "linecolor": "white",
            "ticks": ""
           },
           "baxis": {
            "gridcolor": "white",
            "linecolor": "white",
            "ticks": ""
           },
           "caxis": {
            "gridcolor": "white",
            "linecolor": "white",
            "ticks": ""
           }
          },
          "coloraxis": {
           "colorbar": {
            "outlinewidth": 0,
            "ticks": ""
           }
          },
          "colorscale": {
           "sequential": [
            [
             0.0,
             "#0d0887"
            ],
            [
             0.1111111111111111,
             "#46039f"
            ],
            [
             0.2222222222222222,
             "#7201a8"
            ],
            [
             0.3333333333333333,
             "#9c179e"
            ],
            [
             0.4444444444444444,
             "#bd3786"
            ],
            [
             0.5555555555555556,
             "#d8576b"
            ],
            [
             0.6666666666666666,
             "#ed7953"
            ],
            [
             0.7777777777777778,
             "#fb9f3a"
            ],
            [
             0.8888888888888888,
             "#fdca26"
            ],
            [
             1.0,
             "#f0f921"
            ]
           ],
           "sequentialminus": [
            [
             0.0,
             "#0d0887"
            ],
            [
             0.1111111111111111,
             "#46039f"
            ],
            [
             0.2222222222222222,
             "#7201a8"
            ],
            [
             0.3333333333333333,
             "#9c179e"
            ],
            [
             0.4444444444444444,
             "#bd3786"
            ],
            [
             0.5555555555555556,
             "#d8576b"
            ],
            [
             0.6666666666666666,
             "#ed7953"
            ],
            [
             0.7777777777777778,
             "#fb9f3a"
            ],
            [
             0.8888888888888888,
             "#fdca26"
            ],
            [
             1.0,
             "#f0f921"
            ]
           ],
           "diverging": [
            [
             0,
             "#8e0152"
            ],
            [
             0.1,
             "#c51b7d"
            ],
            [
             0.2,
             "#de77ae"
            ],
            [
             0.3,
             "#f1b6da"
            ],
            [
             0.4,
             "#fde0ef"
            ],
            [
             0.5,
             "#f7f7f7"
            ],
            [
             0.6,
             "#e6f5d0"
            ],
            [
             0.7,
             "#b8e186"
            ],
            [
             0.8,
             "#7fbc41"
            ],
            [
             0.9,
             "#4d9221"
            ],
            [
             1,
             "#276419"
            ]
           ]
          },
          "xaxis": {
           "gridcolor": "white",
           "linecolor": "white",
           "ticks": "",
           "title": {
            "standoff": 15
           },
           "zerolinecolor": "white",
           "automargin": true,
           "zerolinewidth": 2
          },
          "yaxis": {
           "gridcolor": "white",
           "linecolor": "white",
           "ticks": "",
           "title": {
            "standoff": 15
           },
           "zerolinecolor": "white",
           "automargin": true,
           "zerolinewidth": 2
          },
          "scene": {
           "xaxis": {
            "backgroundcolor": "#E5ECF6",
            "gridcolor": "white",
            "linecolor": "white",
            "showbackground": true,
            "ticks": "",
            "zerolinecolor": "white",
            "gridwidth": 2
           },
           "yaxis": {
            "backgroundcolor": "#E5ECF6",
            "gridcolor": "white",
            "linecolor": "white",
            "showbackground": true,
            "ticks": "",
            "zerolinecolor": "white",
            "gridwidth": 2
           },
           "zaxis": {
            "backgroundcolor": "#E5ECF6",
            "gridcolor": "white",
            "linecolor": "white",
            "showbackground": true,
            "ticks": "",
            "zerolinecolor": "white",
            "gridwidth": 2
           }
          },
          "shapedefaults": {
           "line": {
            "color": "#2a3f5f"
           }
          },
          "annotationdefaults": {
           "arrowcolor": "#2a3f5f",
           "arrowhead": 0,
           "arrowwidth": 1
          },
          "geo": {
           "bgcolor": "white",
           "landcolor": "#E5ECF6",
           "subunitcolor": "white",
           "showland": true,
           "showlakes": true,
           "lakecolor": "white"
          },
          "title": {
           "x": 0.05
          },
          "mapbox": {
           "style": "light"
          }
         }
        },
        "xaxis": {
         "showgrid": false,
         "zeroline": false,
         "showticklabels": false
        },
        "yaxis": {
         "showgrid": false,
         "zeroline": false,
         "showticklabels": false
        },
        "margin": {
         "t": 20,
         "b": 20,
         "l": 20,
         "r": 20
        },
        "showlegend": false,
        "hovermode": "closest",
        "height": 600,
        "clickmode": "event+select"
       },
       "config": {
        "plotlyServerURL": "https://plot.ly"
       }
      },
      "text/html": "<div>                            <div id=\"5e6d5b13-7f8b-4827-a86c-5aa207c62a6a\" class=\"plotly-graph-div\" style=\"height:600px; width:100%;\"></div>            <script type=\"text/javascript\">                require([\"plotly\"], function(Plotly) {                    window.PLOTLYENV=window.PLOTLYENV || {};                                    if (document.getElementById(\"5e6d5b13-7f8b-4827-a86c-5aa207c62a6a\")) {                    Plotly.newPlot(                        \"5e6d5b13-7f8b-4827-a86c-5aa207c62a6a\",                        [{\"hovertemplate\":\"<b>%{text}</b><extra></extra>\",\"marker\":{\"color\":\"lightblue\",\"size\":30},\"mode\":\"markers+text\",\"text\":[\"http://www.wikidata.org/entity/Q2076329\"],\"textposition\":\"middle center\",\"x\":[0],\"y\":[0],\"type\":\"scatter\"},{\"hovertemplate\":\"<b>%{text}</b><extra></extra>\",\"marker\":{\"color\":\"lightblue\",\"size\":30},\"mode\":\"markers+text\",\"text\":[\"http://www.wikidata.org/entity/Q48143\"],\"textposition\":\"middle center\",\"x\":[0],\"y\":[0],\"type\":\"scatter\"},{\"hovertemplate\":\"<b>%{text}</b><extra></extra>\",\"marker\":{\"color\":\"lightblue\",\"size\":30},\"mode\":\"markers+text\",\"text\":[\"http://www.wikidata.org/entity/Q152234\"],\"textposition\":\"middle center\",\"x\":[0],\"y\":[0],\"type\":\"scatter\"},{\"hovertemplate\":\"<b>%{text}</b><extra></extra>\",\"marker\":{\"color\":\"lightblue\",\"size\":30},\"mode\":\"markers+text\",\"text\":[\"http://www.wikidata.org/entity/Q1128283\"],\"textposition\":\"middle center\",\"x\":[0],\"y\":[0],\"type\":\"scatter\"},{\"hovertemplate\":\"<b>%{text}</b><extra></extra>\",\"marker\":{\"color\":\"lightblue\",\"size\":30},\"mode\":\"markers+text\",\"text\":[\"http://www.wikidata.org/entity/Q2074059\"],\"textposition\":\"middle center\",\"x\":[0],\"y\":[0],\"type\":\"scatter\"},{\"hovertemplate\":\"<b>%{text}</b><extra></extra>\",\"marker\":{\"color\":\"lightblue\",\"size\":30},\"mode\":\"markers+text\",\"text\":[\"http://www.wikidata.org/entity/Q693058\"],\"textposition\":\"middle center\",\"x\":[0],\"y\":[0],\"type\":\"scatter\"},{\"hovertemplate\":\"<b>%{text}</b><extra></extra>\",\"marker\":{\"color\":\"lightblue\",\"size\":30},\"mode\":\"markers+text\",\"text\":[\"http://www.wikidata.org/entity/Q186235\"],\"textposition\":\"middle center\",\"x\":[0],\"y\":[0],\"type\":\"scatter\"},{\"hovertemplate\":\"<b>%{text}</b><extra></extra>\",\"marker\":{\"color\":\"lightblue\",\"size\":30},\"mode\":\"markers+text\",\"text\":[\"http://www.wikidata.org/entity/Q2260058\"],\"textposition\":\"middle center\",\"x\":[0],\"y\":[0],\"type\":\"scatter\"},{\"hovertemplate\":\"<b>%{text}</b><extra></extra>\",\"marker\":{\"color\":\"lightblue\",\"size\":30},\"mode\":\"markers+text\",\"text\":[\"http://www.wikidata.org/entity/Q114953\"],\"textposition\":\"middle center\",\"x\":[0],\"y\":[0],\"type\":\"scatter\"},{\"hovertemplate\":\"<b>%{text}</b><extra></extra>\",\"marker\":{\"color\":\"lightblue\",\"size\":30},\"mode\":\"markers+text\",\"text\":[\"Q190805\"],\"textposition\":\"middle center\",\"x\":[0],\"y\":[0],\"type\":\"scatter\"},{\"hovertemplate\":\"<b>%{text}</b><extra></extra>\",\"marker\":{\"color\":\"lightblue\",\"size\":30},\"mode\":\"markers+text\",\"text\":[\"http://www.wikidata.org/entity/Q1282114\"],\"textposition\":\"middle center\",\"x\":[0],\"y\":[0],\"type\":\"scatter\"},{\"hovertemplate\":\"<b>%{text}</b><extra></extra>\",\"marker\":{\"color\":\"lightblue\",\"size\":30},\"mode\":\"markers+text\",\"text\":[\"Q199804\"],\"textposition\":\"middle center\",\"x\":[0],\"y\":[0],\"type\":\"scatter\"},{\"hovertemplate\":\"<b>%{text}</b><extra></extra>\",\"marker\":{\"color\":\"lightblue\",\"size\":30},\"mode\":\"markers+text\",\"text\":[\"http://www.wikidata.org/entity/Q183425\"],\"textposition\":\"middle center\",\"x\":[0],\"y\":[0],\"type\":\"scatter\"},{\"hovertemplate\":\"<b>%{text}</b><extra></extra>\",\"marker\":{\"color\":\"lightblue\",\"size\":30},\"mode\":\"markers+text\",\"text\":[\"http://www.wikidata.org/entity/Q9690\"],\"textposition\":\"middle center\",\"x\":[0],\"y\":[0],\"type\":\"scatter\"},{\"hovertemplate\":\"<b>%{text}</b><extra></extra>\",\"marker\":{\"color\":\"lightblue\",\"size\":30},\"mode\":\"markers+text\",\"text\":[\"http://www.wikidata.org/entity/Q180762\"],\"textposition\":\"middle center\",\"x\":[0],\"y\":[0],\"type\":\"scatter\"},{\"hovertemplate\":\"<b>%{text}</b><extra></extra>\",\"marker\":{\"color\":\"lightblue\",\"size\":30},\"mode\":\"markers+text\",\"text\":[\"http://www.wikidata.org/entity/Q2434711\"],\"textposition\":\"middle center\",\"x\":[0],\"y\":[0],\"type\":\"scatter\"},{\"hovertemplate\":\"<b>%{text}</b><extra></extra>\",\"marker\":{\"color\":\"lightblue\",\"size\":30},\"mode\":\"markers+text\",\"text\":[\"http://www.wikidata.org/entity/Q769220\"],\"textposition\":\"middle center\",\"x\":[0],\"y\":[0],\"type\":\"scatter\"},{\"hovertemplate\":\"<b>%{text}</b><extra></extra>\",\"marker\":{\"color\":\"lightblue\",\"size\":30},\"mode\":\"markers+text\",\"text\":[\"http://www.wikidata.org/entity/Q202837\"],\"textposition\":\"middle center\",\"x\":[0],\"y\":[0],\"type\":\"scatter\"},{\"hovertemplate\":\"<b>%{text}</b><extra></extra>\",\"marker\":{\"color\":\"lightblue\",\"size\":30},\"mode\":\"markers+text\",\"text\":[\"http://www.wikidata.org/entity/Q41861\"],\"textposition\":\"middle center\",\"x\":[0],\"y\":[0],\"type\":\"scatter\"},{\"hovertemplate\":\"<b>%{text}</b><extra></extra>\",\"marker\":{\"color\":\"lightblue\",\"size\":30},\"mode\":\"markers+text\",\"text\":[\"http://www.wikidata.org/entity/Q29299\"],\"textposition\":\"middle center\",\"x\":[0],\"y\":[0],\"type\":\"scatter\"},{\"hovertemplate\":\"<b>%{text}</b><extra></extra>\",\"marker\":{\"color\":\"lightblue\",\"size\":30},\"mode\":\"markers+text\",\"text\":[\"http://www.wikidata.org/entity/Q9073584\"],\"textposition\":\"middle center\",\"x\":[0],\"y\":[0],\"type\":\"scatter\"},{\"hovertemplate\":\"<b>%{text}</b><extra></extra>\",\"marker\":{\"color\":\"lightblue\",\"size\":30},\"mode\":\"markers+text\",\"text\":[\"http://www.wikidata.org/entity/Q28868265\"],\"textposition\":\"middle center\",\"x\":[0],\"y\":[0],\"type\":\"scatter\"},{\"hovertemplate\":\"<b>%{text}</b><extra></extra>\",\"marker\":{\"color\":\"lightblue\",\"size\":30},\"mode\":\"markers+text\",\"text\":[\"http://www.wikidata.org/entity/Q2306782\"],\"textposition\":\"middle center\",\"x\":[0],\"y\":[0],\"type\":\"scatter\"},{\"hovertemplate\":\"<b>%{text}</b><extra></extra>\",\"marker\":{\"color\":\"lightblue\",\"size\":30},\"mode\":\"markers+text\",\"text\":[\"http://www.wikidata.org/entity/Q193889\"],\"textposition\":\"middle center\",\"x\":[0],\"y\":[0],\"type\":\"scatter\"},{\"hovertemplate\":\"<b>%{text}</b><extra></extra>\",\"marker\":{\"color\":\"lightblue\",\"size\":30},\"mode\":\"markers+text\",\"text\":[\"http://www.wikidata.org/entity/Q188008\"],\"textposition\":\"middle center\",\"x\":[0],\"y\":[0],\"type\":\"scatter\"},{\"hovertemplate\":\"<b>%{text}</b><extra></extra>\",\"marker\":{\"color\":\"lightblue\",\"size\":30},\"mode\":\"markers+text\",\"text\":[\"http://www.wikidata.org/entity/Q56635009\"],\"textposition\":\"middle center\",\"x\":[0],\"y\":[0],\"type\":\"scatter\"},{\"hovertemplate\":\"<b>%{text}</b><extra></extra>\",\"marker\":{\"color\":\"lightblue\",\"size\":30},\"mode\":\"markers+text\",\"text\":[\"http://www.wikidata.org/entity/Q107231\"],\"textposition\":\"middle center\",\"x\":[0],\"y\":[0],\"type\":\"scatter\"},{\"hovertemplate\":\"<b>%{text}</b><extra></extra>\",\"marker\":{\"color\":\"lightblue\",\"size\":30},\"mode\":\"markers+text\",\"text\":[\"http://www.wikidata.org/entity/Q81938\"],\"textposition\":\"middle center\",\"x\":[0],\"y\":[0],\"type\":\"scatter\"},{\"hovertemplate\":\"<b>%{text}</b><extra></extra>\",\"marker\":{\"color\":\"lightblue\",\"size\":30},\"mode\":\"markers+text\",\"text\":[\"http://www.wikidata.org/entity/Q38933\"],\"textposition\":\"middle center\",\"x\":[0],\"y\":[0],\"type\":\"scatter\"},{\"hovertemplate\":\"<b>%{text}</b><extra></extra>\",\"marker\":{\"color\":\"lightblue\",\"size\":30},\"mode\":\"markers+text\",\"text\":[\"http://www.wikidata.org/entity/Q761862\"],\"textposition\":\"middle center\",\"x\":[0],\"y\":[0],\"type\":\"scatter\"},{\"hovertemplate\":\"<b>%{text}</b><extra></extra>\",\"marker\":{\"color\":\"lightblue\",\"size\":30},\"mode\":\"markers+text\",\"text\":[\"http://www.wikidata.org/entity/Q209789\"],\"textposition\":\"middle center\",\"x\":[0],\"y\":[0],\"type\":\"scatter\"},{\"hovertemplate\":\"<b>%{text}</b><extra></extra>\",\"marker\":{\"color\":\"lightblue\",\"size\":30},\"mode\":\"markers+text\",\"text\":[\"Q201989\"],\"textposition\":\"middle center\",\"x\":[0],\"y\":[0],\"type\":\"scatter\"},{\"hovertemplate\":\"<b>%{text}</b><extra></extra>\",\"marker\":{\"color\":\"lightblue\",\"size\":30},\"mode\":\"markers+text\",\"text\":[\"http://www.wikidata.org/entity/Q3073147\"],\"textposition\":\"middle center\",\"x\":[0],\"y\":[0],\"type\":\"scatter\"},{\"hovertemplate\":\"<b>%{text}</b><extra></extra>\",\"marker\":{\"color\":\"lightblue\",\"size\":30},\"mode\":\"markers+text\",\"text\":[\"http://www.wikidata.org/entity/Q180007\"],\"textposition\":\"middle center\",\"x\":[0],\"y\":[0],\"type\":\"scatter\"},{\"hovertemplate\":\"<b>%{text}</b><extra></extra>\",\"marker\":{\"color\":\"lightblue\",\"size\":30},\"mode\":\"markers+text\",\"text\":[\"http://www.wikidata.org/entity/Q177190\"],\"textposition\":\"middle center\",\"x\":[0],\"y\":[0],\"type\":\"scatter\"},{\"hovertemplate\":\"<b>%{text}</b><extra></extra>\",\"marker\":{\"color\":\"lightblue\",\"size\":30},\"mode\":\"markers+text\",\"text\":[\"http://www.wikidata.org/entity/Q622427\"],\"textposition\":\"middle center\",\"x\":[0],\"y\":[0],\"type\":\"scatter\"},{\"hovertemplate\":\"<b>%{text}</b><extra></extra>\",\"marker\":{\"color\":\"lightblue\",\"size\":30},\"mode\":\"markers+text\",\"text\":[\"http://www.wikidata.org/entity/Q127076\"],\"textposition\":\"middle center\",\"x\":[0],\"y\":[0],\"type\":\"scatter\"},{\"hovertemplate\":\"<b>%{text}</b><extra></extra>\",\"marker\":{\"color\":\"lightblue\",\"size\":30},\"mode\":\"markers+text\",\"text\":[\"Q155098\"],\"textposition\":\"middle center\",\"x\":[0],\"y\":[0],\"type\":\"scatter\"},{\"hovertemplate\":\"<b>%{text}</b><extra></extra>\",\"marker\":{\"color\":\"lightblue\",\"size\":30},\"mode\":\"markers+text\",\"text\":[\"Q39222\"],\"textposition\":\"middle center\",\"x\":[0],\"y\":[0],\"type\":\"scatter\"},{\"hovertemplate\":\"<b>%{text}</b><extra></extra>\",\"marker\":{\"color\":\"lightblue\",\"size\":30},\"mode\":\"markers+text\",\"text\":[\"Q133823\"],\"textposition\":\"middle center\",\"x\":[0],\"y\":[0],\"type\":\"scatter\"},{\"hovertemplate\":\"<b>%{text}</b><extra></extra>\",\"marker\":{\"color\":\"lightblue\",\"size\":30},\"mode\":\"markers+text\",\"text\":[\"http://www.wikidata.org/entity/Q2046811\"],\"textposition\":\"middle center\",\"x\":[0],\"y\":[0],\"type\":\"scatter\"},{\"hovertemplate\":\"<b>%{text}</b><extra></extra>\",\"marker\":{\"color\":\"lightblue\",\"size\":30},\"mode\":\"markers+text\",\"text\":[\"http://www.wikidata.org/entity/Q170082\"],\"textposition\":\"middle center\",\"x\":[0],\"y\":[0],\"type\":\"scatter\"},{\"hovertemplate\":\"<b>%{text}</b><extra></extra>\",\"marker\":{\"color\":\"lightblue\",\"size\":30},\"mode\":\"markers+text\",\"text\":[\"http://www.wikidata.org/entity/Q24869904\"],\"textposition\":\"middle center\",\"x\":[0],\"y\":[0],\"type\":\"scatter\"},{\"hovertemplate\":\"<b>%{text}</b><extra></extra>\",\"marker\":{\"color\":\"lightblue\",\"size\":30},\"mode\":\"markers+text\",\"text\":[\"http://www.wikidata.org/entity/Q1166142\"],\"textposition\":\"middle center\",\"x\":[0],\"y\":[0],\"type\":\"scatter\"},{\"hovertemplate\":\"<b>%{text}</b><extra></extra>\",\"marker\":{\"color\":\"lightblue\",\"size\":30},\"mode\":\"markers+text\",\"text\":[\"http://www.wikidata.org/entity/Q3072083\"],\"textposition\":\"middle center\",\"x\":[0],\"y\":[0],\"type\":\"scatter\"},{\"hovertemplate\":\"<b>%{text}</b><extra></extra>\",\"marker\":{\"color\":\"lightblue\",\"size\":30},\"mode\":\"markers+text\",\"text\":[\"http://www.wikidata.org/entity/Q189331\"],\"textposition\":\"middle center\",\"x\":[0],\"y\":[0],\"type\":\"scatter\"},{\"hovertemplate\":\"<b>%{text}</b><extra></extra>\",\"marker\":{\"color\":\"lightblue\",\"size\":30},\"mode\":\"markers+text\",\"text\":[\"http://www.wikidata.org/entity/Q17077617\"],\"textposition\":\"middle center\",\"x\":[0],\"y\":[0],\"type\":\"scatter\"},{\"hovertemplate\":\"<b>%{text}</b><extra></extra>\",\"marker\":{\"color\":\"lightblue\",\"size\":30},\"mode\":\"markers+text\",\"text\":[\"http://www.wikidata.org/entity/Q474959\"],\"textposition\":\"middle center\",\"x\":[0],\"y\":[0],\"type\":\"scatter\"},{\"hovertemplate\":\"<b>%{text}</b><extra></extra>\",\"marker\":{\"color\":\"lightblue\",\"size\":30},\"mode\":\"markers+text\",\"text\":[\"http://www.wikidata.org/entity/Q1115038\"],\"textposition\":\"middle center\",\"x\":[0],\"y\":[0],\"type\":\"scatter\"},{\"hovertemplate\":\"<b>%{text}</b><extra></extra>\",\"marker\":{\"color\":\"lightblue\",\"size\":30},\"mode\":\"markers+text\",\"text\":[\"http://www.wikidata.org/entity/Q12153824\"],\"textposition\":\"middle center\",\"x\":[0],\"y\":[0],\"type\":\"scatter\"},{\"hovertemplate\":\"<b>%{text}</b><extra></extra>\",\"marker\":{\"color\":\"lightblue\",\"size\":30},\"mode\":\"markers+text\",\"text\":[\"http://www.wikidata.org/entity/Q186889\"],\"textposition\":\"middle center\",\"x\":[0],\"y\":[0],\"type\":\"scatter\"},{\"hovertemplate\":\"<b>%{text}</b><extra></extra>\",\"marker\":{\"color\":\"lightblue\",\"size\":30},\"mode\":\"markers+text\",\"text\":[\"http://www.wikidata.org/entity/Q3245488\"],\"textposition\":\"middle center\",\"x\":[0],\"y\":[0],\"type\":\"scatter\"},{\"hovertemplate\":\"<b>%{text}</b><extra></extra>\",\"marker\":{\"color\":\"lightblue\",\"size\":30},\"mode\":\"markers+text\",\"text\":[\"http://www.wikidata.org/entity/Q517104\"],\"textposition\":\"middle center\",\"x\":[0],\"y\":[0],\"type\":\"scatter\"},{\"hovertemplate\":\"<b>%{text}</b><extra></extra>\",\"marker\":{\"color\":\"lightblue\",\"size\":30},\"mode\":\"markers+text\",\"text\":[\"http://www.wikidata.org/entity/Q209583\"],\"textposition\":\"middle center\",\"x\":[0],\"y\":[0],\"type\":\"scatter\"},{\"hovertemplate\":\"<b>%{text}</b><extra></extra>\",\"marker\":{\"color\":\"lightblue\",\"size\":30},\"mode\":\"markers+text\",\"text\":[\"Q194101\"],\"textposition\":\"middle center\",\"x\":[0],\"y\":[0],\"type\":\"scatter\"},{\"hovertemplate\":\"<b>%{text}</b><extra></extra>\",\"marker\":{\"color\":\"lightblue\",\"size\":30},\"mode\":\"markers+text\",\"text\":[\"Q160796\"],\"textposition\":\"middle center\",\"x\":[0],\"y\":[0],\"type\":\"scatter\"},{\"hovertemplate\":\"<b>%{text}</b><extra></extra>\",\"marker\":{\"color\":\"lightblue\",\"size\":30},\"mode\":\"markers+text\",\"text\":[\"http://www.wikidata.org/entity/Q476921\"],\"textposition\":\"middle center\",\"x\":[0],\"y\":[0],\"type\":\"scatter\"},{\"hovertemplate\":\"<b>%{text}</b><extra></extra>\",\"marker\":{\"color\":\"lightblue\",\"size\":30},\"mode\":\"markers+text\",\"text\":[\"http://www.wikidata.org/entity/Q35805\"],\"textposition\":\"middle center\",\"x\":[0],\"y\":[0],\"type\":\"scatter\"},{\"hovertemplate\":\"<b>%{text}</b><extra></extra>\",\"marker\":{\"color\":\"lightblue\",\"size\":30},\"mode\":\"markers+text\",\"text\":[\"http://www.wikidata.org/entity/Q7502090\"],\"textposition\":\"middle center\",\"x\":[0],\"y\":[0],\"type\":\"scatter\"},{\"hovertemplate\":\"<b>%{text}</b><extra></extra>\",\"marker\":{\"color\":\"lightblue\",\"size\":30},\"mode\":\"markers+text\",\"text\":[\"Q133087\"],\"textposition\":\"middle center\",\"x\":[0],\"y\":[0],\"type\":\"scatter\"},{\"hovertemplate\":\"<b>%{text}</b><extra></extra>\",\"marker\":{\"color\":\"lightblue\",\"size\":30},\"mode\":\"markers+text\",\"text\":[\"http://www.wikidata.org/entity/Q1869874\"],\"textposition\":\"middle center\",\"x\":[0],\"y\":[0],\"type\":\"scatter\"},{\"hovertemplate\":\"<b>%{text}</b><extra></extra>\",\"marker\":{\"color\":\"lightblue\",\"size\":30},\"mode\":\"markers+text\",\"text\":[\"Q137597\"],\"textposition\":\"middle center\",\"x\":[0],\"y\":[0],\"type\":\"scatter\"},{\"hovertemplate\":\"<b>%{text}</b><extra></extra>\",\"marker\":{\"color\":\"lightblue\",\"size\":30},\"mode\":\"markers+text\",\"text\":[\"Q132971\"],\"textposition\":\"middle center\",\"x\":[0],\"y\":[0],\"type\":\"scatter\"},{\"hovertemplate\":\"<b>%{text}</b><extra></extra>\",\"marker\":{\"color\":\"lightblue\",\"size\":30},\"mode\":\"markers+text\",\"text\":[\"http://www.wikidata.org/entity/Q130741\"],\"textposition\":\"middle center\",\"x\":[0],\"y\":[0],\"type\":\"scatter\"},{\"hovertemplate\":\"<b>%{text}</b><extra></extra>\",\"marker\":{\"color\":\"lightblue\",\"size\":30},\"mode\":\"markers+text\",\"text\":[\"http://www.wikidata.org/entity/Q1188698\"],\"textposition\":\"middle center\",\"x\":[0],\"y\":[0],\"type\":\"scatter\"},{\"hovertemplate\":\"<b>%{text}</b><extra></extra>\",\"marker\":{\"color\":\"lightblue\",\"size\":30},\"mode\":\"markers+text\",\"text\":[\"Q48143\"],\"textposition\":\"middle center\",\"x\":[0],\"y\":[0],\"type\":\"scatter\"},{\"hovertemplate\":\"<b>%{text}</b><extra></extra>\",\"marker\":{\"color\":\"lightblue\",\"size\":30},\"mode\":\"markers+text\",\"text\":[\"http://www.wikidata.org/entity/Q44619\"],\"textposition\":\"middle center\",\"x\":[0],\"y\":[0],\"type\":\"scatter\"},{\"hovertemplate\":\"<b>%{text}</b><extra></extra>\",\"marker\":{\"color\":\"lightblue\",\"size\":30},\"mode\":\"markers+text\",\"text\":[\"Q174651\"],\"textposition\":\"middle center\",\"x\":[0],\"y\":[0],\"type\":\"scatter\"},{\"hovertemplate\":\"<b>%{text}</b><extra></extra>\",\"marker\":{\"color\":\"lightblue\",\"size\":30},\"mode\":\"markers+text\",\"text\":[\"http://www.wikidata.org/entity/Q3774744\"],\"textposition\":\"middle center\",\"x\":[0],\"y\":[0],\"type\":\"scatter\"},{\"hovertemplate\":\"<b>%{text}</b><extra></extra>\",\"marker\":{\"color\":\"lightblue\",\"size\":30},\"mode\":\"markers+text\",\"text\":[\"http://www.wikidata.org/entity/Q653197\"],\"textposition\":\"middle center\",\"x\":[0],\"y\":[0],\"type\":\"scatter\"},{\"hovertemplate\":\"<b>%{text}</b><extra></extra>\",\"marker\":{\"color\":\"lightblue\",\"size\":30},\"mode\":\"markers+text\",\"text\":[\"http://www.wikidata.org/entity/Q823027\"],\"textposition\":\"middle center\",\"x\":[0],\"y\":[0],\"type\":\"scatter\"},{\"hovertemplate\":\"<b>%{text}</b><extra></extra>\",\"marker\":{\"color\":\"lightblue\",\"size\":30},\"mode\":\"markers+text\",\"text\":[\"Q166907\"],\"textposition\":\"middle center\",\"x\":[0],\"y\":[0],\"type\":\"scatter\"},{\"hovertemplate\":\"<b>%{text}</b><extra></extra>\",\"marker\":{\"color\":\"lightblue\",\"size\":30},\"mode\":\"markers+text\",\"text\":[\"http://www.wikidata.org/entity/Q199602\"],\"textposition\":\"middle center\",\"x\":[0],\"y\":[0],\"type\":\"scatter\"},{\"hovertemplate\":\"<b>%{text}</b><extra></extra>\",\"marker\":{\"color\":\"lightblue\",\"size\":30},\"mode\":\"markers+text\",\"text\":[\"http://www.wikidata.org/entity/Q281289\"],\"textposition\":\"middle center\",\"x\":[0],\"y\":[0],\"type\":\"scatter\"},{\"hovertemplate\":\"<b>%{text}</b><extra></extra>\",\"marker\":{\"color\":\"lightblue\",\"size\":30},\"mode\":\"markers+text\",\"text\":[\"http://www.wikidata.org/entity/Q3540864\"],\"textposition\":\"middle center\",\"x\":[0],\"y\":[0],\"type\":\"scatter\"},{\"hovertemplate\":\"<b>%{text}</b><extra></extra>\",\"marker\":{\"color\":\"lightblue\",\"size\":30},\"mode\":\"markers+text\",\"text\":[\"Q192579\"],\"textposition\":\"middle center\",\"x\":[0],\"y\":[0],\"type\":\"scatter\"},{\"hovertemplate\":\"<b>%{text}</b><extra></extra>\",\"marker\":{\"color\":\"lightblue\",\"size\":30},\"mode\":\"markers+text\",\"text\":[\"http://www.wikidata.org/entity/Q28455110\"],\"textposition\":\"middle center\",\"x\":[0],\"y\":[0],\"type\":\"scatter\"},{\"hovertemplate\":\"<b>%{text}</b><extra></extra>\",\"marker\":{\"color\":\"lightblue\",\"size\":30},\"mode\":\"markers+text\",\"text\":[\"http://www.wikidata.org/entity/Q2610154\"],\"textposition\":\"middle center\",\"x\":[0],\"y\":[0],\"type\":\"scatter\"},{\"hovertemplate\":\"<b>%{text}</b><extra></extra>\",\"marker\":{\"color\":\"lightblue\",\"size\":30},\"mode\":\"markers+text\",\"text\":[\"Q183134\"],\"textposition\":\"middle center\",\"x\":[0],\"y\":[0],\"type\":\"scatter\"},{\"hovertemplate\":\"<b>%{text}</b><extra></extra>\",\"marker\":{\"color\":\"lightblue\",\"size\":30},\"mode\":\"markers+text\",\"text\":[\"http://www.wikidata.org/entity/Q86\"],\"textposition\":\"middle center\",\"x\":[0],\"y\":[0],\"type\":\"scatter\"},{\"hovertemplate\":\"<b>%{text}</b><extra></extra>\",\"marker\":{\"color\":\"lightblue\",\"size\":30},\"mode\":\"markers+text\",\"text\":[\"http://www.wikidata.org/entity/Q3030775\"],\"textposition\":\"middle center\",\"x\":[0],\"y\":[0],\"type\":\"scatter\"},{\"hovertemplate\":\"<b>%{text}</b><extra></extra>\",\"marker\":{\"color\":\"lightblue\",\"size\":30},\"mode\":\"markers+text\",\"text\":[\"http://www.wikidata.org/entity/Q109186\"],\"textposition\":\"middle center\",\"x\":[0],\"y\":[0],\"type\":\"scatter\"},{\"hovertemplate\":\"<b>%{text}</b><extra></extra>\",\"marker\":{\"color\":\"lightblue\",\"size\":30},\"mode\":\"markers+text\",\"text\":[\"http://www.wikidata.org/entity/Q3537764\"],\"textposition\":\"middle center\",\"x\":[0],\"y\":[0],\"type\":\"scatter\"},{\"hovertemplate\":\"<b>%{text}</b><extra></extra>\",\"marker\":{\"color\":\"lightblue\",\"size\":30},\"mode\":\"markers+text\",\"text\":[\"http://www.wikidata.org/entity/Q1640850\"],\"textposition\":\"middle center\",\"x\":[0],\"y\":[0],\"type\":\"scatter\"},{\"hovertemplate\":\"<b>%{text}</b><extra></extra>\",\"marker\":{\"color\":\"lightblue\",\"size\":30},\"mode\":\"markers+text\",\"text\":[\"http://www.wikidata.org/entity/Q394129\"],\"textposition\":\"middle center\",\"x\":[0],\"y\":[0],\"type\":\"scatter\"},{\"hovertemplate\":\"<b>%{text}</b><extra></extra>\",\"marker\":{\"color\":\"lightblue\",\"size\":30},\"mode\":\"markers+text\",\"text\":[\"http://www.wikidata.org/entity/Q1895873\"],\"textposition\":\"middle center\",\"x\":[0],\"y\":[0],\"type\":\"scatter\"},{\"hovertemplate\":\"<b>%{text}</b><extra></extra>\",\"marker\":{\"color\":\"lightblue\",\"size\":30},\"mode\":\"markers+text\",\"text\":[\"http://www.wikidata.org/entity/Q683498\"],\"textposition\":\"middle center\",\"x\":[0],\"y\":[0],\"type\":\"scatter\"},{\"hovertemplate\":\"<b>%{text}</b><extra></extra>\",\"marker\":{\"color\":\"lightblue\",\"size\":30},\"mode\":\"markers+text\",\"text\":[\"http://www.wikidata.org/entity/Q1499629\"],\"textposition\":\"middle center\",\"x\":[0],\"y\":[0],\"type\":\"scatter\"},{\"hovertemplate\":\"<b>%{text}</b><extra></extra>\",\"marker\":{\"color\":\"lightblue\",\"size\":30},\"mode\":\"markers+text\",\"text\":[\"http://www.wikidata.org/entity/Q170990\"],\"textposition\":\"middle center\",\"x\":[0],\"y\":[0],\"type\":\"scatter\"},{\"hovertemplate\":\"<b>%{text}</b><extra></extra>\",\"marker\":{\"color\":\"lightblue\",\"size\":30},\"mode\":\"markers+text\",\"text\":[\"Q167178\"],\"textposition\":\"middle center\",\"x\":[0],\"y\":[0],\"type\":\"scatter\"},{\"hovertemplate\":\"<b>thought disorder</b><extra></extra>\",\"line\":{\"color\":\"gray\",\"width\":1},\"marker\":{\"color\":\"gray\",\"size\":10,\"symbol\":\"circle\"},\"mode\":\"lines+markers+text\",\"text\":[\"thought disorder\"],\"textposition\":\"middle center\",\"x\":[55,64],\"y\":[0,0],\"type\":\"scatter\"},{\"hovertemplate\":\"<b>red eye</b><extra></extra>\",\"line\":{\"color\":\"gray\",\"width\":1},\"marker\":{\"color\":\"gray\",\"size\":10,\"symbol\":\"circle\"},\"mode\":\"lines+markers+text\",\"text\":[\"red eye\"],\"textposition\":\"middle center\",\"x\":[71,77],\"y\":[0,0],\"type\":\"scatter\"},{\"hovertemplate\":\"<b>psychomotor agitation</b><extra></extra>\",\"line\":{\"color\":\"gray\",\"width\":1},\"marker\":{\"color\":\"gray\",\"size\":10,\"symbol\":\"circle\"},\"mode\":\"lines+markers+text\",\"text\":[\"psychomotor agitation\"],\"textposition\":\"middle center\",\"x\":[71,84],\"y\":[0,0],\"type\":\"scatter\"},{\"hovertemplate\":\"<b>disseminated intravascular coagulation</b><extra></extra>\",\"line\":{\"color\":\"gray\",\"width\":1},\"marker\":{\"color\":\"gray\",\"size\":10,\"symbol\":\"circle\"},\"mode\":\"lines+markers+text\",\"text\":[\"disseminated intravascular coagulation\"],\"textposition\":\"middle center\",\"x\":[37,70],\"y\":[0,0],\"type\":\"scatter\"},{\"hovertemplate\":\"<b>irritability</b><extra></extra>\",\"line\":{\"color\":\"gray\",\"width\":1},\"marker\":{\"color\":\"gray\",\"size\":10,\"symbol\":\"circle\"},\"mode\":\"lines+markers+text\",\"text\":[\"irritability\"],\"textposition\":\"middle center\",\"x\":[75,19],\"y\":[0,0],\"type\":\"scatter\"},{\"hovertemplate\":\"<b>short stature</b><extra></extra>\",\"line\":{\"color\":\"gray\",\"width\":1},\"marker\":{\"color\":\"gray\",\"size\":10,\"symbol\":\"circle\"},\"mode\":\"lines+markers+text\",\"text\":[\"short stature\"],\"textposition\":\"middle center\",\"x\":[54,58],\"y\":[0,0],\"type\":\"scatter\"},{\"hovertemplate\":\"<b>chills</b><extra></extra>\",\"line\":{\"color\":\"gray\",\"width\":1},\"marker\":{\"color\":\"gray\",\"size\":10,\"symbol\":\"circle\"},\"mode\":\"lines+markers+text\",\"text\":[\"chills\"],\"textposition\":\"middle center\",\"x\":[78,7],\"y\":[0,0],\"type\":\"scatter\"},{\"hovertemplate\":\"<b>runny nose</b><extra></extra>\",\"line\":{\"color\":\"gray\",\"width\":1},\"marker\":{\"color\":\"gray\",\"size\":10,\"symbol\":\"circle\"},\"mode\":\"lines+markers+text\",\"text\":[\"runny nose\"],\"textposition\":\"middle center\",\"x\":[71,48],\"y\":[0,0],\"type\":\"scatter\"},{\"hovertemplate\":\"<b>fever</b><extra></extra>\",\"line\":{\"color\":\"gray\",\"width\":1},\"marker\":{\"color\":\"gray\",\"size\":10,\"symbol\":\"circle\"},\"mode\":\"lines+markers+text\",\"text\":[\"fever\"],\"textposition\":\"middle center\",\"x\":[89,28],\"y\":[0,0],\"type\":\"scatter\"},{\"hovertemplate\":\"<b>myocarditis</b><extra></extra>\",\"line\":{\"color\":\"gray\",\"width\":1},\"marker\":{\"color\":\"gray\",\"size\":10,\"symbol\":\"circle\"},\"mode\":\"lines+markers+text\",\"text\":[\"myocarditis\"],\"textposition\":\"middle center\",\"x\":[37,6],\"y\":[0,0],\"type\":\"scatter\"},{\"hovertemplate\":\"<b>ptosis</b><extra></extra>\",\"line\":{\"color\":\"gray\",\"width\":1},\"marker\":{\"color\":\"gray\",\"size\":10,\"symbol\":\"circle\"},\"mode\":\"lines+markers+text\",\"text\":[\"ptosis\"],\"textposition\":\"middle center\",\"x\":[71,35],\"y\":[0,0],\"type\":\"scatter\"},{\"hovertemplate\":\"<b>kidney failure</b><extra></extra>\",\"line\":{\"color\":\"gray\",\"width\":1},\"marker\":{\"color\":\"gray\",\"size\":10,\"symbol\":\"circle\"},\"mode\":\"lines+markers+text\",\"text\":[\"kidney failure\"],\"textposition\":\"middle center\",\"x\":[37,56],\"y\":[0,0],\"type\":\"scatter\"},{\"hovertemplate\":\"<b>meningeal syndrome</b><extra></extra>\",\"line\":{\"color\":\"gray\",\"width\":1},\"marker\":{\"color\":\"gray\",\"size\":10,\"symbol\":\"circle\"},\"mode\":\"lines+markers+text\",\"text\":[\"meningeal syndrome\"],\"textposition\":\"middle center\",\"x\":[65,21],\"y\":[0,0],\"type\":\"scatter\"},{\"hovertemplate\":\"<b>myocarditis</b><extra></extra>\",\"line\":{\"color\":\"gray\",\"width\":1},\"marker\":{\"color\":\"gray\",\"size\":10,\"symbol\":\"circle\"},\"mode\":\"lines+markers+text\",\"text\":[\"myocarditis\"],\"textposition\":\"middle center\",\"x\":[31,6],\"y\":[0,0],\"type\":\"scatter\"},{\"hovertemplate\":\"<b>headache</b><extra></extra>\",\"line\":{\"color\":\"gray\",\"width\":1},\"marker\":{\"color\":\"gray\",\"size\":10,\"symbol\":\"circle\"},\"mode\":\"lines+markers+text\",\"text\":[\"headache\"],\"textposition\":\"middle center\",\"x\":[71,79],\"y\":[0,0],\"type\":\"scatter\"},{\"hovertemplate\":\"<b>angina pectoris</b><extra></extra>\",\"line\":{\"color\":\"gray\",\"width\":1},\"marker\":{\"color\":\"gray\",\"size\":10,\"symbol\":\"circle\"},\"mode\":\"lines+markers+text\",\"text\":[\"angina pectoris\"],\"textposition\":\"middle center\",\"x\":[9,14],\"y\":[0,0],\"type\":\"scatter\"},{\"hovertemplate\":\"<b>headache</b><extra></extra>\",\"line\":{\"color\":\"gray\",\"width\":1},\"marker\":{\"color\":\"gray\",\"size\":10,\"symbol\":\"circle\"},\"mode\":\"lines+markers+text\",\"text\":[\"headache\"],\"textposition\":\"middle center\",\"x\":[39,79],\"y\":[0,0],\"type\":\"scatter\"},{\"hovertemplate\":\"<b>intermittent fever</b><extra></extra>\",\"line\":{\"color\":\"gray\",\"width\":1},\"marker\":{\"color\":\"gray\",\"size\":10,\"symbol\":\"circle\"},\"mode\":\"lines+markers+text\",\"text\":[\"intermittent fever\"],\"textposition\":\"middle center\",\"x\":[78,32],\"y\":[0,0],\"type\":\"scatter\"},{\"hovertemplate\":\"<b>rash</b><extra></extra>\",\"line\":{\"color\":\"gray\",\"width\":1},\"marker\":{\"color\":\"gray\",\"size\":10,\"symbol\":\"circle\"},\"mode\":\"lines+markers+text\",\"text\":[\"rash\"],\"textposition\":\"middle center\",\"x\":[89,69],\"y\":[0,0],\"type\":\"scatter\"},{\"hovertemplate\":\"<b>emotional lability</b><extra></extra>\",\"line\":{\"color\":\"gray\",\"width\":1},\"marker\":{\"color\":\"gray\",\"size\":10,\"symbol\":\"circle\"},\"mode\":\"lines+markers+text\",\"text\":[\"emotional lability\"],\"textposition\":\"middle center\",\"x\":[55,76],\"y\":[0,0],\"type\":\"scatter\"},{\"hovertemplate\":\"<b>respiratory arrest</b><extra></extra>\",\"line\":{\"color\":\"gray\",\"width\":1},\"marker\":{\"color\":\"gray\",\"size\":10,\"symbol\":\"circle\"},\"mode\":\"lines+markers+text\",\"text\":[\"respiratory arrest\"],\"textposition\":\"middle center\",\"x\":[38,68],\"y\":[0,0],\"type\":\"scatter\"},{\"hovertemplate\":\"<b>fatigue</b><extra></extra>\",\"line\":{\"color\":\"gray\",\"width\":1},\"marker\":{\"color\":\"gray\",\"size\":10,\"symbol\":\"circle\"},\"mode\":\"lines+markers+text\",\"text\":[\"fatigue\"],\"textposition\":\"middle center\",\"x\":[75,13],\"y\":[0,0],\"type\":\"scatter\"},{\"hovertemplate\":\"<b>headache</b><extra></extra>\",\"line\":{\"color\":\"gray\",\"width\":1},\"marker\":{\"color\":\"gray\",\"size\":10,\"symbol\":\"circle\"},\"mode\":\"lines+markers+text\",\"text\":[\"headache\"],\"textposition\":\"middle center\",\"x\":[75,79],\"y\":[0,0],\"type\":\"scatter\"},{\"hovertemplate\":\"<b>joint effusion</b><extra></extra>\",\"line\":{\"color\":\"gray\",\"width\":1},\"marker\":{\"color\":\"gray\",\"size\":10,\"symbol\":\"circle\"},\"mode\":\"lines+markers+text\",\"text\":[\"joint effusion\"],\"textposition\":\"middle center\",\"x\":[59,87],\"y\":[0,0],\"type\":\"scatter\"},{\"hovertemplate\":\"<b>chills</b><extra></extra>\",\"line\":{\"color\":\"gray\",\"width\":1},\"marker\":{\"color\":\"gray\",\"size\":10,\"symbol\":\"circle\"},\"mode\":\"lines+markers+text\",\"text\":[\"chills\"],\"textposition\":\"middle center\",\"x\":[37,7],\"y\":[0,0],\"type\":\"scatter\"},{\"hovertemplate\":\"<b>irritability</b><extra></extra>\",\"line\":{\"color\":\"gray\",\"width\":1},\"marker\":{\"color\":\"gray\",\"size\":10,\"symbol\":\"circle\"},\"mode\":\"lines+markers+text\",\"text\":[\"irritability\"],\"textposition\":\"middle center\",\"x\":[71,19],\"y\":[0,0],\"type\":\"scatter\"},{\"hovertemplate\":\"<b>itch</b><extra></extra>\",\"line\":{\"color\":\"gray\",\"width\":1},\"marker\":{\"color\":\"gray\",\"size\":10,\"symbol\":\"circle\"},\"mode\":\"lines+markers+text\",\"text\":[\"itch\"],\"textposition\":\"middle center\",\"x\":[89,72],\"y\":[0,0],\"type\":\"scatter\"},{\"hovertemplate\":\"<b>increase</b><extra></extra>\",\"line\":{\"color\":\"gray\",\"width\":1},\"marker\":{\"color\":\"gray\",\"size\":10,\"symbol\":\"circle\"},\"mode\":\"lines+markers+text\",\"text\":[\"increase\"],\"textposition\":\"middle center\",\"x\":[38,20],\"y\":[0,0],\"type\":\"scatter\"},{\"hovertemplate\":\"<b>vomiting</b><extra></extra>\",\"line\":{\"color\":\"gray\",\"width\":1},\"marker\":{\"color\":\"gray\",\"size\":10,\"symbol\":\"circle\"},\"mode\":\"lines+markers+text\",\"text\":[\"vomiting\"],\"textposition\":\"middle center\",\"x\":[65,36],\"y\":[0,0],\"type\":\"scatter\"},{\"hovertemplate\":\"<b>wheeze</b><extra></extra>\",\"line\":{\"color\":\"gray\",\"width\":1},\"marker\":{\"color\":\"gray\",\"size\":10,\"symbol\":\"circle\"},\"mode\":\"lines+markers+text\",\"text\":[\"wheeze\"],\"textposition\":\"middle center\",\"x\":[11,52],\"y\":[0,0],\"type\":\"scatter\"},{\"hovertemplate\":\"<b>nasal congestion</b><extra></extra>\",\"line\":{\"color\":\"gray\",\"width\":1},\"marker\":{\"color\":\"gray\",\"size\":10,\"symbol\":\"circle\"},\"mode\":\"lines+markers+text\",\"text\":[\"nasal congestion\"],\"textposition\":\"middle center\",\"x\":[71,51],\"y\":[0,0],\"type\":\"scatter\"},{\"hovertemplate\":\"<b>heart arrhythmia</b><extra></extra>\",\"line\":{\"color\":\"gray\",\"width\":1},\"marker\":{\"color\":\"gray\",\"size\":10,\"symbol\":\"circle\"},\"mode\":\"lines+markers+text\",\"text\":[\"heart arrhythmia\"],\"textposition\":\"middle center\",\"x\":[9,45],\"y\":[0,0],\"type\":\"scatter\"},{\"hovertemplate\":\"<b>remittent fever</b><extra></extra>\",\"line\":{\"color\":\"gray\",\"width\":1},\"marker\":{\"color\":\"gray\",\"size\":10,\"symbol\":\"circle\"},\"mode\":\"lines+markers+text\",\"text\":[\"remittent fever\"],\"textposition\":\"middle center\",\"x\":[78,42],\"y\":[0,0],\"type\":\"scatter\"},{\"hovertemplate\":\"<b>tachycardia</b><extra></extra>\",\"line\":{\"color\":\"gray\",\"width\":1},\"marker\":{\"color\":\"gray\",\"size\":10,\"symbol\":\"circle\"},\"mode\":\"lines+markers+text\",\"text\":[\"tachycardia\"],\"textposition\":\"middle center\",\"x\":[9,53],\"y\":[0,0],\"type\":\"scatter\"},{\"hovertemplate\":\"<b>arthritis</b><extra></extra>\",\"line\":{\"color\":\"gray\",\"width\":1},\"marker\":{\"color\":\"gray\",\"size\":10,\"symbol\":\"circle\"},\"mode\":\"lines+markers+text\",\"text\":[\"arthritis\"],\"textposition\":\"middle center\",\"x\":[31,88],\"y\":[0,0],\"type\":\"scatter\"},{\"hovertemplate\":\"<b>cardiac arrest</b><extra></extra>\",\"line\":{\"color\":\"gray\",\"width\":1},\"marker\":{\"color\":\"gray\",\"size\":10,\"symbol\":\"circle\"},\"mode\":\"lines+markers+text\",\"text\":[\"cardiac arrest\"],\"textposition\":\"middle center\",\"x\":[38,17],\"y\":[0,0],\"type\":\"scatter\"},{\"hovertemplate\":\"<b>edema</b><extra></extra>\",\"line\":{\"color\":\"gray\",\"width\":1},\"marker\":{\"color\":\"gray\",\"size\":10,\"symbol\":\"circle\"},\"mode\":\"lines+markers+text\",\"text\":[\"edema\"],\"textposition\":\"middle center\",\"x\":[9,2],\"y\":[0,0],\"type\":\"scatter\"},{\"hovertemplate\":\"<b>paralysis</b><extra></extra>\",\"line\":{\"color\":\"gray\",\"width\":1},\"marker\":{\"color\":\"gray\",\"size\":10,\"symbol\":\"circle\"},\"mode\":\"lines+markers+text\",\"text\":[\"paralysis\"],\"textposition\":\"middle center\",\"x\":[38,26],\"y\":[0,0],\"type\":\"scatter\"},{\"hovertemplate\":\"<b>burping</b><extra></extra>\",\"line\":{\"color\":\"gray\",\"width\":1},\"marker\":{\"color\":\"gray\",\"size\":10,\"symbol\":\"circle\"},\"mode\":\"lines+markers+text\",\"text\":[\"burping\"],\"textposition\":\"middle center\",\"x\":[39,30],\"y\":[0,0],\"type\":\"scatter\"},{\"hovertemplate\":\"<b>heart arrhythmia</b><extra></extra>\",\"line\":{\"color\":\"gray\",\"width\":1},\"marker\":{\"color\":\"gray\",\"size\":10,\"symbol\":\"circle\"},\"mode\":\"lines+markers+text\",\"text\":[\"heart arrhythmia\"],\"textposition\":\"middle center\",\"x\":[31,45],\"y\":[0,0],\"type\":\"scatter\"},{\"hovertemplate\":\"<b>sleep disorder</b><extra></extra>\",\"line\":{\"color\":\"gray\",\"width\":1},\"marker\":{\"color\":\"gray\",\"size\":10,\"symbol\":\"circle\"},\"mode\":\"lines+markers+text\",\"text\":[\"sleep disorder\"],\"textposition\":\"middle center\",\"x\":[55,34],\"y\":[0,0],\"type\":\"scatter\"},{\"hovertemplate\":\"<b>simultanagnosia</b><extra></extra>\",\"line\":{\"color\":\"gray\",\"width\":1},\"marker\":{\"color\":\"gray\",\"size\":10,\"symbol\":\"circle\"},\"mode\":\"lines+markers+text\",\"text\":[\"simultanagnosia\"],\"textposition\":\"middle center\",\"x\":[67,40],\"y\":[0,0],\"type\":\"scatter\"},{\"hovertemplate\":\"<b>optic ataxia</b><extra></extra>\",\"line\":{\"color\":\"gray\",\"width\":1},\"marker\":{\"color\":\"gray\",\"size\":10,\"symbol\":\"circle\"},\"mode\":\"lines+markers+text\",\"text\":[\"optic ataxia\"],\"textposition\":\"middle center\",\"x\":[67,0],\"y\":[0,0],\"type\":\"scatter\"},{\"hovertemplate\":\"<b>dyspnea</b><extra></extra>\",\"line\":{\"color\":\"gray\",\"width\":1},\"marker\":{\"color\":\"gray\",\"size\":10,\"symbol\":\"circle\"},\"mode\":\"lines+markers+text\",\"text\":[\"dyspnea\"],\"textposition\":\"middle center\",\"x\":[11,24],\"y\":[0,0],\"type\":\"scatter\"},{\"hovertemplate\":\"<b>arthralgia</b><extra></extra>\",\"line\":{\"color\":\"gray\",\"width\":1},\"marker\":{\"color\":\"gray\",\"size\":10,\"symbol\":\"circle\"},\"mode\":\"lines+markers+text\",\"text\":[\"arthralgia\"],\"textposition\":\"middle center\",\"x\":[59,86],\"y\":[0,0],\"type\":\"scatter\"},{\"hovertemplate\":\"<b>chest pain</b><extra></extra>\",\"line\":{\"color\":\"gray\",\"width\":1},\"marker\":{\"color\":\"gray\",\"size\":10,\"symbol\":\"circle\"},\"mode\":\"lines+markers+text\",\"text\":[\"chest pain\"],\"textposition\":\"middle center\",\"x\":[9,5],\"y\":[0,0],\"type\":\"scatter\"},{\"hovertemplate\":\"<b>phonophobia</b><extra></extra>\",\"line\":{\"color\":\"gray\",\"width\":1},\"marker\":{\"color\":\"gray\",\"size\":10,\"symbol\":\"circle\"},\"mode\":\"lines+markers+text\",\"text\":[\"phonophobia\"],\"textposition\":\"middle center\",\"x\":[38,15],\"y\":[0,0],\"type\":\"scatter\"},{\"hovertemplate\":\"<b>hallucination</b><extra></extra>\",\"line\":{\"color\":\"gray\",\"width\":1},\"marker\":{\"color\":\"gray\",\"size\":10,\"symbol\":\"circle\"},\"mode\":\"lines+markers+text\",\"text\":[\"hallucination\"],\"textposition\":\"middle center\",\"x\":[38,63],\"y\":[0,0],\"type\":\"scatter\"},{\"hovertemplate\":\"<b>memory disorder</b><extra></extra>\",\"line\":{\"color\":\"gray\",\"width\":1},\"marker\":{\"color\":\"gray\",\"size\":10,\"symbol\":\"circle\"},\"mode\":\"lines+markers+text\",\"text\":[\"memory disorder\"],\"textposition\":\"middle center\",\"x\":[55,44],\"y\":[0,0],\"type\":\"scatter\"},{\"hovertemplate\":\"<b>hydrophobia (sign)</b><extra></extra>\",\"line\":{\"color\":\"gray\",\"width\":1},\"marker\":{\"color\":\"gray\",\"size\":10,\"symbol\":\"circle\"},\"mode\":\"lines+markers+text\",\"text\":[\"hydrophobia (sign)\"],\"textposition\":\"middle center\",\"x\":[38,25],\"y\":[0,0],\"type\":\"scatter\"},{\"hovertemplate\":\"<b>reading disorder and \\u00e9crites disorder</b><extra></extra>\",\"line\":{\"color\":\"gray\",\"width\":1},\"marker\":{\"color\":\"gray\",\"size\":10,\"symbol\":\"circle\"},\"mode\":\"lines+markers+text\",\"text\":[\"reading disorder and \\u00e9crites disorder\"],\"textposition\":\"middle center\",\"x\":[62,46],\"y\":[0,0],\"type\":\"scatter\"},{\"hovertemplate\":\"<b>headache</b><extra></extra>\",\"line\":{\"color\":\"gray\",\"width\":1},\"marker\":{\"color\":\"gray\",\"size\":10,\"symbol\":\"circle\"},\"mode\":\"lines+markers+text\",\"text\":[\"headache\"],\"textposition\":\"middle center\",\"x\":[31,79],\"y\":[0,0],\"type\":\"scatter\"},{\"hovertemplate\":\"<b>ascites</b><extra></extra>\",\"line\":{\"color\":\"gray\",\"width\":1},\"marker\":{\"color\":\"gray\",\"size\":10,\"symbol\":\"circle\"},\"mode\":\"lines+markers+text\",\"text\":[\"ascites\"],\"textposition\":\"middle center\",\"x\":[9,23],\"y\":[0,0],\"type\":\"scatter\"},{\"hovertemplate\":\"<b>hypochromic anemia</b><extra></extra>\",\"line\":{\"color\":\"gray\",\"width\":1},\"marker\":{\"color\":\"gray\",\"size\":10,\"symbol\":\"circle\"},\"mode\":\"lines+markers+text\",\"text\":[\"hypochromic anemia\"],\"textposition\":\"middle center\",\"x\":[61,22],\"y\":[0,0],\"type\":\"scatter\"},{\"hovertemplate\":\"<b>poisoning</b><extra></extra>\",\"line\":{\"color\":\"gray\",\"width\":1},\"marker\":{\"color\":\"gray\",\"size\":10,\"symbol\":\"circle\"},\"mode\":\"lines+markers+text\",\"text\":[\"poisoning\"],\"textposition\":\"middle center\",\"x\":[37,8],\"y\":[0,0],\"type\":\"scatter\"},{\"hovertemplate\":\"<b>fatigue</b><extra></extra>\",\"line\":{\"color\":\"gray\",\"width\":1},\"marker\":{\"color\":\"gray\",\"size\":10,\"symbol\":\"circle\"},\"mode\":\"lines+markers+text\",\"text\":[\"fatigue\"],\"textposition\":\"middle center\",\"x\":[31,13],\"y\":[0,0],\"type\":\"scatter\"},{\"hovertemplate\":\"<b>oculomotor apraxia</b><extra></extra>\",\"line\":{\"color\":\"gray\",\"width\":1},\"marker\":{\"color\":\"gray\",\"size\":10,\"symbol\":\"circle\"},\"mode\":\"lines+markers+text\",\"text\":[\"oculomotor apraxia\"],\"textposition\":\"middle center\",\"x\":[67,4],\"y\":[0,0],\"type\":\"scatter\"},{\"hovertemplate\":\"<b>nausea</b><extra></extra>\",\"line\":{\"color\":\"gray\",\"width\":1},\"marker\":{\"color\":\"gray\",\"size\":10,\"symbol\":\"circle\"},\"mode\":\"lines+markers+text\",\"text\":[\"nausea\"],\"textposition\":\"middle center\",\"x\":[65,50],\"y\":[0,0],\"type\":\"scatter\"},{\"hovertemplate\":\"<b>distraction</b><extra></extra>\",\"line\":{\"color\":\"gray\",\"width\":1},\"marker\":{\"color\":\"gray\",\"size\":10,\"symbol\":\"circle\"},\"mode\":\"lines+markers+text\",\"text\":[\"distraction\"],\"textposition\":\"middle center\",\"x\":[55,80],\"y\":[0,0],\"type\":\"scatter\"},{\"hovertemplate\":\"<b>erythema</b><extra></extra>\",\"line\":{\"color\":\"gray\",\"width\":1},\"marker\":{\"color\":\"gray\",\"size\":10,\"symbol\":\"circle\"},\"mode\":\"lines+markers+text\",\"text\":[\"erythema\"],\"textposition\":\"middle center\",\"x\":[59,43],\"y\":[0,0],\"type\":\"scatter\"},{\"hovertemplate\":\"<b>sleep disorder</b><extra></extra>\",\"line\":{\"color\":\"gray\",\"width\":1},\"marker\":{\"color\":\"gray\",\"size\":10,\"symbol\":\"circle\"},\"mode\":\"lines+markers+text\",\"text\":[\"sleep disorder\"],\"textposition\":\"middle center\",\"x\":[75,34],\"y\":[0,0],\"type\":\"scatter\"},{\"hovertemplate\":\"<b>insomnia</b><extra></extra>\",\"line\":{\"color\":\"gray\",\"width\":1},\"marker\":{\"color\":\"gray\",\"size\":10,\"symbol\":\"circle\"},\"mode\":\"lines+markers+text\",\"text\":[\"insomnia\"],\"textposition\":\"middle center\",\"x\":[38,60],\"y\":[0,0],\"type\":\"scatter\"},{\"hovertemplate\":\"<b>vomiting</b><extra></extra>\",\"line\":{\"color\":\"gray\",\"width\":1},\"marker\":{\"color\":\"gray\",\"size\":10,\"symbol\":\"circle\"},\"mode\":\"lines+markers+text\",\"text\":[\"vomiting\"],\"textposition\":\"middle center\",\"x\":[38,36],\"y\":[0,0],\"type\":\"scatter\"},{\"hovertemplate\":\"<b>headache</b><extra></extra>\",\"line\":{\"color\":\"gray\",\"width\":1},\"marker\":{\"color\":\"gray\",\"size\":10,\"symbol\":\"circle\"},\"mode\":\"lines+markers+text\",\"text\":[\"headache\"],\"textposition\":\"middle center\",\"x\":[65,79],\"y\":[0,0],\"type\":\"scatter\"},{\"hovertemplate\":\"<b>photophobia</b><extra></extra>\",\"line\":{\"color\":\"gray\",\"width\":1},\"marker\":{\"color\":\"gray\",\"size\":10,\"symbol\":\"circle\"},\"mode\":\"lines+markers+text\",\"text\":[\"photophobia\"],\"textposition\":\"middle center\",\"x\":[65,73],\"y\":[0,0],\"type\":\"scatter\"},{\"hovertemplate\":\"<b>fatigue</b><extra></extra>\",\"line\":{\"color\":\"gray\",\"width\":1},\"marker\":{\"color\":\"gray\",\"size\":10,\"symbol\":\"circle\"},\"mode\":\"lines+markers+text\",\"text\":[\"fatigue\"],\"textposition\":\"middle center\",\"x\":[61,13],\"y\":[0,0],\"type\":\"scatter\"},{\"hovertemplate\":\"<b>balance disorder</b><extra></extra>\",\"line\":{\"color\":\"gray\",\"width\":1},\"marker\":{\"color\":\"gray\",\"size\":10,\"symbol\":\"circle\"},\"mode\":\"lines+markers+text\",\"text\":[\"balance disorder\"],\"textposition\":\"middle center\",\"x\":[9,74],\"y\":[0,0],\"type\":\"scatter\"},{\"hovertemplate\":\"<b>cough</b><extra></extra>\",\"line\":{\"color\":\"gray\",\"width\":1},\"marker\":{\"color\":\"gray\",\"size\":10,\"symbol\":\"circle\"},\"mode\":\"lines+markers+text\",\"text\":[\"cough\"],\"textposition\":\"middle center\",\"x\":[11,57],\"y\":[0,0],\"type\":\"scatter\"},{\"hovertemplate\":\"<b>paresthesia</b><extra></extra>\",\"line\":{\"color\":\"gray\",\"width\":1},\"marker\":{\"color\":\"gray\",\"size\":10,\"symbol\":\"circle\"},\"mode\":\"lines+markers+text\",\"text\":[\"paresthesia\"],\"textposition\":\"middle center\",\"x\":[38,16],\"y\":[0,0],\"type\":\"scatter\"},{\"hovertemplate\":\"<b>pain</b><extra></extra>\",\"line\":{\"color\":\"gray\",\"width\":1},\"marker\":{\"color\":\"gray\",\"size\":10,\"symbol\":\"circle\"},\"mode\":\"lines+markers+text\",\"text\":[\"pain\"],\"textposition\":\"middle center\",\"x\":[38,27],\"y\":[0,0],\"type\":\"scatter\"},{\"hovertemplate\":\"<b>fever</b><extra></extra>\",\"line\":{\"color\":\"gray\",\"width\":1},\"marker\":{\"color\":\"gray\",\"size\":10,\"symbol\":\"circle\"},\"mode\":\"lines+markers+text\",\"text\":[\"fever\"],\"textposition\":\"middle center\",\"x\":[37,28],\"y\":[0,0],\"type\":\"scatter\"},{\"hovertemplate\":\"<b>mydriasis</b><extra></extra>\",\"line\":{\"color\":\"gray\",\"width\":1},\"marker\":{\"color\":\"gray\",\"size\":10,\"symbol\":\"circle\"},\"mode\":\"lines+markers+text\",\"text\":[\"mydriasis\"],\"textposition\":\"middle center\",\"x\":[38,3],\"y\":[0,0],\"type\":\"scatter\"},{\"hovertemplate\":\"<b>fever</b><extra></extra>\",\"line\":{\"color\":\"gray\",\"width\":1},\"marker\":{\"color\":\"gray\",\"size\":10,\"symbol\":\"circle\"},\"mode\":\"lines+markers+text\",\"text\":[\"fever\"],\"textposition\":\"middle center\",\"x\":[31,28],\"y\":[0,0],\"type\":\"scatter\"},{\"hovertemplate\":\"<b>psychosis</b><extra></extra>\",\"line\":{\"color\":\"gray\",\"width\":1},\"marker\":{\"color\":\"gray\",\"size\":10,\"symbol\":\"circle\"},\"mode\":\"lines+markers+text\",\"text\":[\"psychosis\"],\"textposition\":\"middle center\",\"x\":[55,41],\"y\":[0,0],\"type\":\"scatter\"},{\"hovertemplate\":\"<b>rash</b><extra></extra>\",\"line\":{\"color\":\"gray\",\"width\":1},\"marker\":{\"color\":\"gray\",\"size\":10,\"symbol\":\"circle\"},\"mode\":\"lines+markers+text\",\"text\":[\"rash\"],\"textposition\":\"middle center\",\"x\":[37,69],\"y\":[0,0],\"type\":\"scatter\"},{\"hovertemplate\":\"<b>headache</b><extra></extra>\",\"line\":{\"color\":\"gray\",\"width\":1},\"marker\":{\"color\":\"gray\",\"size\":10,\"symbol\":\"circle\"},\"mode\":\"lines+markers+text\",\"text\":[\"headache\"],\"textposition\":\"middle center\",\"x\":[37,79],\"y\":[0,0],\"type\":\"scatter\"},{\"hovertemplate\":\"<b>chills</b><extra></extra>\",\"line\":{\"color\":\"gray\",\"width\":1},\"marker\":{\"color\":\"gray\",\"size\":10,\"symbol\":\"circle\"},\"mode\":\"lines+markers+text\",\"text\":[\"chills\"],\"textposition\":\"middle center\",\"x\":[38,7],\"y\":[0,0],\"type\":\"scatter\"},{\"hovertemplate\":\"<b>meningitis</b><extra></extra>\",\"line\":{\"color\":\"gray\",\"width\":1},\"marker\":{\"color\":\"gray\",\"size\":10,\"symbol\":\"circle\"},\"mode\":\"lines+markers+text\",\"text\":[\"meningitis\"],\"textposition\":\"middle center\",\"x\":[31,1],\"y\":[0,0],\"type\":\"scatter\"},{\"hovertemplate\":\"<b>fear</b><extra></extra>\",\"line\":{\"color\":\"gray\",\"width\":1},\"marker\":{\"color\":\"gray\",\"size\":10,\"symbol\":\"circle\"},\"mode\":\"lines+markers+text\",\"text\":[\"fear\"],\"textposition\":\"middle center\",\"x\":[38,66],\"y\":[0,0],\"type\":\"scatter\"},{\"hovertemplate\":\"<b>headache</b><extra></extra>\",\"line\":{\"color\":\"gray\",\"width\":1},\"marker\":{\"color\":\"gray\",\"size\":10,\"symbol\":\"circle\"},\"mode\":\"lines+markers+text\",\"text\":[\"headache\"],\"textposition\":\"middle center\",\"x\":[38,79],\"y\":[0,0],\"type\":\"scatter\"},{\"hovertemplate\":\"<b>photophobia</b><extra></extra>\",\"line\":{\"color\":\"gray\",\"width\":1},\"marker\":{\"color\":\"gray\",\"size\":10,\"symbol\":\"circle\"},\"mode\":\"lines+markers+text\",\"text\":[\"photophobia\"],\"textposition\":\"middle center\",\"x\":[38,73],\"y\":[0,0],\"type\":\"scatter\"},{\"hovertemplate\":\"<b>vomiting</b><extra></extra>\",\"line\":{\"color\":\"gray\",\"width\":1},\"marker\":{\"color\":\"gray\",\"size\":10,\"symbol\":\"circle\"},\"mode\":\"lines+markers+text\",\"text\":[\"vomiting\"],\"textposition\":\"middle center\",\"x\":[39,36],\"y\":[0,0],\"type\":\"scatter\"},{\"hovertemplate\":\"<b>syncope</b><extra></extra>\",\"line\":{\"color\":\"gray\",\"width\":1},\"marker\":{\"color\":\"gray\",\"size\":10,\"symbol\":\"circle\"},\"mode\":\"lines+markers+text\",\"text\":[\"syncope\"],\"textposition\":\"middle center\",\"x\":[9,33],\"y\":[0,0],\"type\":\"scatter\"},{\"hovertemplate\":\"<b>fever</b><extra></extra>\",\"line\":{\"color\":\"gray\",\"width\":1},\"marker\":{\"color\":\"gray\",\"size\":10,\"symbol\":\"circle\"},\"mode\":\"lines+markers+text\",\"text\":[\"fever\"],\"textposition\":\"middle center\",\"x\":[65,28],\"y\":[0,0],\"type\":\"scatter\"},{\"hovertemplate\":\"<b>dyspnea</b><extra></extra>\",\"line\":{\"color\":\"gray\",\"width\":1},\"marker\":{\"color\":\"gray\",\"size\":10,\"symbol\":\"circle\"},\"mode\":\"lines+markers+text\",\"text\":[\"dyspnea\"],\"textposition\":\"middle center\",\"x\":[9,24],\"y\":[0,0],\"type\":\"scatter\"},{\"hovertemplate\":\"<b>arterial hypertension</b><extra></extra>\",\"line\":{\"color\":\"gray\",\"width\":1},\"marker\":{\"color\":\"gray\",\"size\":10,\"symbol\":\"circle\"},\"mode\":\"lines+markers+text\",\"text\":[\"arterial hypertension\"],\"textposition\":\"middle center\",\"x\":[9,18],\"y\":[0,0],\"type\":\"scatter\"},{\"hovertemplate\":\"<b>swelling</b><extra></extra>\",\"line\":{\"color\":\"gray\",\"width\":1},\"marker\":{\"color\":\"gray\",\"size\":10,\"symbol\":\"circle\"},\"mode\":\"lines+markers+text\",\"text\":[\"swelling\"],\"textposition\":\"middle center\",\"x\":[59,81],\"y\":[0,0],\"type\":\"scatter\"},{\"hovertemplate\":\"<b>tear secretion</b><extra></extra>\",\"line\":{\"color\":\"gray\",\"width\":1},\"marker\":{\"color\":\"gray\",\"size\":10,\"symbol\":\"circle\"},\"mode\":\"lines+markers+text\",\"text\":[\"tear secretion\"],\"textposition\":\"middle center\",\"x\":[71,49],\"y\":[0,0],\"type\":\"scatter\"},{\"hovertemplate\":\"<b>irritability</b><extra></extra>\",\"line\":{\"color\":\"gray\",\"width\":1},\"marker\":{\"color\":\"gray\",\"size\":10,\"symbol\":\"circle\"},\"mode\":\"lines+markers+text\",\"text\":[\"irritability\"],\"textposition\":\"middle center\",\"x\":[38,19],\"y\":[0,0],\"type\":\"scatter\"},{\"hovertemplate\":\"<b>nausea</b><extra></extra>\",\"line\":{\"color\":\"gray\",\"width\":1},\"marker\":{\"color\":\"gray\",\"size\":10,\"symbol\":\"circle\"},\"mode\":\"lines+markers+text\",\"text\":[\"nausea\"],\"textposition\":\"middle center\",\"x\":[39,50],\"y\":[0,0],\"type\":\"scatter\"},{\"hovertemplate\":\"<b>disorientation</b><extra></extra>\",\"line\":{\"color\":\"gray\",\"width\":1},\"marker\":{\"color\":\"gray\",\"size\":10,\"symbol\":\"circle\"},\"mode\":\"lines+markers+text\",\"text\":[\"disorientation\"],\"textposition\":\"middle center\",\"x\":[55,85],\"y\":[0,0],\"type\":\"scatter\"},{\"hovertemplate\":\"<b>myalgia</b><extra></extra>\",\"line\":{\"color\":\"gray\",\"width\":1},\"marker\":{\"color\":\"gray\",\"size\":10,\"symbol\":\"circle\"},\"mode\":\"lines+markers+text\",\"text\":[\"myalgia\"],\"textposition\":\"middle center\",\"x\":[37,47],\"y\":[0,0],\"type\":\"scatter\"},{\"hovertemplate\":\"<b>abdominal pain</b><extra></extra>\",\"line\":{\"color\":\"gray\",\"width\":1},\"marker\":{\"color\":\"gray\",\"size\":10,\"symbol\":\"circle\"},\"mode\":\"lines+markers+text\",\"text\":[\"abdominal pain\"],\"textposition\":\"middle center\",\"x\":[61,12],\"y\":[0,0],\"type\":\"scatter\"},{\"hovertemplate\":\"<b>myalgia</b><extra></extra>\",\"line\":{\"color\":\"gray\",\"width\":1},\"marker\":{\"color\":\"gray\",\"size\":10,\"symbol\":\"circle\"},\"mode\":\"lines+markers+text\",\"text\":[\"myalgia\"],\"textposition\":\"middle center\",\"x\":[31,47],\"y\":[0,0],\"type\":\"scatter\"},{\"hovertemplate\":\"<b>sweating</b><extra></extra>\",\"line\":{\"color\":\"gray\",\"width\":1},\"marker\":{\"color\":\"gray\",\"size\":10,\"symbol\":\"circle\"},\"mode\":\"lines+markers+text\",\"text\":[\"sweating\"],\"textposition\":\"middle center\",\"x\":[71,82],\"y\":[0,0],\"type\":\"scatter\"},{\"hovertemplate\":\"<b>speech disorder</b><extra></extra>\",\"line\":{\"color\":\"gray\",\"width\":1},\"marker\":{\"color\":\"gray\",\"size\":10,\"symbol\":\"circle\"},\"mode\":\"lines+markers+text\",\"text\":[\"speech disorder\"],\"textposition\":\"middle center\",\"x\":[55,10],\"y\":[0,0],\"type\":\"scatter\"},{\"hovertemplate\":\"<b>photophobia</b><extra></extra>\",\"line\":{\"color\":\"gray\",\"width\":1},\"marker\":{\"color\":\"gray\",\"size\":10,\"symbol\":\"circle\"},\"mode\":\"lines+markers+text\",\"text\":[\"photophobia\"],\"textposition\":\"middle center\",\"x\":[71,73],\"y\":[0,0],\"type\":\"scatter\"},{\"hovertemplate\":\"<b>photophobia</b><extra></extra>\",\"line\":{\"color\":\"gray\",\"width\":1},\"marker\":{\"color\":\"gray\",\"size\":10,\"symbol\":\"circle\"},\"mode\":\"lines+markers+text\",\"text\":[\"photophobia\"],\"textposition\":\"middle center\",\"x\":[39,73],\"y\":[0,0],\"type\":\"scatter\"},{\"hovertemplate\":\"<b>hypersalivation</b><extra></extra>\",\"line\":{\"color\":\"gray\",\"width\":1},\"marker\":{\"color\":\"gray\",\"size\":10,\"symbol\":\"circle\"},\"mode\":\"lines+markers+text\",\"text\":[\"hypersalivation\"],\"textposition\":\"middle center\",\"x\":[38,29],\"y\":[0,0],\"type\":\"scatter\"},{\"hovertemplate\":\"<b>hyperactivity</b><extra></extra>\",\"line\":{\"color\":\"gray\",\"width\":1},\"marker\":{\"color\":\"gray\",\"size\":10,\"symbol\":\"circle\"},\"mode\":\"lines+markers+text\",\"text\":[\"hyperactivity\"],\"textposition\":\"middle center\",\"x\":[38,83],\"y\":[0,0],\"type\":\"scatter\"}],                        {\"template\":{\"data\":{\"histogram2dcontour\":[{\"type\":\"histogram2dcontour\",\"colorbar\":{\"outlinewidth\":0,\"ticks\":\"\"},\"colorscale\":[[0.0,\"#0d0887\"],[0.1111111111111111,\"#46039f\"],[0.2222222222222222,\"#7201a8\"],[0.3333333333333333,\"#9c179e\"],[0.4444444444444444,\"#bd3786\"],[0.5555555555555556,\"#d8576b\"],[0.6666666666666666,\"#ed7953\"],[0.7777777777777778,\"#fb9f3a\"],[0.8888888888888888,\"#fdca26\"],[1.0,\"#f0f921\"]]}],\"choropleth\":[{\"type\":\"choropleth\",\"colorbar\":{\"outlinewidth\":0,\"ticks\":\"\"}}],\"histogram2d\":[{\"type\":\"histogram2d\",\"colorbar\":{\"outlinewidth\":0,\"ticks\":\"\"},\"colorscale\":[[0.0,\"#0d0887\"],[0.1111111111111111,\"#46039f\"],[0.2222222222222222,\"#7201a8\"],[0.3333333333333333,\"#9c179e\"],[0.4444444444444444,\"#bd3786\"],[0.5555555555555556,\"#d8576b\"],[0.6666666666666666,\"#ed7953\"],[0.7777777777777778,\"#fb9f3a\"],[0.8888888888888888,\"#fdca26\"],[1.0,\"#f0f921\"]]}],\"heatmap\":[{\"type\":\"heatmap\",\"colorbar\":{\"outlinewidth\":0,\"ticks\":\"\"},\"colorscale\":[[0.0,\"#0d0887\"],[0.1111111111111111,\"#46039f\"],[0.2222222222222222,\"#7201a8\"],[0.3333333333333333,\"#9c179e\"],[0.4444444444444444,\"#bd3786\"],[0.5555555555555556,\"#d8576b\"],[0.6666666666666666,\"#ed7953\"],[0.7777777777777778,\"#fb9f3a\"],[0.8888888888888888,\"#fdca26\"],[1.0,\"#f0f921\"]]}],\"heatmapgl\":[{\"type\":\"heatmapgl\",\"colorbar\":{\"outlinewidth\":0,\"ticks\":\"\"},\"colorscale\":[[0.0,\"#0d0887\"],[0.1111111111111111,\"#46039f\"],[0.2222222222222222,\"#7201a8\"],[0.3333333333333333,\"#9c179e\"],[0.4444444444444444,\"#bd3786\"],[0.5555555555555556,\"#d8576b\"],[0.6666666666666666,\"#ed7953\"],[0.7777777777777778,\"#fb9f3a\"],[0.8888888888888888,\"#fdca26\"],[1.0,\"#f0f921\"]]}],\"contourcarpet\":[{\"type\":\"contourcarpet\",\"colorbar\":{\"outlinewidth\":0,\"ticks\":\"\"}}],\"contour\":[{\"type\":\"contour\",\"colorbar\":{\"outlinewidth\":0,\"ticks\":\"\"},\"colorscale\":[[0.0,\"#0d0887\"],[0.1111111111111111,\"#46039f\"],[0.2222222222222222,\"#7201a8\"],[0.3333333333333333,\"#9c179e\"],[0.4444444444444444,\"#bd3786\"],[0.5555555555555556,\"#d8576b\"],[0.6666666666666666,\"#ed7953\"],[0.7777777777777778,\"#fb9f3a\"],[0.8888888888888888,\"#fdca26\"],[1.0,\"#f0f921\"]]}],\"surface\":[{\"type\":\"surface\",\"colorbar\":{\"outlinewidth\":0,\"ticks\":\"\"},\"colorscale\":[[0.0,\"#0d0887\"],[0.1111111111111111,\"#46039f\"],[0.2222222222222222,\"#7201a8\"],[0.3333333333333333,\"#9c179e\"],[0.4444444444444444,\"#bd3786\"],[0.5555555555555556,\"#d8576b\"],[0.6666666666666666,\"#ed7953\"],[0.7777777777777778,\"#fb9f3a\"],[0.8888888888888888,\"#fdca26\"],[1.0,\"#f0f921\"]]}],\"mesh3d\":[{\"type\":\"mesh3d\",\"colorbar\":{\"outlinewidth\":0,\"ticks\":\"\"}}],\"scatter\":[{\"fillpattern\":{\"fillmode\":\"overlay\",\"size\":10,\"solidity\":0.2},\"type\":\"scatter\"}],\"parcoords\":[{\"type\":\"parcoords\",\"line\":{\"colorbar\":{\"outlinewidth\":0,\"ticks\":\"\"}}}],\"scatterpolargl\":[{\"type\":\"scatterpolargl\",\"marker\":{\"colorbar\":{\"outlinewidth\":0,\"ticks\":\"\"}}}],\"bar\":[{\"error_x\":{\"color\":\"#2a3f5f\"},\"error_y\":{\"color\":\"#2a3f5f\"},\"marker\":{\"line\":{\"color\":\"#E5ECF6\",\"width\":0.5},\"pattern\":{\"fillmode\":\"overlay\",\"size\":10,\"solidity\":0.2}},\"type\":\"bar\"}],\"scattergeo\":[{\"type\":\"scattergeo\",\"marker\":{\"colorbar\":{\"outlinewidth\":0,\"ticks\":\"\"}}}],\"scatterpolar\":[{\"type\":\"scatterpolar\",\"marker\":{\"colorbar\":{\"outlinewidth\":0,\"ticks\":\"\"}}}],\"histogram\":[{\"marker\":{\"pattern\":{\"fillmode\":\"overlay\",\"size\":10,\"solidity\":0.2}},\"type\":\"histogram\"}],\"scattergl\":[{\"type\":\"scattergl\",\"marker\":{\"colorbar\":{\"outlinewidth\":0,\"ticks\":\"\"}}}],\"scatter3d\":[{\"type\":\"scatter3d\",\"line\":{\"colorbar\":{\"outlinewidth\":0,\"ticks\":\"\"}},\"marker\":{\"colorbar\":{\"outlinewidth\":0,\"ticks\":\"\"}}}],\"scattermapbox\":[{\"type\":\"scattermapbox\",\"marker\":{\"colorbar\":{\"outlinewidth\":0,\"ticks\":\"\"}}}],\"scatterternary\":[{\"type\":\"scatterternary\",\"marker\":{\"colorbar\":{\"outlinewidth\":0,\"ticks\":\"\"}}}],\"scattercarpet\":[{\"type\":\"scattercarpet\",\"marker\":{\"colorbar\":{\"outlinewidth\":0,\"ticks\":\"\"}}}],\"carpet\":[{\"aaxis\":{\"endlinecolor\":\"#2a3f5f\",\"gridcolor\":\"white\",\"linecolor\":\"white\",\"minorgridcolor\":\"white\",\"startlinecolor\":\"#2a3f5f\"},\"baxis\":{\"endlinecolor\":\"#2a3f5f\",\"gridcolor\":\"white\",\"linecolor\":\"white\",\"minorgridcolor\":\"white\",\"startlinecolor\":\"#2a3f5f\"},\"type\":\"carpet\"}],\"table\":[{\"cells\":{\"fill\":{\"color\":\"#EBF0F8\"},\"line\":{\"color\":\"white\"}},\"header\":{\"fill\":{\"color\":\"#C8D4E3\"},\"line\":{\"color\":\"white\"}},\"type\":\"table\"}],\"barpolar\":[{\"marker\":{\"line\":{\"color\":\"#E5ECF6\",\"width\":0.5},\"pattern\":{\"fillmode\":\"overlay\",\"size\":10,\"solidity\":0.2}},\"type\":\"barpolar\"}],\"pie\":[{\"automargin\":true,\"type\":\"pie\"}]},\"layout\":{\"autotypenumbers\":\"strict\",\"colorway\":[\"#636efa\",\"#EF553B\",\"#00cc96\",\"#ab63fa\",\"#FFA15A\",\"#19d3f3\",\"#FF6692\",\"#B6E880\",\"#FF97FF\",\"#FECB52\"],\"font\":{\"color\":\"#2a3f5f\"},\"hovermode\":\"closest\",\"hoverlabel\":{\"align\":\"left\"},\"paper_bgcolor\":\"white\",\"plot_bgcolor\":\"#E5ECF6\",\"polar\":{\"bgcolor\":\"#E5ECF6\",\"angularaxis\":{\"gridcolor\":\"white\",\"linecolor\":\"white\",\"ticks\":\"\"},\"radialaxis\":{\"gridcolor\":\"white\",\"linecolor\":\"white\",\"ticks\":\"\"}},\"ternary\":{\"bgcolor\":\"#E5ECF6\",\"aaxis\":{\"gridcolor\":\"white\",\"linecolor\":\"white\",\"ticks\":\"\"},\"baxis\":{\"gridcolor\":\"white\",\"linecolor\":\"white\",\"ticks\":\"\"},\"caxis\":{\"gridcolor\":\"white\",\"linecolor\":\"white\",\"ticks\":\"\"}},\"coloraxis\":{\"colorbar\":{\"outlinewidth\":0,\"ticks\":\"\"}},\"colorscale\":{\"sequential\":[[0.0,\"#0d0887\"],[0.1111111111111111,\"#46039f\"],[0.2222222222222222,\"#7201a8\"],[0.3333333333333333,\"#9c179e\"],[0.4444444444444444,\"#bd3786\"],[0.5555555555555556,\"#d8576b\"],[0.6666666666666666,\"#ed7953\"],[0.7777777777777778,\"#fb9f3a\"],[0.8888888888888888,\"#fdca26\"],[1.0,\"#f0f921\"]],\"sequentialminus\":[[0.0,\"#0d0887\"],[0.1111111111111111,\"#46039f\"],[0.2222222222222222,\"#7201a8\"],[0.3333333333333333,\"#9c179e\"],[0.4444444444444444,\"#bd3786\"],[0.5555555555555556,\"#d8576b\"],[0.6666666666666666,\"#ed7953\"],[0.7777777777777778,\"#fb9f3a\"],[0.8888888888888888,\"#fdca26\"],[1.0,\"#f0f921\"]],\"diverging\":[[0,\"#8e0152\"],[0.1,\"#c51b7d\"],[0.2,\"#de77ae\"],[0.3,\"#f1b6da\"],[0.4,\"#fde0ef\"],[0.5,\"#f7f7f7\"],[0.6,\"#e6f5d0\"],[0.7,\"#b8e186\"],[0.8,\"#7fbc41\"],[0.9,\"#4d9221\"],[1,\"#276419\"]]},\"xaxis\":{\"gridcolor\":\"white\",\"linecolor\":\"white\",\"ticks\":\"\",\"title\":{\"standoff\":15},\"zerolinecolor\":\"white\",\"automargin\":true,\"zerolinewidth\":2},\"yaxis\":{\"gridcolor\":\"white\",\"linecolor\":\"white\",\"ticks\":\"\",\"title\":{\"standoff\":15},\"zerolinecolor\":\"white\",\"automargin\":true,\"zerolinewidth\":2},\"scene\":{\"xaxis\":{\"backgroundcolor\":\"#E5ECF6\",\"gridcolor\":\"white\",\"linecolor\":\"white\",\"showbackground\":true,\"ticks\":\"\",\"zerolinecolor\":\"white\",\"gridwidth\":2},\"yaxis\":{\"backgroundcolor\":\"#E5ECF6\",\"gridcolor\":\"white\",\"linecolor\":\"white\",\"showbackground\":true,\"ticks\":\"\",\"zerolinecolor\":\"white\",\"gridwidth\":2},\"zaxis\":{\"backgroundcolor\":\"#E5ECF6\",\"gridcolor\":\"white\",\"linecolor\":\"white\",\"showbackground\":true,\"ticks\":\"\",\"zerolinecolor\":\"white\",\"gridwidth\":2}},\"shapedefaults\":{\"line\":{\"color\":\"#2a3f5f\"}},\"annotationdefaults\":{\"arrowcolor\":\"#2a3f5f\",\"arrowhead\":0,\"arrowwidth\":1},\"geo\":{\"bgcolor\":\"white\",\"landcolor\":\"#E5ECF6\",\"subunitcolor\":\"white\",\"showland\":true,\"showlakes\":true,\"lakecolor\":\"white\"},\"title\":{\"x\":0.05},\"mapbox\":{\"style\":\"light\"}}},\"xaxis\":{\"showgrid\":false,\"zeroline\":false,\"showticklabels\":false},\"yaxis\":{\"showgrid\":false,\"zeroline\":false,\"showticklabels\":false},\"margin\":{\"t\":20,\"b\":20,\"l\":20,\"r\":20},\"showlegend\":false,\"hovermode\":\"closest\",\"height\":600,\"clickmode\":\"event+select\"},                        {\"responsive\": true}                    ).then(function(){\n                            \nvar gd = document.getElementById('5e6d5b13-7f8b-4827-a86c-5aa207c62a6a');\nvar x = new MutationObserver(function (mutations, observer) {{\n        var display = window.getComputedStyle(gd).display;\n        if (!display || display === 'none') {{\n            console.log([gd, 'removed!']);\n            Plotly.purge(gd);\n            observer.disconnect();\n        }}\n}});\n\n// Listen for the removal of the full notebook cells\nvar notebookContainer = gd.closest('#notebook-container');\nif (notebookContainer) {{\n    x.observe(notebookContainer, {childList: true});\n}}\n\n// Listen for the clearing of the current output cell\nvar outputEl = gd.closest('.output');\nif (outputEl) {{\n    x.observe(outputEl, {childList: true});\n}}\n\n                        })                };                });            </script>        </div>"
     },
     "metadata": {},
     "output_type": "display_data"
    }
   ],
   "source": [
    "import plotly.graph_objects as go\n",
    "\n",
    "# Führen Sie die SPARQL-Abfrage aus, um die Beziehungen zwischen den Krankheiten zu erhalten\n",
    "\n",
    "# Erstellen Sie eine Liste von Knoten (Krankheiten) und Kanten (Beziehungen zwischen den Krankheiten)\n",
    "nodes = []\n",
    "edges = []\n",
    "for disease1 in disease_symptom_dict:\n",
    "    for disease2, symptom in disease_symptom_dict[disease1]:\n",
    "        nodes.append(disease1)\n",
    "        nodes.append(disease2)\n",
    "        edges.append((disease1, disease2, symptom))\n",
    "\n",
    "# Entfernen Sie doppelte Knoten und Kanten\n",
    "nodes = list(set(nodes))\n",
    "edges = list(set(edges))\n",
    "\n",
    "# Erstellen Sie das Plotly-Figure-Objekt\n",
    "fig = go.Figure()\n",
    "\n",
    "# Fügen Sie jeden Knoten (Krankheit) zum Figure-Objekt hinzu\n",
    "for node in nodes:\n",
    "    fig.add_trace(go.Scatter(\n",
    "        x=[0],\n",
    "        y=[0],\n",
    "        mode=\"markers+text\",\n",
    "        marker=dict(size=30, color='lightblue'),\n",
    "        text=[node],\n",
    "        textposition=\"middle center\",\n",
    "        hovertemplate=\"<b>%{text}</b><extra></extra>\"\n",
    "    ))\n",
    "\n",
    "# Fügen Sie jede Kante (Beziehung zwischen Krankheiten) zum Figure-Objekt hinzu\n",
    "for edge in edges:\n",
    "    fig.add_trace(go.Scatter(\n",
    "        x=[nodes.index(edge[0]), nodes.index(edge[1])],\n",
    "        y=[0, 0],\n",
    "        mode=\"lines+markers+text\",\n",
    "        line=dict(color='gray', width=1),\n",
    "        marker=dict(symbol='circle', size=10, color='gray'),\n",
    "        text=[edge[2]],\n",
    "        textposition=\"middle center\",\n",
    "        hovertemplate=f\"<b>{edge[2]}</b><extra></extra>\"\n",
    "    ))\n",
    "\n",
    "# Einstellungen der Layout-Optionen\n",
    "fig.update_layout(\n",
    "    showlegend=False,\n",
    "    hovermode='closest',\n",
    "    xaxis=dict(showgrid=False, zeroline=False, showticklabels=False),\n",
    "    yaxis=dict(showgrid=False, zeroline=False, showticklabels=False),\n",
    "    margin=dict(t=20, b=20, l=20, r=20),\n",
    "    height=600,\n",
    "    clickmode='event+select'\n",
    ")\n",
    "\n",
    "# Anzeigen des interaktiven Netzwerkdiagramms\n",
    "fig.show()\n"
   ],
   "metadata": {
    "collapsed": false,
    "pycharm": {
     "name": "#%%\n"
    }
   }
  },
  {
   "cell_type": "code",
   "execution_count": 10,
   "outputs": [
    {
     "ename": "AttributeError",
     "evalue": "module 'networkx' has no attribute 'draw_network'",
     "output_type": "error",
     "traceback": [
      "\u001B[1;31m---------------------------------------------------------------------------\u001B[0m",
      "\u001B[1;31mAttributeError\u001B[0m                            Traceback (most recent call last)",
      "Cell \u001B[1;32mIn[10], line 66\u001B[0m\n\u001B[0;32m     63\u001B[0m edge_labels \u001B[38;5;241m=\u001B[39m {(edge[\u001B[38;5;241m0\u001B[39m], edge[\u001B[38;5;241m1\u001B[39m]): edge[\u001B[38;5;241m2\u001B[39m][\u001B[38;5;124m'\u001B[39m\u001B[38;5;124mlabel\u001B[39m\u001B[38;5;124m'\u001B[39m] \u001B[38;5;28;01mfor\u001B[39;00m edge \u001B[38;5;129;01min\u001B[39;00m G\u001B[38;5;241m.\u001B[39medges(data\u001B[38;5;241m=\u001B[39m\u001B[38;5;28;01mTrue\u001B[39;00m)}\n\u001B[0;32m     65\u001B[0m \u001B[38;5;66;03m# Hinzufügen der Beschriftungen für jede Kante\u001B[39;00m\n\u001B[1;32m---> 66\u001B[0m \u001B[43mnx\u001B[49m\u001B[38;5;241;43m.\u001B[39;49m\u001B[43mdraw_network\u001B[49m\n",
      "\u001B[1;31mAttributeError\u001B[0m: module 'networkx' has no attribute 'draw_network'"
     ]
    },
    {
     "data": {
      "text/plain": "<Figure size 640x480 with 1 Axes>",
      "image/png": "[encoded data removed]"
     },
     "metadata": {},
     "output_type": "display_data"
    }
   ],
   "source": [
    "import requests\n",
    "import networkx as nx\n",
    "\n",
    "# SPARQL-Abfrage, um Krankheiten und ihre Symptome abzurufen\n",
    "sparql_query = \"\"\"\n",
    "SELECT ?disease ?diseaseLabel ?symptom ?symptomLabel\n",
    "WHERE {\n",
    "  ?disease wdt:P31 wd:Q12136; # Erhalte nur die Entitäten, die eine Krankheit sind\n",
    "           wdt:P780 ?symptom. # Erhalte alle Symptome der Krankheiten\n",
    "  SERVICE wikibase:label { bd:serviceParam wikibase:language \"en\". }\n",
    "}\n",
    "LIMIT 100\n",
    "\"\"\"\n",
    "\n",
    "# Senden der SPARQL-Abfrage an die Wikidata API\n",
    "url = \"https://query.wikidata.org/sparql\"\n",
    "params = {'query': sparql_query, 'format': 'json'}\n",
    "response = requests.get(url, params=params)\n",
    "data = response.json()\n",
    "\n",
    "# Erstellen eines Wörterbuchs mit Krankheiten und ihren Symptomen\n",
    "disease_symptom_dict = {}\n",
    "for item in data['results']['bindings']:\n",
    "    disease = item['disease']['value'].split('/')[-1]\n",
    "    symptom = item['symptom']['value']\n",
    "    if disease not in disease_symptom_dict:\n",
    "        disease_symptom_dict[disease] = []\n",
    "    disease_symptom_dict[disease].append((symptom, item['symptomLabel']['value']))\n",
    "\n",
    "# Erstellen des Graphen\n",
    "G = nx.Graph()\n",
    "\n",
    "# Fügen Sie jeden Knoten (Krankheit) zum Graphen hinzu\n",
    "for disease in disease_symptom_dict:\n",
    "    node_label = disease.split('/')[-1] # Verwenden Sie nur das QID der Krankheit als Knotenbeschriftung\n",
    "    G.add_node(node_label, label=node_label, type='disease')\n",
    "\n",
    "# Fügen Sie jede Kante (Beziehung zwischen Krankheiten) zum Graphen hinzu\n",
    "for disease1 in disease_symptom_dict:\n",
    "    for disease2, symptom in disease_symptom_dict[disease1]:\n",
    "        G.add_edge(disease1.split('/')[-1], disease2.split('/')[-1], label=symptom, type='symptom')\n",
    "\n",
    "# Erstellen der Positionen der Knoten im Graphen\n",
    "pos = nx.spring_layout(G)\n",
    "\n",
    "# Erstellen eines Farbcodes für jeden Knoten basierend auf dem Knotentyp\n",
    "node_colors = []\n",
    "for node in G.nodes:\n",
    "    if node.startswith(\"Q\"):\n",
    "        node_colors.append('blue')\n",
    "    else:\n",
    "        node_colors.append('gray')\n",
    "\n",
    "\n",
    "# Zeichnen des Graphen\n",
    "nx.draw(G, pos, with_labels=True, font_size=8, node_size=500, node_color=node_colors, font_color='white')\n",
    "\n",
    "# Erstellen der Beschriftungen für jede Kante (Beziehung zwischen Krankheiten)\n",
    "edge_labels = {(edge[0], edge[1]): edge[2]['label'] for edge in G.edges(data=True)}\n",
    "\n",
    "# Hinzufügen der Beschriftungen für jede Kante\n",
    "nx.draw_network"
   ],
   "metadata": {
    "collapsed": false,
    "pycharm": {
     "name": "#%%\n"
    }
   }
  },
  {
   "cell_type": "code",
   "execution_count": 13,
   "outputs": [
    {
     "data": {
      "application/vnd.plotly.v1+json": {
       "data": [
        {
         "hovertemplate": "<b>%{text}</b><extra></extra>",
         "marker": {
          "color": "lightblue",
          "size": 30
         },
         "mode": "markers+text",
         "text": [
          "http://www.wikidata.org/entity/Q2076329"
         ],
         "textposition": "middle center",
         "x": [
          0
         ],
         "y": [
          "http://www.wikidata.org/entity/Q2076329"
         ],
         "type": "scatter"
        },
        {
         "hovertemplate": "<b>%{text}</b><extra></extra>",
         "marker": {
          "color": "lightblue",
          "size": 30
         },
         "mode": "markers+text",
         "text": [
          "http://www.wikidata.org/entity/Q48143"
         ],
         "textposition": "middle center",
         "x": [
          0
         ],
         "y": [
          "http://www.wikidata.org/entity/Q48143"
         ],
         "type": "scatter"
        },
        {
         "hovertemplate": "<b>%{text}</b><extra></extra>",
         "marker": {
          "color": "lightblue",
          "size": 30
         },
         "mode": "markers+text",
         "text": [
          "http://www.wikidata.org/entity/Q152234"
         ],
         "textposition": "middle center",
         "x": [
          0
         ],
         "y": [
          "http://www.wikidata.org/entity/Q152234"
         ],
         "type": "scatter"
        },
        {
         "hovertemplate": "<b>%{text}</b><extra></extra>",
         "marker": {
          "color": "lightblue",
          "size": 30
         },
         "mode": "markers+text",
         "text": [
          "http://www.wikidata.org/entity/Q1128283"
         ],
         "textposition": "middle center",
         "x": [
          0
         ],
         "y": [
          "http://www.wikidata.org/entity/Q1128283"
         ],
         "type": "scatter"
        },
        {
         "hovertemplate": "<b>%{text}</b><extra></extra>",
         "marker": {
          "color": "lightblue",
          "size": 30
         },
         "mode": "markers+text",
         "text": [
          "http://www.wikidata.org/entity/Q2074059"
         ],
         "textposition": "middle center",
         "x": [
          0
         ],
         "y": [
          "http://www.wikidata.org/entity/Q2074059"
         ],
         "type": "scatter"
        },
        {
         "hovertemplate": "<b>%{text}</b><extra></extra>",
         "marker": {
          "color": "lightblue",
          "size": 30
         },
         "mode": "markers+text",
         "text": [
          "http://www.wikidata.org/entity/Q693058"
         ],
         "textposition": "middle center",
         "x": [
          0
         ],
         "y": [
          "http://www.wikidata.org/entity/Q693058"
         ],
         "type": "scatter"
        },
        {
         "hovertemplate": "<b>%{text}</b><extra></extra>",
         "marker": {
          "color": "lightblue",
          "size": 30
         },
         "mode": "markers+text",
         "text": [
          "http://www.wikidata.org/entity/Q186235"
         ],
         "textposition": "middle center",
         "x": [
          0
         ],
         "y": [
          "http://www.wikidata.org/entity/Q186235"
         ],
         "type": "scatter"
        },
        {
         "hovertemplate": "<b>%{text}</b><extra></extra>",
         "marker": {
          "color": "lightblue",
          "size": 30
         },
         "mode": "markers+text",
         "text": [
          "http://www.wikidata.org/entity/Q2260058"
         ],
         "textposition": "middle center",
         "x": [
          0
         ],
         "y": [
          "http://www.wikidata.org/entity/Q2260058"
         ],
         "type": "scatter"
        },
        {
         "hovertemplate": "<b>%{text}</b><extra></extra>",
         "marker": {
          "color": "lightblue",
          "size": 30
         },
         "mode": "markers+text",
         "text": [
          "http://www.wikidata.org/entity/Q114953"
         ],
         "textposition": "middle center",
         "x": [
          0
         ],
         "y": [
          "http://www.wikidata.org/entity/Q114953"
         ],
         "type": "scatter"
        },
        {
         "hovertemplate": "<b>%{text}</b><extra></extra>",
         "marker": {
          "color": "lightblue",
          "size": 30
         },
         "mode": "markers+text",
         "text": [
          "Q190805"
         ],
         "textposition": "middle center",
         "x": [
          0
         ],
         "y": [
          "Q190805"
         ],
         "type": "scatter"
        },
        {
         "hovertemplate": "<b>%{text}</b><extra></extra>",
         "marker": {
          "color": "lightblue",
          "size": 30
         },
         "mode": "markers+text",
         "text": [
          "http://www.wikidata.org/entity/Q1282114"
         ],
         "textposition": "middle center",
         "x": [
          0
         ],
         "y": [
          "http://www.wikidata.org/entity/Q1282114"
         ],
         "type": "scatter"
        },
        {
         "hovertemplate": "<b>%{text}</b><extra></extra>",
         "marker": {
          "color": "lightblue",
          "size": 30
         },
         "mode": "markers+text",
         "text": [
          "Q199804"
         ],
         "textposition": "middle center",
         "x": [
          0
         ],
         "y": [
          "Q199804"
         ],
         "type": "scatter"
        },
        {
         "hovertemplate": "<b>%{text}</b><extra></extra>",
         "marker": {
          "color": "lightblue",
          "size": 30
         },
         "mode": "markers+text",
         "text": [
          "http://www.wikidata.org/entity/Q183425"
         ],
         "textposition": "middle center",
         "x": [
          0
         ],
         "y": [
          "http://www.wikidata.org/entity/Q183425"
         ],
         "type": "scatter"
        },
        {
         "hovertemplate": "<b>%{text}</b><extra></extra>",
         "marker": {
          "color": "lightblue",
          "size": 30
         },
         "mode": "markers+text",
         "text": [
          "http://www.wikidata.org/entity/Q9690"
         ],
         "textposition": "middle center",
         "x": [
          0
         ],
         "y": [
          "http://www.wikidata.org/entity/Q9690"
         ],
         "type": "scatter"
        },
        {
         "hovertemplate": "<b>%{text}</b><extra></extra>",
         "marker": {
          "color": "lightblue",
          "size": 30
         },
         "mode": "markers+text",
         "text": [
          "http://www.wikidata.org/entity/Q180762"
         ],
         "textposition": "middle center",
         "x": [
          0
         ],
         "y": [
          "http://www.wikidata.org/entity/Q180762"
         ],
         "type": "scatter"
        },
        {
         "hovertemplate": "<b>%{text}</b><extra></extra>",
         "marker": {
          "color": "lightblue",
          "size": 30
         },
         "mode": "markers+text",
         "text": [
          "http://www.wikidata.org/entity/Q2434711"
         ],
         "textposition": "middle center",
         "x": [
          0
         ],
         "y": [
          "http://www.wikidata.org/entity/Q2434711"
         ],
         "type": "scatter"
        },
        {
         "hovertemplate": "<b>%{text}</b><extra></extra>",
         "marker": {
          "color": "lightblue",
          "size": 30
         },
         "mode": "markers+text",
         "text": [
          "http://www.wikidata.org/entity/Q769220"
         ],
         "textposition": "middle center",
         "x": [
          0
         ],
         "y": [
          "http://www.wikidata.org/entity/Q769220"
         ],
         "type": "scatter"
        },
        {
         "hovertemplate": "<b>%{text}</b><extra></extra>",
         "marker": {
          "color": "lightblue",
          "size": 30
         },
         "mode": "markers+text",
         "text": [
          "http://www.wikidata.org/entity/Q202837"
         ],
         "textposition": "middle center",
         "x": [
          0
         ],
         "y": [
          "http://www.wikidata.org/entity/Q202837"
         ],
         "type": "scatter"
        },
        {
         "hovertemplate": "<b>%{text}</b><extra></extra>",
         "marker": {
          "color": "lightblue",
          "size": 30
         },
         "mode": "markers+text",
         "text": [
          "http://www.wikidata.org/entity/Q41861"
         ],
         "textposition": "middle center",
         "x": [
          0
         ],
         "y": [
          "http://www.wikidata.org/entity/Q41861"
         ],
         "type": "scatter"
        },
        {
         "hovertemplate": "<b>%{text}</b><extra></extra>",
         "marker": {
          "color": "lightblue",
          "size": 30
         },
         "mode": "markers+text",
         "text": [
          "http://www.wikidata.org/entity/Q29299"
         ],
         "textposition": "middle center",
         "x": [
          0
         ],
         "y": [
          "http://www.wikidata.org/entity/Q29299"
         ],
         "type": "scatter"
        },
        {
         "hovertemplate": "<b>%{text}</b><extra></extra>",
         "marker": {
          "color": "lightblue",
          "size": 30
         },
         "mode": "markers+text",
         "text": [
          "http://www.wikidata.org/entity/Q9073584"
         ],
         "textposition": "middle center",
         "x": [
          0
         ],
         "y": [
          "http://www.wikidata.org/entity/Q9073584"
         ],
         "type": "scatter"
        },
        {
         "hovertemplate": "<b>%{text}</b><extra></extra>",
         "marker": {
          "color": "lightblue",
          "size": 30
         },
         "mode": "markers+text",
         "text": [
          "http://www.wikidata.org/entity/Q28868265"
         ],
         "textposition": "middle center",
         "x": [
          0
         ],
         "y": [
          "http://www.wikidata.org/entity/Q28868265"
         ],
         "type": "scatter"
        },
        {
         "hovertemplate": "<b>%{text}</b><extra></extra>",
         "marker": {
          "color": "lightblue",
          "size": 30
         },
         "mode": "markers+text",
         "text": [
          "http://www.wikidata.org/entity/Q2306782"
         ],
         "textposition": "middle center",
         "x": [
          0
         ],
         "y": [
          "http://www.wikidata.org/entity/Q2306782"
         ],
         "type": "scatter"
        },
        {
         "hovertemplate": "<b>%{text}</b><extra></extra>",
         "marker": {
          "color": "lightblue",
          "size": 30
         },
         "mode": "markers+text",
         "text": [
          "http://www.wikidata.org/entity/Q193889"
         ],
         "textposition": "middle center",
         "x": [
          0
         ],
         "y": [
          "http://www.wikidata.org/entity/Q193889"
         ],
         "type": "scatter"
        },
        {
         "hovertemplate": "<b>%{text}</b><extra></extra>",
         "marker": {
          "color": "lightblue",
          "size": 30
         },
         "mode": "markers+text",
         "text": [
          "http://www.wikidata.org/entity/Q188008"
         ],
         "textposition": "middle center",
         "x": [
          0
         ],
         "y": [
          "http://www.wikidata.org/entity/Q188008"
         ],
         "type": "scatter"
        },
        {
         "hovertemplate": "<b>%{text}</b><extra></extra>",
         "marker": {
          "color": "lightblue",
          "size": 30
         },
         "mode": "markers+text",
         "text": [
          "http://www.wikidata.org/entity/Q56635009"
         ],
         "textposition": "middle center",
         "x": [
          0
         ],
         "y": [
          "http://www.wikidata.org/entity/Q56635009"
         ],
         "type": "scatter"
        },
        {
         "hovertemplate": "<b>%{text}</b><extra></extra>",
         "marker": {
          "color": "lightblue",
          "size": 30
         },
         "mode": "markers+text",
         "text": [
          "http://www.wikidata.org/entity/Q107231"
         ],
         "textposition": "middle center",
         "x": [
          0
         ],
         "y": [
          "http://www.wikidata.org/entity/Q107231"
         ],
         "type": "scatter"
        },
        {
         "hovertemplate": "<b>%{text}</b><extra></extra>",
         "marker": {
          "color": "lightblue",
          "size": 30
         },
         "mode": "markers+text",
         "text": [
          "http://www.wikidata.org/entity/Q81938"
         ],
         "textposition": "middle center",
         "x": [
          0
         ],
         "y": [
          "http://www.wikidata.org/entity/Q81938"
         ],
         "type": "scatter"
        },
        {
         "hovertemplate": "<b>%{text}</b><extra></extra>",
         "marker": {
          "color": "lightblue",
          "size": 30
         },
         "mode": "markers+text",
         "text": [
          "http://www.wikidata.org/entity/Q38933"
         ],
         "textposition": "middle center",
         "x": [
          0
         ],
         "y": [
          "http://www.wikidata.org/entity/Q38933"
         ],
         "type": "scatter"
        },
        {
         "hovertemplate": "<b>%{text}</b><extra></extra>",
         "marker": {
          "color": "lightblue",
          "size": 30
         },
         "mode": "markers+text",
         "text": [
          "http://www.wikidata.org/entity/Q761862"
         ],
         "textposition": "middle center",
         "x": [
          0
         ],
         "y": [
          "http://www.wikidata.org/entity/Q761862"
         ],
         "type": "scatter"
        },
        {
         "hovertemplate": "<b>%{text}</b><extra></extra>",
         "marker": {
          "color": "lightblue",
          "size": 30
         },
         "mode": "markers+text",
         "text": [
          "http://www.wikidata.org/entity/Q209789"
         ],
         "textposition": "middle center",
         "x": [
          0
         ],
         "y": [
          "http://www.wikidata.org/entity/Q209789"
         ],
         "type": "scatter"
        },
        {
         "hovertemplate": "<b>%{text}</b><extra></extra>",
         "marker": {
          "color": "lightblue",
          "size": 30
         },
         "mode": "markers+text",
         "text": [
          "Q201989"
         ],
         "textposition": "middle center",
         "x": [
          0
         ],
         "y": [
          "Q201989"
         ],
         "type": "scatter"
        },
        {
         "hovertemplate": "<b>%{text}</b><extra></extra>",
         "marker": {
          "color": "lightblue",
          "size": 30
         },
         "mode": "markers+text",
         "text": [
          "http://www.wikidata.org/entity/Q3073147"
         ],
         "textposition": "middle center",
         "x": [
          0
         ],
         "y": [
          "http://www.wikidata.org/entity/Q3073147"
         ],
         "type": "scatter"
        },
        {
         "hovertemplate": "<b>%{text}</b><extra></extra>",
         "marker": {
          "color": "lightblue",
          "size": 30
         },
         "mode": "markers+text",
         "text": [
          "http://www.wikidata.org/entity/Q180007"
         ],
         "textposition": "middle center",
         "x": [
          0
         ],
         "y": [
          "http://www.wikidata.org/entity/Q180007"
         ],
         "type": "scatter"
        },
        {
         "hovertemplate": "<b>%{text}</b><extra></extra>",
         "marker": {
          "color": "lightblue",
          "size": 30
         },
         "mode": "markers+text",
         "text": [
          "http://www.wikidata.org/entity/Q177190"
         ],
         "textposition": "middle center",
         "x": [
          0
         ],
         "y": [
          "http://www.wikidata.org/entity/Q177190"
         ],
         "type": "scatter"
        },
        {
         "hovertemplate": "<b>%{text}</b><extra></extra>",
         "marker": {
          "color": "lightblue",
          "size": 30
         },
         "mode": "markers+text",
         "text": [
          "http://www.wikidata.org/entity/Q622427"
         ],
         "textposition": "middle center",
         "x": [
          0
         ],
         "y": [
          "http://www.wikidata.org/entity/Q622427"
         ],
         "type": "scatter"
        },
        {
         "hovertemplate": "<b>%{text}</b><extra></extra>",
         "marker": {
          "color": "lightblue",
          "size": 30
         },
         "mode": "markers+text",
         "text": [
          "http://www.wikidata.org/entity/Q127076"
         ],
         "textposition": "middle center",
         "x": [
          0
         ],
         "y": [
          "http://www.wikidata.org/entity/Q127076"
         ],
         "type": "scatter"
        },
        {
         "hovertemplate": "<b>%{text}</b><extra></extra>",
         "marker": {
          "color": "lightblue",
          "size": 30
         },
         "mode": "markers+text",
         "text": [
          "Q155098"
         ],
         "textposition": "middle center",
         "x": [
          0
         ],
         "y": [
          "Q155098"
         ],
         "type": "scatter"
        },
        {
         "hovertemplate": "<b>%{text}</b><extra></extra>",
         "marker": {
          "color": "lightblue",
          "size": 30
         },
         "mode": "markers+text",
         "text": [
          "Q39222"
         ],
         "textposition": "middle center",
         "x": [
          0
         ],
         "y": [
          "Q39222"
         ],
         "type": "scatter"
        },
        {
         "hovertemplate": "<b>%{text}</b><extra></extra>",
         "marker": {
          "color": "lightblue",
          "size": 30
         },
         "mode": "markers+text",
         "text": [
          "Q133823"
         ],
         "textposition": "middle center",
         "x": [
          0
         ],
         "y": [
          "Q133823"
         ],
         "type": "scatter"
        },
        {
         "hovertemplate": "<b>%{text}</b><extra></extra>",
         "marker": {
          "color": "lightblue",
          "size": 30
         },
         "mode": "markers+text",
         "text": [
          "http://www.wikidata.org/entity/Q2046811"
         ],
         "textposition": "middle center",
         "x": [
          0
         ],
         "y": [
          "http://www.wikidata.org/entity/Q2046811"
         ],
         "type": "scatter"
        },
        {
         "hovertemplate": "<b>%{text}</b><extra></extra>",
         "marker": {
          "color": "lightblue",
          "size": 30
         },
         "mode": "markers+text",
         "text": [
          "http://www.wikidata.org/entity/Q170082"
         ],
         "textposition": "middle center",
         "x": [
          0
         ],
         "y": [
          "http://www.wikidata.org/entity/Q170082"
         ],
         "type": "scatter"
        },
        {
         "hovertemplate": "<b>%{text}</b><extra></extra>",
         "marker": {
          "color": "lightblue",
          "size": 30
         },
         "mode": "markers+text",
         "text": [
          "http://www.wikidata.org/entity/Q24869904"
         ],
         "textposition": "middle center",
         "x": [
          0
         ],
         "y": [
          "http://www.wikidata.org/entity/Q24869904"
         ],
         "type": "scatter"
        },
        {
         "hovertemplate": "<b>%{text}</b><extra></extra>",
         "marker": {
          "color": "lightblue",
          "size": 30
         },
         "mode": "markers+text",
         "text": [
          "http://www.wikidata.org/entity/Q1166142"
         ],
         "textposition": "middle center",
         "x": [
          0
         ],
         "y": [
          "http://www.wikidata.org/entity/Q1166142"
         ],
         "type": "scatter"
        },
        {
         "hovertemplate": "<b>%{text}</b><extra></extra>",
         "marker": {
          "color": "lightblue",
          "size": 30
         },
         "mode": "markers+text",
         "text": [
          "http://www.wikidata.org/entity/Q3072083"
         ],
         "textposition": "middle center",
         "x": [
          0
         ],
         "y": [
          "http://www.wikidata.org/entity/Q3072083"
         ],
         "type": "scatter"
        },
        {
         "hovertemplate": "<b>%{text}</b><extra></extra>",
         "marker": {
          "color": "lightblue",
          "size": 30
         },
         "mode": "markers+text",
         "text": [
          "http://www.wikidata.org/entity/Q189331"
         ],
         "textposition": "middle center",
         "x": [
          0
         ],
         "y": [
          "http://www.wikidata.org/entity/Q189331"
         ],
         "type": "scatter"
        },
        {
         "hovertemplate": "<b>%{text}</b><extra></extra>",
         "marker": {
          "color": "lightblue",
          "size": 30
         },
         "mode": "markers+text",
         "text": [
          "http://www.wikidata.org/entity/Q17077617"
         ],
         "textposition": "middle center",
         "x": [
          0
         ],
         "y": [
          "http://www.wikidata.org/entity/Q17077617"
         ],
         "type": "scatter"
        },
        {
         "hovertemplate": "<b>%{text}</b><extra></extra>",
         "marker": {
          "color": "lightblue",
          "size": 30
         },
         "mode": "markers+text",
         "text": [
          "http://www.wikidata.org/entity/Q474959"
         ],
         "textposition": "middle center",
         "x": [
          0
         ],
         "y": [
          "http://www.wikidata.org/entity/Q474959"
         ],
         "type": "scatter"
        },
        {
         "hovertemplate": "<b>%{text}</b><extra></extra>",
         "marker": {
          "color": "lightblue",
          "size": 30
         },
         "mode": "markers+text",
         "text": [
          "http://www.wikidata.org/entity/Q1115038"
         ],
         "textposition": "middle center",
         "x": [
          0
         ],
         "y": [
          "http://www.wikidata.org/entity/Q1115038"
         ],
         "type": "scatter"
        },
        {
         "hovertemplate": "<b>%{text}</b><extra></extra>",
         "marker": {
          "color": "lightblue",
          "size": 30
         },
         "mode": "markers+text",
         "text": [
          "http://www.wikidata.org/entity/Q12153824"
         ],
         "textposition": "middle center",
         "x": [
          0
         ],
         "y": [
          "http://www.wikidata.org/entity/Q12153824"
         ],
         "type": "scatter"
        },
        {
         "hovertemplate": "<b>%{text}</b><extra></extra>",
         "marker": {
          "color": "lightblue",
          "size": 30
         },
         "mode": "markers+text",
         "text": [
          "http://www.wikidata.org/entity/Q186889"
         ],
         "textposition": "middle center",
         "x": [
          0
         ],
         "y": [
          "http://www.wikidata.org/entity/Q186889"
         ],
         "type": "scatter"
        },
        {
         "hovertemplate": "<b>%{text}</b><extra></extra>",
         "marker": {
          "color": "lightblue",
          "size": 30
         },
         "mode": "markers+text",
         "text": [
          "http://www.wikidata.org/entity/Q3245488"
         ],
         "textposition": "middle center",
         "x": [
          0
         ],
         "y": [
          "http://www.wikidata.org/entity/Q3245488"
         ],
         "type": "scatter"
        },
        {
         "hovertemplate": "<b>%{text}</b><extra></extra>",
         "marker": {
          "color": "lightblue",
          "size": 30
         },
         "mode": "markers+text",
         "text": [
          "http://www.wikidata.org/entity/Q517104"
         ],
         "textposition": "middle center",
         "x": [
          0
         ],
         "y": [
          "http://www.wikidata.org/entity/Q517104"
         ],
         "type": "scatter"
        },
        {
         "hovertemplate": "<b>%{text}</b><extra></extra>",
         "marker": {
          "color": "lightblue",
          "size": 30
         },
         "mode": "markers+text",
         "text": [
          "http://www.wikidata.org/entity/Q209583"
         ],
         "textposition": "middle center",
         "x": [
          0
         ],
         "y": [
          "http://www.wikidata.org/entity/Q209583"
         ],
         "type": "scatter"
        },
        {
         "hovertemplate": "<b>%{text}</b><extra></extra>",
         "marker": {
          "color": "lightblue",
          "size": 30
         },
         "mode": "markers+text",
         "text": [
          "Q194101"
         ],
         "textposition": "middle center",
         "x": [
          0
         ],
         "y": [
          "Q194101"
         ],
         "type": "scatter"
        },
        {
         "hovertemplate": "<b>%{text}</b><extra></extra>",
         "marker": {
          "color": "lightblue",
          "size": 30
         },
         "mode": "markers+text",
         "text": [
          "Q160796"
         ],
         "textposition": "middle center",
         "x": [
          0
         ],
         "y": [
          "Q160796"
         ],
         "type": "scatter"
        },
        {
         "hovertemplate": "<b>%{text}</b><extra></extra>",
         "marker": {
          "color": "lightblue",
          "size": 30
         },
         "mode": "markers+text",
         "text": [
          "http://www.wikidata.org/entity/Q476921"
         ],
         "textposition": "middle center",
         "x": [
          0
         ],
         "y": [
          "http://www.wikidata.org/entity/Q476921"
         ],
         "type": "scatter"
        },
        {
         "hovertemplate": "<b>%{text}</b><extra></extra>",
         "marker": {
          "color": "lightblue",
          "size": 30
         },
         "mode": "markers+text",
         "text": [
          "http://www.wikidata.org/entity/Q35805"
         ],
         "textposition": "middle center",
         "x": [
          0
         ],
         "y": [
          "http://www.wikidata.org/entity/Q35805"
         ],
         "type": "scatter"
        },
        {
         "hovertemplate": "<b>%{text}</b><extra></extra>",
         "marker": {
          "color": "lightblue",
          "size": 30
         },
         "mode": "markers+text",
         "text": [
          "http://www.wikidata.org/entity/Q7502090"
         ],
         "textposition": "middle center",
         "x": [
          0
         ],
         "y": [
          "http://www.wikidata.org/entity/Q7502090"
         ],
         "type": "scatter"
        },
        {
         "hovertemplate": "<b>%{text}</b><extra></extra>",
         "marker": {
          "color": "lightblue",
          "size": 30
         },
         "mode": "markers+text",
         "text": [
          "Q133087"
         ],
         "textposition": "middle center",
         "x": [
          0
         ],
         "y": [
          "Q133087"
         ],
         "type": "scatter"
        },
        {
         "hovertemplate": "<b>%{text}</b><extra></extra>",
         "marker": {
          "color": "lightblue",
          "size": 30
         },
         "mode": "markers+text",
         "text": [
          "http://www.wikidata.org/entity/Q1869874"
         ],
         "textposition": "middle center",
         "x": [
          0
         ],
         "y": [
          "http://www.wikidata.org/entity/Q1869874"
         ],
         "type": "scatter"
        },
        {
         "hovertemplate": "<b>%{text}</b><extra></extra>",
         "marker": {
          "color": "lightblue",
          "size": 30
         },
         "mode": "markers+text",
         "text": [
          "Q137597"
         ],
         "textposition": "middle center",
         "x": [
          0
         ],
         "y": [
          "Q137597"
         ],
         "type": "scatter"
        },
        {
         "hovertemplate": "<b>%{text}</b><extra></extra>",
         "marker": {
          "color": "lightblue",
          "size": 30
         },
         "mode": "markers+text",
         "text": [
          "Q132971"
         ],
         "textposition": "middle center",
         "x": [
          0
         ],
         "y": [
          "Q132971"
         ],
         "type": "scatter"
        },
        {
         "hovertemplate": "<b>%{text}</b><extra></extra>",
         "marker": {
          "color": "lightblue",
          "size": 30
         },
         "mode": "markers+text",
         "text": [
          "http://www.wikidata.org/entity/Q130741"
         ],
         "textposition": "middle center",
         "x": [
          0
         ],
         "y": [
          "http://www.wikidata.org/entity/Q130741"
         ],
         "type": "scatter"
        },
        {
         "hovertemplate": "<b>%{text}</b><extra></extra>",
         "marker": {
          "color": "lightblue",
          "size": 30
         },
         "mode": "markers+text",
         "text": [
          "http://www.wikidata.org/entity/Q1188698"
         ],
         "textposition": "middle center",
         "x": [
          0
         ],
         "y": [
          "http://www.wikidata.org/entity/Q1188698"
         ],
         "type": "scatter"
        },
        {
         "hovertemplate": "<b>%{text}</b><extra></extra>",
         "marker": {
          "color": "lightblue",
          "size": 30
         },
         "mode": "markers+text",
         "text": [
          "Q48143"
         ],
         "textposition": "middle center",
         "x": [
          0
         ],
         "y": [
          "Q48143"
         ],
         "type": "scatter"
        },
        {
         "hovertemplate": "<b>%{text}</b><extra></extra>",
         "marker": {
          "color": "lightblue",
          "size": 30
         },
         "mode": "markers+text",
         "text": [
          "http://www.wikidata.org/entity/Q44619"
         ],
         "textposition": "middle center",
         "x": [
          0
         ],
         "y": [
          "http://www.wikidata.org/entity/Q44619"
         ],
         "type": "scatter"
        },
        {
         "hovertemplate": "<b>%{text}</b><extra></extra>",
         "marker": {
          "color": "lightblue",
          "size": 30
         },
         "mode": "markers+text",
         "text": [
          "Q174651"
         ],
         "textposition": "middle center",
         "x": [
          0
         ],
         "y": [
          "Q174651"
         ],
         "type": "scatter"
        },
        {
         "hovertemplate": "<b>%{text}</b><extra></extra>",
         "marker": {
          "color": "lightblue",
          "size": 30
         },
         "mode": "markers+text",
         "text": [
          "http://www.wikidata.org/entity/Q3774744"
         ],
         "textposition": "middle center",
         "x": [
          0
         ],
         "y": [
          "http://www.wikidata.org/entity/Q3774744"
         ],
         "type": "scatter"
        },
        {
         "hovertemplate": "<b>%{text}</b><extra></extra>",
         "marker": {
          "color": "lightblue",
          "size": 30
         },
         "mode": "markers+text",
         "text": [
          "http://www.wikidata.org/entity/Q653197"
         ],
         "textposition": "middle center",
         "x": [
          0
         ],
         "y": [
          "http://www.wikidata.org/entity/Q653197"
         ],
         "type": "scatter"
        },
        {
         "hovertemplate": "<b>%{text}</b><extra></extra>",
         "marker": {
          "color": "lightblue",
          "size": 30
         },
         "mode": "markers+text",
         "text": [
          "http://www.wikidata.org/entity/Q823027"
         ],
         "textposition": "middle center",
         "x": [
          0
         ],
         "y": [
          "http://www.wikidata.org/entity/Q823027"
         ],
         "type": "scatter"
        },
        {
         "hovertemplate": "<b>%{text}</b><extra></extra>",
         "marker": {
          "color": "lightblue",
          "size": 30
         },
         "mode": "markers+text",
         "text": [
          "Q166907"
         ],
         "textposition": "middle center",
         "x": [
          0
         ],
         "y": [
          "Q166907"
         ],
         "type": "scatter"
        },
        {
         "hovertemplate": "<b>%{text}</b><extra></extra>",
         "marker": {
          "color": "lightblue",
          "size": 30
         },
         "mode": "markers+text",
         "text": [
          "http://www.wikidata.org/entity/Q199602"
         ],
         "textposition": "middle center",
         "x": [
          0
         ],
         "y": [
          "http://www.wikidata.org/entity/Q199602"
         ],
         "type": "scatter"
        },
        {
         "hovertemplate": "<b>%{text}</b><extra></extra>",
         "marker": {
          "color": "lightblue",
          "size": 30
         },
         "mode": "markers+text",
         "text": [
          "http://www.wikidata.org/entity/Q281289"
         ],
         "textposition": "middle center",
         "x": [
          0
         ],
         "y": [
          "http://www.wikidata.org/entity/Q281289"
         ],
         "type": "scatter"
        },
        {
         "hovertemplate": "<b>%{text}</b><extra></extra>",
         "marker": {
          "color": "lightblue",
          "size": 30
         },
         "mode": "markers+text",
         "text": [
          "http://www.wikidata.org/entity/Q3540864"
         ],
         "textposition": "middle center",
         "x": [
          0
         ],
         "y": [
          "http://www.wikidata.org/entity/Q3540864"
         ],
         "type": "scatter"
        },
        {
         "hovertemplate": "<b>%{text}</b><extra></extra>",
         "marker": {
          "color": "lightblue",
          "size": 30
         },
         "mode": "markers+text",
         "text": [
          "Q192579"
         ],
         "textposition": "middle center",
         "x": [
          0
         ],
         "y": [
          "Q192579"
         ],
         "type": "scatter"
        },
        {
         "hovertemplate": "<b>%{text}</b><extra></extra>",
         "marker": {
          "color": "lightblue",
          "size": 30
         },
         "mode": "markers+text",
         "text": [
          "http://www.wikidata.org/entity/Q28455110"
         ],
         "textposition": "middle center",
         "x": [
          0
         ],
         "y": [
          "http://www.wikidata.org/entity/Q28455110"
         ],
         "type": "scatter"
        },
        {
         "hovertemplate": "<b>%{text}</b><extra></extra>",
         "marker": {
          "color": "lightblue",
          "size": 30
         },
         "mode": "markers+text",
         "text": [
          "http://www.wikidata.org/entity/Q2610154"
         ],
         "textposition": "middle center",
         "x": [
          0
         ],
         "y": [
          "http://www.wikidata.org/entity/Q2610154"
         ],
         "type": "scatter"
        },
        {
         "hovertemplate": "<b>%{text}</b><extra></extra>",
         "marker": {
          "color": "lightblue",
          "size": 30
         },
         "mode": "markers+text",
         "text": [
          "Q183134"
         ],
         "textposition": "middle center",
         "x": [
          0
         ],
         "y": [
          "Q183134"
         ],
         "type": "scatter"
        },
        {
         "hovertemplate": "<b>%{text}</b><extra></extra>",
         "marker": {
          "color": "lightblue",
          "size": 30
         },
         "mode": "markers+text",
         "text": [
          "http://www.wikidata.org/entity/Q86"
         ],
         "textposition": "middle center",
         "x": [
          0
         ],
         "y": [
          "http://www.wikidata.org/entity/Q86"
         ],
         "type": "scatter"
        },
        {
         "hovertemplate": "<b>%{text}</b><extra></extra>",
         "marker": {
          "color": "lightblue",
          "size": 30
         },
         "mode": "markers+text",
         "text": [
          "http://www.wikidata.org/entity/Q3030775"
         ],
         "textposition": "middle center",
         "x": [
          0
         ],
         "y": [
          "http://www.wikidata.org/entity/Q3030775"
         ],
         "type": "scatter"
        },
        {
         "hovertemplate": "<b>%{text}</b><extra></extra>",
         "marker": {
          "color": "lightblue",
          "size": 30
         },
         "mode": "markers+text",
         "text": [
          "http://www.wikidata.org/entity/Q109186"
         ],
         "textposition": "middle center",
         "x": [
          0
         ],
         "y": [
          "http://www.wikidata.org/entity/Q109186"
         ],
         "type": "scatter"
        },
        {
         "hovertemplate": "<b>%{text}</b><extra></extra>",
         "marker": {
          "color": "lightblue",
          "size": 30
         },
         "mode": "markers+text",
         "text": [
          "http://www.wikidata.org/entity/Q3537764"
         ],
         "textposition": "middle center",
         "x": [
          0
         ],
         "y": [
          "http://www.wikidata.org/entity/Q3537764"
         ],
         "type": "scatter"
        },
        {
         "hovertemplate": "<b>%{text}</b><extra></extra>",
         "marker": {
          "color": "lightblue",
          "size": 30
         },
         "mode": "markers+text",
         "text": [
          "http://www.wikidata.org/entity/Q1640850"
         ],
         "textposition": "middle center",
         "x": [
          0
         ],
         "y": [
          "http://www.wikidata.org/entity/Q1640850"
         ],
         "type": "scatter"
        },
        {
         "hovertemplate": "<b>%{text}</b><extra></extra>",
         "marker": {
          "color": "lightblue",
          "size": 30
         },
         "mode": "markers+text",
         "text": [
          "http://www.wikidata.org/entity/Q394129"
         ],
         "textposition": "middle center",
         "x": [
          0
         ],
         "y": [
          "http://www.wikidata.org/entity/Q394129"
         ],
         "type": "scatter"
        },
        {
         "hovertemplate": "<b>%{text}</b><extra></extra>",
         "marker": {
          "color": "lightblue",
          "size": 30
         },
         "mode": "markers+text",
         "text": [
          "http://www.wikidata.org/entity/Q1895873"
         ],
         "textposition": "middle center",
         "x": [
          0
         ],
         "y": [
          "http://www.wikidata.org/entity/Q1895873"
         ],
         "type": "scatter"
        },
        {
         "hovertemplate": "<b>%{text}</b><extra></extra>",
         "marker": {
          "color": "lightblue",
          "size": 30
         },
         "mode": "markers+text",
         "text": [
          "http://www.wikidata.org/entity/Q683498"
         ],
         "textposition": "middle center",
         "x": [
          0
         ],
         "y": [
          "http://www.wikidata.org/entity/Q683498"
         ],
         "type": "scatter"
        },
        {
         "hovertemplate": "<b>%{text}</b><extra></extra>",
         "marker": {
          "color": "lightblue",
          "size": 30
         },
         "mode": "markers+text",
         "text": [
          "http://www.wikidata.org/entity/Q1499629"
         ],
         "textposition": "middle center",
         "x": [
          0
         ],
         "y": [
          "http://www.wikidata.org/entity/Q1499629"
         ],
         "type": "scatter"
        },
        {
         "hovertemplate": "<b>%{text}</b><extra></extra>",
         "marker": {
          "color": "lightblue",
          "size": 30
         },
         "mode": "markers+text",
         "text": [
          "http://www.wikidata.org/entity/Q170990"
         ],
         "textposition": "middle center",
         "x": [
          0
         ],
         "y": [
          "http://www.wikidata.org/entity/Q170990"
         ],
         "type": "scatter"
        },
        {
         "hovertemplate": "<b>%{text}</b><extra></extra>",
         "marker": {
          "color": "lightblue",
          "size": 30
         },
         "mode": "markers+text",
         "text": [
          "Q167178"
         ],
         "textposition": "middle center",
         "x": [
          0
         ],
         "y": [
          "Q167178"
         ],
         "type": "scatter"
        },
        {
         "hovertemplate": "<b>thought disorder</b><extra></extra>",
         "line": {
          "color": "gray",
          "width": 1
         },
         "marker": {
          "color": "gray",
          "size": 10,
          "symbol": "circle"
         },
         "mode": "lines+markers+text",
         "text": [
          "thought disorder"
         ],
         "textposition": "middle center",
         "x": [
          55,
          64
         ],
         "y": [
          "Q160796",
          "http://www.wikidata.org/entity/Q1188698"
         ],
         "type": "scatter"
        },
        {
         "hovertemplate": "<b>red eye</b><extra></extra>",
         "line": {
          "color": "gray",
          "width": 1
         },
         "marker": {
          "color": "gray",
          "size": 10,
          "symbol": "circle"
         },
         "mode": "lines+markers+text",
         "text": [
          "red eye"
         ],
         "textposition": "middle center",
         "x": [
          71,
          77
         ],
         "y": [
          "Q166907",
          "http://www.wikidata.org/entity/Q2610154"
         ],
         "type": "scatter"
        },
        {
         "hovertemplate": "<b>psychomotor agitation</b><extra></extra>",
         "line": {
          "color": "gray",
          "width": 1
         },
         "marker": {
          "color": "gray",
          "size": 10,
          "symbol": "circle"
         },
         "mode": "lines+markers+text",
         "text": [
          "psychomotor agitation"
         ],
         "textposition": "middle center",
         "x": [
          71,
          84
         ],
         "y": [
          "Q166907",
          "http://www.wikidata.org/entity/Q394129"
         ],
         "type": "scatter"
        },
        {
         "hovertemplate": "<b>disseminated intravascular coagulation</b><extra></extra>",
         "line": {
          "color": "gray",
          "width": 1
         },
         "marker": {
          "color": "gray",
          "size": 10,
          "symbol": "circle"
         },
         "mode": "lines+markers+text",
         "text": [
          "disseminated intravascular coagulation"
         ],
         "textposition": "middle center",
         "x": [
          37,
          70
         ],
         "y": [
          "Q155098",
          "http://www.wikidata.org/entity/Q823027"
         ],
         "type": "scatter"
        },
        {
         "hovertemplate": "<b>irritability</b><extra></extra>",
         "line": {
          "color": "gray",
          "width": 1
         },
         "marker": {
          "color": "gray",
          "size": 10,
          "symbol": "circle"
         },
         "mode": "lines+markers+text",
         "text": [
          "irritability"
         ],
         "textposition": "middle center",
         "x": [
          75,
          19
         ],
         "y": [
          "Q192579",
          "http://www.wikidata.org/entity/Q29299"
         ],
         "type": "scatter"
        },
        {
         "hovertemplate": "<b>short stature</b><extra></extra>",
         "line": {
          "color": "gray",
          "width": 1
         },
         "marker": {
          "color": "gray",
          "size": 10,
          "symbol": "circle"
         },
         "mode": "lines+markers+text",
         "text": [
          "short stature"
         ],
         "textposition": "middle center",
         "x": [
          54,
          58
         ],
         "y": [
          "Q194101",
          "http://www.wikidata.org/entity/Q7502090"
         ],
         "type": "scatter"
        },
        {
         "hovertemplate": "<b>chills</b><extra></extra>",
         "line": {
          "color": "gray",
          "width": 1
         },
         "marker": {
          "color": "gray",
          "size": 10,
          "symbol": "circle"
         },
         "mode": "lines+markers+text",
         "text": [
          "chills"
         ],
         "textposition": "middle center",
         "x": [
          78,
          7
         ],
         "y": [
          "Q183134",
          "http://www.wikidata.org/entity/Q2260058"
         ],
         "type": "scatter"
        },
        {
         "hovertemplate": "<b>runny nose</b><extra></extra>",
         "line": {
          "color": "gray",
          "width": 1
         },
         "marker": {
          "color": "gray",
          "size": 10,
          "symbol": "circle"
         },
         "mode": "lines+markers+text",
         "text": [
          "runny nose"
         ],
         "textposition": "middle center",
         "x": [
          71,
          48
         ],
         "y": [
          "Q166907",
          "http://www.wikidata.org/entity/Q1115038"
         ],
         "type": "scatter"
        },
        {
         "hovertemplate": "<b>fever</b><extra></extra>",
         "line": {
          "color": "gray",
          "width": 1
         },
         "marker": {
          "color": "gray",
          "size": 10,
          "symbol": "circle"
         },
         "mode": "lines+markers+text",
         "text": [
          "fever"
         ],
         "textposition": "middle center",
         "x": [
          89,
          28
         ],
         "y": [
          "Q167178",
          "http://www.wikidata.org/entity/Q38933"
         ],
         "type": "scatter"
        },
        {
         "hovertemplate": "<b>myocarditis</b><extra></extra>",
         "line": {
          "color": "gray",
          "width": 1
         },
         "marker": {
          "color": "gray",
          "size": 10,
          "symbol": "circle"
         },
         "mode": "lines+markers+text",
         "text": [
          "myocarditis"
         ],
         "textposition": "middle center",
         "x": [
          37,
          6
         ],
         "y": [
          "Q155098",
          "http://www.wikidata.org/entity/Q186235"
         ],
         "type": "scatter"
        },
        {
         "hovertemplate": "<b>ptosis</b><extra></extra>",
         "line": {
          "color": "gray",
          "width": 1
         },
         "marker": {
          "color": "gray",
          "size": 10,
          "symbol": "circle"
         },
         "mode": "lines+markers+text",
         "text": [
          "ptosis"
         ],
         "textposition": "middle center",
         "x": [
          71,
          35
         ],
         "y": [
          "Q166907",
          "http://www.wikidata.org/entity/Q622427"
         ],
         "type": "scatter"
        },
        {
         "hovertemplate": "<b>kidney failure</b><extra></extra>",
         "line": {
          "color": "gray",
          "width": 1
         },
         "marker": {
          "color": "gray",
          "size": 10,
          "symbol": "circle"
         },
         "mode": "lines+markers+text",
         "text": [
          "kidney failure"
         ],
         "textposition": "middle center",
         "x": [
          37,
          56
         ],
         "y": [
          "Q155098",
          "http://www.wikidata.org/entity/Q476921"
         ],
         "type": "scatter"
        },
        {
         "hovertemplate": "<b>meningeal syndrome</b><extra></extra>",
         "line": {
          "color": "gray",
          "width": 1
         },
         "marker": {
          "color": "gray",
          "size": 10,
          "symbol": "circle"
         },
         "mode": "lines+markers+text",
         "text": [
          "meningeal syndrome"
         ],
         "textposition": "middle center",
         "x": [
          65,
          21
         ],
         "y": [
          "Q48143",
          "http://www.wikidata.org/entity/Q28868265"
         ],
         "type": "scatter"
        },
        {
         "hovertemplate": "<b>myocarditis</b><extra></extra>",
         "line": {
          "color": "gray",
          "width": 1
         },
         "marker": {
          "color": "gray",
          "size": 10,
          "symbol": "circle"
         },
         "mode": "lines+markers+text",
         "text": [
          "myocarditis"
         ],
         "textposition": "middle center",
         "x": [
          31,
          6
         ],
         "y": [
          "Q201989",
          "http://www.wikidata.org/entity/Q186235"
         ],
         "type": "scatter"
        },
        {
         "hovertemplate": "<b>headache</b><extra></extra>",
         "line": {
          "color": "gray",
          "width": 1
         },
         "marker": {
          "color": "gray",
          "size": 10,
          "symbol": "circle"
         },
         "mode": "lines+markers+text",
         "text": [
          "headache"
         ],
         "textposition": "middle center",
         "x": [
          71,
          79
         ],
         "y": [
          "Q166907",
          "http://www.wikidata.org/entity/Q86"
         ],
         "type": "scatter"
        },
        {
         "hovertemplate": "<b>angina pectoris</b><extra></extra>",
         "line": {
          "color": "gray",
          "width": 1
         },
         "marker": {
          "color": "gray",
          "size": 10,
          "symbol": "circle"
         },
         "mode": "lines+markers+text",
         "text": [
          "angina pectoris"
         ],
         "textposition": "middle center",
         "x": [
          9,
          14
         ],
         "y": [
          "Q190805",
          "http://www.wikidata.org/entity/Q180762"
         ],
         "type": "scatter"
        },
        {
         "hovertemplate": "<b>headache</b><extra></extra>",
         "line": {
          "color": "gray",
          "width": 1
         },
         "marker": {
          "color": "gray",
          "size": 10,
          "symbol": "circle"
         },
         "mode": "lines+markers+text",
         "text": [
          "headache"
         ],
         "textposition": "middle center",
         "x": [
          39,
          79
         ],
         "y": [
          "Q133823",
          "http://www.wikidata.org/entity/Q86"
         ],
         "type": "scatter"
        },
        {
         "hovertemplate": "<b>intermittent fever</b><extra></extra>",
         "line": {
          "color": "gray",
          "width": 1
         },
         "marker": {
          "color": "gray",
          "size": 10,
          "symbol": "circle"
         },
         "mode": "lines+markers+text",
         "text": [
          "intermittent fever"
         ],
         "textposition": "middle center",
         "x": [
          78,
          32
         ],
         "y": [
          "Q183134",
          "http://www.wikidata.org/entity/Q3073147"
         ],
         "type": "scatter"
        },
        {
         "hovertemplate": "<b>rash</b><extra></extra>",
         "line": {
          "color": "gray",
          "width": 1
         },
         "marker": {
          "color": "gray",
          "size": 10,
          "symbol": "circle"
         },
         "mode": "lines+markers+text",
         "text": [
          "rash"
         ],
         "textposition": "middle center",
         "x": [
          89,
          69
         ],
         "y": [
          "Q167178",
          "http://www.wikidata.org/entity/Q653197"
         ],
         "type": "scatter"
        },
        {
         "hovertemplate": "<b>emotional lability</b><extra></extra>",
         "line": {
          "color": "gray",
          "width": 1
         },
         "marker": {
          "color": "gray",
          "size": 10,
          "symbol": "circle"
         },
         "mode": "lines+markers+text",
         "text": [
          "emotional lability"
         ],
         "textposition": "middle center",
         "x": [
          55,
          76
         ],
         "y": [
          "Q160796",
          "http://www.wikidata.org/entity/Q28455110"
         ],
         "type": "scatter"
        },
        {
         "hovertemplate": "<b>respiratory arrest</b><extra></extra>",
         "line": {
          "color": "gray",
          "width": 1
         },
         "marker": {
          "color": "gray",
          "size": 10,
          "symbol": "circle"
         },
         "mode": "lines+markers+text",
         "text": [
          "respiratory arrest"
         ],
         "textposition": "middle center",
         "x": [
          38,
          68
         ],
         "y": [
          "Q39222",
          "http://www.wikidata.org/entity/Q3774744"
         ],
         "type": "scatter"
        },
        {
         "hovertemplate": "<b>fatigue</b><extra></extra>",
         "line": {
          "color": "gray",
          "width": 1
         },
         "marker": {
          "color": "gray",
          "size": 10,
          "symbol": "circle"
         },
         "mode": "lines+markers+text",
         "text": [
          "fatigue"
         ],
         "textposition": "middle center",
         "x": [
          75,
          13
         ],
         "y": [
          "Q192579",
          "http://www.wikidata.org/entity/Q9690"
         ],
         "type": "scatter"
        },
        {
         "hovertemplate": "<b>headache</b><extra></extra>",
         "line": {
          "color": "gray",
          "width": 1
         },
         "marker": {
          "color": "gray",
          "size": 10,
          "symbol": "circle"
         },
         "mode": "lines+markers+text",
         "text": [
          "headache"
         ],
         "textposition": "middle center",
         "x": [
          75,
          79
         ],
         "y": [
          "Q192579",
          "http://www.wikidata.org/entity/Q86"
         ],
         "type": "scatter"
        },
        {
         "hovertemplate": "<b>joint effusion</b><extra></extra>",
         "line": {
          "color": "gray",
          "width": 1
         },
         "marker": {
          "color": "gray",
          "size": 10,
          "symbol": "circle"
         },
         "mode": "lines+markers+text",
         "text": [
          "joint effusion"
         ],
         "textposition": "middle center",
         "x": [
          59,
          87
         ],
         "y": [
          "Q133087",
          "http://www.wikidata.org/entity/Q1499629"
         ],
         "type": "scatter"
        },
        {
         "hovertemplate": "<b>chills</b><extra></extra>",
         "line": {
          "color": "gray",
          "width": 1
         },
         "marker": {
          "color": "gray",
          "size": 10,
          "symbol": "circle"
         },
         "mode": "lines+markers+text",
         "text": [
          "chills"
         ],
         "textposition": "middle center",
         "x": [
          37,
          7
         ],
         "y": [
          "Q155098",
          "http://www.wikidata.org/entity/Q2260058"
         ],
         "type": "scatter"
        },
        {
         "hovertemplate": "<b>irritability</b><extra></extra>",
         "line": {
          "color": "gray",
          "width": 1
         },
         "marker": {
          "color": "gray",
          "size": 10,
          "symbol": "circle"
         },
         "mode": "lines+markers+text",
         "text": [
          "irritability"
         ],
         "textposition": "middle center",
         "x": [
          71,
          19
         ],
         "y": [
          "Q166907",
          "http://www.wikidata.org/entity/Q29299"
         ],
         "type": "scatter"
        },
        {
         "hovertemplate": "<b>itch</b><extra></extra>",
         "line": {
          "color": "gray",
          "width": 1
         },
         "marker": {
          "color": "gray",
          "size": 10,
          "symbol": "circle"
         },
         "mode": "lines+markers+text",
         "text": [
          "itch"
         ],
         "textposition": "middle center",
         "x": [
          89,
          72
         ],
         "y": [
          "Q167178",
          "http://www.wikidata.org/entity/Q199602"
         ],
         "type": "scatter"
        },
        {
         "hovertemplate": "<b>increase</b><extra></extra>",
         "line": {
          "color": "gray",
          "width": 1
         },
         "marker": {
          "color": "gray",
          "size": 10,
          "symbol": "circle"
         },
         "mode": "lines+markers+text",
         "text": [
          "increase"
         ],
         "textposition": "middle center",
         "x": [
          38,
          20
         ],
         "y": [
          "Q39222",
          "http://www.wikidata.org/entity/Q9073584"
         ],
         "type": "scatter"
        },
        {
         "hovertemplate": "<b>vomiting</b><extra></extra>",
         "line": {
          "color": "gray",
          "width": 1
         },
         "marker": {
          "color": "gray",
          "size": 10,
          "symbol": "circle"
         },
         "mode": "lines+markers+text",
         "text": [
          "vomiting"
         ],
         "textposition": "middle center",
         "x": [
          65,
          36
         ],
         "y": [
          "Q48143",
          "http://www.wikidata.org/entity/Q127076"
         ],
         "type": "scatter"
        },
        {
         "hovertemplate": "<b>wheeze</b><extra></extra>",
         "line": {
          "color": "gray",
          "width": 1
         },
         "marker": {
          "color": "gray",
          "size": 10,
          "symbol": "circle"
         },
         "mode": "lines+markers+text",
         "text": [
          "wheeze"
         ],
         "textposition": "middle center",
         "x": [
          11,
          52
         ],
         "y": [
          "Q199804",
          "http://www.wikidata.org/entity/Q517104"
         ],
         "type": "scatter"
        },
        {
         "hovertemplate": "<b>nasal congestion</b><extra></extra>",
         "line": {
          "color": "gray",
          "width": 1
         },
         "marker": {
          "color": "gray",
          "size": 10,
          "symbol": "circle"
         },
         "mode": "lines+markers+text",
         "text": [
          "nasal congestion"
         ],
         "textposition": "middle center",
         "x": [
          71,
          51
         ],
         "y": [
          "Q166907",
          "http://www.wikidata.org/entity/Q3245488"
         ],
         "type": "scatter"
        },
        {
         "hovertemplate": "<b>heart arrhythmia</b><extra></extra>",
         "line": {
          "color": "gray",
          "width": 1
         },
         "marker": {
          "color": "gray",
          "size": 10,
          "symbol": "circle"
         },
         "mode": "lines+markers+text",
         "text": [
          "heart arrhythmia"
         ],
         "textposition": "middle center",
         "x": [
          9,
          45
         ],
         "y": [
          "Q190805",
          "http://www.wikidata.org/entity/Q189331"
         ],
         "type": "scatter"
        },
        {
         "hovertemplate": "<b>remittent fever</b><extra></extra>",
         "line": {
          "color": "gray",
          "width": 1
         },
         "marker": {
          "color": "gray",
          "size": 10,
          "symbol": "circle"
         },
         "mode": "lines+markers+text",
         "text": [
          "remittent fever"
         ],
         "textposition": "middle center",
         "x": [
          78,
          42
         ],
         "y": [
          "Q183134",
          "http://www.wikidata.org/entity/Q24869904"
         ],
         "type": "scatter"
        },
        {
         "hovertemplate": "<b>tachycardia</b><extra></extra>",
         "line": {
          "color": "gray",
          "width": 1
         },
         "marker": {
          "color": "gray",
          "size": 10,
          "symbol": "circle"
         },
         "mode": "lines+markers+text",
         "text": [
          "tachycardia"
         ],
         "textposition": "middle center",
         "x": [
          9,
          53
         ],
         "y": [
          "Q190805",
          "http://www.wikidata.org/entity/Q209583"
         ],
         "type": "scatter"
        },
        {
         "hovertemplate": "<b>arthritis</b><extra></extra>",
         "line": {
          "color": "gray",
          "width": 1
         },
         "marker": {
          "color": "gray",
          "size": 10,
          "symbol": "circle"
         },
         "mode": "lines+markers+text",
         "text": [
          "arthritis"
         ],
         "textposition": "middle center",
         "x": [
          31,
          88
         ],
         "y": [
          "Q201989",
          "http://www.wikidata.org/entity/Q170990"
         ],
         "type": "scatter"
        },
        {
         "hovertemplate": "<b>cardiac arrest</b><extra></extra>",
         "line": {
          "color": "gray",
          "width": 1
         },
         "marker": {
          "color": "gray",
          "size": 10,
          "symbol": "circle"
         },
         "mode": "lines+markers+text",
         "text": [
          "cardiac arrest"
         ],
         "textposition": "middle center",
         "x": [
          38,
          17
         ],
         "y": [
          "Q39222",
          "http://www.wikidata.org/entity/Q202837"
         ],
         "type": "scatter"
        },
        {
         "hovertemplate": "<b>edema</b><extra></extra>",
         "line": {
          "color": "gray",
          "width": 1
         },
         "marker": {
          "color": "gray",
          "size": 10,
          "symbol": "circle"
         },
         "mode": "lines+markers+text",
         "text": [
          "edema"
         ],
         "textposition": "middle center",
         "x": [
          9,
          2
         ],
         "y": [
          "Q190805",
          "http://www.wikidata.org/entity/Q152234"
         ],
         "type": "scatter"
        },
        {
         "hovertemplate": "<b>paralysis</b><extra></extra>",
         "line": {
          "color": "gray",
          "width": 1
         },
         "marker": {
          "color": "gray",
          "size": 10,
          "symbol": "circle"
         },
         "mode": "lines+markers+text",
         "text": [
          "paralysis"
         ],
         "textposition": "middle center",
         "x": [
          38,
          26
         ],
         "y": [
          "Q39222",
          "http://www.wikidata.org/entity/Q107231"
         ],
         "type": "scatter"
        },
        {
         "hovertemplate": "<b>burping</b><extra></extra>",
         "line": {
          "color": "gray",
          "width": 1
         },
         "marker": {
          "color": "gray",
          "size": 10,
          "symbol": "circle"
         },
         "mode": "lines+markers+text",
         "text": [
          "burping"
         ],
         "textposition": "middle center",
         "x": [
          39,
          30
         ],
         "y": [
          "Q133823",
          "http://www.wikidata.org/entity/Q209789"
         ],
         "type": "scatter"
        },
        {
         "hovertemplate": "<b>heart arrhythmia</b><extra></extra>",
         "line": {
          "color": "gray",
          "width": 1
         },
         "marker": {
          "color": "gray",
          "size": 10,
          "symbol": "circle"
         },
         "mode": "lines+markers+text",
         "text": [
          "heart arrhythmia"
         ],
         "textposition": "middle center",
         "x": [
          31,
          45
         ],
         "y": [
          "Q201989",
          "http://www.wikidata.org/entity/Q189331"
         ],
         "type": "scatter"
        },
        {
         "hovertemplate": "<b>sleep disorder</b><extra></extra>",
         "line": {
          "color": "gray",
          "width": 1
         },
         "marker": {
          "color": "gray",
          "size": 10,
          "symbol": "circle"
         },
         "mode": "lines+markers+text",
         "text": [
          "sleep disorder"
         ],
         "textposition": "middle center",
         "x": [
          55,
          34
         ],
         "y": [
          "Q160796",
          "http://www.wikidata.org/entity/Q177190"
         ],
         "type": "scatter"
        },
        {
         "hovertemplate": "<b>simultanagnosia</b><extra></extra>",
         "line": {
          "color": "gray",
          "width": 1
         },
         "marker": {
          "color": "gray",
          "size": 10,
          "symbol": "circle"
         },
         "mode": "lines+markers+text",
         "text": [
          "simultanagnosia"
         ],
         "textposition": "middle center",
         "x": [
          67,
          40
         ],
         "y": [
          "Q174651",
          "http://www.wikidata.org/entity/Q2046811"
         ],
         "type": "scatter"
        },
        {
         "hovertemplate": "<b>optic ataxia</b><extra></extra>",
         "line": {
          "color": "gray",
          "width": 1
         },
         "marker": {
          "color": "gray",
          "size": 10,
          "symbol": "circle"
         },
         "mode": "lines+markers+text",
         "text": [
          "optic ataxia"
         ],
         "textposition": "middle center",
         "x": [
          67,
          0
         ],
         "y": [
          "Q174651",
          "http://www.wikidata.org/entity/Q2076329"
         ],
         "type": "scatter"
        },
        {
         "hovertemplate": "<b>dyspnea</b><extra></extra>",
         "line": {
          "color": "gray",
          "width": 1
         },
         "marker": {
          "color": "gray",
          "size": 10,
          "symbol": "circle"
         },
         "mode": "lines+markers+text",
         "text": [
          "dyspnea"
         ],
         "textposition": "middle center",
         "x": [
          11,
          24
         ],
         "y": [
          "Q199804",
          "http://www.wikidata.org/entity/Q188008"
         ],
         "type": "scatter"
        },
        {
         "hovertemplate": "<b>arthralgia</b><extra></extra>",
         "line": {
          "color": "gray",
          "width": 1
         },
         "marker": {
          "color": "gray",
          "size": 10,
          "symbol": "circle"
         },
         "mode": "lines+markers+text",
         "text": [
          "arthralgia"
         ],
         "textposition": "middle center",
         "x": [
          59,
          86
         ],
         "y": [
          "Q133087",
          "http://www.wikidata.org/entity/Q683498"
         ],
         "type": "scatter"
        },
        {
         "hovertemplate": "<b>chest pain</b><extra></extra>",
         "line": {
          "color": "gray",
          "width": 1
         },
         "marker": {
          "color": "gray",
          "size": 10,
          "symbol": "circle"
         },
         "mode": "lines+markers+text",
         "text": [
          "chest pain"
         ],
         "textposition": "middle center",
         "x": [
          9,
          5
         ],
         "y": [
          "Q190805",
          "http://www.wikidata.org/entity/Q693058"
         ],
         "type": "scatter"
        },
        {
         "hovertemplate": "<b>phonophobia</b><extra></extra>",
         "line": {
          "color": "gray",
          "width": 1
         },
         "marker": {
          "color": "gray",
          "size": 10,
          "symbol": "circle"
         },
         "mode": "lines+markers+text",
         "text": [
          "phonophobia"
         ],
         "textposition": "middle center",
         "x": [
          38,
          15
         ],
         "y": [
          "Q39222",
          "http://www.wikidata.org/entity/Q2434711"
         ],
         "type": "scatter"
        },
        {
         "hovertemplate": "<b>hallucination</b><extra></extra>",
         "line": {
          "color": "gray",
          "width": 1
         },
         "marker": {
          "color": "gray",
          "size": 10,
          "symbol": "circle"
         },
         "mode": "lines+markers+text",
         "text": [
          "hallucination"
         ],
         "textposition": "middle center",
         "x": [
          38,
          63
         ],
         "y": [
          "Q39222",
          "http://www.wikidata.org/entity/Q130741"
         ],
         "type": "scatter"
        },
        {
         "hovertemplate": "<b>memory disorder</b><extra></extra>",
         "line": {
          "color": "gray",
          "width": 1
         },
         "marker": {
          "color": "gray",
          "size": 10,
          "symbol": "circle"
         },
         "mode": "lines+markers+text",
         "text": [
          "memory disorder"
         ],
         "textposition": "middle center",
         "x": [
          55,
          44
         ],
         "y": [
          "Q160796",
          "http://www.wikidata.org/entity/Q3072083"
         ],
         "type": "scatter"
        },
        {
         "hovertemplate": "<b>hydrophobia (sign)</b><extra></extra>",
         "line": {
          "color": "gray",
          "width": 1
         },
         "marker": {
          "color": "gray",
          "size": 10,
          "symbol": "circle"
         },
         "mode": "lines+markers+text",
         "text": [
          "hydrophobia (sign)"
         ],
         "textposition": "middle center",
         "x": [
          38,
          25
         ],
         "y": [
          "Q39222",
          "http://www.wikidata.org/entity/Q56635009"
         ],
         "type": "scatter"
        },
        {
         "hovertemplate": "<b>reading disorder and écrites disorder</b><extra></extra>",
         "line": {
          "color": "gray",
          "width": 1
         },
         "marker": {
          "color": "gray",
          "size": 10,
          "symbol": "circle"
         },
         "mode": "lines+markers+text",
         "text": [
          "reading disorder and écrites disorder"
         ],
         "textposition": "middle center",
         "x": [
          62,
          46
         ],
         "y": [
          "Q132971",
          "http://www.wikidata.org/entity/Q17077617"
         ],
         "type": "scatter"
        },
        {
         "hovertemplate": "<b>headache</b><extra></extra>",
         "line": {
          "color": "gray",
          "width": 1
         },
         "marker": {
          "color": "gray",
          "size": 10,
          "symbol": "circle"
         },
         "mode": "lines+markers+text",
         "text": [
          "headache"
         ],
         "textposition": "middle center",
         "x": [
          31,
          79
         ],
         "y": [
          "Q201989",
          "http://www.wikidata.org/entity/Q86"
         ],
         "type": "scatter"
        },
        {
         "hovertemplate": "<b>ascites</b><extra></extra>",
         "line": {
          "color": "gray",
          "width": 1
         },
         "marker": {
          "color": "gray",
          "size": 10,
          "symbol": "circle"
         },
         "mode": "lines+markers+text",
         "text": [
          "ascites"
         ],
         "textposition": "middle center",
         "x": [
          9,
          23
         ],
         "y": [
          "Q190805",
          "http://www.wikidata.org/entity/Q193889"
         ],
         "type": "scatter"
        },
        {
         "hovertemplate": "<b>hypochromic anemia</b><extra></extra>",
         "line": {
          "color": "gray",
          "width": 1
         },
         "marker": {
          "color": "gray",
          "size": 10,
          "symbol": "circle"
         },
         "mode": "lines+markers+text",
         "text": [
          "hypochromic anemia"
         ],
         "textposition": "middle center",
         "x": [
          61,
          22
         ],
         "y": [
          "Q137597",
          "http://www.wikidata.org/entity/Q2306782"
         ],
         "type": "scatter"
        },
        {
         "hovertemplate": "<b>poisoning</b><extra></extra>",
         "line": {
          "color": "gray",
          "width": 1
         },
         "marker": {
          "color": "gray",
          "size": 10,
          "symbol": "circle"
         },
         "mode": "lines+markers+text",
         "text": [
          "poisoning"
         ],
         "textposition": "middle center",
         "x": [
          37,
          8
         ],
         "y": [
          "Q155098",
          "http://www.wikidata.org/entity/Q114953"
         ],
         "type": "scatter"
        },
        {
         "hovertemplate": "<b>fatigue</b><extra></extra>",
         "line": {
          "color": "gray",
          "width": 1
         },
         "marker": {
          "color": "gray",
          "size": 10,
          "symbol": "circle"
         },
         "mode": "lines+markers+text",
         "text": [
          "fatigue"
         ],
         "textposition": "middle center",
         "x": [
          31,
          13
         ],
         "y": [
          "Q201989",
          "http://www.wikidata.org/entity/Q9690"
         ],
         "type": "scatter"
        },
        {
         "hovertemplate": "<b>oculomotor apraxia</b><extra></extra>",
         "line": {
          "color": "gray",
          "width": 1
         },
         "marker": {
          "color": "gray",
          "size": 10,
          "symbol": "circle"
         },
         "mode": "lines+markers+text",
         "text": [
          "oculomotor apraxia"
         ],
         "textposition": "middle center",
         "x": [
          67,
          4
         ],
         "y": [
          "Q174651",
          "http://www.wikidata.org/entity/Q2074059"
         ],
         "type": "scatter"
        },
        {
         "hovertemplate": "<b>nausea</b><extra></extra>",
         "line": {
          "color": "gray",
          "width": 1
         },
         "marker": {
          "color": "gray",
          "size": 10,
          "symbol": "circle"
         },
         "mode": "lines+markers+text",
         "text": [
          "nausea"
         ],
         "textposition": "middle center",
         "x": [
          65,
          50
         ],
         "y": [
          "Q48143",
          "http://www.wikidata.org/entity/Q186889"
         ],
         "type": "scatter"
        },
        {
         "hovertemplate": "<b>distraction</b><extra></extra>",
         "line": {
          "color": "gray",
          "width": 1
         },
         "marker": {
          "color": "gray",
          "size": 10,
          "symbol": "circle"
         },
         "mode": "lines+markers+text",
         "text": [
          "distraction"
         ],
         "textposition": "middle center",
         "x": [
          55,
          80
         ],
         "y": [
          "Q160796",
          "http://www.wikidata.org/entity/Q3030775"
         ],
         "type": "scatter"
        },
        {
         "hovertemplate": "<b>erythema</b><extra></extra>",
         "line": {
          "color": "gray",
          "width": 1
         },
         "marker": {
          "color": "gray",
          "size": 10,
          "symbol": "circle"
         },
         "mode": "lines+markers+text",
         "text": [
          "erythema"
         ],
         "textposition": "middle center",
         "x": [
          59,
          43
         ],
         "y": [
          "Q133087",
          "http://www.wikidata.org/entity/Q1166142"
         ],
         "type": "scatter"
        },
        {
         "hovertemplate": "<b>sleep disorder</b><extra></extra>",
         "line": {
          "color": "gray",
          "width": 1
         },
         "marker": {
          "color": "gray",
          "size": 10,
          "symbol": "circle"
         },
         "mode": "lines+markers+text",
         "text": [
          "sleep disorder"
         ],
         "textposition": "middle center",
         "x": [
          75,
          34
         ],
         "y": [
          "Q192579",
          "http://www.wikidata.org/entity/Q177190"
         ],
         "type": "scatter"
        },
        {
         "hovertemplate": "<b>insomnia</b><extra></extra>",
         "line": {
          "color": "gray",
          "width": 1
         },
         "marker": {
          "color": "gray",
          "size": 10,
          "symbol": "circle"
         },
         "mode": "lines+markers+text",
         "text": [
          "insomnia"
         ],
         "textposition": "middle center",
         "x": [
          38,
          60
         ],
         "y": [
          "Q39222",
          "http://www.wikidata.org/entity/Q1869874"
         ],
         "type": "scatter"
        },
        {
         "hovertemplate": "<b>vomiting</b><extra></extra>",
         "line": {
          "color": "gray",
          "width": 1
         },
         "marker": {
          "color": "gray",
          "size": 10,
          "symbol": "circle"
         },
         "mode": "lines+markers+text",
         "text": [
          "vomiting"
         ],
         "textposition": "middle center",
         "x": [
          38,
          36
         ],
         "y": [
          "Q39222",
          "http://www.wikidata.org/entity/Q127076"
         ],
         "type": "scatter"
        },
        {
         "hovertemplate": "<b>headache</b><extra></extra>",
         "line": {
          "color": "gray",
          "width": 1
         },
         "marker": {
          "color": "gray",
          "size": 10,
          "symbol": "circle"
         },
         "mode": "lines+markers+text",
         "text": [
          "headache"
         ],
         "textposition": "middle center",
         "x": [
          65,
          79
         ],
         "y": [
          "Q48143",
          "http://www.wikidata.org/entity/Q86"
         ],
         "type": "scatter"
        },
        {
         "hovertemplate": "<b>photophobia</b><extra></extra>",
         "line": {
          "color": "gray",
          "width": 1
         },
         "marker": {
          "color": "gray",
          "size": 10,
          "symbol": "circle"
         },
         "mode": "lines+markers+text",
         "text": [
          "photophobia"
         ],
         "textposition": "middle center",
         "x": [
          65,
          73
         ],
         "y": [
          "Q48143",
          "http://www.wikidata.org/entity/Q281289"
         ],
         "type": "scatter"
        },
        {
         "hovertemplate": "<b>fatigue</b><extra></extra>",
         "line": {
          "color": "gray",
          "width": 1
         },
         "marker": {
          "color": "gray",
          "size": 10,
          "symbol": "circle"
         },
         "mode": "lines+markers+text",
         "text": [
          "fatigue"
         ],
         "textposition": "middle center",
         "x": [
          61,
          13
         ],
         "y": [
          "Q137597",
          "http://www.wikidata.org/entity/Q9690"
         ],
         "type": "scatter"
        },
        {
         "hovertemplate": "<b>balance disorder</b><extra></extra>",
         "line": {
          "color": "gray",
          "width": 1
         },
         "marker": {
          "color": "gray",
          "size": 10,
          "symbol": "circle"
         },
         "mode": "lines+markers+text",
         "text": [
          "balance disorder"
         ],
         "textposition": "middle center",
         "x": [
          9,
          74
         ],
         "y": [
          "Q190805",
          "http://www.wikidata.org/entity/Q3540864"
         ],
         "type": "scatter"
        },
        {
         "hovertemplate": "<b>cough</b><extra></extra>",
         "line": {
          "color": "gray",
          "width": 1
         },
         "marker": {
          "color": "gray",
          "size": 10,
          "symbol": "circle"
         },
         "mode": "lines+markers+text",
         "text": [
          "cough"
         ],
         "textposition": "middle center",
         "x": [
          11,
          57
         ],
         "y": [
          "Q199804",
          "http://www.wikidata.org/entity/Q35805"
         ],
         "type": "scatter"
        },
        {
         "hovertemplate": "<b>paresthesia</b><extra></extra>",
         "line": {
          "color": "gray",
          "width": 1
         },
         "marker": {
          "color": "gray",
          "size": 10,
          "symbol": "circle"
         },
         "mode": "lines+markers+text",
         "text": [
          "paresthesia"
         ],
         "textposition": "middle center",
         "x": [
          38,
          16
         ],
         "y": [
          "Q39222",
          "http://www.wikidata.org/entity/Q769220"
         ],
         "type": "scatter"
        },
        {
         "hovertemplate": "<b>pain</b><extra></extra>",
         "line": {
          "color": "gray",
          "width": 1
         },
         "marker": {
          "color": "gray",
          "size": 10,
          "symbol": "circle"
         },
         "mode": "lines+markers+text",
         "text": [
          "pain"
         ],
         "textposition": "middle center",
         "x": [
          38,
          27
         ],
         "y": [
          "Q39222",
          "http://www.wikidata.org/entity/Q81938"
         ],
         "type": "scatter"
        },
        {
         "hovertemplate": "<b>fever</b><extra></extra>",
         "line": {
          "color": "gray",
          "width": 1
         },
         "marker": {
          "color": "gray",
          "size": 10,
          "symbol": "circle"
         },
         "mode": "lines+markers+text",
         "text": [
          "fever"
         ],
         "textposition": "middle center",
         "x": [
          37,
          28
         ],
         "y": [
          "Q155098",
          "http://www.wikidata.org/entity/Q38933"
         ],
         "type": "scatter"
        },
        {
         "hovertemplate": "<b>mydriasis</b><extra></extra>",
         "line": {
          "color": "gray",
          "width": 1
         },
         "marker": {
          "color": "gray",
          "size": 10,
          "symbol": "circle"
         },
         "mode": "lines+markers+text",
         "text": [
          "mydriasis"
         ],
         "textposition": "middle center",
         "x": [
          38,
          3
         ],
         "y": [
          "Q39222",
          "http://www.wikidata.org/entity/Q1128283"
         ],
         "type": "scatter"
        },
        {
         "hovertemplate": "<b>fever</b><extra></extra>",
         "line": {
          "color": "gray",
          "width": 1
         },
         "marker": {
          "color": "gray",
          "size": 10,
          "symbol": "circle"
         },
         "mode": "lines+markers+text",
         "text": [
          "fever"
         ],
         "textposition": "middle center",
         "x": [
          31,
          28
         ],
         "y": [
          "Q201989",
          "http://www.wikidata.org/entity/Q38933"
         ],
         "type": "scatter"
        },
        {
         "hovertemplate": "<b>psychosis</b><extra></extra>",
         "line": {
          "color": "gray",
          "width": 1
         },
         "marker": {
          "color": "gray",
          "size": 10,
          "symbol": "circle"
         },
         "mode": "lines+markers+text",
         "text": [
          "psychosis"
         ],
         "textposition": "middle center",
         "x": [
          55,
          41
         ],
         "y": [
          "Q160796",
          "http://www.wikidata.org/entity/Q170082"
         ],
         "type": "scatter"
        },
        {
         "hovertemplate": "<b>rash</b><extra></extra>",
         "line": {
          "color": "gray",
          "width": 1
         },
         "marker": {
          "color": "gray",
          "size": 10,
          "symbol": "circle"
         },
         "mode": "lines+markers+text",
         "text": [
          "rash"
         ],
         "textposition": "middle center",
         "x": [
          37,
          69
         ],
         "y": [
          "Q155098",
          "http://www.wikidata.org/entity/Q653197"
         ],
         "type": "scatter"
        },
        {
         "hovertemplate": "<b>headache</b><extra></extra>",
         "line": {
          "color": "gray",
          "width": 1
         },
         "marker": {
          "color": "gray",
          "size": 10,
          "symbol": "circle"
         },
         "mode": "lines+markers+text",
         "text": [
          "headache"
         ],
         "textposition": "middle center",
         "x": [
          37,
          79
         ],
         "y": [
          "Q155098",
          "http://www.wikidata.org/entity/Q86"
         ],
         "type": "scatter"
        },
        {
         "hovertemplate": "<b>chills</b><extra></extra>",
         "line": {
          "color": "gray",
          "width": 1
         },
         "marker": {
          "color": "gray",
          "size": 10,
          "symbol": "circle"
         },
         "mode": "lines+markers+text",
         "text": [
          "chills"
         ],
         "textposition": "middle center",
         "x": [
          38,
          7
         ],
         "y": [
          "Q39222",
          "http://www.wikidata.org/entity/Q2260058"
         ],
         "type": "scatter"
        },
        {
         "hovertemplate": "<b>meningitis</b><extra></extra>",
         "line": {
          "color": "gray",
          "width": 1
         },
         "marker": {
          "color": "gray",
          "size": 10,
          "symbol": "circle"
         },
         "mode": "lines+markers+text",
         "text": [
          "meningitis"
         ],
         "textposition": "middle center",
         "x": [
          31,
          1
         ],
         "y": [
          "Q201989",
          "http://www.wikidata.org/entity/Q48143"
         ],
         "type": "scatter"
        },
        {
         "hovertemplate": "<b>fear</b><extra></extra>",
         "line": {
          "color": "gray",
          "width": 1
         },
         "marker": {
          "color": "gray",
          "size": 10,
          "symbol": "circle"
         },
         "mode": "lines+markers+text",
         "text": [
          "fear"
         ],
         "textposition": "middle center",
         "x": [
          38,
          66
         ],
         "y": [
          "Q39222",
          "http://www.wikidata.org/entity/Q44619"
         ],
         "type": "scatter"
        },
        {
         "hovertemplate": "<b>headache</b><extra></extra>",
         "line": {
          "color": "gray",
          "width": 1
         },
         "marker": {
          "color": "gray",
          "size": 10,
          "symbol": "circle"
         },
         "mode": "lines+markers+text",
         "text": [
          "headache"
         ],
         "textposition": "middle center",
         "x": [
          38,
          79
         ],
         "y": [
          "Q39222",
          "http://www.wikidata.org/entity/Q86"
         ],
         "type": "scatter"
        },
        {
         "hovertemplate": "<b>photophobia</b><extra></extra>",
         "line": {
          "color": "gray",
          "width": 1
         },
         "marker": {
          "color": "gray",
          "size": 10,
          "symbol": "circle"
         },
         "mode": "lines+markers+text",
         "text": [
          "photophobia"
         ],
         "textposition": "middle center",
         "x": [
          38,
          73
         ],
         "y": [
          "Q39222",
          "http://www.wikidata.org/entity/Q281289"
         ],
         "type": "scatter"
        },
        {
         "hovertemplate": "<b>vomiting</b><extra></extra>",
         "line": {
          "color": "gray",
          "width": 1
         },
         "marker": {
          "color": "gray",
          "size": 10,
          "symbol": "circle"
         },
         "mode": "lines+markers+text",
         "text": [
          "vomiting"
         ],
         "textposition": "middle center",
         "x": [
          39,
          36
         ],
         "y": [
          "Q133823",
          "http://www.wikidata.org/entity/Q127076"
         ],
         "type": "scatter"
        },
        {
         "hovertemplate": "<b>syncope</b><extra></extra>",
         "line": {
          "color": "gray",
          "width": 1
         },
         "marker": {
          "color": "gray",
          "size": 10,
          "symbol": "circle"
         },
         "mode": "lines+markers+text",
         "text": [
          "syncope"
         ],
         "textposition": "middle center",
         "x": [
          9,
          33
         ],
         "y": [
          "Q190805",
          "http://www.wikidata.org/entity/Q180007"
         ],
         "type": "scatter"
        },
        {
         "hovertemplate": "<b>fever</b><extra></extra>",
         "line": {
          "color": "gray",
          "width": 1
         },
         "marker": {
          "color": "gray",
          "size": 10,
          "symbol": "circle"
         },
         "mode": "lines+markers+text",
         "text": [
          "fever"
         ],
         "textposition": "middle center",
         "x": [
          65,
          28
         ],
         "y": [
          "Q48143",
          "http://www.wikidata.org/entity/Q38933"
         ],
         "type": "scatter"
        },
        {
         "hovertemplate": "<b>dyspnea</b><extra></extra>",
         "line": {
          "color": "gray",
          "width": 1
         },
         "marker": {
          "color": "gray",
          "size": 10,
          "symbol": "circle"
         },
         "mode": "lines+markers+text",
         "text": [
          "dyspnea"
         ],
         "textposition": "middle center",
         "x": [
          9,
          24
         ],
         "y": [
          "Q190805",
          "http://www.wikidata.org/entity/Q188008"
         ],
         "type": "scatter"
        },
        {
         "hovertemplate": "<b>arterial hypertension</b><extra></extra>",
         "line": {
          "color": "gray",
          "width": 1
         },
         "marker": {
          "color": "gray",
          "size": 10,
          "symbol": "circle"
         },
         "mode": "lines+markers+text",
         "text": [
          "arterial hypertension"
         ],
         "textposition": "middle center",
         "x": [
          9,
          18
         ],
         "y": [
          "Q190805",
          "http://www.wikidata.org/entity/Q41861"
         ],
         "type": "scatter"
        },
        {
         "hovertemplate": "<b>swelling</b><extra></extra>",
         "line": {
          "color": "gray",
          "width": 1
         },
         "marker": {
          "color": "gray",
          "size": 10,
          "symbol": "circle"
         },
         "mode": "lines+markers+text",
         "text": [
          "swelling"
         ],
         "textposition": "middle center",
         "x": [
          59,
          81
         ],
         "y": [
          "Q133087",
          "http://www.wikidata.org/entity/Q109186"
         ],
         "type": "scatter"
        },
        {
         "hovertemplate": "<b>tear secretion</b><extra></extra>",
         "line": {
          "color": "gray",
          "width": 1
         },
         "marker": {
          "color": "gray",
          "size": 10,
          "symbol": "circle"
         },
         "mode": "lines+markers+text",
         "text": [
          "tear secretion"
         ],
         "textposition": "middle center",
         "x": [
          71,
          49
         ],
         "y": [
          "Q166907",
          "http://www.wikidata.org/entity/Q12153824"
         ],
         "type": "scatter"
        },
        {
         "hovertemplate": "<b>irritability</b><extra></extra>",
         "line": {
          "color": "gray",
          "width": 1
         },
         "marker": {
          "color": "gray",
          "size": 10,
          "symbol": "circle"
         },
         "mode": "lines+markers+text",
         "text": [
          "irritability"
         ],
         "textposition": "middle center",
         "x": [
          38,
          19
         ],
         "y": [
          "Q39222",
          "http://www.wikidata.org/entity/Q29299"
         ],
         "type": "scatter"
        },
        {
         "hovertemplate": "<b>nausea</b><extra></extra>",
         "line": {
          "color": "gray",
          "width": 1
         },
         "marker": {
          "color": "gray",
          "size": 10,
          "symbol": "circle"
         },
         "mode": "lines+markers+text",
         "text": [
          "nausea"
         ],
         "textposition": "middle center",
         "x": [
          39,
          50
         ],
         "y": [
          "Q133823",
          "http://www.wikidata.org/entity/Q186889"
         ],
         "type": "scatter"
        },
        {
         "hovertemplate": "<b>disorientation</b><extra></extra>",
         "line": {
          "color": "gray",
          "width": 1
         },
         "marker": {
          "color": "gray",
          "size": 10,
          "symbol": "circle"
         },
         "mode": "lines+markers+text",
         "text": [
          "disorientation"
         ],
         "textposition": "middle center",
         "x": [
          55,
          85
         ],
         "y": [
          "Q160796",
          "http://www.wikidata.org/entity/Q1895873"
         ],
         "type": "scatter"
        },
        {
         "hovertemplate": "<b>myalgia</b><extra></extra>",
         "line": {
          "color": "gray",
          "width": 1
         },
         "marker": {
          "color": "gray",
          "size": 10,
          "symbol": "circle"
         },
         "mode": "lines+markers+text",
         "text": [
          "myalgia"
         ],
         "textposition": "middle center",
         "x": [
          37,
          47
         ],
         "y": [
          "Q155098",
          "http://www.wikidata.org/entity/Q474959"
         ],
         "type": "scatter"
        },
        {
         "hovertemplate": "<b>abdominal pain</b><extra></extra>",
         "line": {
          "color": "gray",
          "width": 1
         },
         "marker": {
          "color": "gray",
          "size": 10,
          "symbol": "circle"
         },
         "mode": "lines+markers+text",
         "text": [
          "abdominal pain"
         ],
         "textposition": "middle center",
         "x": [
          61,
          12
         ],
         "y": [
          "Q137597",
          "http://www.wikidata.org/entity/Q183425"
         ],
         "type": "scatter"
        },
        {
         "hovertemplate": "<b>myalgia</b><extra></extra>",
         "line": {
          "color": "gray",
          "width": 1
         },
         "marker": {
          "color": "gray",
          "size": 10,
          "symbol": "circle"
         },
         "mode": "lines+markers+text",
         "text": [
          "myalgia"
         ],
         "textposition": "middle center",
         "x": [
          31,
          47
         ],
         "y": [
          "Q201989",
          "http://www.wikidata.org/entity/Q474959"
         ],
         "type": "scatter"
        },
        {
         "hovertemplate": "<b>sweating</b><extra></extra>",
         "line": {
          "color": "gray",
          "width": 1
         },
         "marker": {
          "color": "gray",
          "size": 10,
          "symbol": "circle"
         },
         "mode": "lines+markers+text",
         "text": [
          "sweating"
         ],
         "textposition": "middle center",
         "x": [
          71,
          82
         ],
         "y": [
          "Q166907",
          "http://www.wikidata.org/entity/Q3537764"
         ],
         "type": "scatter"
        },
        {
         "hovertemplate": "<b>speech disorder</b><extra></extra>",
         "line": {
          "color": "gray",
          "width": 1
         },
         "marker": {
          "color": "gray",
          "size": 10,
          "symbol": "circle"
         },
         "mode": "lines+markers+text",
         "text": [
          "speech disorder"
         ],
         "textposition": "middle center",
         "x": [
          55,
          10
         ],
         "y": [
          "Q160796",
          "http://www.wikidata.org/entity/Q1282114"
         ],
         "type": "scatter"
        },
        {
         "hovertemplate": "<b>photophobia</b><extra></extra>",
         "line": {
          "color": "gray",
          "width": 1
         },
         "marker": {
          "color": "gray",
          "size": 10,
          "symbol": "circle"
         },
         "mode": "lines+markers+text",
         "text": [
          "photophobia"
         ],
         "textposition": "middle center",
         "x": [
          71,
          73
         ],
         "y": [
          "Q166907",
          "http://www.wikidata.org/entity/Q281289"
         ],
         "type": "scatter"
        },
        {
         "hovertemplate": "<b>photophobia</b><extra></extra>",
         "line": {
          "color": "gray",
          "width": 1
         },
         "marker": {
          "color": "gray",
          "size": 10,
          "symbol": "circle"
         },
         "mode": "lines+markers+text",
         "text": [
          "photophobia"
         ],
         "textposition": "middle center",
         "x": [
          39,
          73
         ],
         "y": [
          "Q133823",
          "http://www.wikidata.org/entity/Q281289"
         ],
         "type": "scatter"
        },
        {
         "hovertemplate": "<b>hypersalivation</b><extra></extra>",
         "line": {
          "color": "gray",
          "width": 1
         },
         "marker": {
          "color": "gray",
          "size": 10,
          "symbol": "circle"
         },
         "mode": "lines+markers+text",
         "text": [
          "hypersalivation"
         ],
         "textposition": "middle center",
         "x": [
          38,
          29
         ],
         "y": [
          "Q39222",
          "http://www.wikidata.org/entity/Q761862"
         ],
         "type": "scatter"
        },
        {
         "hovertemplate": "<b>hyperactivity</b><extra></extra>",
         "line": {
          "color": "gray",
          "width": 1
         },
         "marker": {
          "color": "gray",
          "size": 10,
          "symbol": "circle"
         },
         "mode": "lines+markers+text",
         "text": [
          "hyperactivity"
         ],
         "textposition": "middle center",
         "x": [
          38,
          83
         ],
         "y": [
          "Q39222",
          "http://www.wikidata.org/entity/Q1640850"
         ],
         "type": "scatter"
        }
       ],
       "layout": {
        "template": {
         "data": {
          "histogram2dcontour": [
           {
            "type": "histogram2dcontour",
            "colorbar": {
             "outlinewidth": 0,
             "ticks": ""
            },
            "colorscale": [
             [
              0.0,
              "#0d0887"
             ],
             [
              0.1111111111111111,
              "#46039f"
             ],
             [
              0.2222222222222222,
              "#7201a8"
             ],
             [
              0.3333333333333333,
              "#9c179e"
             ],
             [
              0.4444444444444444,
              "#bd3786"
             ],
             [
              0.5555555555555556,
              "#d8576b"
             ],
             [
              0.6666666666666666,
              "#ed7953"
             ],
             [
              0.7777777777777778,
              "#fb9f3a"
             ],
             [
              0.8888888888888888,
              "#fdca26"
             ],
             [
              1.0,
              "#f0f921"
             ]
            ]
           }
          ],
          "choropleth": [
           {
            "type": "choropleth",
            "colorbar": {
             "outlinewidth": 0,
             "ticks": ""
            }
           }
          ],
          "histogram2d": [
           {
            "type": "histogram2d",
            "colorbar": {
             "outlinewidth": 0,
             "ticks": ""
            },
            "colorscale": [
             [
              0.0,
              "#0d0887"
             ],
             [
              0.1111111111111111,
              "#46039f"
             ],
             [
              0.2222222222222222,
              "#7201a8"
             ],
             [
              0.3333333333333333,
              "#9c179e"
             ],
             [
              0.4444444444444444,
              "#bd3786"
             ],
             [
              0.5555555555555556,
              "#d8576b"
             ],
             [
              0.6666666666666666,
              "#ed7953"
             ],
             [
              0.7777777777777778,
              "#fb9f3a"
             ],
             [
              0.8888888888888888,
              "#fdca26"
             ],
             [
              1.0,
              "#f0f921"
             ]
            ]
           }
          ],
          "heatmap": [
           {
            "type": "heatmap",
            "colorbar": {
             "outlinewidth": 0,
             "ticks": ""
            },
            "colorscale": [
             [
              0.0,
              "#0d0887"
             ],
             [
              0.1111111111111111,
              "#46039f"
             ],
             [
              0.2222222222222222,
              "#7201a8"
             ],
             [
              0.3333333333333333,
              "#9c179e"
             ],
             [
              0.4444444444444444,
              "#bd3786"
             ],
             [
              0.5555555555555556,
              "#d8576b"
             ],
             [
              0.6666666666666666,
              "#ed7953"
             ],
             [
              0.7777777777777778,
              "#fb9f3a"
             ],
             [
              0.8888888888888888,
              "#fdca26"
             ],
             [
              1.0,
              "#f0f921"
             ]
            ]
           }
          ],
          "heatmapgl": [
           {
            "type": "heatmapgl",
            "colorbar": {
             "outlinewidth": 0,
             "ticks": ""
            },
            "colorscale": [
             [
              0.0,
              "#0d0887"
             ],
             [
              0.1111111111111111,
              "#46039f"
             ],
             [
              0.2222222222222222,
              "#7201a8"
             ],
             [
              0.3333333333333333,
              "#9c179e"
             ],
             [
              0.4444444444444444,
              "#bd3786"
             ],
             [
              0.5555555555555556,
              "#d8576b"
             ],
             [
              0.6666666666666666,
              "#ed7953"
             ],
             [
              0.7777777777777778,
              "#fb9f3a"
             ],
             [
              0.8888888888888888,
              "#fdca26"
             ],
             [
              1.0,
              "#f0f921"
             ]
            ]
           }
          ],
          "contourcarpet": [
           {
            "type": "contourcarpet",
            "colorbar": {
             "outlinewidth": 0,
             "ticks": ""
            }
           }
          ],
          "contour": [
           {
            "type": "contour",
            "colorbar": {
             "outlinewidth": 0,
             "ticks": ""
            },
            "colorscale": [
             [
              0.0,
              "#0d0887"
             ],
             [
              0.1111111111111111,
              "#46039f"
             ],
             [
              0.2222222222222222,
              "#7201a8"
             ],
             [
              0.3333333333333333,
              "#9c179e"
             ],
             [
              0.4444444444444444,
              "#bd3786"
             ],
             [
              0.5555555555555556,
              "#d8576b"
             ],
             [
              0.6666666666666666,
              "#ed7953"
             ],
             [
              0.7777777777777778,
              "#fb9f3a"
             ],
             [
              0.8888888888888888,
              "#fdca26"
             ],
             [
              1.0,
              "#f0f921"
             ]
            ]
           }
          ],
          "surface": [
           {
            "type": "surface",
            "colorbar": {
             "outlinewidth": 0,
             "ticks": ""
            },
            "colorscale": [
             [
              0.0,
              "#0d0887"
             ],
             [
              0.1111111111111111,
              "#46039f"
             ],
             [
              0.2222222222222222,
              "#7201a8"
             ],
             [
              0.3333333333333333,
              "#9c179e"
             ],
             [
              0.4444444444444444,
              "#bd3786"
             ],
             [
              0.5555555555555556,
              "#d8576b"
             ],
             [
              0.6666666666666666,
              "#ed7953"
             ],
             [
              0.7777777777777778,
              "#fb9f3a"
             ],
             [
              0.8888888888888888,
              "#fdca26"
             ],
             [
              1.0,
              "#f0f921"
             ]
            ]
           }
          ],
          "mesh3d": [
           {
            "type": "mesh3d",
            "colorbar": {
             "outlinewidth": 0,
             "ticks": ""
            }
           }
          ],
          "scatter": [
           {
            "fillpattern": {
             "fillmode": "overlay",
             "size": 10,
             "solidity": 0.2
            },
            "type": "scatter"
           }
          ],
          "parcoords": [
           {
            "type": "parcoords",
            "line": {
             "colorbar": {
              "outlinewidth": 0,
              "ticks": ""
             }
            }
           }
          ],
          "scatterpolargl": [
           {
            "type": "scatterpolargl",
            "marker": {
             "colorbar": {
              "outlinewidth": 0,
              "ticks": ""
             }
            }
           }
          ],
          "bar": [
           {
            "error_x": {
             "color": "#2a3f5f"
            },
            "error_y": {
             "color": "#2a3f5f"
            },
            "marker": {
             "line": {
              "color": "#E5ECF6",
              "width": 0.5
             },
             "pattern": {
              "fillmode": "overlay",
              "size": 10,
              "solidity": 0.2
             }
            },
            "type": "bar"
           }
          ],
          "scattergeo": [
           {
            "type": "scattergeo",
            "marker": {
             "colorbar": {
              "outlinewidth": 0,
              "ticks": ""
             }
            }
           }
          ],
          "scatterpolar": [
           {
            "type": "scatterpolar",
            "marker": {
             "colorbar": {
              "outlinewidth": 0,
              "ticks": ""
             }
            }
           }
          ],
          "histogram": [
           {
            "marker": {
             "pattern": {
              "fillmode": "overlay",
              "size": 10,
              "solidity": 0.2
             }
            },
            "type": "histogram"
           }
          ],
          "scattergl": [
           {
            "type": "scattergl",
            "marker": {
             "colorbar": {
              "outlinewidth": 0,
              "ticks": ""
             }
            }
           }
          ],
          "scatter3d": [
           {
            "type": "scatter3d",
            "line": {
             "colorbar": {
              "outlinewidth": 0,
              "ticks": ""
             }
            },
            "marker": {
             "colorbar": {
              "outlinewidth": 0,
              "ticks": ""
             }
            }
           }
          ],
          "scattermapbox": [
           {
            "type": "scattermapbox",
            "marker": {
             "colorbar": {
              "outlinewidth": 0,
              "ticks": ""
             }
            }
           }
          ],
          "scatterternary": [
           {
            "type": "scatterternary",
            "marker": {
             "colorbar": {
              "outlinewidth": 0,
              "ticks": ""
             }
            }
           }
          ],
          "scattercarpet": [
           {
            "type": "scattercarpet",
            "marker": {
             "colorbar": {
              "outlinewidth": 0,
              "ticks": ""
             }
            }
           }
          ],
          "carpet": [
           {
            "aaxis": {
             "endlinecolor": "#2a3f5f",
             "gridcolor": "white",
             "linecolor": "white",
             "minorgridcolor": "white",
             "startlinecolor": "#2a3f5f"
            },
            "baxis": {
             "endlinecolor": "#2a3f5f",
             "gridcolor": "white",
             "linecolor": "white",
             "minorgridcolor": "white",
             "startlinecolor": "#2a3f5f"
            },
            "type": "carpet"
           }
          ],
          "table": [
           {
            "cells": {
             "fill": {
              "color": "#EBF0F8"
             },
             "line": {
              "color": "white"
             }
            },
            "header": {
             "fill": {
              "color": "#C8D4E3"
             },
             "line": {
              "color": "white"
             }
            },
            "type": "table"
           }
          ],
          "barpolar": [
           {
            "marker": {
             "line": {
              "color": "#E5ECF6",
              "width": 0.5
             },
             "pattern": {
              "fillmode": "overlay",
              "size": 10,
              "solidity": 0.2
             }
            },
            "type": "barpolar"
           }
          ],
          "pie": [
           {
            "automargin": true,
            "type": "pie"
           }
          ]
         },
         "layout": {
          "autotypenumbers": "strict",
          "colorway": [
           "#636efa",
           "#EF553B",
           "#00cc96",
           "#ab63fa",
           "#FFA15A",
           "#19d3f3",
           "#FF6692",
           "#B6E880",
           "#FF97FF",
           "#FECB52"
          ],
          "font": {
           "color": "#2a3f5f"
          },
          "hovermode": "closest",
          "hoverlabel": {
           "align": "left"
          },
          "paper_bgcolor": "white",
          "plot_bgcolor": "#E5ECF6",
          "polar": {
           "bgcolor": "#E5ECF6",
           "angularaxis": {
            "gridcolor": "white",
            "linecolor": "white",
            "ticks": ""
           },
           "radialaxis": {
            "gridcolor": "white",
            "linecolor": "white",
            "ticks": ""
           }
          },
          "ternary": {
           "bgcolor": "#E5ECF6",
           "aaxis": {
            "gridcolor": "white",
            "linecolor": "white",
            "ticks": ""
           },
           "baxis": {
            "gridcolor": "white",
            "linecolor": "white",
            "ticks": ""
           },
           "caxis": {
            "gridcolor": "white",
            "linecolor": "white",
            "ticks": ""
           }
          },
          "coloraxis": {
           "colorbar": {
            "outlinewidth": 0,
            "ticks": ""
           }
          },
          "colorscale": {
           "sequential": [
            [
             0.0,
             "#0d0887"
            ],
            [
             0.1111111111111111,
             "#46039f"
            ],
            [
             0.2222222222222222,
             "#7201a8"
            ],
            [
             0.3333333333333333,
             "#9c179e"
            ],
            [
             0.4444444444444444,
             "#bd3786"
            ],
            [
             0.5555555555555556,
             "#d8576b"
            ],
            [
             0.6666666666666666,
             "#ed7953"
            ],
            [
             0.7777777777777778,
             "#fb9f3a"
            ],
            [
             0.8888888888888888,
             "#fdca26"
            ],
            [
             1.0,
             "#f0f921"
            ]
           ],
           "sequentialminus": [
            [
             0.0,
             "#0d0887"
            ],
            [
             0.1111111111111111,
             "#46039f"
            ],
            [
             0.2222222222222222,
             "#7201a8"
            ],
            [
             0.3333333333333333,
             "#9c179e"
            ],
            [
             0.4444444444444444,
             "#bd3786"
            ],
            [
             0.5555555555555556,
             "#d8576b"
            ],
            [
             0.6666666666666666,
             "#ed7953"
            ],
            [
             0.7777777777777778,
             "#fb9f3a"
            ],
            [
             0.8888888888888888,
             "#fdca26"
            ],
            [
             1.0,
             "#f0f921"
            ]
           ],
           "diverging": [
            [
             0,
             "#8e0152"
            ],
            [
             0.1,
             "#c51b7d"
            ],
            [
             0.2,
             "#de77ae"
            ],
            [
             0.3,
             "#f1b6da"
            ],
            [
             0.4,
             "#fde0ef"
            ],
            [
             0.5,
             "#f7f7f7"
            ],
            [
             0.6,
             "#e6f5d0"
            ],
            [
             0.7,
             "#b8e186"
            ],
            [
             0.8,
             "#7fbc41"
            ],
            [
             0.9,
             "#4d9221"
            ],
            [
             1,
             "#276419"
            ]
           ]
          },
          "xaxis": {
           "gridcolor": "white",
           "linecolor": "white",
           "ticks": "",
           "title": {
            "standoff": 15
           },
           "zerolinecolor": "white",
           "automargin": true,
           "zerolinewidth": 2
          },
          "yaxis": {
           "gridcolor": "white",
           "linecolor": "white",
           "ticks": "",
           "title": {
            "standoff": 15
           },
           "zerolinecolor": "white",
           "automargin": true,
           "zerolinewidth": 2
          },
          "scene": {
           "xaxis": {
            "backgroundcolor": "#E5ECF6",
            "gridcolor": "white",
            "linecolor": "white",
            "showbackground": true,
            "ticks": "",
            "zerolinecolor": "white",
            "gridwidth": 2
           },
           "yaxis": {
            "backgroundcolor": "#E5ECF6",
            "gridcolor": "white",
            "linecolor": "white",
            "showbackground": true,
            "ticks": "",
            "zerolinecolor": "white",
            "gridwidth": 2
           },
           "zaxis": {
            "backgroundcolor": "#E5ECF6",
            "gridcolor": "white",
            "linecolor": "white",
            "showbackground": true,
            "ticks": "",
            "zerolinecolor": "white",
            "gridwidth": 2
           }
          },
          "shapedefaults": {
           "line": {
            "color": "#2a3f5f"
           }
          },
          "annotationdefaults": {
           "arrowcolor": "#2a3f5f",
           "arrowhead": 0,
           "arrowwidth": 1
          },
          "geo": {
           "bgcolor": "white",
           "landcolor": "#E5ECF6",
           "subunitcolor": "white",
           "showland": true,
           "showlakes": true,
           "lakecolor": "white"
          },
          "title": {
           "x": 0.05
          },
          "mapbox": {
           "style": "light"
          }
         }
        },
        "xaxis": {
         "showgrid": false,
         "zeroline": false,
         "showticklabels": false
        },
        "yaxis": {
         "showgrid": false,
         "zeroline": false,
         "showticklabels": false
        },
        "margin": {
         "t": 20,
         "b": 20,
         "l": 20,
         "r": 20
        },
        "showlegend": false,
        "hovermode": "closest",
        "height": 600,
        "clickmode": "event+select"
       },
       "config": {
        "plotlyServerURL": "https://plot.ly"
       }
      },
      "text/html": "<div>                            <div id=\"cb05b0e1-68c9-401f-9308-165aea580f96\" class=\"plotly-graph-div\" style=\"height:600px; width:100%;\"></div>            <script type=\"text/javascript\">                require([\"plotly\"], function(Plotly) {                    window.PLOTLYENV=window.PLOTLYENV || {};                                    if (document.getElementById(\"cb05b0e1-68c9-401f-9308-165aea580f96\")) {                    Plotly.newPlot(                        \"cb05b0e1-68c9-401f-9308-165aea580f96\",                        [{\"hovertemplate\":\"<b>%{text}</b><extra></extra>\",\"marker\":{\"color\":\"lightblue\",\"size\":30},\"mode\":\"markers+text\",\"text\":[\"http://www.wikidata.org/entity/Q2076329\"],\"textposition\":\"middle center\",\"x\":[0],\"y\":[\"http://www.wikidata.org/entity/Q2076329\"],\"type\":\"scatter\"},{\"hovertemplate\":\"<b>%{text}</b><extra></extra>\",\"marker\":{\"color\":\"lightblue\",\"size\":30},\"mode\":\"markers+text\",\"text\":[\"http://www.wikidata.org/entity/Q48143\"],\"textposition\":\"middle center\",\"x\":[0],\"y\":[\"http://www.wikidata.org/entity/Q48143\"],\"type\":\"scatter\"},{\"hovertemplate\":\"<b>%{text}</b><extra></extra>\",\"marker\":{\"color\":\"lightblue\",\"size\":30},\"mode\":\"markers+text\",\"text\":[\"http://www.wikidata.org/entity/Q152234\"],\"textposition\":\"middle center\",\"x\":[0],\"y\":[\"http://www.wikidata.org/entity/Q152234\"],\"type\":\"scatter\"},{\"hovertemplate\":\"<b>%{text}</b><extra></extra>\",\"marker\":{\"color\":\"lightblue\",\"size\":30},\"mode\":\"markers+text\",\"text\":[\"http://www.wikidata.org/entity/Q1128283\"],\"textposition\":\"middle center\",\"x\":[0],\"y\":[\"http://www.wikidata.org/entity/Q1128283\"],\"type\":\"scatter\"},{\"hovertemplate\":\"<b>%{text}</b><extra></extra>\",\"marker\":{\"color\":\"lightblue\",\"size\":30},\"mode\":\"markers+text\",\"text\":[\"http://www.wikidata.org/entity/Q2074059\"],\"textposition\":\"middle center\",\"x\":[0],\"y\":[\"http://www.wikidata.org/entity/Q2074059\"],\"type\":\"scatter\"},{\"hovertemplate\":\"<b>%{text}</b><extra></extra>\",\"marker\":{\"color\":\"lightblue\",\"size\":30},\"mode\":\"markers+text\",\"text\":[\"http://www.wikidata.org/entity/Q693058\"],\"textposition\":\"middle center\",\"x\":[0],\"y\":[\"http://www.wikidata.org/entity/Q693058\"],\"type\":\"scatter\"},{\"hovertemplate\":\"<b>%{text}</b><extra></extra>\",\"marker\":{\"color\":\"lightblue\",\"size\":30},\"mode\":\"markers+text\",\"text\":[\"http://www.wikidata.org/entity/Q186235\"],\"textposition\":\"middle center\",\"x\":[0],\"y\":[\"http://www.wikidata.org/entity/Q186235\"],\"type\":\"scatter\"},{\"hovertemplate\":\"<b>%{text}</b><extra></extra>\",\"marker\":{\"color\":\"lightblue\",\"size\":30},\"mode\":\"markers+text\",\"text\":[\"http://www.wikidata.org/entity/Q2260058\"],\"textposition\":\"middle center\",\"x\":[0],\"y\":[\"http://www.wikidata.org/entity/Q2260058\"],\"type\":\"scatter\"},{\"hovertemplate\":\"<b>%{text}</b><extra></extra>\",\"marker\":{\"color\":\"lightblue\",\"size\":30},\"mode\":\"markers+text\",\"text\":[\"http://www.wikidata.org/entity/Q114953\"],\"textposition\":\"middle center\",\"x\":[0],\"y\":[\"http://www.wikidata.org/entity/Q114953\"],\"type\":\"scatter\"},{\"hovertemplate\":\"<b>%{text}</b><extra></extra>\",\"marker\":{\"color\":\"lightblue\",\"size\":30},\"mode\":\"markers+text\",\"text\":[\"Q190805\"],\"textposition\":\"middle center\",\"x\":[0],\"y\":[\"Q190805\"],\"type\":\"scatter\"},{\"hovertemplate\":\"<b>%{text}</b><extra></extra>\",\"marker\":{\"color\":\"lightblue\",\"size\":30},\"mode\":\"markers+text\",\"text\":[\"http://www.wikidata.org/entity/Q1282114\"],\"textposition\":\"middle center\",\"x\":[0],\"y\":[\"http://www.wikidata.org/entity/Q1282114\"],\"type\":\"scatter\"},{\"hovertemplate\":\"<b>%{text}</b><extra></extra>\",\"marker\":{\"color\":\"lightblue\",\"size\":30},\"mode\":\"markers+text\",\"text\":[\"Q199804\"],\"textposition\":\"middle center\",\"x\":[0],\"y\":[\"Q199804\"],\"type\":\"scatter\"},{\"hovertemplate\":\"<b>%{text}</b><extra></extra>\",\"marker\":{\"color\":\"lightblue\",\"size\":30},\"mode\":\"markers+text\",\"text\":[\"http://www.wikidata.org/entity/Q183425\"],\"textposition\":\"middle center\",\"x\":[0],\"y\":[\"http://www.wikidata.org/entity/Q183425\"],\"type\":\"scatter\"},{\"hovertemplate\":\"<b>%{text}</b><extra></extra>\",\"marker\":{\"color\":\"lightblue\",\"size\":30},\"mode\":\"markers+text\",\"text\":[\"http://www.wikidata.org/entity/Q9690\"],\"textposition\":\"middle center\",\"x\":[0],\"y\":[\"http://www.wikidata.org/entity/Q9690\"],\"type\":\"scatter\"},{\"hovertemplate\":\"<b>%{text}</b><extra></extra>\",\"marker\":{\"color\":\"lightblue\",\"size\":30},\"mode\":\"markers+text\",\"text\":[\"http://www.wikidata.org/entity/Q180762\"],\"textposition\":\"middle center\",\"x\":[0],\"y\":[\"http://www.wikidata.org/entity/Q180762\"],\"type\":\"scatter\"},{\"hovertemplate\":\"<b>%{text}</b><extra></extra>\",\"marker\":{\"color\":\"lightblue\",\"size\":30},\"mode\":\"markers+text\",\"text\":[\"http://www.wikidata.org/entity/Q2434711\"],\"textposition\":\"middle center\",\"x\":[0],\"y\":[\"http://www.wikidata.org/entity/Q2434711\"],\"type\":\"scatter\"},{\"hovertemplate\":\"<b>%{text}</b><extra></extra>\",\"marker\":{\"color\":\"lightblue\",\"size\":30},\"mode\":\"markers+text\",\"text\":[\"http://www.wikidata.org/entity/Q769220\"],\"textposition\":\"middle center\",\"x\":[0],\"y\":[\"http://www.wikidata.org/entity/Q769220\"],\"type\":\"scatter\"},{\"hovertemplate\":\"<b>%{text}</b><extra></extra>\",\"marker\":{\"color\":\"lightblue\",\"size\":30},\"mode\":\"markers+text\",\"text\":[\"http://www.wikidata.org/entity/Q202837\"],\"textposition\":\"middle center\",\"x\":[0],\"y\":[\"http://www.wikidata.org/entity/Q202837\"],\"type\":\"scatter\"},{\"hovertemplate\":\"<b>%{text}</b><extra></extra>\",\"marker\":{\"color\":\"lightblue\",\"size\":30},\"mode\":\"markers+text\",\"text\":[\"http://www.wikidata.org/entity/Q41861\"],\"textposition\":\"middle center\",\"x\":[0],\"y\":[\"http://www.wikidata.org/entity/Q41861\"],\"type\":\"scatter\"},{\"hovertemplate\":\"<b>%{text}</b><extra></extra>\",\"marker\":{\"color\":\"lightblue\",\"size\":30},\"mode\":\"markers+text\",\"text\":[\"http://www.wikidata.org/entity/Q29299\"],\"textposition\":\"middle center\",\"x\":[0],\"y\":[\"http://www.wikidata.org/entity/Q29299\"],\"type\":\"scatter\"},{\"hovertemplate\":\"<b>%{text}</b><extra></extra>\",\"marker\":{\"color\":\"lightblue\",\"size\":30},\"mode\":\"markers+text\",\"text\":[\"http://www.wikidata.org/entity/Q9073584\"],\"textposition\":\"middle center\",\"x\":[0],\"y\":[\"http://www.wikidata.org/entity/Q9073584\"],\"type\":\"scatter\"},{\"hovertemplate\":\"<b>%{text}</b><extra></extra>\",\"marker\":{\"color\":\"lightblue\",\"size\":30},\"mode\":\"markers+text\",\"text\":[\"http://www.wikidata.org/entity/Q28868265\"],\"textposition\":\"middle center\",\"x\":[0],\"y\":[\"http://www.wikidata.org/entity/Q28868265\"],\"type\":\"scatter\"},{\"hovertemplate\":\"<b>%{text}</b><extra></extra>\",\"marker\":{\"color\":\"lightblue\",\"size\":30},\"mode\":\"markers+text\",\"text\":[\"http://www.wikidata.org/entity/Q2306782\"],\"textposition\":\"middle center\",\"x\":[0],\"y\":[\"http://www.wikidata.org/entity/Q2306782\"],\"type\":\"scatter\"},{\"hovertemplate\":\"<b>%{text}</b><extra></extra>\",\"marker\":{\"color\":\"lightblue\",\"size\":30},\"mode\":\"markers+text\",\"text\":[\"http://www.wikidata.org/entity/Q193889\"],\"textposition\":\"middle center\",\"x\":[0],\"y\":[\"http://www.wikidata.org/entity/Q193889\"],\"type\":\"scatter\"},{\"hovertemplate\":\"<b>%{text}</b><extra></extra>\",\"marker\":{\"color\":\"lightblue\",\"size\":30},\"mode\":\"markers+text\",\"text\":[\"http://www.wikidata.org/entity/Q188008\"],\"textposition\":\"middle center\",\"x\":[0],\"y\":[\"http://www.wikidata.org/entity/Q188008\"],\"type\":\"scatter\"},{\"hovertemplate\":\"<b>%{text}</b><extra></extra>\",\"marker\":{\"color\":\"lightblue\",\"size\":30},\"mode\":\"markers+text\",\"text\":[\"http://www.wikidata.org/entity/Q56635009\"],\"textposition\":\"middle center\",\"x\":[0],\"y\":[\"http://www.wikidata.org/entity/Q56635009\"],\"type\":\"scatter\"},{\"hovertemplate\":\"<b>%{text}</b><extra></extra>\",\"marker\":{\"color\":\"lightblue\",\"size\":30},\"mode\":\"markers+text\",\"text\":[\"http://www.wikidata.org/entity/Q107231\"],\"textposition\":\"middle center\",\"x\":[0],\"y\":[\"http://www.wikidata.org/entity/Q107231\"],\"type\":\"scatter\"},{\"hovertemplate\":\"<b>%{text}</b><extra></extra>\",\"marker\":{\"color\":\"lightblue\",\"size\":30},\"mode\":\"markers+text\",\"text\":[\"http://www.wikidata.org/entity/Q81938\"],\"textposition\":\"middle center\",\"x\":[0],\"y\":[\"http://www.wikidata.org/entity/Q81938\"],\"type\":\"scatter\"},{\"hovertemplate\":\"<b>%{text}</b><extra></extra>\",\"marker\":{\"color\":\"lightblue\",\"size\":30},\"mode\":\"markers+text\",\"text\":[\"http://www.wikidata.org/entity/Q38933\"],\"textposition\":\"middle center\",\"x\":[0],\"y\":[\"http://www.wikidata.org/entity/Q38933\"],\"type\":\"scatter\"},{\"hovertemplate\":\"<b>%{text}</b><extra></extra>\",\"marker\":{\"color\":\"lightblue\",\"size\":30},\"mode\":\"markers+text\",\"text\":[\"http://www.wikidata.org/entity/Q761862\"],\"textposition\":\"middle center\",\"x\":[0],\"y\":[\"http://www.wikidata.org/entity/Q761862\"],\"type\":\"scatter\"},{\"hovertemplate\":\"<b>%{text}</b><extra></extra>\",\"marker\":{\"color\":\"lightblue\",\"size\":30},\"mode\":\"markers+text\",\"text\":[\"http://www.wikidata.org/entity/Q209789\"],\"textposition\":\"middle center\",\"x\":[0],\"y\":[\"http://www.wikidata.org/entity/Q209789\"],\"type\":\"scatter\"},{\"hovertemplate\":\"<b>%{text}</b><extra></extra>\",\"marker\":{\"color\":\"lightblue\",\"size\":30},\"mode\":\"markers+text\",\"text\":[\"Q201989\"],\"textposition\":\"middle center\",\"x\":[0],\"y\":[\"Q201989\"],\"type\":\"scatter\"},{\"hovertemplate\":\"<b>%{text}</b><extra></extra>\",\"marker\":{\"color\":\"lightblue\",\"size\":30},\"mode\":\"markers+text\",\"text\":[\"http://www.wikidata.org/entity/Q3073147\"],\"textposition\":\"middle center\",\"x\":[0],\"y\":[\"http://www.wikidata.org/entity/Q3073147\"],\"type\":\"scatter\"},{\"hovertemplate\":\"<b>%{text}</b><extra></extra>\",\"marker\":{\"color\":\"lightblue\",\"size\":30},\"mode\":\"markers+text\",\"text\":[\"http://www.wikidata.org/entity/Q180007\"],\"textposition\":\"middle center\",\"x\":[0],\"y\":[\"http://www.wikidata.org/entity/Q180007\"],\"type\":\"scatter\"},{\"hovertemplate\":\"<b>%{text}</b><extra></extra>\",\"marker\":{\"color\":\"lightblue\",\"size\":30},\"mode\":\"markers+text\",\"text\":[\"http://www.wikidata.org/entity/Q177190\"],\"textposition\":\"middle center\",\"x\":[0],\"y\":[\"http://www.wikidata.org/entity/Q177190\"],\"type\":\"scatter\"},{\"hovertemplate\":\"<b>%{text}</b><extra></extra>\",\"marker\":{\"color\":\"lightblue\",\"size\":30},\"mode\":\"markers+text\",\"text\":[\"http://www.wikidata.org/entity/Q622427\"],\"textposition\":\"middle center\",\"x\":[0],\"y\":[\"http://www.wikidata.org/entity/Q622427\"],\"type\":\"scatter\"},{\"hovertemplate\":\"<b>%{text}</b><extra></extra>\",\"marker\":{\"color\":\"lightblue\",\"size\":30},\"mode\":\"markers+text\",\"text\":[\"http://www.wikidata.org/entity/Q127076\"],\"textposition\":\"middle center\",\"x\":[0],\"y\":[\"http://www.wikidata.org/entity/Q127076\"],\"type\":\"scatter\"},{\"hovertemplate\":\"<b>%{text}</b><extra></extra>\",\"marker\":{\"color\":\"lightblue\",\"size\":30},\"mode\":\"markers+text\",\"text\":[\"Q155098\"],\"textposition\":\"middle center\",\"x\":[0],\"y\":[\"Q155098\"],\"type\":\"scatter\"},{\"hovertemplate\":\"<b>%{text}</b><extra></extra>\",\"marker\":{\"color\":\"lightblue\",\"size\":30},\"mode\":\"markers+text\",\"text\":[\"Q39222\"],\"textposition\":\"middle center\",\"x\":[0],\"y\":[\"Q39222\"],\"type\":\"scatter\"},{\"hovertemplate\":\"<b>%{text}</b><extra></extra>\",\"marker\":{\"color\":\"lightblue\",\"size\":30},\"mode\":\"markers+text\",\"text\":[\"Q133823\"],\"textposition\":\"middle center\",\"x\":[0],\"y\":[\"Q133823\"],\"type\":\"scatter\"},{\"hovertemplate\":\"<b>%{text}</b><extra></extra>\",\"marker\":{\"color\":\"lightblue\",\"size\":30},\"mode\":\"markers+text\",\"text\":[\"http://www.wikidata.org/entity/Q2046811\"],\"textposition\":\"middle center\",\"x\":[0],\"y\":[\"http://www.wikidata.org/entity/Q2046811\"],\"type\":\"scatter\"},{\"hovertemplate\":\"<b>%{text}</b><extra></extra>\",\"marker\":{\"color\":\"lightblue\",\"size\":30},\"mode\":\"markers+text\",\"text\":[\"http://www.wikidata.org/entity/Q170082\"],\"textposition\":\"middle center\",\"x\":[0],\"y\":[\"http://www.wikidata.org/entity/Q170082\"],\"type\":\"scatter\"},{\"hovertemplate\":\"<b>%{text}</b><extra></extra>\",\"marker\":{\"color\":\"lightblue\",\"size\":30},\"mode\":\"markers+text\",\"text\":[\"http://www.wikidata.org/entity/Q24869904\"],\"textposition\":\"middle center\",\"x\":[0],\"y\":[\"http://www.wikidata.org/entity/Q24869904\"],\"type\":\"scatter\"},{\"hovertemplate\":\"<b>%{text}</b><extra></extra>\",\"marker\":{\"color\":\"lightblue\",\"size\":30},\"mode\":\"markers+text\",\"text\":[\"http://www.wikidata.org/entity/Q1166142\"],\"textposition\":\"middle center\",\"x\":[0],\"y\":[\"http://www.wikidata.org/entity/Q1166142\"],\"type\":\"scatter\"},{\"hovertemplate\":\"<b>%{text}</b><extra></extra>\",\"marker\":{\"color\":\"lightblue\",\"size\":30},\"mode\":\"markers+text\",\"text\":[\"http://www.wikidata.org/entity/Q3072083\"],\"textposition\":\"middle center\",\"x\":[0],\"y\":[\"http://www.wikidata.org/entity/Q3072083\"],\"type\":\"scatter\"},{\"hovertemplate\":\"<b>%{text}</b><extra></extra>\",\"marker\":{\"color\":\"lightblue\",\"size\":30},\"mode\":\"markers+text\",\"text\":[\"http://www.wikidata.org/entity/Q189331\"],\"textposition\":\"middle center\",\"x\":[0],\"y\":[\"http://www.wikidata.org/entity/Q189331\"],\"type\":\"scatter\"},{\"hovertemplate\":\"<b>%{text}</b><extra></extra>\",\"marker\":{\"color\":\"lightblue\",\"size\":30},\"mode\":\"markers+text\",\"text\":[\"http://www.wikidata.org/entity/Q17077617\"],\"textposition\":\"middle center\",\"x\":[0],\"y\":[\"http://www.wikidata.org/entity/Q17077617\"],\"type\":\"scatter\"},{\"hovertemplate\":\"<b>%{text}</b><extra></extra>\",\"marker\":{\"color\":\"lightblue\",\"size\":30},\"mode\":\"markers+text\",\"text\":[\"http://www.wikidata.org/entity/Q474959\"],\"textposition\":\"middle center\",\"x\":[0],\"y\":[\"http://www.wikidata.org/entity/Q474959\"],\"type\":\"scatter\"},{\"hovertemplate\":\"<b>%{text}</b><extra></extra>\",\"marker\":{\"color\":\"lightblue\",\"size\":30},\"mode\":\"markers+text\",\"text\":[\"http://www.wikidata.org/entity/Q1115038\"],\"textposition\":\"middle center\",\"x\":[0],\"y\":[\"http://www.wikidata.org/entity/Q1115038\"],\"type\":\"scatter\"},{\"hovertemplate\":\"<b>%{text}</b><extra></extra>\",\"marker\":{\"color\":\"lightblue\",\"size\":30},\"mode\":\"markers+text\",\"text\":[\"http://www.wikidata.org/entity/Q12153824\"],\"textposition\":\"middle center\",\"x\":[0],\"y\":[\"http://www.wikidata.org/entity/Q12153824\"],\"type\":\"scatter\"},{\"hovertemplate\":\"<b>%{text}</b><extra></extra>\",\"marker\":{\"color\":\"lightblue\",\"size\":30},\"mode\":\"markers+text\",\"text\":[\"http://www.wikidata.org/entity/Q186889\"],\"textposition\":\"middle center\",\"x\":[0],\"y\":[\"http://www.wikidata.org/entity/Q186889\"],\"type\":\"scatter\"},{\"hovertemplate\":\"<b>%{text}</b><extra></extra>\",\"marker\":{\"color\":\"lightblue\",\"size\":30},\"mode\":\"markers+text\",\"text\":[\"http://www.wikidata.org/entity/Q3245488\"],\"textposition\":\"middle center\",\"x\":[0],\"y\":[\"http://www.wikidata.org/entity/Q3245488\"],\"type\":\"scatter\"},{\"hovertemplate\":\"<b>%{text}</b><extra></extra>\",\"marker\":{\"color\":\"lightblue\",\"size\":30},\"mode\":\"markers+text\",\"text\":[\"http://www.wikidata.org/entity/Q517104\"],\"textposition\":\"middle center\",\"x\":[0],\"y\":[\"http://www.wikidata.org/entity/Q517104\"],\"type\":\"scatter\"},{\"hovertemplate\":\"<b>%{text}</b><extra></extra>\",\"marker\":{\"color\":\"lightblue\",\"size\":30},\"mode\":\"markers+text\",\"text\":[\"http://www.wikidata.org/entity/Q209583\"],\"textposition\":\"middle center\",\"x\":[0],\"y\":[\"http://www.wikidata.org/entity/Q209583\"],\"type\":\"scatter\"},{\"hovertemplate\":\"<b>%{text}</b><extra></extra>\",\"marker\":{\"color\":\"lightblue\",\"size\":30},\"mode\":\"markers+text\",\"text\":[\"Q194101\"],\"textposition\":\"middle center\",\"x\":[0],\"y\":[\"Q194101\"],\"type\":\"scatter\"},{\"hovertemplate\":\"<b>%{text}</b><extra></extra>\",\"marker\":{\"color\":\"lightblue\",\"size\":30},\"mode\":\"markers+text\",\"text\":[\"Q160796\"],\"textposition\":\"middle center\",\"x\":[0],\"y\":[\"Q160796\"],\"type\":\"scatter\"},{\"hovertemplate\":\"<b>%{text}</b><extra></extra>\",\"marker\":{\"color\":\"lightblue\",\"size\":30},\"mode\":\"markers+text\",\"text\":[\"http://www.wikidata.org/entity/Q476921\"],\"textposition\":\"middle center\",\"x\":[0],\"y\":[\"http://www.wikidata.org/entity/Q476921\"],\"type\":\"scatter\"},{\"hovertemplate\":\"<b>%{text}</b><extra></extra>\",\"marker\":{\"color\":\"lightblue\",\"size\":30},\"mode\":\"markers+text\",\"text\":[\"http://www.wikidata.org/entity/Q35805\"],\"textposition\":\"middle center\",\"x\":[0],\"y\":[\"http://www.wikidata.org/entity/Q35805\"],\"type\":\"scatter\"},{\"hovertemplate\":\"<b>%{text}</b><extra></extra>\",\"marker\":{\"color\":\"lightblue\",\"size\":30},\"mode\":\"markers+text\",\"text\":[\"http://www.wikidata.org/entity/Q7502090\"],\"textposition\":\"middle center\",\"x\":[0],\"y\":[\"http://www.wikidata.org/entity/Q7502090\"],\"type\":\"scatter\"},{\"hovertemplate\":\"<b>%{text}</b><extra></extra>\",\"marker\":{\"color\":\"lightblue\",\"size\":30},\"mode\":\"markers+text\",\"text\":[\"Q133087\"],\"textposition\":\"middle center\",\"x\":[0],\"y\":[\"Q133087\"],\"type\":\"scatter\"},{\"hovertemplate\":\"<b>%{text}</b><extra></extra>\",\"marker\":{\"color\":\"lightblue\",\"size\":30},\"mode\":\"markers+text\",\"text\":[\"http://www.wikidata.org/entity/Q1869874\"],\"textposition\":\"middle center\",\"x\":[0],\"y\":[\"http://www.wikidata.org/entity/Q1869874\"],\"type\":\"scatter\"},{\"hovertemplate\":\"<b>%{text}</b><extra></extra>\",\"marker\":{\"color\":\"lightblue\",\"size\":30},\"mode\":\"markers+text\",\"text\":[\"Q137597\"],\"textposition\":\"middle center\",\"x\":[0],\"y\":[\"Q137597\"],\"type\":\"scatter\"},{\"hovertemplate\":\"<b>%{text}</b><extra></extra>\",\"marker\":{\"color\":\"lightblue\",\"size\":30},\"mode\":\"markers+text\",\"text\":[\"Q132971\"],\"textposition\":\"middle center\",\"x\":[0],\"y\":[\"Q132971\"],\"type\":\"scatter\"},{\"hovertemplate\":\"<b>%{text}</b><extra></extra>\",\"marker\":{\"color\":\"lightblue\",\"size\":30},\"mode\":\"markers+text\",\"text\":[\"http://www.wikidata.org/entity/Q130741\"],\"textposition\":\"middle center\",\"x\":[0],\"y\":[\"http://www.wikidata.org/entity/Q130741\"],\"type\":\"scatter\"},{\"hovertemplate\":\"<b>%{text}</b><extra></extra>\",\"marker\":{\"color\":\"lightblue\",\"size\":30},\"mode\":\"markers+text\",\"text\":[\"http://www.wikidata.org/entity/Q1188698\"],\"textposition\":\"middle center\",\"x\":[0],\"y\":[\"http://www.wikidata.org/entity/Q1188698\"],\"type\":\"scatter\"},{\"hovertemplate\":\"<b>%{text}</b><extra></extra>\",\"marker\":{\"color\":\"lightblue\",\"size\":30},\"mode\":\"markers+text\",\"text\":[\"Q48143\"],\"textposition\":\"middle center\",\"x\":[0],\"y\":[\"Q48143\"],\"type\":\"scatter\"},{\"hovertemplate\":\"<b>%{text}</b><extra></extra>\",\"marker\":{\"color\":\"lightblue\",\"size\":30},\"mode\":\"markers+text\",\"text\":[\"http://www.wikidata.org/entity/Q44619\"],\"textposition\":\"middle center\",\"x\":[0],\"y\":[\"http://www.wikidata.org/entity/Q44619\"],\"type\":\"scatter\"},{\"hovertemplate\":\"<b>%{text}</b><extra></extra>\",\"marker\":{\"color\":\"lightblue\",\"size\":30},\"mode\":\"markers+text\",\"text\":[\"Q174651\"],\"textposition\":\"middle center\",\"x\":[0],\"y\":[\"Q174651\"],\"type\":\"scatter\"},{\"hovertemplate\":\"<b>%{text}</b><extra></extra>\",\"marker\":{\"color\":\"lightblue\",\"size\":30},\"mode\":\"markers+text\",\"text\":[\"http://www.wikidata.org/entity/Q3774744\"],\"textposition\":\"middle center\",\"x\":[0],\"y\":[\"http://www.wikidata.org/entity/Q3774744\"],\"type\":\"scatter\"},{\"hovertemplate\":\"<b>%{text}</b><extra></extra>\",\"marker\":{\"color\":\"lightblue\",\"size\":30},\"mode\":\"markers+text\",\"text\":[\"http://www.wikidata.org/entity/Q653197\"],\"textposition\":\"middle center\",\"x\":[0],\"y\":[\"http://www.wikidata.org/entity/Q653197\"],\"type\":\"scatter\"},{\"hovertemplate\":\"<b>%{text}</b><extra></extra>\",\"marker\":{\"color\":\"lightblue\",\"size\":30},\"mode\":\"markers+text\",\"text\":[\"http://www.wikidata.org/entity/Q823027\"],\"textposition\":\"middle center\",\"x\":[0],\"y\":[\"http://www.wikidata.org/entity/Q823027\"],\"type\":\"scatter\"},{\"hovertemplate\":\"<b>%{text}</b><extra></extra>\",\"marker\":{\"color\":\"lightblue\",\"size\":30},\"mode\":\"markers+text\",\"text\":[\"Q166907\"],\"textposition\":\"middle center\",\"x\":[0],\"y\":[\"Q166907\"],\"type\":\"scatter\"},{\"hovertemplate\":\"<b>%{text}</b><extra></extra>\",\"marker\":{\"color\":\"lightblue\",\"size\":30},\"mode\":\"markers+text\",\"text\":[\"http://www.wikidata.org/entity/Q199602\"],\"textposition\":\"middle center\",\"x\":[0],\"y\":[\"http://www.wikidata.org/entity/Q199602\"],\"type\":\"scatter\"},{\"hovertemplate\":\"<b>%{text}</b><extra></extra>\",\"marker\":{\"color\":\"lightblue\",\"size\":30},\"mode\":\"markers+text\",\"text\":[\"http://www.wikidata.org/entity/Q281289\"],\"textposition\":\"middle center\",\"x\":[0],\"y\":[\"http://www.wikidata.org/entity/Q281289\"],\"type\":\"scatter\"},{\"hovertemplate\":\"<b>%{text}</b><extra></extra>\",\"marker\":{\"color\":\"lightblue\",\"size\":30},\"mode\":\"markers+text\",\"text\":[\"http://www.wikidata.org/entity/Q3540864\"],\"textposition\":\"middle center\",\"x\":[0],\"y\":[\"http://www.wikidata.org/entity/Q3540864\"],\"type\":\"scatter\"},{\"hovertemplate\":\"<b>%{text}</b><extra></extra>\",\"marker\":{\"color\":\"lightblue\",\"size\":30},\"mode\":\"markers+text\",\"text\":[\"Q192579\"],\"textposition\":\"middle center\",\"x\":[0],\"y\":[\"Q192579\"],\"type\":\"scatter\"},{\"hovertemplate\":\"<b>%{text}</b><extra></extra>\",\"marker\":{\"color\":\"lightblue\",\"size\":30},\"mode\":\"markers+text\",\"text\":[\"http://www.wikidata.org/entity/Q28455110\"],\"textposition\":\"middle center\",\"x\":[0],\"y\":[\"http://www.wikidata.org/entity/Q28455110\"],\"type\":\"scatter\"},{\"hovertemplate\":\"<b>%{text}</b><extra></extra>\",\"marker\":{\"color\":\"lightblue\",\"size\":30},\"mode\":\"markers+text\",\"text\":[\"http://www.wikidata.org/entity/Q2610154\"],\"textposition\":\"middle center\",\"x\":[0],\"y\":[\"http://www.wikidata.org/entity/Q2610154\"],\"type\":\"scatter\"},{\"hovertemplate\":\"<b>%{text}</b><extra></extra>\",\"marker\":{\"color\":\"lightblue\",\"size\":30},\"mode\":\"markers+text\",\"text\":[\"Q183134\"],\"textposition\":\"middle center\",\"x\":[0],\"y\":[\"Q183134\"],\"type\":\"scatter\"},{\"hovertemplate\":\"<b>%{text}</b><extra></extra>\",\"marker\":{\"color\":\"lightblue\",\"size\":30},\"mode\":\"markers+text\",\"text\":[\"http://www.wikidata.org/entity/Q86\"],\"textposition\":\"middle center\",\"x\":[0],\"y\":[\"http://www.wikidata.org/entity/Q86\"],\"type\":\"scatter\"},{\"hovertemplate\":\"<b>%{text}</b><extra></extra>\",\"marker\":{\"color\":\"lightblue\",\"size\":30},\"mode\":\"markers+text\",\"text\":[\"http://www.wikidata.org/entity/Q3030775\"],\"textposition\":\"middle center\",\"x\":[0],\"y\":[\"http://www.wikidata.org/entity/Q3030775\"],\"type\":\"scatter\"},{\"hovertemplate\":\"<b>%{text}</b><extra></extra>\",\"marker\":{\"color\":\"lightblue\",\"size\":30},\"mode\":\"markers+text\",\"text\":[\"http://www.wikidata.org/entity/Q109186\"],\"textposition\":\"middle center\",\"x\":[0],\"y\":[\"http://www.wikidata.org/entity/Q109186\"],\"type\":\"scatter\"},{\"hovertemplate\":\"<b>%{text}</b><extra></extra>\",\"marker\":{\"color\":\"lightblue\",\"size\":30},\"mode\":\"markers+text\",\"text\":[\"http://www.wikidata.org/entity/Q3537764\"],\"textposition\":\"middle center\",\"x\":[0],\"y\":[\"http://www.wikidata.org/entity/Q3537764\"],\"type\":\"scatter\"},{\"hovertemplate\":\"<b>%{text}</b><extra></extra>\",\"marker\":{\"color\":\"lightblue\",\"size\":30},\"mode\":\"markers+text\",\"text\":[\"http://www.wikidata.org/entity/Q1640850\"],\"textposition\":\"middle center\",\"x\":[0],\"y\":[\"http://www.wikidata.org/entity/Q1640850\"],\"type\":\"scatter\"},{\"hovertemplate\":\"<b>%{text}</b><extra></extra>\",\"marker\":{\"color\":\"lightblue\",\"size\":30},\"mode\":\"markers+text\",\"text\":[\"http://www.wikidata.org/entity/Q394129\"],\"textposition\":\"middle center\",\"x\":[0],\"y\":[\"http://www.wikidata.org/entity/Q394129\"],\"type\":\"scatter\"},{\"hovertemplate\":\"<b>%{text}</b><extra></extra>\",\"marker\":{\"color\":\"lightblue\",\"size\":30},\"mode\":\"markers+text\",\"text\":[\"http://www.wikidata.org/entity/Q1895873\"],\"textposition\":\"middle center\",\"x\":[0],\"y\":[\"http://www.wikidata.org/entity/Q1895873\"],\"type\":\"scatter\"},{\"hovertemplate\":\"<b>%{text}</b><extra></extra>\",\"marker\":{\"color\":\"lightblue\",\"size\":30},\"mode\":\"markers+text\",\"text\":[\"http://www.wikidata.org/entity/Q683498\"],\"textposition\":\"middle center\",\"x\":[0],\"y\":[\"http://www.wikidata.org/entity/Q683498\"],\"type\":\"scatter\"},{\"hovertemplate\":\"<b>%{text}</b><extra></extra>\",\"marker\":{\"color\":\"lightblue\",\"size\":30},\"mode\":\"markers+text\",\"text\":[\"http://www.wikidata.org/entity/Q1499629\"],\"textposition\":\"middle center\",\"x\":[0],\"y\":[\"http://www.wikidata.org/entity/Q1499629\"],\"type\":\"scatter\"},{\"hovertemplate\":\"<b>%{text}</b><extra></extra>\",\"marker\":{\"color\":\"lightblue\",\"size\":30},\"mode\":\"markers+text\",\"text\":[\"http://www.wikidata.org/entity/Q170990\"],\"textposition\":\"middle center\",\"x\":[0],\"y\":[\"http://www.wikidata.org/entity/Q170990\"],\"type\":\"scatter\"},{\"hovertemplate\":\"<b>%{text}</b><extra></extra>\",\"marker\":{\"color\":\"lightblue\",\"size\":30},\"mode\":\"markers+text\",\"text\":[\"Q167178\"],\"textposition\":\"middle center\",\"x\":[0],\"y\":[\"Q167178\"],\"type\":\"scatter\"},{\"hovertemplate\":\"<b>thought disorder</b><extra></extra>\",\"line\":{\"color\":\"gray\",\"width\":1},\"marker\":{\"color\":\"gray\",\"size\":10,\"symbol\":\"circle\"},\"mode\":\"lines+markers+text\",\"text\":[\"thought disorder\"],\"textposition\":\"middle center\",\"x\":[55,64],\"y\":[\"Q160796\",\"http://www.wikidata.org/entity/Q1188698\"],\"type\":\"scatter\"},{\"hovertemplate\":\"<b>red eye</b><extra></extra>\",\"line\":{\"color\":\"gray\",\"width\":1},\"marker\":{\"color\":\"gray\",\"size\":10,\"symbol\":\"circle\"},\"mode\":\"lines+markers+text\",\"text\":[\"red eye\"],\"textposition\":\"middle center\",\"x\":[71,77],\"y\":[\"Q166907\",\"http://www.wikidata.org/entity/Q2610154\"],\"type\":\"scatter\"},{\"hovertemplate\":\"<b>psychomotor agitation</b><extra></extra>\",\"line\":{\"color\":\"gray\",\"width\":1},\"marker\":{\"color\":\"gray\",\"size\":10,\"symbol\":\"circle\"},\"mode\":\"lines+markers+text\",\"text\":[\"psychomotor agitation\"],\"textposition\":\"middle center\",\"x\":[71,84],\"y\":[\"Q166907\",\"http://www.wikidata.org/entity/Q394129\"],\"type\":\"scatter\"},{\"hovertemplate\":\"<b>disseminated intravascular coagulation</b><extra></extra>\",\"line\":{\"color\":\"gray\",\"width\":1},\"marker\":{\"color\":\"gray\",\"size\":10,\"symbol\":\"circle\"},\"mode\":\"lines+markers+text\",\"text\":[\"disseminated intravascular coagulation\"],\"textposition\":\"middle center\",\"x\":[37,70],\"y\":[\"Q155098\",\"http://www.wikidata.org/entity/Q823027\"],\"type\":\"scatter\"},{\"hovertemplate\":\"<b>irritability</b><extra></extra>\",\"line\":{\"color\":\"gray\",\"width\":1},\"marker\":{\"color\":\"gray\",\"size\":10,\"symbol\":\"circle\"},\"mode\":\"lines+markers+text\",\"text\":[\"irritability\"],\"textposition\":\"middle center\",\"x\":[75,19],\"y\":[\"Q192579\",\"http://www.wikidata.org/entity/Q29299\"],\"type\":\"scatter\"},{\"hovertemplate\":\"<b>short stature</b><extra></extra>\",\"line\":{\"color\":\"gray\",\"width\":1},\"marker\":{\"color\":\"gray\",\"size\":10,\"symbol\":\"circle\"},\"mode\":\"lines+markers+text\",\"text\":[\"short stature\"],\"textposition\":\"middle center\",\"x\":[54,58],\"y\":[\"Q194101\",\"http://www.wikidata.org/entity/Q7502090\"],\"type\":\"scatter\"},{\"hovertemplate\":\"<b>chills</b><extra></extra>\",\"line\":{\"color\":\"gray\",\"width\":1},\"marker\":{\"color\":\"gray\",\"size\":10,\"symbol\":\"circle\"},\"mode\":\"lines+markers+text\",\"text\":[\"chills\"],\"textposition\":\"middle center\",\"x\":[78,7],\"y\":[\"Q183134\",\"http://www.wikidata.org/entity/Q2260058\"],\"type\":\"scatter\"},{\"hovertemplate\":\"<b>runny nose</b><extra></extra>\",\"line\":{\"color\":\"gray\",\"width\":1},\"marker\":{\"color\":\"gray\",\"size\":10,\"symbol\":\"circle\"},\"mode\":\"lines+markers+text\",\"text\":[\"runny nose\"],\"textposition\":\"middle center\",\"x\":[71,48],\"y\":[\"Q166907\",\"http://www.wikidata.org/entity/Q1115038\"],\"type\":\"scatter\"},{\"hovertemplate\":\"<b>fever</b><extra></extra>\",\"line\":{\"color\":\"gray\",\"width\":1},\"marker\":{\"color\":\"gray\",\"size\":10,\"symbol\":\"circle\"},\"mode\":\"lines+markers+text\",\"text\":[\"fever\"],\"textposition\":\"middle center\",\"x\":[89,28],\"y\":[\"Q167178\",\"http://www.wikidata.org/entity/Q38933\"],\"type\":\"scatter\"},{\"hovertemplate\":\"<b>myocarditis</b><extra></extra>\",\"line\":{\"color\":\"gray\",\"width\":1},\"marker\":{\"color\":\"gray\",\"size\":10,\"symbol\":\"circle\"},\"mode\":\"lines+markers+text\",\"text\":[\"myocarditis\"],\"textposition\":\"middle center\",\"x\":[37,6],\"y\":[\"Q155098\",\"http://www.wikidata.org/entity/Q186235\"],\"type\":\"scatter\"},{\"hovertemplate\":\"<b>ptosis</b><extra></extra>\",\"line\":{\"color\":\"gray\",\"width\":1},\"marker\":{\"color\":\"gray\",\"size\":10,\"symbol\":\"circle\"},\"mode\":\"lines+markers+text\",\"text\":[\"ptosis\"],\"textposition\":\"middle center\",\"x\":[71,35],\"y\":[\"Q166907\",\"http://www.wikidata.org/entity/Q622427\"],\"type\":\"scatter\"},{\"hovertemplate\":\"<b>kidney failure</b><extra></extra>\",\"line\":{\"color\":\"gray\",\"width\":1},\"marker\":{\"color\":\"gray\",\"size\":10,\"symbol\":\"circle\"},\"mode\":\"lines+markers+text\",\"text\":[\"kidney failure\"],\"textposition\":\"middle center\",\"x\":[37,56],\"y\":[\"Q155098\",\"http://www.wikidata.org/entity/Q476921\"],\"type\":\"scatter\"},{\"hovertemplate\":\"<b>meningeal syndrome</b><extra></extra>\",\"line\":{\"color\":\"gray\",\"width\":1},\"marker\":{\"color\":\"gray\",\"size\":10,\"symbol\":\"circle\"},\"mode\":\"lines+markers+text\",\"text\":[\"meningeal syndrome\"],\"textposition\":\"middle center\",\"x\":[65,21],\"y\":[\"Q48143\",\"http://www.wikidata.org/entity/Q28868265\"],\"type\":\"scatter\"},{\"hovertemplate\":\"<b>myocarditis</b><extra></extra>\",\"line\":{\"color\":\"gray\",\"width\":1},\"marker\":{\"color\":\"gray\",\"size\":10,\"symbol\":\"circle\"},\"mode\":\"lines+markers+text\",\"text\":[\"myocarditis\"],\"textposition\":\"middle center\",\"x\":[31,6],\"y\":[\"Q201989\",\"http://www.wikidata.org/entity/Q186235\"],\"type\":\"scatter\"},{\"hovertemplate\":\"<b>headache</b><extra></extra>\",\"line\":{\"color\":\"gray\",\"width\":1},\"marker\":{\"color\":\"gray\",\"size\":10,\"symbol\":\"circle\"},\"mode\":\"lines+markers+text\",\"text\":[\"headache\"],\"textposition\":\"middle center\",\"x\":[71,79],\"y\":[\"Q166907\",\"http://www.wikidata.org/entity/Q86\"],\"type\":\"scatter\"},{\"hovertemplate\":\"<b>angina pectoris</b><extra></extra>\",\"line\":{\"color\":\"gray\",\"width\":1},\"marker\":{\"color\":\"gray\",\"size\":10,\"symbol\":\"circle\"},\"mode\":\"lines+markers+text\",\"text\":[\"angina pectoris\"],\"textposition\":\"middle center\",\"x\":[9,14],\"y\":[\"Q190805\",\"http://www.wikidata.org/entity/Q180762\"],\"type\":\"scatter\"},{\"hovertemplate\":\"<b>headache</b><extra></extra>\",\"line\":{\"color\":\"gray\",\"width\":1},\"marker\":{\"color\":\"gray\",\"size\":10,\"symbol\":\"circle\"},\"mode\":\"lines+markers+text\",\"text\":[\"headache\"],\"textposition\":\"middle center\",\"x\":[39,79],\"y\":[\"Q133823\",\"http://www.wikidata.org/entity/Q86\"],\"type\":\"scatter\"},{\"hovertemplate\":\"<b>intermittent fever</b><extra></extra>\",\"line\":{\"color\":\"gray\",\"width\":1},\"marker\":{\"color\":\"gray\",\"size\":10,\"symbol\":\"circle\"},\"mode\":\"lines+markers+text\",\"text\":[\"intermittent fever\"],\"textposition\":\"middle center\",\"x\":[78,32],\"y\":[\"Q183134\",\"http://www.wikidata.org/entity/Q3073147\"],\"type\":\"scatter\"},{\"hovertemplate\":\"<b>rash</b><extra></extra>\",\"line\":{\"color\":\"gray\",\"width\":1},\"marker\":{\"color\":\"gray\",\"size\":10,\"symbol\":\"circle\"},\"mode\":\"lines+markers+text\",\"text\":[\"rash\"],\"textposition\":\"middle center\",\"x\":[89,69],\"y\":[\"Q167178\",\"http://www.wikidata.org/entity/Q653197\"],\"type\":\"scatter\"},{\"hovertemplate\":\"<b>emotional lability</b><extra></extra>\",\"line\":{\"color\":\"gray\",\"width\":1},\"marker\":{\"color\":\"gray\",\"size\":10,\"symbol\":\"circle\"},\"mode\":\"lines+markers+text\",\"text\":[\"emotional lability\"],\"textposition\":\"middle center\",\"x\":[55,76],\"y\":[\"Q160796\",\"http://www.wikidata.org/entity/Q28455110\"],\"type\":\"scatter\"},{\"hovertemplate\":\"<b>respiratory arrest</b><extra></extra>\",\"line\":{\"color\":\"gray\",\"width\":1},\"marker\":{\"color\":\"gray\",\"size\":10,\"symbol\":\"circle\"},\"mode\":\"lines+markers+text\",\"text\":[\"respiratory arrest\"],\"textposition\":\"middle center\",\"x\":[38,68],\"y\":[\"Q39222\",\"http://www.wikidata.org/entity/Q3774744\"],\"type\":\"scatter\"},{\"hovertemplate\":\"<b>fatigue</b><extra></extra>\",\"line\":{\"color\":\"gray\",\"width\":1},\"marker\":{\"color\":\"gray\",\"size\":10,\"symbol\":\"circle\"},\"mode\":\"lines+markers+text\",\"text\":[\"fatigue\"],\"textposition\":\"middle center\",\"x\":[75,13],\"y\":[\"Q192579\",\"http://www.wikidata.org/entity/Q9690\"],\"type\":\"scatter\"},{\"hovertemplate\":\"<b>headache</b><extra></extra>\",\"line\":{\"color\":\"gray\",\"width\":1},\"marker\":{\"color\":\"gray\",\"size\":10,\"symbol\":\"circle\"},\"mode\":\"lines+markers+text\",\"text\":[\"headache\"],\"textposition\":\"middle center\",\"x\":[75,79],\"y\":[\"Q192579\",\"http://www.wikidata.org/entity/Q86\"],\"type\":\"scatter\"},{\"hovertemplate\":\"<b>joint effusion</b><extra></extra>\",\"line\":{\"color\":\"gray\",\"width\":1},\"marker\":{\"color\":\"gray\",\"size\":10,\"symbol\":\"circle\"},\"mode\":\"lines+markers+text\",\"text\":[\"joint effusion\"],\"textposition\":\"middle center\",\"x\":[59,87],\"y\":[\"Q133087\",\"http://www.wikidata.org/entity/Q1499629\"],\"type\":\"scatter\"},{\"hovertemplate\":\"<b>chills</b><extra></extra>\",\"line\":{\"color\":\"gray\",\"width\":1},\"marker\":{\"color\":\"gray\",\"size\":10,\"symbol\":\"circle\"},\"mode\":\"lines+markers+text\",\"text\":[\"chills\"],\"textposition\":\"middle center\",\"x\":[37,7],\"y\":[\"Q155098\",\"http://www.wikidata.org/entity/Q2260058\"],\"type\":\"scatter\"},{\"hovertemplate\":\"<b>irritability</b><extra></extra>\",\"line\":{\"color\":\"gray\",\"width\":1},\"marker\":{\"color\":\"gray\",\"size\":10,\"symbol\":\"circle\"},\"mode\":\"lines+markers+text\",\"text\":[\"irritability\"],\"textposition\":\"middle center\",\"x\":[71,19],\"y\":[\"Q166907\",\"http://www.wikidata.org/entity/Q29299\"],\"type\":\"scatter\"},{\"hovertemplate\":\"<b>itch</b><extra></extra>\",\"line\":{\"color\":\"gray\",\"width\":1},\"marker\":{\"color\":\"gray\",\"size\":10,\"symbol\":\"circle\"},\"mode\":\"lines+markers+text\",\"text\":[\"itch\"],\"textposition\":\"middle center\",\"x\":[89,72],\"y\":[\"Q167178\",\"http://www.wikidata.org/entity/Q199602\"],\"type\":\"scatter\"},{\"hovertemplate\":\"<b>increase</b><extra></extra>\",\"line\":{\"color\":\"gray\",\"width\":1},\"marker\":{\"color\":\"gray\",\"size\":10,\"symbol\":\"circle\"},\"mode\":\"lines+markers+text\",\"text\":[\"increase\"],\"textposition\":\"middle center\",\"x\":[38,20],\"y\":[\"Q39222\",\"http://www.wikidata.org/entity/Q9073584\"],\"type\":\"scatter\"},{\"hovertemplate\":\"<b>vomiting</b><extra></extra>\",\"line\":{\"color\":\"gray\",\"width\":1},\"marker\":{\"color\":\"gray\",\"size\":10,\"symbol\":\"circle\"},\"mode\":\"lines+markers+text\",\"text\":[\"vomiting\"],\"textposition\":\"middle center\",\"x\":[65,36],\"y\":[\"Q48143\",\"http://www.wikidata.org/entity/Q127076\"],\"type\":\"scatter\"},{\"hovertemplate\":\"<b>wheeze</b><extra></extra>\",\"line\":{\"color\":\"gray\",\"width\":1},\"marker\":{\"color\":\"gray\",\"size\":10,\"symbol\":\"circle\"},\"mode\":\"lines+markers+text\",\"text\":[\"wheeze\"],\"textposition\":\"middle center\",\"x\":[11,52],\"y\":[\"Q199804\",\"http://www.wikidata.org/entity/Q517104\"],\"type\":\"scatter\"},{\"hovertemplate\":\"<b>nasal congestion</b><extra></extra>\",\"line\":{\"color\":\"gray\",\"width\":1},\"marker\":{\"color\":\"gray\",\"size\":10,\"symbol\":\"circle\"},\"mode\":\"lines+markers+text\",\"text\":[\"nasal congestion\"],\"textposition\":\"middle center\",\"x\":[71,51],\"y\":[\"Q166907\",\"http://www.wikidata.org/entity/Q3245488\"],\"type\":\"scatter\"},{\"hovertemplate\":\"<b>heart arrhythmia</b><extra></extra>\",\"line\":{\"color\":\"gray\",\"width\":1},\"marker\":{\"color\":\"gray\",\"size\":10,\"symbol\":\"circle\"},\"mode\":\"lines+markers+text\",\"text\":[\"heart arrhythmia\"],\"textposition\":\"middle center\",\"x\":[9,45],\"y\":[\"Q190805\",\"http://www.wikidata.org/entity/Q189331\"],\"type\":\"scatter\"},{\"hovertemplate\":\"<b>remittent fever</b><extra></extra>\",\"line\":{\"color\":\"gray\",\"width\":1},\"marker\":{\"color\":\"gray\",\"size\":10,\"symbol\":\"circle\"},\"mode\":\"lines+markers+text\",\"text\":[\"remittent fever\"],\"textposition\":\"middle center\",\"x\":[78,42],\"y\":[\"Q183134\",\"http://www.wikidata.org/entity/Q24869904\"],\"type\":\"scatter\"},{\"hovertemplate\":\"<b>tachycardia</b><extra></extra>\",\"line\":{\"color\":\"gray\",\"width\":1},\"marker\":{\"color\":\"gray\",\"size\":10,\"symbol\":\"circle\"},\"mode\":\"lines+markers+text\",\"text\":[\"tachycardia\"],\"textposition\":\"middle center\",\"x\":[9,53],\"y\":[\"Q190805\",\"http://www.wikidata.org/entity/Q209583\"],\"type\":\"scatter\"},{\"hovertemplate\":\"<b>arthritis</b><extra></extra>\",\"line\":{\"color\":\"gray\",\"width\":1},\"marker\":{\"color\":\"gray\",\"size\":10,\"symbol\":\"circle\"},\"mode\":\"lines+markers+text\",\"text\":[\"arthritis\"],\"textposition\":\"middle center\",\"x\":[31,88],\"y\":[\"Q201989\",\"http://www.wikidata.org/entity/Q170990\"],\"type\":\"scatter\"},{\"hovertemplate\":\"<b>cardiac arrest</b><extra></extra>\",\"line\":{\"color\":\"gray\",\"width\":1},\"marker\":{\"color\":\"gray\",\"size\":10,\"symbol\":\"circle\"},\"mode\":\"lines+markers+text\",\"text\":[\"cardiac arrest\"],\"textposition\":\"middle center\",\"x\":[38,17],\"y\":[\"Q39222\",\"http://www.wikidata.org/entity/Q202837\"],\"type\":\"scatter\"},{\"hovertemplate\":\"<b>edema</b><extra></extra>\",\"line\":{\"color\":\"gray\",\"width\":1},\"marker\":{\"color\":\"gray\",\"size\":10,\"symbol\":\"circle\"},\"mode\":\"lines+markers+text\",\"text\":[\"edema\"],\"textposition\":\"middle center\",\"x\":[9,2],\"y\":[\"Q190805\",\"http://www.wikidata.org/entity/Q152234\"],\"type\":\"scatter\"},{\"hovertemplate\":\"<b>paralysis</b><extra></extra>\",\"line\":{\"color\":\"gray\",\"width\":1},\"marker\":{\"color\":\"gray\",\"size\":10,\"symbol\":\"circle\"},\"mode\":\"lines+markers+text\",\"text\":[\"paralysis\"],\"textposition\":\"middle center\",\"x\":[38,26],\"y\":[\"Q39222\",\"http://www.wikidata.org/entity/Q107231\"],\"type\":\"scatter\"},{\"hovertemplate\":\"<b>burping</b><extra></extra>\",\"line\":{\"color\":\"gray\",\"width\":1},\"marker\":{\"color\":\"gray\",\"size\":10,\"symbol\":\"circle\"},\"mode\":\"lines+markers+text\",\"text\":[\"burping\"],\"textposition\":\"middle center\",\"x\":[39,30],\"y\":[\"Q133823\",\"http://www.wikidata.org/entity/Q209789\"],\"type\":\"scatter\"},{\"hovertemplate\":\"<b>heart arrhythmia</b><extra></extra>\",\"line\":{\"color\":\"gray\",\"width\":1},\"marker\":{\"color\":\"gray\",\"size\":10,\"symbol\":\"circle\"},\"mode\":\"lines+markers+text\",\"text\":[\"heart arrhythmia\"],\"textposition\":\"middle center\",\"x\":[31,45],\"y\":[\"Q201989\",\"http://www.wikidata.org/entity/Q189331\"],\"type\":\"scatter\"},{\"hovertemplate\":\"<b>sleep disorder</b><extra></extra>\",\"line\":{\"color\":\"gray\",\"width\":1},\"marker\":{\"color\":\"gray\",\"size\":10,\"symbol\":\"circle\"},\"mode\":\"lines+markers+text\",\"text\":[\"sleep disorder\"],\"textposition\":\"middle center\",\"x\":[55,34],\"y\":[\"Q160796\",\"http://www.wikidata.org/entity/Q177190\"],\"type\":\"scatter\"},{\"hovertemplate\":\"<b>simultanagnosia</b><extra></extra>\",\"line\":{\"color\":\"gray\",\"width\":1},\"marker\":{\"color\":\"gray\",\"size\":10,\"symbol\":\"circle\"},\"mode\":\"lines+markers+text\",\"text\":[\"simultanagnosia\"],\"textposition\":\"middle center\",\"x\":[67,40],\"y\":[\"Q174651\",\"http://www.wikidata.org/entity/Q2046811\"],\"type\":\"scatter\"},{\"hovertemplate\":\"<b>optic ataxia</b><extra></extra>\",\"line\":{\"color\":\"gray\",\"width\":1},\"marker\":{\"color\":\"gray\",\"size\":10,\"symbol\":\"circle\"},\"mode\":\"lines+markers+text\",\"text\":[\"optic ataxia\"],\"textposition\":\"middle center\",\"x\":[67,0],\"y\":[\"Q174651\",\"http://www.wikidata.org/entity/Q2076329\"],\"type\":\"scatter\"},{\"hovertemplate\":\"<b>dyspnea</b><extra></extra>\",\"line\":{\"color\":\"gray\",\"width\":1},\"marker\":{\"color\":\"gray\",\"size\":10,\"symbol\":\"circle\"},\"mode\":\"lines+markers+text\",\"text\":[\"dyspnea\"],\"textposition\":\"middle center\",\"x\":[11,24],\"y\":[\"Q199804\",\"http://www.wikidata.org/entity/Q188008\"],\"type\":\"scatter\"},{\"hovertemplate\":\"<b>arthralgia</b><extra></extra>\",\"line\":{\"color\":\"gray\",\"width\":1},\"marker\":{\"color\":\"gray\",\"size\":10,\"symbol\":\"circle\"},\"mode\":\"lines+markers+text\",\"text\":[\"arthralgia\"],\"textposition\":\"middle center\",\"x\":[59,86],\"y\":[\"Q133087\",\"http://www.wikidata.org/entity/Q683498\"],\"type\":\"scatter\"},{\"hovertemplate\":\"<b>chest pain</b><extra></extra>\",\"line\":{\"color\":\"gray\",\"width\":1},\"marker\":{\"color\":\"gray\",\"size\":10,\"symbol\":\"circle\"},\"mode\":\"lines+markers+text\",\"text\":[\"chest pain\"],\"textposition\":\"middle center\",\"x\":[9,5],\"y\":[\"Q190805\",\"http://www.wikidata.org/entity/Q693058\"],\"type\":\"scatter\"},{\"hovertemplate\":\"<b>phonophobia</b><extra></extra>\",\"line\":{\"color\":\"gray\",\"width\":1},\"marker\":{\"color\":\"gray\",\"size\":10,\"symbol\":\"circle\"},\"mode\":\"lines+markers+text\",\"text\":[\"phonophobia\"],\"textposition\":\"middle center\",\"x\":[38,15],\"y\":[\"Q39222\",\"http://www.wikidata.org/entity/Q2434711\"],\"type\":\"scatter\"},{\"hovertemplate\":\"<b>hallucination</b><extra></extra>\",\"line\":{\"color\":\"gray\",\"width\":1},\"marker\":{\"color\":\"gray\",\"size\":10,\"symbol\":\"circle\"},\"mode\":\"lines+markers+text\",\"text\":[\"hallucination\"],\"textposition\":\"middle center\",\"x\":[38,63],\"y\":[\"Q39222\",\"http://www.wikidata.org/entity/Q130741\"],\"type\":\"scatter\"},{\"hovertemplate\":\"<b>memory disorder</b><extra></extra>\",\"line\":{\"color\":\"gray\",\"width\":1},\"marker\":{\"color\":\"gray\",\"size\":10,\"symbol\":\"circle\"},\"mode\":\"lines+markers+text\",\"text\":[\"memory disorder\"],\"textposition\":\"middle center\",\"x\":[55,44],\"y\":[\"Q160796\",\"http://www.wikidata.org/entity/Q3072083\"],\"type\":\"scatter\"},{\"hovertemplate\":\"<b>hydrophobia (sign)</b><extra></extra>\",\"line\":{\"color\":\"gray\",\"width\":1},\"marker\":{\"color\":\"gray\",\"size\":10,\"symbol\":\"circle\"},\"mode\":\"lines+markers+text\",\"text\":[\"hydrophobia (sign)\"],\"textposition\":\"middle center\",\"x\":[38,25],\"y\":[\"Q39222\",\"http://www.wikidata.org/entity/Q56635009\"],\"type\":\"scatter\"},{\"hovertemplate\":\"<b>reading disorder and \\u00e9crites disorder</b><extra></extra>\",\"line\":{\"color\":\"gray\",\"width\":1},\"marker\":{\"color\":\"gray\",\"size\":10,\"symbol\":\"circle\"},\"mode\":\"lines+markers+text\",\"text\":[\"reading disorder and \\u00e9crites disorder\"],\"textposition\":\"middle center\",\"x\":[62,46],\"y\":[\"Q132971\",\"http://www.wikidata.org/entity/Q17077617\"],\"type\":\"scatter\"},{\"hovertemplate\":\"<b>headache</b><extra></extra>\",\"line\":{\"color\":\"gray\",\"width\":1},\"marker\":{\"color\":\"gray\",\"size\":10,\"symbol\":\"circle\"},\"mode\":\"lines+markers+text\",\"text\":[\"headache\"],\"textposition\":\"middle center\",\"x\":[31,79],\"y\":[\"Q201989\",\"http://www.wikidata.org/entity/Q86\"],\"type\":\"scatter\"},{\"hovertemplate\":\"<b>ascites</b><extra></extra>\",\"line\":{\"color\":\"gray\",\"width\":1},\"marker\":{\"color\":\"gray\",\"size\":10,\"symbol\":\"circle\"},\"mode\":\"lines+markers+text\",\"text\":[\"ascites\"],\"textposition\":\"middle center\",\"x\":[9,23],\"y\":[\"Q190805\",\"http://www.wikidata.org/entity/Q193889\"],\"type\":\"scatter\"},{\"hovertemplate\":\"<b>hypochromic anemia</b><extra></extra>\",\"line\":{\"color\":\"gray\",\"width\":1},\"marker\":{\"color\":\"gray\",\"size\":10,\"symbol\":\"circle\"},\"mode\":\"lines+markers+text\",\"text\":[\"hypochromic anemia\"],\"textposition\":\"middle center\",\"x\":[61,22],\"y\":[\"Q137597\",\"http://www.wikidata.org/entity/Q2306782\"],\"type\":\"scatter\"},{\"hovertemplate\":\"<b>poisoning</b><extra></extra>\",\"line\":{\"color\":\"gray\",\"width\":1},\"marker\":{\"color\":\"gray\",\"size\":10,\"symbol\":\"circle\"},\"mode\":\"lines+markers+text\",\"text\":[\"poisoning\"],\"textposition\":\"middle center\",\"x\":[37,8],\"y\":[\"Q155098\",\"http://www.wikidata.org/entity/Q114953\"],\"type\":\"scatter\"},{\"hovertemplate\":\"<b>fatigue</b><extra></extra>\",\"line\":{\"color\":\"gray\",\"width\":1},\"marker\":{\"color\":\"gray\",\"size\":10,\"symbol\":\"circle\"},\"mode\":\"lines+markers+text\",\"text\":[\"fatigue\"],\"textposition\":\"middle center\",\"x\":[31,13],\"y\":[\"Q201989\",\"http://www.wikidata.org/entity/Q9690\"],\"type\":\"scatter\"},{\"hovertemplate\":\"<b>oculomotor apraxia</b><extra></extra>\",\"line\":{\"color\":\"gray\",\"width\":1},\"marker\":{\"color\":\"gray\",\"size\":10,\"symbol\":\"circle\"},\"mode\":\"lines+markers+text\",\"text\":[\"oculomotor apraxia\"],\"textposition\":\"middle center\",\"x\":[67,4],\"y\":[\"Q174651\",\"http://www.wikidata.org/entity/Q2074059\"],\"type\":\"scatter\"},{\"hovertemplate\":\"<b>nausea</b><extra></extra>\",\"line\":{\"color\":\"gray\",\"width\":1},\"marker\":{\"color\":\"gray\",\"size\":10,\"symbol\":\"circle\"},\"mode\":\"lines+markers+text\",\"text\":[\"nausea\"],\"textposition\":\"middle center\",\"x\":[65,50],\"y\":[\"Q48143\",\"http://www.wikidata.org/entity/Q186889\"],\"type\":\"scatter\"},{\"hovertemplate\":\"<b>distraction</b><extra></extra>\",\"line\":{\"color\":\"gray\",\"width\":1},\"marker\":{\"color\":\"gray\",\"size\":10,\"symbol\":\"circle\"},\"mode\":\"lines+markers+text\",\"text\":[\"distraction\"],\"textposition\":\"middle center\",\"x\":[55,80],\"y\":[\"Q160796\",\"http://www.wikidata.org/entity/Q3030775\"],\"type\":\"scatter\"},{\"hovertemplate\":\"<b>erythema</b><extra></extra>\",\"line\":{\"color\":\"gray\",\"width\":1},\"marker\":{\"color\":\"gray\",\"size\":10,\"symbol\":\"circle\"},\"mode\":\"lines+markers+text\",\"text\":[\"erythema\"],\"textposition\":\"middle center\",\"x\":[59,43],\"y\":[\"Q133087\",\"http://www.wikidata.org/entity/Q1166142\"],\"type\":\"scatter\"},{\"hovertemplate\":\"<b>sleep disorder</b><extra></extra>\",\"line\":{\"color\":\"gray\",\"width\":1},\"marker\":{\"color\":\"gray\",\"size\":10,\"symbol\":\"circle\"},\"mode\":\"lines+markers+text\",\"text\":[\"sleep disorder\"],\"textposition\":\"middle center\",\"x\":[75,34],\"y\":[\"Q192579\",\"http://www.wikidata.org/entity/Q177190\"],\"type\":\"scatter\"},{\"hovertemplate\":\"<b>insomnia</b><extra></extra>\",\"line\":{\"color\":\"gray\",\"width\":1},\"marker\":{\"color\":\"gray\",\"size\":10,\"symbol\":\"circle\"},\"mode\":\"lines+markers+text\",\"text\":[\"insomnia\"],\"textposition\":\"middle center\",\"x\":[38,60],\"y\":[\"Q39222\",\"http://www.wikidata.org/entity/Q1869874\"],\"type\":\"scatter\"},{\"hovertemplate\":\"<b>vomiting</b><extra></extra>\",\"line\":{\"color\":\"gray\",\"width\":1},\"marker\":{\"color\":\"gray\",\"size\":10,\"symbol\":\"circle\"},\"mode\":\"lines+markers+text\",\"text\":[\"vomiting\"],\"textposition\":\"middle center\",\"x\":[38,36],\"y\":[\"Q39222\",\"http://www.wikidata.org/entity/Q127076\"],\"type\":\"scatter\"},{\"hovertemplate\":\"<b>headache</b><extra></extra>\",\"line\":{\"color\":\"gray\",\"width\":1},\"marker\":{\"color\":\"gray\",\"size\":10,\"symbol\":\"circle\"},\"mode\":\"lines+markers+text\",\"text\":[\"headache\"],\"textposition\":\"middle center\",\"x\":[65,79],\"y\":[\"Q48143\",\"http://www.wikidata.org/entity/Q86\"],\"type\":\"scatter\"},{\"hovertemplate\":\"<b>photophobia</b><extra></extra>\",\"line\":{\"color\":\"gray\",\"width\":1},\"marker\":{\"color\":\"gray\",\"size\":10,\"symbol\":\"circle\"},\"mode\":\"lines+markers+text\",\"text\":[\"photophobia\"],\"textposition\":\"middle center\",\"x\":[65,73],\"y\":[\"Q48143\",\"http://www.wikidata.org/entity/Q281289\"],\"type\":\"scatter\"},{\"hovertemplate\":\"<b>fatigue</b><extra></extra>\",\"line\":{\"color\":\"gray\",\"width\":1},\"marker\":{\"color\":\"gray\",\"size\":10,\"symbol\":\"circle\"},\"mode\":\"lines+markers+text\",\"text\":[\"fatigue\"],\"textposition\":\"middle center\",\"x\":[61,13],\"y\":[\"Q137597\",\"http://www.wikidata.org/entity/Q9690\"],\"type\":\"scatter\"},{\"hovertemplate\":\"<b>balance disorder</b><extra></extra>\",\"line\":{\"color\":\"gray\",\"width\":1},\"marker\":{\"color\":\"gray\",\"size\":10,\"symbol\":\"circle\"},\"mode\":\"lines+markers+text\",\"text\":[\"balance disorder\"],\"textposition\":\"middle center\",\"x\":[9,74],\"y\":[\"Q190805\",\"http://www.wikidata.org/entity/Q3540864\"],\"type\":\"scatter\"},{\"hovertemplate\":\"<b>cough</b><extra></extra>\",\"line\":{\"color\":\"gray\",\"width\":1},\"marker\":{\"color\":\"gray\",\"size\":10,\"symbol\":\"circle\"},\"mode\":\"lines+markers+text\",\"text\":[\"cough\"],\"textposition\":\"middle center\",\"x\":[11,57],\"y\":[\"Q199804\",\"http://www.wikidata.org/entity/Q35805\"],\"type\":\"scatter\"},{\"hovertemplate\":\"<b>paresthesia</b><extra></extra>\",\"line\":{\"color\":\"gray\",\"width\":1},\"marker\":{\"color\":\"gray\",\"size\":10,\"symbol\":\"circle\"},\"mode\":\"lines+markers+text\",\"text\":[\"paresthesia\"],\"textposition\":\"middle center\",\"x\":[38,16],\"y\":[\"Q39222\",\"http://www.wikidata.org/entity/Q769220\"],\"type\":\"scatter\"},{\"hovertemplate\":\"<b>pain</b><extra></extra>\",\"line\":{\"color\":\"gray\",\"width\":1},\"marker\":{\"color\":\"gray\",\"size\":10,\"symbol\":\"circle\"},\"mode\":\"lines+markers+text\",\"text\":[\"pain\"],\"textposition\":\"middle center\",\"x\":[38,27],\"y\":[\"Q39222\",\"http://www.wikidata.org/entity/Q81938\"],\"type\":\"scatter\"},{\"hovertemplate\":\"<b>fever</b><extra></extra>\",\"line\":{\"color\":\"gray\",\"width\":1},\"marker\":{\"color\":\"gray\",\"size\":10,\"symbol\":\"circle\"},\"mode\":\"lines+markers+text\",\"text\":[\"fever\"],\"textposition\":\"middle center\",\"x\":[37,28],\"y\":[\"Q155098\",\"http://www.wikidata.org/entity/Q38933\"],\"type\":\"scatter\"},{\"hovertemplate\":\"<b>mydriasis</b><extra></extra>\",\"line\":{\"color\":\"gray\",\"width\":1},\"marker\":{\"color\":\"gray\",\"size\":10,\"symbol\":\"circle\"},\"mode\":\"lines+markers+text\",\"text\":[\"mydriasis\"],\"textposition\":\"middle center\",\"x\":[38,3],\"y\":[\"Q39222\",\"http://www.wikidata.org/entity/Q1128283\"],\"type\":\"scatter\"},{\"hovertemplate\":\"<b>fever</b><extra></extra>\",\"line\":{\"color\":\"gray\",\"width\":1},\"marker\":{\"color\":\"gray\",\"size\":10,\"symbol\":\"circle\"},\"mode\":\"lines+markers+text\",\"text\":[\"fever\"],\"textposition\":\"middle center\",\"x\":[31,28],\"y\":[\"Q201989\",\"http://www.wikidata.org/entity/Q38933\"],\"type\":\"scatter\"},{\"hovertemplate\":\"<b>psychosis</b><extra></extra>\",\"line\":{\"color\":\"gray\",\"width\":1},\"marker\":{\"color\":\"gray\",\"size\":10,\"symbol\":\"circle\"},\"mode\":\"lines+markers+text\",\"text\":[\"psychosis\"],\"textposition\":\"middle center\",\"x\":[55,41],\"y\":[\"Q160796\",\"http://www.wikidata.org/entity/Q170082\"],\"type\":\"scatter\"},{\"hovertemplate\":\"<b>rash</b><extra></extra>\",\"line\":{\"color\":\"gray\",\"width\":1},\"marker\":{\"color\":\"gray\",\"size\":10,\"symbol\":\"circle\"},\"mode\":\"lines+markers+text\",\"text\":[\"rash\"],\"textposition\":\"middle center\",\"x\":[37,69],\"y\":[\"Q155098\",\"http://www.wikidata.org/entity/Q653197\"],\"type\":\"scatter\"},{\"hovertemplate\":\"<b>headache</b><extra></extra>\",\"line\":{\"color\":\"gray\",\"width\":1},\"marker\":{\"color\":\"gray\",\"size\":10,\"symbol\":\"circle\"},\"mode\":\"lines+markers+text\",\"text\":[\"headache\"],\"textposition\":\"middle center\",\"x\":[37,79],\"y\":[\"Q155098\",\"http://www.wikidata.org/entity/Q86\"],\"type\":\"scatter\"},{\"hovertemplate\":\"<b>chills</b><extra></extra>\",\"line\":{\"color\":\"gray\",\"width\":1},\"marker\":{\"color\":\"gray\",\"size\":10,\"symbol\":\"circle\"},\"mode\":\"lines+markers+text\",\"text\":[\"chills\"],\"textposition\":\"middle center\",\"x\":[38,7],\"y\":[\"Q39222\",\"http://www.wikidata.org/entity/Q2260058\"],\"type\":\"scatter\"},{\"hovertemplate\":\"<b>meningitis</b><extra></extra>\",\"line\":{\"color\":\"gray\",\"width\":1},\"marker\":{\"color\":\"gray\",\"size\":10,\"symbol\":\"circle\"},\"mode\":\"lines+markers+text\",\"text\":[\"meningitis\"],\"textposition\":\"middle center\",\"x\":[31,1],\"y\":[\"Q201989\",\"http://www.wikidata.org/entity/Q48143\"],\"type\":\"scatter\"},{\"hovertemplate\":\"<b>fear</b><extra></extra>\",\"line\":{\"color\":\"gray\",\"width\":1},\"marker\":{\"color\":\"gray\",\"size\":10,\"symbol\":\"circle\"},\"mode\":\"lines+markers+text\",\"text\":[\"fear\"],\"textposition\":\"middle center\",\"x\":[38,66],\"y\":[\"Q39222\",\"http://www.wikidata.org/entity/Q44619\"],\"type\":\"scatter\"},{\"hovertemplate\":\"<b>headache</b><extra></extra>\",\"line\":{\"color\":\"gray\",\"width\":1},\"marker\":{\"color\":\"gray\",\"size\":10,\"symbol\":\"circle\"},\"mode\":\"lines+markers+text\",\"text\":[\"headache\"],\"textposition\":\"middle center\",\"x\":[38,79],\"y\":[\"Q39222\",\"http://www.wikidata.org/entity/Q86\"],\"type\":\"scatter\"},{\"hovertemplate\":\"<b>photophobia</b><extra></extra>\",\"line\":{\"color\":\"gray\",\"width\":1},\"marker\":{\"color\":\"gray\",\"size\":10,\"symbol\":\"circle\"},\"mode\":\"lines+markers+text\",\"text\":[\"photophobia\"],\"textposition\":\"middle center\",\"x\":[38,73],\"y\":[\"Q39222\",\"http://www.wikidata.org/entity/Q281289\"],\"type\":\"scatter\"},{\"hovertemplate\":\"<b>vomiting</b><extra></extra>\",\"line\":{\"color\":\"gray\",\"width\":1},\"marker\":{\"color\":\"gray\",\"size\":10,\"symbol\":\"circle\"},\"mode\":\"lines+markers+text\",\"text\":[\"vomiting\"],\"textposition\":\"middle center\",\"x\":[39,36],\"y\":[\"Q133823\",\"http://www.wikidata.org/entity/Q127076\"],\"type\":\"scatter\"},{\"hovertemplate\":\"<b>syncope</b><extra></extra>\",\"line\":{\"color\":\"gray\",\"width\":1},\"marker\":{\"color\":\"gray\",\"size\":10,\"symbol\":\"circle\"},\"mode\":\"lines+markers+text\",\"text\":[\"syncope\"],\"textposition\":\"middle center\",\"x\":[9,33],\"y\":[\"Q190805\",\"http://www.wikidata.org/entity/Q180007\"],\"type\":\"scatter\"},{\"hovertemplate\":\"<b>fever</b><extra></extra>\",\"line\":{\"color\":\"gray\",\"width\":1},\"marker\":{\"color\":\"gray\",\"size\":10,\"symbol\":\"circle\"},\"mode\":\"lines+markers+text\",\"text\":[\"fever\"],\"textposition\":\"middle center\",\"x\":[65,28],\"y\":[\"Q48143\",\"http://www.wikidata.org/entity/Q38933\"],\"type\":\"scatter\"},{\"hovertemplate\":\"<b>dyspnea</b><extra></extra>\",\"line\":{\"color\":\"gray\",\"width\":1},\"marker\":{\"color\":\"gray\",\"size\":10,\"symbol\":\"circle\"},\"mode\":\"lines+markers+text\",\"text\":[\"dyspnea\"],\"textposition\":\"middle center\",\"x\":[9,24],\"y\":[\"Q190805\",\"http://www.wikidata.org/entity/Q188008\"],\"type\":\"scatter\"},{\"hovertemplate\":\"<b>arterial hypertension</b><extra></extra>\",\"line\":{\"color\":\"gray\",\"width\":1},\"marker\":{\"color\":\"gray\",\"size\":10,\"symbol\":\"circle\"},\"mode\":\"lines+markers+text\",\"text\":[\"arterial hypertension\"],\"textposition\":\"middle center\",\"x\":[9,18],\"y\":[\"Q190805\",\"http://www.wikidata.org/entity/Q41861\"],\"type\":\"scatter\"},{\"hovertemplate\":\"<b>swelling</b><extra></extra>\",\"line\":{\"color\":\"gray\",\"width\":1},\"marker\":{\"color\":\"gray\",\"size\":10,\"symbol\":\"circle\"},\"mode\":\"lines+markers+text\",\"text\":[\"swelling\"],\"textposition\":\"middle center\",\"x\":[59,81],\"y\":[\"Q133087\",\"http://www.wikidata.org/entity/Q109186\"],\"type\":\"scatter\"},{\"hovertemplate\":\"<b>tear secretion</b><extra></extra>\",\"line\":{\"color\":\"gray\",\"width\":1},\"marker\":{\"color\":\"gray\",\"size\":10,\"symbol\":\"circle\"},\"mode\":\"lines+markers+text\",\"text\":[\"tear secretion\"],\"textposition\":\"middle center\",\"x\":[71,49],\"y\":[\"Q166907\",\"http://www.wikidata.org/entity/Q12153824\"],\"type\":\"scatter\"},{\"hovertemplate\":\"<b>irritability</b><extra></extra>\",\"line\":{\"color\":\"gray\",\"width\":1},\"marker\":{\"color\":\"gray\",\"size\":10,\"symbol\":\"circle\"},\"mode\":\"lines+markers+text\",\"text\":[\"irritability\"],\"textposition\":\"middle center\",\"x\":[38,19],\"y\":[\"Q39222\",\"http://www.wikidata.org/entity/Q29299\"],\"type\":\"scatter\"},{\"hovertemplate\":\"<b>nausea</b><extra></extra>\",\"line\":{\"color\":\"gray\",\"width\":1},\"marker\":{\"color\":\"gray\",\"size\":10,\"symbol\":\"circle\"},\"mode\":\"lines+markers+text\",\"text\":[\"nausea\"],\"textposition\":\"middle center\",\"x\":[39,50],\"y\":[\"Q133823\",\"http://www.wikidata.org/entity/Q186889\"],\"type\":\"scatter\"},{\"hovertemplate\":\"<b>disorientation</b><extra></extra>\",\"line\":{\"color\":\"gray\",\"width\":1},\"marker\":{\"color\":\"gray\",\"size\":10,\"symbol\":\"circle\"},\"mode\":\"lines+markers+text\",\"text\":[\"disorientation\"],\"textposition\":\"middle center\",\"x\":[55,85],\"y\":[\"Q160796\",\"http://www.wikidata.org/entity/Q1895873\"],\"type\":\"scatter\"},{\"hovertemplate\":\"<b>myalgia</b><extra></extra>\",\"line\":{\"color\":\"gray\",\"width\":1},\"marker\":{\"color\":\"gray\",\"size\":10,\"symbol\":\"circle\"},\"mode\":\"lines+markers+text\",\"text\":[\"myalgia\"],\"textposition\":\"middle center\",\"x\":[37,47],\"y\":[\"Q155098\",\"http://www.wikidata.org/entity/Q474959\"],\"type\":\"scatter\"},{\"hovertemplate\":\"<b>abdominal pain</b><extra></extra>\",\"line\":{\"color\":\"gray\",\"width\":1},\"marker\":{\"color\":\"gray\",\"size\":10,\"symbol\":\"circle\"},\"mode\":\"lines+markers+text\",\"text\":[\"abdominal pain\"],\"textposition\":\"middle center\",\"x\":[61,12],\"y\":[\"Q137597\",\"http://www.wikidata.org/entity/Q183425\"],\"type\":\"scatter\"},{\"hovertemplate\":\"<b>myalgia</b><extra></extra>\",\"line\":{\"color\":\"gray\",\"width\":1},\"marker\":{\"color\":\"gray\",\"size\":10,\"symbol\":\"circle\"},\"mode\":\"lines+markers+text\",\"text\":[\"myalgia\"],\"textposition\":\"middle center\",\"x\":[31,47],\"y\":[\"Q201989\",\"http://www.wikidata.org/entity/Q474959\"],\"type\":\"scatter\"},{\"hovertemplate\":\"<b>sweating</b><extra></extra>\",\"line\":{\"color\":\"gray\",\"width\":1},\"marker\":{\"color\":\"gray\",\"size\":10,\"symbol\":\"circle\"},\"mode\":\"lines+markers+text\",\"text\":[\"sweating\"],\"textposition\":\"middle center\",\"x\":[71,82],\"y\":[\"Q166907\",\"http://www.wikidata.org/entity/Q3537764\"],\"type\":\"scatter\"},{\"hovertemplate\":\"<b>speech disorder</b><extra></extra>\",\"line\":{\"color\":\"gray\",\"width\":1},\"marker\":{\"color\":\"gray\",\"size\":10,\"symbol\":\"circle\"},\"mode\":\"lines+markers+text\",\"text\":[\"speech disorder\"],\"textposition\":\"middle center\",\"x\":[55,10],\"y\":[\"Q160796\",\"http://www.wikidata.org/entity/Q1282114\"],\"type\":\"scatter\"},{\"hovertemplate\":\"<b>photophobia</b><extra></extra>\",\"line\":{\"color\":\"gray\",\"width\":1},\"marker\":{\"color\":\"gray\",\"size\":10,\"symbol\":\"circle\"},\"mode\":\"lines+markers+text\",\"text\":[\"photophobia\"],\"textposition\":\"middle center\",\"x\":[71,73],\"y\":[\"Q166907\",\"http://www.wikidata.org/entity/Q281289\"],\"type\":\"scatter\"},{\"hovertemplate\":\"<b>photophobia</b><extra></extra>\",\"line\":{\"color\":\"gray\",\"width\":1},\"marker\":{\"color\":\"gray\",\"size\":10,\"symbol\":\"circle\"},\"mode\":\"lines+markers+text\",\"text\":[\"photophobia\"],\"textposition\":\"middle center\",\"x\":[39,73],\"y\":[\"Q133823\",\"http://www.wikidata.org/entity/Q281289\"],\"type\":\"scatter\"},{\"hovertemplate\":\"<b>hypersalivation</b><extra></extra>\",\"line\":{\"color\":\"gray\",\"width\":1},\"marker\":{\"color\":\"gray\",\"size\":10,\"symbol\":\"circle\"},\"mode\":\"lines+markers+text\",\"text\":[\"hypersalivation\"],\"textposition\":\"middle center\",\"x\":[38,29],\"y\":[\"Q39222\",\"http://www.wikidata.org/entity/Q761862\"],\"type\":\"scatter\"},{\"hovertemplate\":\"<b>hyperactivity</b><extra></extra>\",\"line\":{\"color\":\"gray\",\"width\":1},\"marker\":{\"color\":\"gray\",\"size\":10,\"symbol\":\"circle\"},\"mode\":\"lines+markers+text\",\"text\":[\"hyperactivity\"],\"textposition\":\"middle center\",\"x\":[38,83],\"y\":[\"Q39222\",\"http://www.wikidata.org/entity/Q1640850\"],\"type\":\"scatter\"}],                        {\"template\":{\"data\":{\"histogram2dcontour\":[{\"type\":\"histogram2dcontour\",\"colorbar\":{\"outlinewidth\":0,\"ticks\":\"\"},\"colorscale\":[[0.0,\"#0d0887\"],[0.1111111111111111,\"#46039f\"],[0.2222222222222222,\"#7201a8\"],[0.3333333333333333,\"#9c179e\"],[0.4444444444444444,\"#bd3786\"],[0.5555555555555556,\"#d8576b\"],[0.6666666666666666,\"#ed7953\"],[0.7777777777777778,\"#fb9f3a\"],[0.8888888888888888,\"#fdca26\"],[1.0,\"#f0f921\"]]}],\"choropleth\":[{\"type\":\"choropleth\",\"colorbar\":{\"outlinewidth\":0,\"ticks\":\"\"}}],\"histogram2d\":[{\"type\":\"histogram2d\",\"colorbar\":{\"outlinewidth\":0,\"ticks\":\"\"},\"colorscale\":[[0.0,\"#0d0887\"],[0.1111111111111111,\"#46039f\"],[0.2222222222222222,\"#7201a8\"],[0.3333333333333333,\"#9c179e\"],[0.4444444444444444,\"#bd3786\"],[0.5555555555555556,\"#d8576b\"],[0.6666666666666666,\"#ed7953\"],[0.7777777777777778,\"#fb9f3a\"],[0.8888888888888888,\"#fdca26\"],[1.0,\"#f0f921\"]]}],\"heatmap\":[{\"type\":\"heatmap\",\"colorbar\":{\"outlinewidth\":0,\"ticks\":\"\"},\"colorscale\":[[0.0,\"#0d0887\"],[0.1111111111111111,\"#46039f\"],[0.2222222222222222,\"#7201a8\"],[0.3333333333333333,\"#9c179e\"],[0.4444444444444444,\"#bd3786\"],[0.5555555555555556,\"#d8576b\"],[0.6666666666666666,\"#ed7953\"],[0.7777777777777778,\"#fb9f3a\"],[0.8888888888888888,\"#fdca26\"],[1.0,\"#f0f921\"]]}],\"heatmapgl\":[{\"type\":\"heatmapgl\",\"colorbar\":{\"outlinewidth\":0,\"ticks\":\"\"},\"colorscale\":[[0.0,\"#0d0887\"],[0.1111111111111111,\"#46039f\"],[0.2222222222222222,\"#7201a8\"],[0.3333333333333333,\"#9c179e\"],[0.4444444444444444,\"#bd3786\"],[0.5555555555555556,\"#d8576b\"],[0.6666666666666666,\"#ed7953\"],[0.7777777777777778,\"#fb9f3a\"],[0.8888888888888888,\"#fdca26\"],[1.0,\"#f0f921\"]]}],\"contourcarpet\":[{\"type\":\"contourcarpet\",\"colorbar\":{\"outlinewidth\":0,\"ticks\":\"\"}}],\"contour\":[{\"type\":\"contour\",\"colorbar\":{\"outlinewidth\":0,\"ticks\":\"\"},\"colorscale\":[[0.0,\"#0d0887\"],[0.1111111111111111,\"#46039f\"],[0.2222222222222222,\"#7201a8\"],[0.3333333333333333,\"#9c179e\"],[0.4444444444444444,\"#bd3786\"],[0.5555555555555556,\"#d8576b\"],[0.6666666666666666,\"#ed7953\"],[0.7777777777777778,\"#fb9f3a\"],[0.8888888888888888,\"#fdca26\"],[1.0,\"#f0f921\"]]}],\"surface\":[{\"type\":\"surface\",\"colorbar\":{\"outlinewidth\":0,\"ticks\":\"\"},\"colorscale\":[[0.0,\"#0d0887\"],[0.1111111111111111,\"#46039f\"],[0.2222222222222222,\"#7201a8\"],[0.3333333333333333,\"#9c179e\"],[0.4444444444444444,\"#bd3786\"],[0.5555555555555556,\"#d8576b\"],[0.6666666666666666,\"#ed7953\"],[0.7777777777777778,\"#fb9f3a\"],[0.8888888888888888,\"#fdca26\"],[1.0,\"#f0f921\"]]}],\"mesh3d\":[{\"type\":\"mesh3d\",\"colorbar\":{\"outlinewidth\":0,\"ticks\":\"\"}}],\"scatter\":[{\"fillpattern\":{\"fillmode\":\"overlay\",\"size\":10,\"solidity\":0.2},\"type\":\"scatter\"}],\"parcoords\":[{\"type\":\"parcoords\",\"line\":{\"colorbar\":{\"outlinewidth\":0,\"ticks\":\"\"}}}],\"scatterpolargl\":[{\"type\":\"scatterpolargl\",\"marker\":{\"colorbar\":{\"outlinewidth\":0,\"ticks\":\"\"}}}],\"bar\":[{\"error_x\":{\"color\":\"#2a3f5f\"},\"error_y\":{\"color\":\"#2a3f5f\"},\"marker\":{\"line\":{\"color\":\"#E5ECF6\",\"width\":0.5},\"pattern\":{\"fillmode\":\"overlay\",\"size\":10,\"solidity\":0.2}},\"type\":\"bar\"}],\"scattergeo\":[{\"type\":\"scattergeo\",\"marker\":{\"colorbar\":{\"outlinewidth\":0,\"ticks\":\"\"}}}],\"scatterpolar\":[{\"type\":\"scatterpolar\",\"marker\":{\"colorbar\":{\"outlinewidth\":0,\"ticks\":\"\"}}}],\"histogram\":[{\"marker\":{\"pattern\":{\"fillmode\":\"overlay\",\"size\":10,\"solidity\":0.2}},\"type\":\"histogram\"}],\"scattergl\":[{\"type\":\"scattergl\",\"marker\":{\"colorbar\":{\"outlinewidth\":0,\"ticks\":\"\"}}}],\"scatter3d\":[{\"type\":\"scatter3d\",\"line\":{\"colorbar\":{\"outlinewidth\":0,\"ticks\":\"\"}},\"marker\":{\"colorbar\":{\"outlinewidth\":0,\"ticks\":\"\"}}}],\"scattermapbox\":[{\"type\":\"scattermapbox\",\"marker\":{\"colorbar\":{\"outlinewidth\":0,\"ticks\":\"\"}}}],\"scatterternary\":[{\"type\":\"scatterternary\",\"marker\":{\"colorbar\":{\"outlinewidth\":0,\"ticks\":\"\"}}}],\"scattercarpet\":[{\"type\":\"scattercarpet\",\"marker\":{\"colorbar\":{\"outlinewidth\":0,\"ticks\":\"\"}}}],\"carpet\":[{\"aaxis\":{\"endlinecolor\":\"#2a3f5f\",\"gridcolor\":\"white\",\"linecolor\":\"white\",\"minorgridcolor\":\"white\",\"startlinecolor\":\"#2a3f5f\"},\"baxis\":{\"endlinecolor\":\"#2a3f5f\",\"gridcolor\":\"white\",\"linecolor\":\"white\",\"minorgridcolor\":\"white\",\"startlinecolor\":\"#2a3f5f\"},\"type\":\"carpet\"}],\"table\":[{\"cells\":{\"fill\":{\"color\":\"#EBF0F8\"},\"line\":{\"color\":\"white\"}},\"header\":{\"fill\":{\"color\":\"#C8D4E3\"},\"line\":{\"color\":\"white\"}},\"type\":\"table\"}],\"barpolar\":[{\"marker\":{\"line\":{\"color\":\"#E5ECF6\",\"width\":0.5},\"pattern\":{\"fillmode\":\"overlay\",\"size\":10,\"solidity\":0.2}},\"type\":\"barpolar\"}],\"pie\":[{\"automargin\":true,\"type\":\"pie\"}]},\"layout\":{\"autotypenumbers\":\"strict\",\"colorway\":[\"#636efa\",\"#EF553B\",\"#00cc96\",\"#ab63fa\",\"#FFA15A\",\"#19d3f3\",\"#FF6692\",\"#B6E880\",\"#FF97FF\",\"#FECB52\"],\"font\":{\"color\":\"#2a3f5f\"},\"hovermode\":\"closest\",\"hoverlabel\":{\"align\":\"left\"},\"paper_bgcolor\":\"white\",\"plot_bgcolor\":\"#E5ECF6\",\"polar\":{\"bgcolor\":\"#E5ECF6\",\"angularaxis\":{\"gridcolor\":\"white\",\"linecolor\":\"white\",\"ticks\":\"\"},\"radialaxis\":{\"gridcolor\":\"white\",\"linecolor\":\"white\",\"ticks\":\"\"}},\"ternary\":{\"bgcolor\":\"#E5ECF6\",\"aaxis\":{\"gridcolor\":\"white\",\"linecolor\":\"white\",\"ticks\":\"\"},\"baxis\":{\"gridcolor\":\"white\",\"linecolor\":\"white\",\"ticks\":\"\"},\"caxis\":{\"gridcolor\":\"white\",\"linecolor\":\"white\",\"ticks\":\"\"}},\"coloraxis\":{\"colorbar\":{\"outlinewidth\":0,\"ticks\":\"\"}},\"colorscale\":{\"sequential\":[[0.0,\"#0d0887\"],[0.1111111111111111,\"#46039f\"],[0.2222222222222222,\"#7201a8\"],[0.3333333333333333,\"#9c179e\"],[0.4444444444444444,\"#bd3786\"],[0.5555555555555556,\"#d8576b\"],[0.6666666666666666,\"#ed7953\"],[0.7777777777777778,\"#fb9f3a\"],[0.8888888888888888,\"#fdca26\"],[1.0,\"#f0f921\"]],\"sequentialminus\":[[0.0,\"#0d0887\"],[0.1111111111111111,\"#46039f\"],[0.2222222222222222,\"#7201a8\"],[0.3333333333333333,\"#9c179e\"],[0.4444444444444444,\"#bd3786\"],[0.5555555555555556,\"#d8576b\"],[0.6666666666666666,\"#ed7953\"],[0.7777777777777778,\"#fb9f3a\"],[0.8888888888888888,\"#fdca26\"],[1.0,\"#f0f921\"]],\"diverging\":[[0,\"#8e0152\"],[0.1,\"#c51b7d\"],[0.2,\"#de77ae\"],[0.3,\"#f1b6da\"],[0.4,\"#fde0ef\"],[0.5,\"#f7f7f7\"],[0.6,\"#e6f5d0\"],[0.7,\"#b8e186\"],[0.8,\"#7fbc41\"],[0.9,\"#4d9221\"],[1,\"#276419\"]]},\"xaxis\":{\"gridcolor\":\"white\",\"linecolor\":\"white\",\"ticks\":\"\",\"title\":{\"standoff\":15},\"zerolinecolor\":\"white\",\"automargin\":true,\"zerolinewidth\":2},\"yaxis\":{\"gridcolor\":\"white\",\"linecolor\":\"white\",\"ticks\":\"\",\"title\":{\"standoff\":15},\"zerolinecolor\":\"white\",\"automargin\":true,\"zerolinewidth\":2},\"scene\":{\"xaxis\":{\"backgroundcolor\":\"#E5ECF6\",\"gridcolor\":\"white\",\"linecolor\":\"white\",\"showbackground\":true,\"ticks\":\"\",\"zerolinecolor\":\"white\",\"gridwidth\":2},\"yaxis\":{\"backgroundcolor\":\"#E5ECF6\",\"gridcolor\":\"white\",\"linecolor\":\"white\",\"showbackground\":true,\"ticks\":\"\",\"zerolinecolor\":\"white\",\"gridwidth\":2},\"zaxis\":{\"backgroundcolor\":\"#E5ECF6\",\"gridcolor\":\"white\",\"linecolor\":\"white\",\"showbackground\":true,\"ticks\":\"\",\"zerolinecolor\":\"white\",\"gridwidth\":2}},\"shapedefaults\":{\"line\":{\"color\":\"#2a3f5f\"}},\"annotationdefaults\":{\"arrowcolor\":\"#2a3f5f\",\"arrowhead\":0,\"arrowwidth\":1},\"geo\":{\"bgcolor\":\"white\",\"landcolor\":\"#E5ECF6\",\"subunitcolor\":\"white\",\"showland\":true,\"showlakes\":true,\"lakecolor\":\"white\"},\"title\":{\"x\":0.05},\"mapbox\":{\"style\":\"light\"}}},\"xaxis\":{\"showgrid\":false,\"zeroline\":false,\"showticklabels\":false},\"yaxis\":{\"showgrid\":false,\"zeroline\":false,\"showticklabels\":false},\"margin\":{\"t\":20,\"b\":20,\"l\":20,\"r\":20},\"showlegend\":false,\"hovermode\":\"closest\",\"height\":600,\"clickmode\":\"event+select\"},                        {\"responsive\": true}                    ).then(function(){\n                            \nvar gd = document.getElementById('cb05b0e1-68c9-401f-9308-165aea580f96');\nvar x = new MutationObserver(function (mutations, observer) {{\n        var display = window.getComputedStyle(gd).display;\n        if (!display || display === 'none') {{\n            console.log([gd, 'removed!']);\n            Plotly.purge(gd);\n            observer.disconnect();\n        }}\n}});\n\n// Listen for the removal of the full notebook cells\nvar notebookContainer = gd.closest('#notebook-container');\nif (notebookContainer) {{\n    x.observe(notebookContainer, {childList: true});\n}}\n\n// Listen for the clearing of the current output cell\nvar outputEl = gd.closest('.output');\nif (outputEl) {{\n    x.observe(outputEl, {childList: true});\n}}\n\n                        })                };                });            </script>        </div>"
     },
     "metadata": {},
     "output_type": "display_data"
    }
   ],
   "source": [
    "import plotly.graph_objects as go\n",
    "\n",
    "# Führen Sie die SPARQL-Abfrage aus, um die Beziehungen zwischen den Krankheiten zu erhalten\n",
    "\n",
    "# Erstellen Sie eine Liste von Knoten (Krankheiten) und Kanten (Beziehungen zwischen den Krankheiten)\n",
    "nodes = []\n",
    "edges = []\n",
    "for disease1 in disease_symptom_dict:\n",
    "    for disease2, symptom in disease_symptom_dict[disease1]:\n",
    "        nodes.append(disease1)\n",
    "        nodes.append(disease2)\n",
    "        edges.append((disease1, disease2, symptom))\n",
    "\n",
    "# Entfernen Sie doppelte Knoten und Kanten\n",
    "nodes = list(set(nodes))\n",
    "edges = list(set(edges))\n",
    "\n",
    "# Erstellen Sie das Plotly-Figure-Objekt\n",
    "fig = go.Figure()\n",
    "\n",
    "# Fügen Sie jeden Knoten (Krankheit) zum Figure-Objekt hinzu\n",
    "for node in nodes:\n",
    "    fig.add_trace(go.Scatter(\n",
    "        x=[0],\n",
    "        y=[node],\n",
    "        mode=\"markers+text\",\n",
    "        marker=dict(size=30, color='lightblue'),\n",
    "        text=[node],\n",
    "        textposition=\"middle center\",\n",
    "        hovertemplate=\"<b>%{text}</b><extra></extra>\"\n",
    "    ))\n",
    "\n",
    "# Fügen Sie jede Kante (Beziehung zwischen Krankheiten) zum Figure-Objekt hinzu\n",
    "for edge in edges:\n",
    "    fig.add_trace(go.Scatter(\n",
    "        x=[nodes.index(edge[0]), nodes.index(edge[1])],\n",
    "        y=[edge[0], edge[1]],\n",
    "        mode=\"lines+markers+text\",\n",
    "        line=dict(color='gray', width=1),\n",
    "        marker=dict(symbol='circle', size=10, color='gray'),\n",
    "        text=[edge[2]],\n",
    "        textposition=\"middle center\",\n",
    "        hovertemplate=f\"<b>{edge[2]}</b><extra></extra>\"\n",
    "    ))\n",
    "\n",
    "# Einstellungen der Layout-Optionen\n",
    "fig.update_layout(\n",
    "    showlegend=False,\n",
    "    hovermode='closest',\n",
    "    xaxis=dict(showgrid=False, zeroline=False, showticklabels=False),\n",
    "    yaxis=dict(showgrid=False, zeroline=False, showticklabels=False),\n",
    "    margin=dict(t=20, b=20, l=20, r=20),\n",
    "    height=600,\n",
    "    clickmode='event+select'\n",
    ")\n",
    "\n",
    "# Anzeigen des interaktiven Netzwerkdiagramms\n",
    "fig.show()"
   ],
   "metadata": {
    "collapsed": false,
    "pycharm": {
     "name": "#%%\n"
    }
   }
  },
  {
   "cell_type": "code",
   "execution_count": null,
   "outputs": [],
   "source": [],
   "metadata": {
    "collapsed": false,
    "pycharm": {
     "name": "#%%\n"
    }
   }
  }
 ],
 "metadata": {
  "kernelspec": {
   "display_name": "Python 3",
   "language": "python",
   "name": "python3"
  },
  "language_info": {
   "codemirror_mode": {
    "name": "ipython",
    "version": 2
   },
   "file_extension": ".py",
   "mimetype": "text/x-python",
   "name": "python",
   "nbconvert_exporter": "python",
   "pygments_lexer": "ipython2",
   "version": "2.7.6"
  }
 },
 "nbformat": 4,
 "nbformat_minor": 0
}