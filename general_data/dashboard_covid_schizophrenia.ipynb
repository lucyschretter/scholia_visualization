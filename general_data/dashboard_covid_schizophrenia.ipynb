{
 "cells": [
  {
   "cell_type": "markdown",
   "metadata": {
    "collapsed": true,
    "pycharm": {
     "name": "#%% md\n"
    }
   },
   "source": [
    "Import libraries"
   ]
  },
  {
   "cell_type": "code",
   "execution_count": 1,
   "outputs": [
    {
     "name": "stderr",
     "output_type": "stream",
     "text": [
      "C:\\Users\\lucys\\AppData\\Local\\Temp\\ipykernel_23656\\1544139445.py:2: UserWarning: \n",
      "The dash_core_components package is deprecated. Please replace\n",
      "`import dash_core_components as dcc` with `from dash import dcc`\n",
      "  import dash_core_components as dcc\n",
      "C:\\Users\\lucys\\AppData\\Local\\Temp\\ipykernel_23656\\1544139445.py:3: UserWarning: \n",
      "The dash_html_components package is deprecated. Please replace\n",
      "`import dash_html_components as html` with `from dash import html`\n",
      "  import dash_html_components as html\n"
     ]
    }
   ],
   "source": [
    "import dash\n",
    "import dash_core_components as dcc\n",
    "import dash_html_components as html\n",
    "from dash.dependencies import Output, Input\n",
    "import dash_bootstrap_components as dbc\n",
    "import pandas as pd\n",
    "import plotly.express as px"
   ],
   "metadata": {
    "collapsed": false,
    "pycharm": {
     "name": "#%%\n"
    }
   }
  },
  {
   "cell_type": "markdown",
   "source": [
    "Get Dataframe from COVID data"
   ],
   "metadata": {
    "collapsed": false,
    "pycharm": {
     "name": "#%% md\n"
    }
   }
  },
  {
   "cell_type": "code",
   "execution_count": 2,
   "outputs": [],
   "source": [
    "import SPARQLWrapper\n",
    "\n",
    "sparql = SPARQLWrapper.SPARQLWrapper(\"https://query.wikidata.org/sparql\")\n",
    "\n",
    "query_covid = '''\n",
    "PREFIX target: <http://www.wikidata.org/entity/Q84263196>\n",
    "\n",
    "SELECT\n",
    "  ?count\n",
    "  ?gene_count\n",
    "  ?symptom_count\n",
    "  ?disease ?diseaseLabel\n",
    "  ?genes\n",
    "  ?symptoms\n",
    "{\n",
    "  {\n",
    "    SELECT ?disease (COUNT(?gene) AS ?gene_count) (GROUP_CONCAT(?gene_label; separator=\" // \") AS ?genes) WHERE {\n",
    "      target: wdt:P2293 ?gene .\n",
    "      ?gene wdt:P2293 ?disease .\n",
    "      FILTER (target: != ?disease)\n",
    "      ?gene rdfs:label ?gene_label\n",
    "      FILTER(lang(?gene_label) = \"en\")\n",
    "    }\n",
    "    GROUP BY ?disease\n",
    "  }\n",
    "  UNION\n",
    "  {\n",
    "    SELECT\n",
    "      ?disease (COUNT(?symptom) AS ?symptom_count) (GROUP_CONCAT(?symptom_label; separator=\" // \") AS ?symptoms)\n",
    "    {\n",
    "      target: wdt:P780 ?symptom .\n",
    "      ?disease wdt:P780 ?symptom .\n",
    "      FILTER (target: != ?disease)\n",
    "      ?symptom rdfs:label ?symptom_label . FILTER(lang(?symptom_label) = \"en\")\n",
    "    }\n",
    "    GROUP BY ?disease\n",
    "  }\n",
    "\n",
    "  # Aggregate count\n",
    "  BIND((COALESCE(?symptom_count, 0) + COALESCE(?gene_count, 0)) AS ?count)\n",
    "\n",
    "  SERVICE wikibase:label { bd:serviceParam wikibase:language \"en\". }\n",
    "}\n",
    "ORDER BY DESC(?count)\n",
    "'''\n",
    "\n",
    "sparql.setQuery(query_covid)\n",
    "sparql.setReturnFormat(SPARQLWrapper.JSON)\n",
    "results_covid = sparql.query().convert()\n",
    "\n",
    "reformatted_dict_covid = {}\n",
    "\n",
    "entities_covid = []\n",
    "result_list_covid = results_covid['results']['bindings']\n",
    "for res in result_list_covid:\n",
    "    for res_key, res_value in res.items():\n",
    "        if res_key == 'disease':\n",
    "            uri = res_value['value']\n",
    "            splitted_uri = uri.split('/')\n",
    "            entity_id = splitted_uri[-1]\n",
    "            entities_covid.append(entity_id)\n",
    "            reformatted_dict_covid[entity_id] = res\n",
    "\n",
    "df_covid = pd.DataFrame.from_dict(reformatted_dict_covid)\n",
    "df_covid = df_covid.transpose()\n",
    "# print(df.columns)"
   ],
   "metadata": {
    "collapsed": false,
    "pycharm": {
     "name": "#%%\n"
    }
   }
  },
  {
   "cell_type": "code",
   "execution_count": 3,
   "outputs": [],
   "source": [
    "# extract data from dictionaries\n",
    "df_covid = df_covid.apply(lambda x: x.apply(lambda y: y['value'] if type(y) == dict else y))\n",
    "\n",
    "for index, row in df_covid.iterrows():\n",
    "    row['symptoms'] = row['symptoms'].split(' // ')"
   ],
   "metadata": {
    "collapsed": false,
    "pycharm": {
     "name": "#%%\n"
    }
   }
  },
  {
   "cell_type": "code",
   "execution_count": 4,
   "outputs": [
    {
     "data": {
      "text/plain": "                                            disease symptom_count  \\\nQ21396183  http://www.wikidata.org/entity/Q21396183            11   \nQ6137239    http://www.wikidata.org/entity/Q6137239             9   \nQ1432397    http://www.wikidata.org/entity/Q1432397             9   \nQ21173343  http://www.wikidata.org/entity/Q21173343             9   \nQ21173341  http://www.wikidata.org/entity/Q21173341             9   \n...                                             ...           ...   \nQ21174190  http://www.wikidata.org/entity/Q21174190             1   \nQ21174168  http://www.wikidata.org/entity/Q21174168             1   \nQ21174156  http://www.wikidata.org/entity/Q21174156             1   \nQ21174149  http://www.wikidata.org/entity/Q21174149             1   \nQ21174120  http://www.wikidata.org/entity/Q21174120             1   \n\n                                                    symptoms  \\\nQ21396183  [headache, nausea, cough, dyspnea, anorexia, f...   \nQ6137239   [headache, cough, dyspnea, fever, myalgia, chi...   \nQ1432397   [headache, cough, fever, myalgia, chills, diar...   \nQ21173343  [headache, anemia, nausea, cough, anosmia, dys...   \nQ21173341  [headache, anemia, nausea, cough, anosmia, dys...   \n...                                                      ...   \nQ21174190                                         [headache]   \nQ21174168                                         [headache]   \nQ21174156                                         [headache]   \nQ21174149                                         [headache]   \nQ21174120                                         [headache]   \n\n                              diseaseLabel count  \nQ21396183       arsenic pentoxide exposure    11  \nQ6137239     hantavirus pulmonary syndrome     9  \nQ1432397           Kyasanur forest disease     9  \nQ21173343           cadmium oxide exposure     9  \nQ21173341            cadmium dust exposure     9  \n...                                    ...   ...  \nQ21174190       Diisobutyl ketone exposure     1  \nQ21174168     1,3-Dichloropropene exposure     1  \nQ21174156  3,3'-Dichlorobenzidine exposure     1  \nQ21174149       Dibutyl phosphate exposure     1  \nQ21174120           cyclohexanone exposure     1  \n\n[858 rows x 5 columns]",
      "text/html": "<div>\n<style scoped>\n    .dataframe tbody tr th:only-of-type {\n        vertical-align: middle;\n    }\n\n    .dataframe tbody tr th {\n        vertical-align: top;\n    }\n\n    .dataframe thead th {\n        text-align: right;\n    }\n</style>\n<table border=\"1\" class=\"dataframe\">\n  <thead>\n    <tr style=\"text-align: right;\">\n      <th></th>\n      <th>disease</th>\n      <th>symptom_count</th>\n      <th>symptoms</th>\n      <th>diseaseLabel</th>\n      <th>count</th>\n    </tr>\n  </thead>\n  <tbody>\n    <tr>\n      <th>Q21396183</th>\n      <td>http://www.wikidata.org/entity/Q21396183</td>\n      <td>11</td>\n      <td>[headache, nausea, cough, dyspnea, anorexia, f...</td>\n      <td>arsenic pentoxide exposure</td>\n      <td>11</td>\n    </tr>\n    <tr>\n      <th>Q6137239</th>\n      <td>http://www.wikidata.org/entity/Q6137239</td>\n      <td>9</td>\n      <td>[headache, cough, dyspnea, fever, myalgia, chi...</td>\n      <td>hantavirus pulmonary syndrome</td>\n      <td>9</td>\n    </tr>\n    <tr>\n      <th>Q1432397</th>\n      <td>http://www.wikidata.org/entity/Q1432397</td>\n      <td>9</td>\n      <td>[headache, cough, fever, myalgia, chills, diar...</td>\n      <td>Kyasanur forest disease</td>\n      <td>9</td>\n    </tr>\n    <tr>\n      <th>Q21173343</th>\n      <td>http://www.wikidata.org/entity/Q21173343</td>\n      <td>9</td>\n      <td>[headache, anemia, nausea, cough, anosmia, dys...</td>\n      <td>cadmium oxide exposure</td>\n      <td>9</td>\n    </tr>\n    <tr>\n      <th>Q21173341</th>\n      <td>http://www.wikidata.org/entity/Q21173341</td>\n      <td>9</td>\n      <td>[headache, anemia, nausea, cough, anosmia, dys...</td>\n      <td>cadmium dust exposure</td>\n      <td>9</td>\n    </tr>\n    <tr>\n      <th>...</th>\n      <td>...</td>\n      <td>...</td>\n      <td>...</td>\n      <td>...</td>\n      <td>...</td>\n    </tr>\n    <tr>\n      <th>Q21174190</th>\n      <td>http://www.wikidata.org/entity/Q21174190</td>\n      <td>1</td>\n      <td>[headache]</td>\n      <td>Diisobutyl ketone exposure</td>\n      <td>1</td>\n    </tr>\n    <tr>\n      <th>Q21174168</th>\n      <td>http://www.wikidata.org/entity/Q21174168</td>\n      <td>1</td>\n      <td>[headache]</td>\n      <td>1,3-Dichloropropene exposure</td>\n      <td>1</td>\n    </tr>\n    <tr>\n      <th>Q21174156</th>\n      <td>http://www.wikidata.org/entity/Q21174156</td>\n      <td>1</td>\n      <td>[headache]</td>\n      <td>3,3'-Dichlorobenzidine exposure</td>\n      <td>1</td>\n    </tr>\n    <tr>\n      <th>Q21174149</th>\n      <td>http://www.wikidata.org/entity/Q21174149</td>\n      <td>1</td>\n      <td>[headache]</td>\n      <td>Dibutyl phosphate exposure</td>\n      <td>1</td>\n    </tr>\n    <tr>\n      <th>Q21174120</th>\n      <td>http://www.wikidata.org/entity/Q21174120</td>\n      <td>1</td>\n      <td>[headache]</td>\n      <td>cyclohexanone exposure</td>\n      <td>1</td>\n    </tr>\n  </tbody>\n</table>\n<p>858 rows × 5 columns</p>\n</div>"
     },
     "execution_count": 4,
     "metadata": {},
     "output_type": "execute_result"
    }
   ],
   "source": [
    "df_covid\n"
   ],
   "metadata": {
    "collapsed": false,
    "pycharm": {
     "name": "#%%\n"
    }
   }
  },
  {
   "cell_type": "code",
   "execution_count": 5,
   "outputs": [],
   "source": [
    "# get second dataframe with schizophrenia data\n",
    "\n",
    "sparql_schiz = SPARQLWrapper.SPARQLWrapper(\"https://query.wikidata.org/sparql\")\n",
    "\n",
    "query_schiz = '''\n",
    "PREFIX target: <http://www.wikidata.org/entity/Q41112>\n",
    "\n",
    "SELECT\n",
    "  ?count\n",
    "  ?gene_count\n",
    "  ?symptom_count\n",
    "  ?disease ?diseaseLabel\n",
    "  ?genes\n",
    "  ?symptoms\n",
    "{\n",
    "  {\n",
    "    SELECT ?disease (COUNT(?gene) AS ?gene_count) (GROUP_CONCAT(?gene_label; separator=\" // \") AS ?genes) WHERE {\n",
    "      target: wdt:P2293 ?gene .\n",
    "      ?gene wdt:P2293 ?disease .\n",
    "      FILTER (target: != ?disease)\n",
    "      ?gene rdfs:label ?gene_label\n",
    "      FILTER(lang(?gene_label) = \"en\")\n",
    "    }\n",
    "    GROUP BY ?disease\n",
    "  }\n",
    "  UNION\n",
    "  {\n",
    "    SELECT\n",
    "      ?disease (COUNT(?symptom) AS ?symptom_count) (GROUP_CONCAT(?symptom_label; separator=\" // \") AS ?symptoms)\n",
    "    {\n",
    "      target: wdt:P780 ?symptom .\n",
    "      ?disease wdt:P780 ?symptom .\n",
    "      FILTER (target: != ?disease)\n",
    "      ?symptom rdfs:label ?symptom_label . FILTER(lang(?symptom_label) = \"en\")\n",
    "    }\n",
    "    GROUP BY ?disease\n",
    "  }\n",
    "\n",
    "  # Aggregate count\n",
    "  BIND((COALESCE(?symptom_count, 0) + COALESCE(?gene_count, 0)) AS ?count)\n",
    "\n",
    "  SERVICE wikibase:label { bd:serviceParam wikibase:language \"en\". }\n",
    "}\n",
    "ORDER BY DESC(?count)\n",
    "'''\n",
    "\n",
    "sparql_schiz.setQuery(query_covid)\n",
    "sparql_schiz.setReturnFormat(SPARQLWrapper.JSON)\n",
    "results_schiz = sparql_schiz.query().convert()\n",
    "\n",
    "reformatted_dict_schiz = {}\n",
    "\n",
    "entities_schiz = []\n",
    "result_list_schiz = results_schiz['results']['bindings']\n",
    "for res in result_list_schiz:\n",
    "    for res_key, res_value in res.items():\n",
    "        if res_key == 'disease':\n",
    "            uri = res_value['value']\n",
    "            splitted_uri = uri.split('/')\n",
    "            entity_id = splitted_uri[-1]\n",
    "            entities_covid.append(entity_id)\n",
    "            reformatted_dict_schiz[entity_id] = res\n",
    "\n",
    "df_schiz = pd.DataFrame.from_dict(reformatted_dict_schiz)\n",
    "df_schiz = df_schiz.transpose()"
   ],
   "metadata": {
    "collapsed": false,
    "pycharm": {
     "name": "#%%\n"
    }
   }
  },
  {
   "cell_type": "code",
   "execution_count": 6,
   "outputs": [
    {
     "data": {
      "text/plain": "                                                     disease  \\\nQ21396183  {'type': 'uri', 'value': 'http://www.wikidata....   \nQ6137239   {'type': 'uri', 'value': 'http://www.wikidata....   \nQ1432397   {'type': 'uri', 'value': 'http://www.wikidata....   \nQ706845    {'type': 'uri', 'value': 'http://www.wikidata....   \nQ154874    {'type': 'uri', 'value': 'http://www.wikidata....   \n...                                                      ...   \nQ21174190  {'type': 'uri', 'value': 'http://www.wikidata....   \nQ21174168  {'type': 'uri', 'value': 'http://www.wikidata....   \nQ21174156  {'type': 'uri', 'value': 'http://www.wikidata....   \nQ21174149  {'type': 'uri', 'value': 'http://www.wikidata....   \nQ21174120  {'type': 'uri', 'value': 'http://www.wikidata....   \n\n                                               symptom_count  \\\nQ21396183  {'datatype': 'http://www.w3.org/2001/XMLSchema...   \nQ6137239   {'datatype': 'http://www.w3.org/2001/XMLSchema...   \nQ1432397   {'datatype': 'http://www.w3.org/2001/XMLSchema...   \nQ706845    {'datatype': 'http://www.w3.org/2001/XMLSchema...   \nQ154874    {'datatype': 'http://www.w3.org/2001/XMLSchema...   \n...                                                      ...   \nQ21174190  {'datatype': 'http://www.w3.org/2001/XMLSchema...   \nQ21174168  {'datatype': 'http://www.w3.org/2001/XMLSchema...   \nQ21174156  {'datatype': 'http://www.w3.org/2001/XMLSchema...   \nQ21174149  {'datatype': 'http://www.w3.org/2001/XMLSchema...   \nQ21174120  {'datatype': 'http://www.w3.org/2001/XMLSchema...   \n\n                                                    symptoms  \\\nQ21396183  {'type': 'literal', 'value': 'headache // naus...   \nQ6137239   {'type': 'literal', 'value': 'headache // coug...   \nQ1432397   {'type': 'literal', 'value': 'headache // coug...   \nQ706845    {'type': 'literal', 'value': 'headache // fati...   \nQ154874    {'type': 'literal', 'value': 'headache // fati...   \n...                                                      ...   \nQ21174190           {'type': 'literal', 'value': 'headache'}   \nQ21174168           {'type': 'literal', 'value': 'headache'}   \nQ21174156           {'type': 'literal', 'value': 'headache'}   \nQ21174149           {'type': 'literal', 'value': 'headache'}   \nQ21174120           {'type': 'literal', 'value': 'headache'}   \n\n                                                diseaseLabel  \\\nQ21396183  {'xml:lang': 'en', 'type': 'literal', 'value':...   \nQ6137239   {'xml:lang': 'en', 'type': 'literal', 'value':...   \nQ1432397   {'xml:lang': 'en', 'type': 'literal', 'value':...   \nQ706845    {'xml:lang': 'en', 'type': 'literal', 'value':...   \nQ154874    {'xml:lang': 'en', 'type': 'literal', 'value':...   \n...                                                      ...   \nQ21174190  {'xml:lang': 'en', 'type': 'literal', 'value':...   \nQ21174168  {'xml:lang': 'en', 'type': 'literal', 'value':...   \nQ21174156  {'xml:lang': 'en', 'type': 'literal', 'value':...   \nQ21174149  {'xml:lang': 'en', 'type': 'literal', 'value':...   \nQ21174120  {'xml:lang': 'en', 'type': 'literal', 'value':...   \n\n                                                       count  \nQ21396183  {'datatype': 'http://www.w3.org/2001/XMLSchema...  \nQ6137239   {'datatype': 'http://www.w3.org/2001/XMLSchema...  \nQ1432397   {'datatype': 'http://www.w3.org/2001/XMLSchema...  \nQ706845    {'datatype': 'http://www.w3.org/2001/XMLSchema...  \nQ154874    {'datatype': 'http://www.w3.org/2001/XMLSchema...  \n...                                                      ...  \nQ21174190  {'datatype': 'http://www.w3.org/2001/XMLSchema...  \nQ21174168  {'datatype': 'http://www.w3.org/2001/XMLSchema...  \nQ21174156  {'datatype': 'http://www.w3.org/2001/XMLSchema...  \nQ21174149  {'datatype': 'http://www.w3.org/2001/XMLSchema...  \nQ21174120  {'datatype': 'http://www.w3.org/2001/XMLSchema...  \n\n[858 rows x 5 columns]",
      "text/html": "<div>\n<style scoped>\n    .dataframe tbody tr th:only-of-type {\n        vertical-align: middle;\n    }\n\n    .dataframe tbody tr th {\n        vertical-align: top;\n    }\n\n    .dataframe thead th {\n        text-align: right;\n    }\n</style>\n<table border=\"1\" class=\"dataframe\">\n  <thead>\n    <tr style=\"text-align: right;\">\n      <th></th>\n      <th>disease</th>\n      <th>symptom_count</th>\n      <th>symptoms</th>\n      <th>diseaseLabel</th>\n      <th>count</th>\n    </tr>\n  </thead>\n  <tbody>\n    <tr>\n      <th>Q21396183</th>\n      <td>{'type': 'uri', 'value': 'http://www.wikidata....</td>\n      <td>{'datatype': 'http://www.w3.org/2001/XMLSchema...</td>\n      <td>{'type': 'literal', 'value': 'headache // naus...</td>\n      <td>{'xml:lang': 'en', 'type': 'literal', 'value':...</td>\n      <td>{'datatype': 'http://www.w3.org/2001/XMLSchema...</td>\n    </tr>\n    <tr>\n      <th>Q6137239</th>\n      <td>{'type': 'uri', 'value': 'http://www.wikidata....</td>\n      <td>{'datatype': 'http://www.w3.org/2001/XMLSchema...</td>\n      <td>{'type': 'literal', 'value': 'headache // coug...</td>\n      <td>{'xml:lang': 'en', 'type': 'literal', 'value':...</td>\n      <td>{'datatype': 'http://www.w3.org/2001/XMLSchema...</td>\n    </tr>\n    <tr>\n      <th>Q1432397</th>\n      <td>{'type': 'uri', 'value': 'http://www.wikidata....</td>\n      <td>{'datatype': 'http://www.w3.org/2001/XMLSchema...</td>\n      <td>{'type': 'literal', 'value': 'headache // coug...</td>\n      <td>{'xml:lang': 'en', 'type': 'literal', 'value':...</td>\n      <td>{'datatype': 'http://www.w3.org/2001/XMLSchema...</td>\n    </tr>\n    <tr>\n      <th>Q706845</th>\n      <td>{'type': 'uri', 'value': 'http://www.wikidata....</td>\n      <td>{'datatype': 'http://www.w3.org/2001/XMLSchema...</td>\n      <td>{'type': 'literal', 'value': 'headache // fati...</td>\n      <td>{'xml:lang': 'en', 'type': 'literal', 'value':...</td>\n      <td>{'datatype': 'http://www.w3.org/2001/XMLSchema...</td>\n    </tr>\n    <tr>\n      <th>Q154874</th>\n      <td>{'type': 'uri', 'value': 'http://www.wikidata....</td>\n      <td>{'datatype': 'http://www.w3.org/2001/XMLSchema...</td>\n      <td>{'type': 'literal', 'value': 'headache // fati...</td>\n      <td>{'xml:lang': 'en', 'type': 'literal', 'value':...</td>\n      <td>{'datatype': 'http://www.w3.org/2001/XMLSchema...</td>\n    </tr>\n    <tr>\n      <th>...</th>\n      <td>...</td>\n      <td>...</td>\n      <td>...</td>\n      <td>...</td>\n      <td>...</td>\n    </tr>\n    <tr>\n      <th>Q21174190</th>\n      <td>{'type': 'uri', 'value': 'http://www.wikidata....</td>\n      <td>{'datatype': 'http://www.w3.org/2001/XMLSchema...</td>\n      <td>{'type': 'literal', 'value': 'headache'}</td>\n      <td>{'xml:lang': 'en', 'type': 'literal', 'value':...</td>\n      <td>{'datatype': 'http://www.w3.org/2001/XMLSchema...</td>\n    </tr>\n    <tr>\n      <th>Q21174168</th>\n      <td>{'type': 'uri', 'value': 'http://www.wikidata....</td>\n      <td>{'datatype': 'http://www.w3.org/2001/XMLSchema...</td>\n      <td>{'type': 'literal', 'value': 'headache'}</td>\n      <td>{'xml:lang': 'en', 'type': 'literal', 'value':...</td>\n      <td>{'datatype': 'http://www.w3.org/2001/XMLSchema...</td>\n    </tr>\n    <tr>\n      <th>Q21174156</th>\n      <td>{'type': 'uri', 'value': 'http://www.wikidata....</td>\n      <td>{'datatype': 'http://www.w3.org/2001/XMLSchema...</td>\n      <td>{'type': 'literal', 'value': 'headache'}</td>\n      <td>{'xml:lang': 'en', 'type': 'literal', 'value':...</td>\n      <td>{'datatype': 'http://www.w3.org/2001/XMLSchema...</td>\n    </tr>\n    <tr>\n      <th>Q21174149</th>\n      <td>{'type': 'uri', 'value': 'http://www.wikidata....</td>\n      <td>{'datatype': 'http://www.w3.org/2001/XMLSchema...</td>\n      <td>{'type': 'literal', 'value': 'headache'}</td>\n      <td>{'xml:lang': 'en', 'type': 'literal', 'value':...</td>\n      <td>{'datatype': 'http://www.w3.org/2001/XMLSchema...</td>\n    </tr>\n    <tr>\n      <th>Q21174120</th>\n      <td>{'type': 'uri', 'value': 'http://www.wikidata....</td>\n      <td>{'datatype': 'http://www.w3.org/2001/XMLSchema...</td>\n      <td>{'type': 'literal', 'value': 'headache'}</td>\n      <td>{'xml:lang': 'en', 'type': 'literal', 'value':...</td>\n      <td>{'datatype': 'http://www.w3.org/2001/XMLSchema...</td>\n    </tr>\n  </tbody>\n</table>\n<p>858 rows × 5 columns</p>\n</div>"
     },
     "execution_count": 6,
     "metadata": {},
     "output_type": "execute_result"
    }
   ],
   "source": [
    "df_schiz"
   ],
   "metadata": {
    "collapsed": false,
    "pycharm": {
     "name": "#%%\n"
    }
   }
  },
  {
   "cell_type": "code",
   "execution_count": 7,
   "outputs": [],
   "source": [
    "# extract data from dictionaries\n",
    "df_schiz = df_schiz.apply(lambda x: x.apply(lambda y: y['value'] if type(y) == dict else y))\n",
    "\n",
    "for index, row in df_schiz.iterrows():\n",
    "    row['symptoms'] = row['symptoms'].split(' // ')"
   ],
   "metadata": {
    "collapsed": false,
    "pycharm": {
     "name": "#%%\n"
    }
   }
  },
  {
   "cell_type": "code",
   "execution_count": 8,
   "outputs": [
    {
     "data": {
      "text/plain": "                                            disease symptom_count  \\\nQ21396183  http://www.wikidata.org/entity/Q21396183            11   \nQ6137239    http://www.wikidata.org/entity/Q6137239             9   \nQ1432397    http://www.wikidata.org/entity/Q1432397             9   \nQ706845      http://www.wikidata.org/entity/Q706845             9   \nQ154874      http://www.wikidata.org/entity/Q154874             9   \n...                                             ...           ...   \nQ21174190  http://www.wikidata.org/entity/Q21174190             1   \nQ21174168  http://www.wikidata.org/entity/Q21174168             1   \nQ21174156  http://www.wikidata.org/entity/Q21174156             1   \nQ21174149  http://www.wikidata.org/entity/Q21174149             1   \nQ21174120  http://www.wikidata.org/entity/Q21174120             1   \n\n                                                    symptoms  \\\nQ21396183  [headache, nausea, cough, dyspnea, anorexia, f...   \nQ6137239   [headache, cough, dyspnea, fever, myalgia, chi...   \nQ1432397   [headache, cough, nausea, fever, myalgia, chil...   \nQ706845    [headache, fatigue, cough, nausea, fever, myal...   \nQ154874    [headache, fatigue, nausea, fever, encephaliti...   \n...                                                      ...   \nQ21174190                                         [headache]   \nQ21174168                                         [headache]   \nQ21174156                                         [headache]   \nQ21174149                                         [headache]   \nQ21174120                                         [headache]   \n\n                              diseaseLabel count  \nQ21396183       arsenic pentoxide exposure    11  \nQ6137239     hantavirus pulmonary syndrome     9  \nQ1432397           Kyasanur forest disease     9  \nQ706845                        Lassa fever     9  \nQ154874                       yellow fever     9  \n...                                    ...   ...  \nQ21174190       Diisobutyl ketone exposure     1  \nQ21174168     1,3-Dichloropropene exposure     1  \nQ21174156  3,3'-Dichlorobenzidine exposure     1  \nQ21174149       Dibutyl phosphate exposure     1  \nQ21174120           cyclohexanone exposure     1  \n\n[858 rows x 5 columns]",
      "text/html": "<div>\n<style scoped>\n    .dataframe tbody tr th:only-of-type {\n        vertical-align: middle;\n    }\n\n    .dataframe tbody tr th {\n        vertical-align: top;\n    }\n\n    .dataframe thead th {\n        text-align: right;\n    }\n</style>\n<table border=\"1\" class=\"dataframe\">\n  <thead>\n    <tr style=\"text-align: right;\">\n      <th></th>\n      <th>disease</th>\n      <th>symptom_count</th>\n      <th>symptoms</th>\n      <th>diseaseLabel</th>\n      <th>count</th>\n    </tr>\n  </thead>\n  <tbody>\n    <tr>\n      <th>Q21396183</th>\n      <td>http://www.wikidata.org/entity/Q21396183</td>\n      <td>11</td>\n      <td>[headache, nausea, cough, dyspnea, anorexia, f...</td>\n      <td>arsenic pentoxide exposure</td>\n      <td>11</td>\n    </tr>\n    <tr>\n      <th>Q6137239</th>\n      <td>http://www.wikidata.org/entity/Q6137239</td>\n      <td>9</td>\n      <td>[headache, cough, dyspnea, fever, myalgia, chi...</td>\n      <td>hantavirus pulmonary syndrome</td>\n      <td>9</td>\n    </tr>\n    <tr>\n      <th>Q1432397</th>\n      <td>http://www.wikidata.org/entity/Q1432397</td>\n      <td>9</td>\n      <td>[headache, cough, nausea, fever, myalgia, chil...</td>\n      <td>Kyasanur forest disease</td>\n      <td>9</td>\n    </tr>\n    <tr>\n      <th>Q706845</th>\n      <td>http://www.wikidata.org/entity/Q706845</td>\n      <td>9</td>\n      <td>[headache, fatigue, cough, nausea, fever, myal...</td>\n      <td>Lassa fever</td>\n      <td>9</td>\n    </tr>\n    <tr>\n      <th>Q154874</th>\n      <td>http://www.wikidata.org/entity/Q154874</td>\n      <td>9</td>\n      <td>[headache, fatigue, nausea, fever, encephaliti...</td>\n      <td>yellow fever</td>\n      <td>9</td>\n    </tr>\n    <tr>\n      <th>...</th>\n      <td>...</td>\n      <td>...</td>\n      <td>...</td>\n      <td>...</td>\n      <td>...</td>\n    </tr>\n    <tr>\n      <th>Q21174190</th>\n      <td>http://www.wikidata.org/entity/Q21174190</td>\n      <td>1</td>\n      <td>[headache]</td>\n      <td>Diisobutyl ketone exposure</td>\n      <td>1</td>\n    </tr>\n    <tr>\n      <th>Q21174168</th>\n      <td>http://www.wikidata.org/entity/Q21174168</td>\n      <td>1</td>\n      <td>[headache]</td>\n      <td>1,3-Dichloropropene exposure</td>\n      <td>1</td>\n    </tr>\n    <tr>\n      <th>Q21174156</th>\n      <td>http://www.wikidata.org/entity/Q21174156</td>\n      <td>1</td>\n      <td>[headache]</td>\n      <td>3,3'-Dichlorobenzidine exposure</td>\n      <td>1</td>\n    </tr>\n    <tr>\n      <th>Q21174149</th>\n      <td>http://www.wikidata.org/entity/Q21174149</td>\n      <td>1</td>\n      <td>[headache]</td>\n      <td>Dibutyl phosphate exposure</td>\n      <td>1</td>\n    </tr>\n    <tr>\n      <th>Q21174120</th>\n      <td>http://www.wikidata.org/entity/Q21174120</td>\n      <td>1</td>\n      <td>[headache]</td>\n      <td>cyclohexanone exposure</td>\n      <td>1</td>\n    </tr>\n  </tbody>\n</table>\n<p>858 rows × 5 columns</p>\n</div>"
     },
     "execution_count": 8,
     "metadata": {},
     "output_type": "execute_result"
    }
   ],
   "source": [
    "df_schiz"
   ],
   "metadata": {
    "collapsed": false,
    "pycharm": {
     "name": "#%%\n"
    }
   }
  },
  {
   "cell_type": "markdown",
   "source": [
    "Build Dash application"
   ],
   "metadata": {
    "collapsed": false,
    "pycharm": {
     "name": "#%% md\n"
    }
   }
  },
  {
   "cell_type": "code",
   "execution_count": 28,
   "outputs": [
    {
     "name": "stdout",
     "output_type": "stream",
     "text": [
      "Dash is running on http://127.0.0.1:8050/\n",
      "\n",
      " * Serving Flask app '__main__'\n",
      " * Debug mode: off\n"
     ]
    }
   ],
   "source": [
    "# Balkendiagramm erstellen\n",
    "bar_fig = px.bar(df_covid, x='diseaseLabel', y='symptom_count', color='diseaseLabel')\n",
    "\n",
    "# Scatter-Plot erstellen\n",
    "scatter_fig = px.scatter(df_covid, x='count', y='symptoms', color='diseaseLabel', size_max=10)\n",
    "\n",
    "# Dashboard-Layout definieren\n",
    "app = dash.Dash(__name__)\n",
    "app.layout = html.Div(children=[\n",
    "    html.H1(children='Krankheitssymptome'),\n",
    "\n",
    "    html.Div(children='''\n",
    "        Balkendiagramm der häufigsten Symptome\n",
    "    '''),\n",
    "\n",
    "    dcc.Graph(\n",
    "        id='bar-chart',\n",
    "        figure=bar_fig\n",
    "    ),\n",
    "\n",
    "    html.Div(children='''\n",
    "        Scatter-Plot der Anzahl der Symptome pro Krankheit\n",
    "    '''),\n",
    "\n",
    "    dcc.Graph(\n",
    "        id='scatter-plot',\n",
    "        figure=scatter_fig\n",
    "    )\n",
    "])\n",
    "\n",
    "if __name__ == '__main__':\n",
    "    app.run_server(debug=False)"
   ],
   "metadata": {
    "collapsed": false,
    "pycharm": {
     "name": "#%%\n"
    }
   }
  },
  {
   "cell_type": "code",
   "execution_count": 2,
   "outputs": [
    {
     "ename": "NameError",
     "evalue": "name 'dash' is not defined",
     "output_type": "error",
     "traceback": [
      "\u001B[1;31m---------------------------------------------------------------------------\u001B[0m",
      "\u001B[1;31mNameError\u001B[0m                                 Traceback (most recent call last)",
      "Cell \u001B[1;32mIn[2], line 3\u001B[0m\n\u001B[0;32m      1\u001B[0m \u001B[38;5;66;03m# app for two different diseases\u001B[39;00m\n\u001B[1;32m----> 3\u001B[0m app2 \u001B[38;5;241m=\u001B[39m \u001B[43mdash\u001B[49m\u001B[38;5;241m.\u001B[39mDash(\u001B[38;5;18m__name__\u001B[39m)\n\u001B[0;32m      4\u001B[0m app2\u001B[38;5;241m.\u001B[39mlayout \u001B[38;5;241m=\u001B[39m html\u001B[38;5;241m.\u001B[39mDiv([\n\u001B[0;32m      5\u001B[0m     html\u001B[38;5;241m.\u001B[39mH1(\u001B[38;5;124m'\u001B[39m\u001B[38;5;124mDisease\u001B[39m\u001B[38;5;124m'\u001B[39m),\n\u001B[0;32m      6\u001B[0m     dcc\u001B[38;5;241m.\u001B[39mDropdown(\n\u001B[1;32m   (...)\u001B[0m\n\u001B[0;32m     14\u001B[0m     dcc\u001B[38;5;241m.\u001B[39mGraph(\u001B[38;5;28mid\u001B[39m\u001B[38;5;241m=\u001B[39m\u001B[38;5;124m'\u001B[39m\u001B[38;5;124msymptoms-counts\u001B[39m\u001B[38;5;124m'\u001B[39m)\n\u001B[0;32m     15\u001B[0m ])\n\u001B[0;32m     17\u001B[0m \u001B[38;5;66;03m# Dashboard-Callback definieren\u001B[39;00m\n",
      "\u001B[1;31mNameError\u001B[0m: name 'dash' is not defined"
     ]
    }
   ],
   "source": [
    "# app for two different diseases\n",
    "\n",
    "app2 = dash.Dash(__name__)\n",
    "app2.layout = html.Div([\n",
    "    html.H1('Disease'),\n",
    "    dcc.Dropdown(\n",
    "        id='disease-dropdown',\n",
    "        options=[\n",
    "            {'label': 'Covid', 'value': 'Covid'},\n",
    "            {'label': 'Schizophrenia', 'value': 'Schizophrenia'}\n",
    "        ],\n",
    "        value='Covid'\n",
    "    ),\n",
    "    dcc.Graph(id='symptoms-counts')\n",
    "])\n",
    "\n",
    "# Dashboard-Callback definieren\n",
    "@app2.callback(\n",
    "    dash.dependencies.Output('symptom-counts', 'figure'),\n",
    "    [dash.dependencies.Input('disease-dropdown', 'value')]\n",
    ")\n",
    "def update_symptom_counts(disease):\n",
    "    if disease == 'Covid':\n",
    "        df = df_covid\n",
    "    elif disease == 'Schizophrenia':\n",
    "        df = df_schiz\n",
    "    else:\n",
    "        raise ValueError(\"Unbekannte Krankheit ausgewählt.\")\n",
    "\n",
    "    # Balkendiagramm erstellen\n",
    "    #bar_fig = px.bar(df, x='diseaseLabel', y='symptom_count', color='diseaseLabel')\n",
    "    # Create a Circos plot using Plotly Express\n",
    "    fig = px.parallel_categories(df, dimensions=['diseaseLabel', 'symptoms'], color='count')\n",
    "    return fig"
   ],
   "metadata": {
    "collapsed": false,
    "pycharm": {
     "name": "#%%\n"
    }
   }
  },
  {
   "cell_type": "code",
   "execution_count": 6,
   "outputs": [
    {
     "name": "stderr",
     "output_type": "stream",
     "text": [
      "127.0.0.1 - - [04/May/2023 12:52:59] \"GET / HTTP/1.1\" 200 -\n",
      "127.0.0.1 - - [04/May/2023 12:52:59] \"GET /_dash-dependencies HTTP/1.1\" 200 -\n",
      "127.0.0.1 - - [04/May/2023 12:52:59] \"GET /_dash-layout HTTP/1.1\" 200 -\n",
      "127.0.0.1 - - [04/May/2023 12:52:59] \"GET /_favicon.ico?v=2.7.0 HTTP/1.1\" 200 -\n",
      "127.0.0.1 - - [04/May/2023 12:52:59] \"GET /_dash-component-suites/dash/dcc/async-dropdown.js HTTP/1.1\" 304 -\n"
     ]
    },
    {
     "name": "stdout",
     "output_type": "stream",
     "text": [
      "Exception on /_dash-update-component [POST]\n",
      "Traceback (most recent call last):\n",
      "  File \"C:\\Users\\lucys\\anaconda3\\envs\\scholia_visualization\\lib\\site-packages\\flask\\app.py\", line 2525, in wsgi_app\n",
      "    response = self.full_dispatch_request()\n",
      "  File \"C:\\Users\\lucys\\anaconda3\\envs\\scholia_visualization\\lib\\site-packages\\flask\\app.py\", line 1822, in full_dispatch_request\n",
      "    rv = self.handle_user_exception(e)\n",
      "  File \"C:\\Users\\lucys\\anaconda3\\envs\\scholia_visualization\\lib\\site-packages\\flask\\app.py\", line 1820, in full_dispatch_request\n",
      "    rv = self.dispatch_request()\n",
      "  File \"C:\\Users\\lucys\\anaconda3\\envs\\scholia_visualization\\lib\\site-packages\\flask\\app.py\", line 1796, in dispatch_request\n",
      "    return self.ensure_sync(self.view_functions[rule.endpoint])(**view_args)\n",
      "  File \"C:\\Users\\lucys\\anaconda3\\envs\\scholia_visualization\\lib\\site-packages\\dash\\dash.py\", line 1274, in dispatch\n",
      "    ctx.run(\n",
      "  File \"C:\\Users\\lucys\\anaconda3\\envs\\scholia_visualization\\lib\\site-packages\\dash\\_callback.py\", line 440, in add_context\n",
      "    output_value = func(*func_args, **func_kwargs)  # %% callback invoked %%\n",
      "  File \"C:\\Users\\lucys\\AppData\\Local\\Temp\\ipykernel_25320\\3639424868.py\", line 40, in update_graph\n",
      "    df = df_schiz\n",
      "NameError: name 'df_schiz' is not defined\n",
      "Exception on /_dash-update-component [POST]\n",
      "Traceback (most recent call last):\n",
      "  File \"C:\\Users\\lucys\\anaconda3\\envs\\scholia_visualization\\lib\\site-packages\\flask\\app.py\", line 2525, in wsgi_app\n",
      "    response = self.full_dispatch_request()\n",
      "  File \"C:\\Users\\lucys\\anaconda3\\envs\\scholia_visualization\\lib\\site-packages\\flask\\app.py\", line 1822, in full_dispatch_request\n",
      "    rv = self.handle_user_exception(e)\n",
      "  File \"C:\\Users\\lucys\\anaconda3\\envs\\scholia_visualization\\lib\\site-packages\\flask\\app.py\", line 1820, in full_dispatch_request\n",
      "    rv = self.dispatch_request()\n",
      "  File \"C:\\Users\\lucys\\anaconda3\\envs\\scholia_visualization\\lib\\site-packages\\flask\\app.py\", line 1796, in dispatch_request\n",
      "    return self.ensure_sync(self.view_functions[rule.endpoint])(**view_args)\n",
      "  File \"C:\\Users\\lucys\\anaconda3\\envs\\scholia_visualization\\lib\\site-packages\\dash\\dash.py\", line 1274, in dispatch\n",
      "    ctx.run(\n",
      "  File \"C:\\Users\\lucys\\anaconda3\\envs\\scholia_visualization\\lib\\site-packages\\dash\\_callback.py\", line 440, in add_context\n",
      "    output_value = func(*func_args, **func_kwargs)  # %% callback invoked %%\n",
      "  File \"C:\\Users\\lucys\\AppData\\Local\\Temp\\ipykernel_25320\\3639424868.py\", line 40, in update_graph\n",
      "    df = df_schiz\n",
      "NameError: name 'df_schiz' is not defined\n",
      "Exception on /_dash-update-component [POST]\n",
      "Traceback (most recent call last):\n",
      "  File \"C:\\Users\\lucys\\anaconda3\\envs\\scholia_visualization\\lib\\site-packages\\flask\\app.py\", line 2525, in wsgi_app\n",
      "    response = self.full_dispatch_request()\n",
      "  File \"C:\\Users\\lucys\\anaconda3\\envs\\scholia_visualization\\lib\\site-packages\\flask\\app.py\", line 1822, in full_dispatch_request\n",
      "    rv = self.handle_user_exception(e)\n",
      "  File \"C:\\Users\\lucys\\anaconda3\\envs\\scholia_visualization\\lib\\site-packages\\flask\\app.py\", line 1820, in full_dispatch_request\n",
      "    rv = self.dispatch_request()\n",
      "  File \"C:\\Users\\lucys\\anaconda3\\envs\\scholia_visualization\\lib\\site-packages\\flask\\app.py\", line 1796, in dispatch_request\n",
      "    return self.ensure_sync(self.view_functions[rule.endpoint])(**view_args)\n",
      "  File \"C:\\Users\\lucys\\anaconda3\\envs\\scholia_visualization\\lib\\site-packages\\dash\\dash.py\", line 1274, in dispatch\n",
      "    ctx.run(\n",
      "  File \"C:\\Users\\lucys\\anaconda3\\envs\\scholia_visualization\\lib\\site-packages\\dash\\_callback.py\", line 440, in add_context\n",
      "    output_value = func(*func_args, **func_kwargs)  # %% callback invoked %%\n",
      "  File \"C:\\Users\\lucys\\AppData\\Local\\Temp\\ipykernel_25320\\3639424868.py\", line 40, in update_graph\n",
      "    df = df_schiz\n",
      "NameError: name 'df_schiz' is not defined\n"
     ]
    },
    {
     "name": "stderr",
     "output_type": "stream",
     "text": [
      "127.0.0.1 - - [04/May/2023 12:52:59] \"POST /_dash-update-component HTTP/1.1\" 500 -\n"
     ]
    },
    {
     "name": "stdout",
     "output_type": "stream",
     "text": [
      "Dash is running on http://127.0.0.1:8050/\n",
      "\n",
      "Dash is running on http://127.0.0.1:8050/\n",
      "\n",
      "Dash is running on http://127.0.0.1:8050/\n",
      "\n",
      "Dash is running on http://127.0.0.1:8050/\n",
      "\n",
      " * Serving Flask app '__main__'\n",
      " * Debug mode: off\n"
     ]
    },
    {
     "name": "stderr",
     "output_type": "stream",
     "text": [
      "WARNING: This is a development server. Do not use it in a production deployment. Use a production WSGI server instead.\n",
      " * Running on http://127.0.0.1:8050\n",
      "Press CTRL+C to quit\n"
     ]
    }
   ],
   "source": [
    "import dash\n",
    "import dash_core_components as dcc\n",
    "import dash_html_components as html\n",
    "import plotly.graph_objs as go\n",
    "import dash_cytoscape as cyto\n",
    "\n",
    "\n",
    "# app for two different diseases\n",
    "\n",
    "app2 = dash.Dash(__name__)\n",
    "\n",
    "# Define the dropdown options\n",
    "dropdown_options = [\n",
    "    {'label': 'Schizophrenia', 'value': 'schizophrenia'},\n",
    "    {'label': 'COVID-19', 'value': 'covid'}\n",
    "]\n",
    "\n",
    "# Define the layout\n",
    "app2.layout = html.Div([\n",
    "    dcc.Dropdown(\n",
    "        id='disease-dropdown',\n",
    "        options=dropdown_options,\n",
    "        value='schizophrenia'\n",
    "    ),\n",
    "    cyto.Cytoscape(\n",
    "        id='disease-graph',\n",
    "        layout={'name': 'circle'},\n",
    "        style={'width': '100%', 'height': '800px'},\n",
    "        elements=[]\n",
    "    )\n",
    "])\n",
    "\n",
    "# Define the callback to update the graph when the dropdown is changed\n",
    "@app2.callback(\n",
    "    dash.dependencies.Output('disease-graph', 'elements'),\n",
    "    [dash.dependencies.Input('disease-dropdown', 'value')]\n",
    ")\n",
    "def update_graph(disease):\n",
    "    if disease == 'schizophrenia':\n",
    "        df = df_schiz\n",
    "    else:\n",
    "        df = df_covid\n",
    "\n",
    "    nodes = [{'data': {'id': row['disease'], 'label': row['disease']}} for _, row in df.iterrows()]\n",
    "\n",
    "    edges = []\n",
    "    for i in range(len(df)):\n",
    "        for j in range(i+1, len(df)):\n",
    "            shared_symptoms = set(df.iloc[i]['symptoms']) & set(df.iloc[j]['symptoms'])\n",
    "            if len(shared_symptoms) > 0:\n",
    "                edge = {\n",
    "                    'data': {\n",
    "                        'source': df.iloc[i]['disease'],\n",
    "                        'target': df.iloc[j]['disease'],\n",
    "                        'weight': len(shared_symptoms),\n",
    "                        'label': str(len(shared_symptoms))\n",
    "                    }\n",
    "                }\n",
    "                edges.append(edge)\n",
    "\n",
    "    return nodes + edges\n",
    "\n",
    "if __name__ == '__main__':\n",
    "    app2.run_server(debug=False)\n"
   ],
   "metadata": {
    "collapsed": false,
    "pycharm": {
     "name": "#%%\n"
    }
   }
  },
  {
   "cell_type": "markdown",
   "source": [
    "# from documentation"
   ],
   "metadata": {
    "collapsed": false,
    "pycharm": {
     "name": "#%% md\n"
    }
   }
  },
  {
   "cell_type": "code",
   "execution_count": null,
   "outputs": [],
   "source": [
    "# import libraries\n",
    "\n",
    "import json\n",
    "import urllib.request as urlreq\n",
    "import dash\n",
    "from dash.dependencies import Input, Output, State\n",
    "import dash_bio as dashbio\n",
    "from dash import html, dcc\n"
   ],
   "metadata": {
    "collapsed": false,
    "pycharm": {
     "name": "#%%\n"
    }
   }
  },
  {
   "cell_type": "code",
   "execution_count": 4,
   "outputs": [
    {
     "data": {
      "text/plain": "            start_date                                      trial  \\\nQ113914424  2022-12-01  http://www.wikidata.org/entity/Q113914424   \nQ113932415  2022-10-01  http://www.wikidata.org/entity/Q113932415   \nQ113927226  2022-09-15  http://www.wikidata.org/entity/Q113927226   \nQ113941830  2022-09-01  http://www.wikidata.org/entity/Q113941830   \nQ113943405  2022-08-01  http://www.wikidata.org/entity/Q113943405   \n...                ...                                        ...   \nQ66033186          NaN   http://www.wikidata.org/entity/Q66033186   \nQ66059716          NaN   http://www.wikidata.org/entity/Q66059716   \nQ66059719          NaN   http://www.wikidata.org/entity/Q66059719   \nQ66068233          NaN   http://www.wikidata.org/entity/Q66068233   \nQ67126207          NaN   http://www.wikidata.org/entity/Q67126207   \n\n                                                   trialLabel  \\\nQ113914424  fMRI-based Neurofeedback to Relieve Drug-resis...   \nQ113932415  Exercise-based Program for Rehabilitation of V...   \nQ113927226                         D-serine AudRem: R33 Phase   \nQ113941830  EEG and Behavioral Correlates of Temporal Pred...   \nQ113943405  Individualized Repetitive Transcranial Magneti...   \n...                                                       ...   \nQ66033186   A Combination of Two Currently Approved Drugs ...   \nQ66059716   A Multi-Site Study of Strategies for Implement...   \nQ66059719   Improving Health Services for Veterans With Sc...   \nQ66068233   Prevalence of Diabetes Mellitus Among Patients...   \nQ67126207              NRX-1074 in Early Course Schizophrenia   \n\n                                        intervention  \\\nQ113914424                                       NaN   \nQ113932415                                       NaN   \nQ113927226                                       NaN   \nQ113941830                                       NaN   \nQ113943405                                       NaN   \n...                                              ...   \nQ66033186   http://www.wikidata.org/entity/Q27225729   \nQ66059716                                        NaN   \nQ66059719                                        NaN   \nQ66068233                                        NaN   \nQ67126207                                        NaN   \n\n                    interventionLabel sponsor sponsorLabel  \nQ113914424                        NaN     NaN          NaN  \nQ113932415                        NaN     NaN          NaN  \nQ113927226                        NaN     NaN          NaN  \nQ113941830                        NaN     NaN          NaN  \nQ113943405                        NaN     NaN          NaN  \n...                               ...     ...          ...  \nQ66033186   atomoxetine hydrochloride     NaN          NaN  \nQ66059716                         NaN     NaN          NaN  \nQ66059719                         NaN     NaN          NaN  \nQ66068233                         NaN     NaN          NaN  \nQ67126207                         NaN     NaN          NaN  \n\n[2789 rows x 7 columns]",
      "text/html": "<div>\n<style scoped>\n    .dataframe tbody tr th:only-of-type {\n        vertical-align: middle;\n    }\n\n    .dataframe tbody tr th {\n        vertical-align: top;\n    }\n\n    .dataframe thead th {\n        text-align: right;\n    }\n</style>\n<table border=\"1\" class=\"dataframe\">\n  <thead>\n    <tr style=\"text-align: right;\">\n      <th></th>\n      <th>start_date</th>\n      <th>trial</th>\n      <th>trialLabel</th>\n      <th>intervention</th>\n      <th>interventionLabel</th>\n      <th>sponsor</th>\n      <th>sponsorLabel</th>\n    </tr>\n  </thead>\n  <tbody>\n    <tr>\n      <th>Q113914424</th>\n      <td>2022-12-01</td>\n      <td>http://www.wikidata.org/entity/Q113914424</td>\n      <td>fMRI-based Neurofeedback to Relieve Drug-resis...</td>\n      <td>NaN</td>\n      <td>NaN</td>\n      <td>NaN</td>\n      <td>NaN</td>\n    </tr>\n    <tr>\n      <th>Q113932415</th>\n      <td>2022-10-01</td>\n      <td>http://www.wikidata.org/entity/Q113932415</td>\n      <td>Exercise-based Program for Rehabilitation of V...</td>\n      <td>NaN</td>\n      <td>NaN</td>\n      <td>NaN</td>\n      <td>NaN</td>\n    </tr>\n    <tr>\n      <th>Q113927226</th>\n      <td>2022-09-15</td>\n      <td>http://www.wikidata.org/entity/Q113927226</td>\n      <td>D-serine AudRem: R33 Phase</td>\n      <td>NaN</td>\n      <td>NaN</td>\n      <td>NaN</td>\n      <td>NaN</td>\n    </tr>\n    <tr>\n      <th>Q113941830</th>\n      <td>2022-09-01</td>\n      <td>http://www.wikidata.org/entity/Q113941830</td>\n      <td>EEG and Behavioral Correlates of Temporal Pred...</td>\n      <td>NaN</td>\n      <td>NaN</td>\n      <td>NaN</td>\n      <td>NaN</td>\n    </tr>\n    <tr>\n      <th>Q113943405</th>\n      <td>2022-08-01</td>\n      <td>http://www.wikidata.org/entity/Q113943405</td>\n      <td>Individualized Repetitive Transcranial Magneti...</td>\n      <td>NaN</td>\n      <td>NaN</td>\n      <td>NaN</td>\n      <td>NaN</td>\n    </tr>\n    <tr>\n      <th>...</th>\n      <td>...</td>\n      <td>...</td>\n      <td>...</td>\n      <td>...</td>\n      <td>...</td>\n      <td>...</td>\n      <td>...</td>\n    </tr>\n    <tr>\n      <th>Q66033186</th>\n      <td>NaN</td>\n      <td>http://www.wikidata.org/entity/Q66033186</td>\n      <td>A Combination of Two Currently Approved Drugs ...</td>\n      <td>http://www.wikidata.org/entity/Q27225729</td>\n      <td>atomoxetine hydrochloride</td>\n      <td>NaN</td>\n      <td>NaN</td>\n    </tr>\n    <tr>\n      <th>Q66059716</th>\n      <td>NaN</td>\n      <td>http://www.wikidata.org/entity/Q66059716</td>\n      <td>A Multi-Site Study of Strategies for Implement...</td>\n      <td>NaN</td>\n      <td>NaN</td>\n      <td>NaN</td>\n      <td>NaN</td>\n    </tr>\n    <tr>\n      <th>Q66059719</th>\n      <td>NaN</td>\n      <td>http://www.wikidata.org/entity/Q66059719</td>\n      <td>Improving Health Services for Veterans With Sc...</td>\n      <td>NaN</td>\n      <td>NaN</td>\n      <td>NaN</td>\n      <td>NaN</td>\n    </tr>\n    <tr>\n      <th>Q66068233</th>\n      <td>NaN</td>\n      <td>http://www.wikidata.org/entity/Q66068233</td>\n      <td>Prevalence of Diabetes Mellitus Among Patients...</td>\n      <td>NaN</td>\n      <td>NaN</td>\n      <td>NaN</td>\n      <td>NaN</td>\n    </tr>\n    <tr>\n      <th>Q67126207</th>\n      <td>NaN</td>\n      <td>http://www.wikidata.org/entity/Q67126207</td>\n      <td>NRX-1074 in Early Course Schizophrenia</td>\n      <td>NaN</td>\n      <td>NaN</td>\n      <td>NaN</td>\n      <td>NaN</td>\n    </tr>\n  </tbody>\n</table>\n<p>2789 rows × 7 columns</p>\n</div>"
     },
     "execution_count": 4,
     "metadata": {},
     "output_type": "execute_result"
    }
   ],
   "source": [
    "# getting a more simple visualization than a circos plot to start\n",
    "\n",
    "import SPARQLWrapper\n",
    "\n",
    "\n",
    "sparql = SPARQLWrapper.SPARQLWrapper(\"https://query.wikidata.org/sparql\")\n",
    "\n",
    "query = '''\n",
    "PREFIX target: <http://www.wikidata.org/entity/Q41112>\n",
    "\n",
    "SELECT\n",
    "  DISTINCT\n",
    "  ?start_date\n",
    "  ?trial ?trialLabel\n",
    "  ?intervention ?interventionLabel\n",
    "  ?sponsor ?sponsorLabel\n",
    "WHERE {\n",
    "  ?trial wdt:P31 wd:Q30612 ;\n",
    "  wdt:P1050 / wdt:P279* target: .\n",
    "  OPTIONAL {\n",
    "    ?trial wdt:P580 ?starttime\n",
    "    BIND(SUBSTR(STR(?starttime), 0, 11) AS ?start_date)\n",
    "  }\n",
    "  OPTIONAL { ?trial wdt:P4844 ?intervention }\n",
    "  OPTIONAL { ?trial wdt:P859 ?sponsor }\n",
    "  SERVICE wikibase:label { bd:serviceParam wikibase:language \"en,da,de,es,fr,jp,nl,no,pl,ru,sv,zh\". }\n",
    "}\n",
    "ORDER BY DESC(?starttime)\n",
    "'''\n",
    "\n",
    "# Set the query language to SPARQL\n",
    "sparql.setQuery(query)\n",
    "\n",
    "# Set the return format to JSON\n",
    "sparql.setReturnFormat(SPARQLWrapper.JSON)\n",
    "\n",
    "# Execute the query and store the results\n",
    "results_trials = sparql.query().convert()\n",
    "\n",
    "dict_trials = {}\n",
    "\n",
    "trials = []\n",
    "result_list = results_trials['results']['bindings']\n",
    "for res in result_list:\n",
    "    for res_key, res_value in res.items():\n",
    "        if res_key == 'trial':\n",
    "            uri = res_value['value']\n",
    "            splitted_uri = uri.split('/')\n",
    "            entity_id = splitted_uri[-1]\n",
    "            trials.append(entity_id)\n",
    "            dict_trials[entity_id] = res\n",
    "\n",
    "\n",
    "trial_df = pd.DataFrame.from_dict(dict_trials)\n",
    "trial_df = trial_df.transpose()\n",
    "\n",
    "# extract data from dictionaries\n",
    "trial_df = trial_df.apply(lambda x: x.apply(lambda y: y['value'] if type(y) == dict else y))\n",
    "\n",
    "\n",
    "trial_df\n",
    "\n"
   ],
   "metadata": {
    "collapsed": false,
    "pycharm": {
     "name": "#%%\n"
    }
   }
  },
  {
   "cell_type": "code",
   "execution_count": 3,
   "outputs": [
    {
     "name": "stdout",
     "output_type": "stream",
     "text": [
      "Dash is running on http://127.0.0.1:8050/\n",
      "\n",
      "Dash is running on http://127.0.0.1:8050/\n",
      "\n",
      " * Serving Flask app '__main__'\n",
      " * Debug mode: off\n"
     ]
    },
    {
     "name": "stderr",
     "output_type": "stream",
     "text": [
      "WARNING: This is a development server. Do not use it in a production deployment. Use a production WSGI server instead.\n",
      " * Running on http://127.0.0.1:8050\n",
      "Press CTRL+C to quit\n",
      "127.0.0.1 - - [04/May/2023 14:33:38] \"GET / HTTP/1.1\" 200 -\n",
      "127.0.0.1 - - [04/May/2023 14:33:39] \"GET /_dash-layout HTTP/1.1\" 200 -\n",
      "127.0.0.1 - - [04/May/2023 14:33:39] \"GET /_dash-dependencies HTTP/1.1\" 200 -\n",
      "127.0.0.1 - - [04/May/2023 14:33:39] \"GET /_dash-component-suites/dash/dcc/async-dropdown.js HTTP/1.1\" 304 -\n",
      "127.0.0.1 - - [04/May/2023 14:33:39] \"GET /_dash-component-suites/dash/dcc/async-graph.js HTTP/1.1\" 304 -\n",
      "127.0.0.1 - - [04/May/2023 14:33:39] \"GET /_dash-component-suites/dash/dcc/async-plotlyjs.js HTTP/1.1\" 304 -\n",
      "127.0.0.1 - - [04/May/2023 14:33:39] \"POST /_dash-update-component HTTP/1.1\" 200 -\n"
     ]
    },
    {
     "name": "stdout",
     "output_type": "stream",
     "text": [
      "something wrong\n",
      "Dash is running on http://127.0.0.1:8050/\n",
      "\n",
      "Dash is running on http://127.0.0.1:8050/\n",
      "\n",
      "Dash is running on http://127.0.0.1:8050/\n",
      "\n",
      " * Serving Flask app '__main__'\n",
      " * Debug mode: off\n"
     ]
    },
    {
     "name": "stderr",
     "output_type": "stream",
     "text": [
      "WARNING: This is a development server. Do not use it in a production deployment. Use a production WSGI server instead.\n",
      " * Running on http://127.0.0.1:8050\n",
      "Press CTRL+C to quit\n"
     ]
    }
   ],
   "source": [
    "import dash\n",
    "import dash_core_components as dcc\n",
    "import dash_html_components as html\n",
    "import pandas as pd\n",
    "import plotly.express as px\n",
    "from SPARQLWrapper import SPARQLWrapper, JSON\n",
    "\n",
    "# Create a Dash app\n",
    "app = dash.Dash(__name__)\n",
    "\n",
    "# Define the disease entities\n",
    "disease_entities = {\n",
    "    \"TESTTEST-19\": \"Q84263196\",\n",
    "    \"Schizophrenia\": \"Q41112\"\n",
    "}\n",
    "for disease_label, disease_value in disease_entities.items():\n",
    "\n",
    "\n",
    "    # Define the Wikidata endpoint and the query\n",
    "    endpoint = \"https://query.wikidata.org/sparql\"\n",
    "    query_template = f'''\n",
    "    #defaultView:BarChart\n",
    "PREFIX target: <http://www.wikidata.org/entity/{disease_value}>\n",
    "select ?year (count(?work) as ?number_of_publications) where {{\n",
    "  {{\n",
    "    select (str(?year_) as ?year) (0 as ?pages) where {{\n",
    "      ?year_item wdt:P31 wd:Q577 .\n",
    "      ?year_item wdt:P585 ?date .\n",
    "      bind(year(?date) as ?year_)\n",
    "      {{\n",
    "        select (min(?year_) as ?earliest_year) where {{\n",
    "          {{ ?work wdt:P921/wdt:P31*/wdt:P279* target: . }}\n",
    "          union {{ ?work wdt:P921/wdt:P361+ target: . }}\n",
    "          union {{ ?work wdt:P921/wdt:P1269+ target: . }}\n",
    "          ?work wdt:P577 ?publication_date .\n",
    "          bind(year(?publication_date) as ?year_)\n",
    "        }}\n",
    "      }}\n",
    "      bind(year(now()) as ?next_year)\n",
    "      filter (?year_ >= ?earliest_year && ?year_ <= ?next_year)\n",
    "    }}\n",
    "  }}\n",
    "  union {{\n",
    "    select ?work (min(?years) as ?year) where {{\n",
    "      {{ ?work wdt:P921/wdt:P31*/wdt:P279* target: . }}\n",
    "      union {{ ?work wdt:P921/wdt:P361+ target: . }}\n",
    "      union {{ ?work wdt:P921/wdt:P1269+ target: . }}\n",
    "      ?work wdt:P577 ?dates .\n",
    "      bind(str(year(?dates)) as ?years) .\n",
    "    }}\n",
    "    group by ?work\n",
    "  }}\n",
    "}}\n",
    "group by ?year\n",
    "order by ?year\n",
    "'''\n",
    "\n",
    "# Define the layout of the app\n",
    "app.layout = html.Div([\n",
    "    # Dropdown menu to select the disease\n",
    "    dcc.Dropdown(\n",
    "        id=\"disease-dropdown\",\n",
    "        options=[{\"label\": disease, \"value\": entity_id} for disease, entity_id in disease_entities.items()],\n",
    "        value=list(disease_entities.values())[0]\n",
    "    ),\n",
    "    # Bar plot of the trial start dates\n",
    "    dcc.Graph(id=\"publications-per-year\")\n",
    "])\n",
    "\n",
    "# Define the callback function to update the bar plot\n",
    "@app.callback(\n",
    "    dash.dependencies.Output(\"publications-per-year\", \"figure\"),\n",
    "    [dash.dependencies.Input(\"disease-dropdown\", \"value\")]\n",
    ")\n",
    "def update_trial_start_dates_bar_plot(disease_entity):\n",
    "    try:\n",
    "        # Build the query string with the disease entity ID\n",
    "        query = query_template.format(disease=disease_entity)\n",
    "\n",
    "        # Run the query and get the results\n",
    "        sparql = SPARQLWrapper(endpoint)\n",
    "        sparql.setQuery(query)\n",
    "        sparql.setReturnFormat(JSON)\n",
    "        results = sparql.query().convert()\n",
    "\n",
    "        # Convert the results to a Pandas DataFrame\n",
    "        start_dates = [result[\"start_date\"][\"value\"][:4] for result in results[\"results\"][\"bindings\"]]\n",
    "        year_counts = pd.Series(start_dates).value_counts().sort_index().to_frame().reset_index()\n",
    "        year_counts.columns = [\"year\", \"count\"]\n",
    "\n",
    "        # Create the bar plot\n",
    "        fig = px.bar(year_counts, x=\"year\", y=\"count\")\n",
    "\n",
    "        return fig\n",
    "    except Exception as e:\n",
    "        print(e.with_traceback())\n",
    "\n",
    "\n",
    "if __name__ == '__main__':\n",
    "    app.run_server(debug=False)"
   ],
   "metadata": {
    "collapsed": false,
    "pycharm": {
     "name": "#%%\n"
    }
   }
  },
  {
   "cell_type": "code",
   "execution_count": 2,
   "outputs": [
    {
     "name": "stdout",
     "output_type": "stream",
     "text": [
      "Dash is running on http://127.0.0.1:8050/\n",
      "\n",
      "Dash is running on http://127.0.0.1:8050/\n",
      "\n",
      " * Serving Flask app '__main__'\n",
      " * Debug mode: off\n"
     ]
    }
   ],
   "source": [
    "import dash\n",
    "from dash import dcc\n",
    "from dash import html\n",
    "import pandas as pd\n",
    "import plotly.express as px\n",
    "from SPARQLWrapper import SPARQLWrapper, JSON\n",
    "\n",
    "# Define SPARQL endpoint\n",
    "sparql = SPARQLWrapper(\"https://query.wikidata.org/sparql\")\n",
    "\n",
    "# Define SPARQL query\n",
    "query = \"\"\"\n",
    "PREFIX target: <http://www.wikidata.org/entity/Q84263196>\n",
    "\n",
    "# Inspired from LEGOLAS - http://abel.lis.illinois.edu/legolas/\n",
    "# Shubhanshu Mishra, Vetle Torvik\n",
    "select ?year (count(?work) as ?number_of_publications) where {\n",
    "  {\n",
    "    select (str(?year_) as ?year) (0 as ?pages) where {\n",
    "      # default values = 0\n",
    "      ?year_item wdt:P31 wd:Q577 .\n",
    "      ?year_item wdt:P585 ?date .\n",
    "      bind(year(?date) as ?year_)\n",
    "      {\n",
    "        select (min(?year_) as ?earliest_year) where {\n",
    "          { ?work wdt:P921/wdt:P31*/wdt:P279* target: . }\n",
    "          union { ?work wdt:P921/wdt:P361+ target: . }\n",
    "          union { ?work wdt:P921/wdt:P1269+ target: . }\n",
    "          ?work wdt:P577 ?publication_date .\n",
    "          bind(year(?publication_date) as ?year_)\n",
    "        }\n",
    "      }\n",
    "      bind(year(now()) as ?next_year)\n",
    "      filter (?year_ >= ?earliest_year && ?year_ <= ?next_year)\n",
    "    }\n",
    "  }\n",
    "  union {\n",
    "    select ?work (min(?years) as ?year) where {\n",
    "      { ?work wdt:P921/wdt:P31*/wdt:P279* target: . }\n",
    "      union { ?work wdt:P921/wdt:P361+ target: . }\n",
    "      union { ?work wdt:P921/wdt:P1269+ target: . }\n",
    "      ?work wdt:P577 ?dates .\n",
    "      bind(str(year(?dates)) as ?years) .\n",
    "    }\n",
    "    group by ?work\n",
    "  }\n",
    "}\n",
    "group by ?year\n",
    "order by ?year\n",
    "\"\"\"\n",
    "\n",
    "# Set the query and format to JSON\n",
    "sparql.setQuery(query)\n",
    "sparql.setReturnFormat(JSON)\n",
    "\n",
    "# Execute the query and convert the results to a Pandas DataFrame\n",
    "results = sparql.query().convert()\n",
    "df = pd.json_normalize(results[\"results\"][\"bindings\"])\n",
    "df[\"year.value\"] = pd.to_numeric(df[\"year.value\"])\n",
    "df[\"number_of_publications.value\"] = pd.to_numeric(df[\"number_of_publications.value\"])\n",
    "\n",
    "# Create the bar chart using Plotly\n",
    "fig = px.bar(df, x=\"year.value\", y=\"number_of_publications.value\")\n",
    "\n",
    "# Create the Dash app and layout\n",
    "app3 = dash.Dash(__name__)\n",
    "app3.layout = html.Div(children=[\n",
    "    html.H1(\"Publications per year on COVID-19\"),\n",
    "    dcc.Graph(id=\"publication-year-chart\", figure=fig)\n",
    "])\n",
    "\n",
    "# Run the Dash app\n",
    "if __name__ == '__main__':\n",
    "    app3.run_server(debug=False)\n"
   ],
   "metadata": {
    "collapsed": false,
    "pycharm": {
     "name": "#%%\n"
    }
   }
  },
  {
   "cell_type": "code",
   "execution_count": null,
   "outputs": [
    {
     "name": "stderr",
     "output_type": "stream",
     "text": [
      "127.0.0.1 - - [04/May/2023 15:21:12] \"GET /_dash-layout HTTP/1.1\" 200 -\n",
      "127.0.0.1 - - [04/May/2023 15:21:12] \"GET /_dash-dependencies HTTP/1.1\" 200 -\n",
      "127.0.0.1 - - [04/May/2023 15:21:13] \"GET /_dash-component-suites/dash/dcc/async-graph.js HTTP/1.1\" 304 -\n",
      "127.0.0.1 - - [04/May/2023 15:21:13] \"GET /_dash-component-suites/dash/dcc/async-dropdown.js HTTP/1.1\" 304 -\n",
      "127.0.0.1 - - [04/May/2023 15:21:13] \"GET /_dash-component-suites/dash/dcc/async-plotlyjs.js HTTP/1.1\" 304 -\n",
      "127.0.0.1 - - [04/May/2023 15:21:20] \"GET / HTTP/1.1\" 200 -\n",
      "127.0.0.1 - - [04/May/2023 15:21:20] \"GET /_dash-layout HTTP/1.1\" 200 -\n",
      "127.0.0.1 - - [04/May/2023 15:21:20] \"GET /_dash-dependencies HTTP/1.1\" 200 -\n",
      "127.0.0.1 - - [04/May/2023 15:21:20] \"GET /_favicon.ico?v=2.7.0 HTTP/1.1\" 200 -\n",
      "127.0.0.1 - - [04/May/2023 15:21:20] \"GET /_dash-component-suites/dash/dcc/async-dropdown.js HTTP/1.1\" 304 -\n",
      "127.0.0.1 - - [04/May/2023 15:21:20] \"GET /_dash-component-suites/dash/dcc/async-plotlyjs.js HTTP/1.1\" 304 -\n",
      "127.0.0.1 - - [04/May/2023 15:21:20] \"GET /_dash-component-suites/dash/dcc/async-graph.js HTTP/1.1\" 304 -\n",
      "127.0.0.1 - - [04/May/2023 15:21:28] \"POST /_dash-update-component HTTP/1.1\" 200 -\n",
      "127.0.0.1 - - [04/May/2023 15:21:35] \"POST /_dash-update-component HTTP/1.1\" 200 -\n",
      "127.0.0.1 - - [04/May/2023 15:21:37] \"POST /_dash-update-component HTTP/1.1\" 200 -\n",
      "127.0.0.1 - - [04/May/2023 15:21:43] \"GET / HTTP/1.1\" 200 -\n",
      "127.0.0.1 - - [04/May/2023 15:21:44] \"GET /_dash-layout HTTP/1.1\" 200 -\n",
      "127.0.0.1 - - [04/May/2023 15:21:44] \"GET /_dash-dependencies HTTP/1.1\" 200 -\n",
      "127.0.0.1 - - [04/May/2023 15:21:44] \"GET /_dash-component-suites/dash/dcc/async-dropdown.js HTTP/1.1\" 304 -\n",
      "127.0.0.1 - - [04/May/2023 15:21:44] \"GET /_dash-component-suites/dash/dcc/async-graph.js HTTP/1.1\" 304 -\n",
      "127.0.0.1 - - [04/May/2023 15:21:44] \"GET /_dash-component-suites/dash/dcc/async-plotlyjs.js HTTP/1.1\" 304 -\n",
      "127.0.0.1 - - [04/May/2023 15:21:50] \"POST /_dash-update-component HTTP/1.1\" 200 -\n",
      "127.0.0.1 - - [04/May/2023 15:22:06] \"POST /_dash-update-component HTTP/1.1\" 200 -\n"
     ]
    }
   ],
   "source": [
    "# dynamically for more diseases\n",
    "\n",
    "\n",
    "import dash\n",
    "from dash import dcc\n",
    "from dash import html\n",
    "from dash.dependencies import Input, Output\n",
    "import pandas as pd\n",
    "import plotly.express as px\n",
    "from SPARQLWrapper import SPARQLWrapper, JSON\n",
    "\n",
    "# Define SPARQL endpoint\n",
    "sparql = SPARQLWrapper(\"https://query.wikidata.org/sparql\")\n",
    "\n",
    "# Create a list of disease options for the dropdown menu\n",
    "disease_options = [\n",
    "    {'label': 'COVID-19', 'value': 'Q84263196'},\n",
    "    {'label': 'Schizophrenia', 'value': 'Q41112'}\n",
    "]\n",
    "\n",
    "\n",
    "# Define a function to query the Wikidata endpoint and return a DataFrame\n",
    "def query_wikidata(disease_id):\n",
    "    # Define SPARQL query\n",
    "    query = f\"\"\"\n",
    "    PREFIX target: <http://www.wikidata.org/entity/{disease_id}>\n",
    "\n",
    "    # Inspired from LEGOLAS - http://abel.lis.illinois.edu/legolas/\n",
    "    # Shubhanshu Mishra, Vetle Torvik\n",
    "    select ?year (count(?work) as ?number_of_publications) where {{\n",
    "      {{\n",
    "        select (str(?year_) as ?year) (0 as ?pages) where {{\n",
    "          # default values = 0\n",
    "          ?year_item wdt:P31 wd:Q577 .\n",
    "          ?year_item wdt:P585 ?date .\n",
    "          bind(year(?date) as ?year_)\n",
    "          {{\n",
    "            select (min(?year_) as ?earliest_year) where {{\n",
    "              {{ ?work wdt:P921/wdt:P31*/wdt:P279* target: . }}\n",
    "              union {{ ?work wdt:P921/wdt:P361+ target: . }}\n",
    "              union {{ ?work wdt:P921/wdt:P1269+ target: . }}\n",
    "              ?work wdt:P577 ?publication_date .\n",
    "              bind(year(?publication_date) as ?year_)\n",
    "            }}\n",
    "          }}\n",
    "          bind(year(now()) as ?next_year)\n",
    "          filter (?year_ >= ?earliest_year && ?year_ <= ?next_year)\n",
    "        }}\n",
    "      }}\n",
    "      union {{\n",
    "        select ?work (min(?years) as ?year) where {{\n",
    "          {{ ?work wdt:P921/wdt:P31*/wdt:P279* target: . }}\n",
    "          union {{ ?work wdt:P921/wdt:P361+ target: . }}\n",
    "          union {{ ?work wdt:P921/wdt:P1269+ target: . }}\n",
    "          ?work wdt:P577 ?dates .\n",
    "          bind(str(year(?dates)) as ?years) .\n",
    "        }}\n",
    "        group by ?work\n",
    "      }}\n",
    "    }}\n",
    "    group by ?year\n",
    "    order by ?year\n",
    "    \"\"\"\n",
    "\n",
    "    # Set the query and format to JSON\n",
    "    sparql.setQuery(query)\n",
    "    sparql.setReturnFormat(JSON)\n",
    "\n",
    "    # Execute the query and convert the results to a Pandas DataFrame\n",
    "    results = sparql.query().convert()\n",
    "    df = pd.json_normalize(results[\"results\"][\"bindings\"])\n",
    "    df[\"year.value\"] = pd.to_numeric(df[\"year.value\"])\n",
    "    df[\"number_of_publications.value\"] = pd.to_numeric(df[\"number_of_publications.value\"])\n",
    "\n",
    "    return df\n",
    "\n",
    "# Create the Dash app and layout\n",
    "app4 = dash.Dash(__name__)\n",
    "app4.layout = html.Div(children=[\n",
    "    html.H1(\"Publications per year\"),\n",
    "    dcc.Dropdown(\n",
    "        id=\"disease-dropdown\",\n",
    "        options=disease_options,\n",
    "        value=disease_options[0]['value']\n",
    "    ),\n",
    "    dcc.Graph(id=\"publication-year-chart\")\n",
    "])\n",
    "\n",
    "# Define callback to update the figure\n",
    "@app4.callback(\n",
    "    Output(component_id=\"publication-year-chart\", component_property=\"figure\"),\n",
    "    Input(component_id=\"disease-dropdown\", component_property=\"value\")\n",
    ")\n",
    "def update_figure(selected_disease):\n",
    "    # Define SPARQL query with selected entity ID\n",
    "    query = f\"\"\"\n",
    "    PREFIX target: <http://www.wikidata.org/entity/{selected_disease}>\n",
    "\n",
    "    # Inspired from LEGOLAS - http://abel.lis.illinois.edu/legolas/\n",
    "    # Shubhanshu Mishra, Vetle Torvik\n",
    "    select ?year (count(?work) as ?number_of_publications) where {{\n",
    "      {{\n",
    "        select (str(?year_) as ?year) (0 as ?pages) where {{\n",
    "          # default values = 0\n",
    "          ?year_item wdt:P31 wd:Q577 .\n",
    "          ?year_item wdt:P585 ?date .\n",
    "          bind(year(?date) as ?year_)\n",
    "          {{\n",
    "            select (min(?year_) as ?earliest_year) where {{\n",
    "              {{ ?work wdt:P921/wdt:P31*/wdt:P279* target: . }}\n",
    "              union {{ ?work wdt:P921/wdt:P361+ target: . }}\n",
    "              union {{ ?work wdt:P921/wdt:P1269+ target: . }}\n",
    "              ?work wdt:P577 ?publication_date .\n",
    "              bind(year(?publication_date) as ?year_)\n",
    "            }}\n",
    "          }}\n",
    "          bind(year(now()) as ?next_year)\n",
    "          filter (?year_ >= ?earliest_year && ?year_ <= ?next_year)\n",
    "        }}\n",
    "      }}\n",
    "      union {{\n",
    "        select ?work (min(?years) as ?year) where {{\n",
    "          {{ ?work wdt:P921/wdt:P31*/wdt:P279* target: . }}\n",
    "          union {{ ?work wdt:P921/wdt:P361+ target: . }}\n",
    "          union {{ ?work wdt:P921/wdt:P1269+ target: . }}\n",
    "          ?work wdt:P577 ?dates .\n",
    "          bind(str(year(?dates)) as ?years) .\n",
    "        }}\n",
    "        group by ?work\n",
    "      }}\n",
    "    }}\n",
    "    group by ?year\n",
    "    order by ?year\n",
    "    \"\"\"\n",
    "\n",
    "    # Set the query and format to JSON\n",
    "    sparql.setQuery(query)\n",
    "    sparql.setReturnFormat(JSON)\n",
    "\n",
    "    # Execute the query and convert the results to a Pandas DataFrame\n",
    "    results = sparql.query().convert()\n",
    "    df = pd.json_normalize(results[\"results\"][\"bindings\"])\n",
    "    df[\"year.value\"] = pd.to_numeric(df[\"year.value\"])\n",
    "    df[\"number_of_publications.value\"] = pd.to_numeric(df[\"number_of_publications.value\"])\n",
    "\n",
    "    # Create the bar chart using Plotly\n",
    "    fig = px.bar(df, x=\"year.value\", y=\"number_of_publications.value\")\n",
    "\n",
    "    return fig\n",
    "\n",
    "# Run the Dash app\n",
    "if __name__ == '__main__':\n",
    "    app4.run_server(debug=False)# , host='0.0.0.0', port = 8080)"
   ],
   "metadata": {
    "collapsed": false,
    "pycharm": {
     "name": "#%%\n",
     "is_executing": true
    }
   }
  },
  {
   "cell_type": "code",
   "execution_count": null,
   "outputs": [],
   "source": [],
   "metadata": {
    "collapsed": false,
    "pycharm": {
     "name": "#%%\n"
    }
   }
  }
 ],
 "metadata": {
  "kernelspec": {
   "name": "pycharm-21095a2b",
   "language": "python",
   "display_name": "PyCharm (scholia_visualization)"
  },
  "language_info": {
   "codemirror_mode": {
    "name": "ipython",
    "version": 2
   },
   "file_extension": ".py",
   "mimetype": "text/x-python",
   "name": "python",
   "nbconvert_exporter": "python",
   "pygments_lexer": "ipython2",
   "version": "2.7.6"
  }
 },
 "nbformat": 4,
 "nbformat_minor": 0
}